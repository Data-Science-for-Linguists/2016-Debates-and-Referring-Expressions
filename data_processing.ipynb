{
 "cells": [
  {
   "cell_type": "markdown",
   "metadata": {},
   "source": [
    "## 2016 Election Project \n",
    "\n",
    "This notebook is intended to document my data processing throughout this project. I'll be poking around and modifying my data in this file. The data I am starting out with are transcripts of the presidential debates from the 2016 US Election between Hillary Clinton and Donald Trump. The transcripts were taken from UCSB's American Presidency Project, and the citation for each of the transcripts will be included both above, and as a part of the data I process."
   ]
  },
  {
   "cell_type": "markdown",
   "metadata": {},
   "source": [
    "To begin, I have three transcripts from the three presidential debates.\n",
    "\n",
    "**I plan to use other speeches as well, but I think I will use their individual speeches AFTER they have both been chosen as their party's candidates.**"
   ]
  },
  {
   "cell_type": "code",
   "execution_count": 52,
   "metadata": {},
   "outputs": [],
   "source": [
    "import nltk\n",
    "from nltk.corpus import PlaintextCorpusReader\n",
    "import pandas as pd\n",
    "import glob\n",
    "import os\n"
   ]
  },
  {
   "cell_type": "code",
   "execution_count": 57,
   "metadata": {},
   "outputs": [
    {
     "data": {
      "text/plain": [
       "['10-19-16.txt', '10-9-16.txt', '9-26-16.txt']"
      ]
     },
     "execution_count": 57,
     "metadata": {},
     "output_type": "execute_result"
    }
   ],
   "source": [
    "os.chdir('/Users/Paige/Documents/Data_Science/2016-Election-Project/data/Debates')\n",
    "files = glob.glob(\"*.txt\")\n",
    "files"
   ]
  },
  {
   "cell_type": "code",
   "execution_count": 58,
   "metadata": {
    "collapsed": true
   },
   "outputs": [],
   "source": [
    "transcripts = []\n",
    "for f in files:\n",
    "    fi = open(f, 'r')\n",
    "    txt = fi.read()\n",
    "    fi.close\n",
    "    transcripts.append(txt)"
   ]
  },
  {
   "cell_type": "code",
   "execution_count": 60,
   "metadata": {},
   "outputs": [
    {
     "name": "stdout",
     "output_type": "stream",
     "text": [
      "PARTICIPANTS:\n",
      "Former Secretary of State Hillary Clinton (D) and\n",
      "Businessman Donald Trump (R)\n",
      "MODERATOR:\n",
      "Chris Wallace (Fox News)\n",
      "\n",
      "WALLACE: Good evening from the Thomas and Mack Center at the Universit\n"
     ]
    }
   ],
   "source": [
    "print(transcripts[0][:200])"
   ]
  },
  {
   "cell_type": "code",
   "execution_count": 62,
   "metadata": {},
   "outputs": [
    {
     "name": "stdout",
     "output_type": "stream",
     "text": [
      "PARTICIPANTS:\n",
      "Former Secretary of State Hillary Clinton (D) and\n",
      "Businessman Donald Trump (R)\n",
      "MODERATORS:\n",
      "Anderson Cooper (CNN) and\n",
      "Martha Raddatz (ABC News)\n",
      "\n",
      "RADDATZ: Ladies and gentlemen the Republic\n"
     ]
    }
   ],
   "source": [
    "print(transcripts[1][:200])"
   ]
  },
  {
   "cell_type": "code",
   "execution_count": 63,
   "metadata": {},
   "outputs": [
    {
     "name": "stdout",
     "output_type": "stream",
     "text": [
      "PARTICIPANTS:\n",
      "Former Secretary of State Hillary Clinton (D) and\n",
      "Businessman Donald Trump (R)\n",
      "MODERATOR:\n",
      "Lester Holt (NBC News)\n",
      "\n",
      "HOLT: Good evening from Hofstra University in Hempstead, New York. I'm L\n"
     ]
    }
   ],
   "source": [
    "print(transcripts[2][:200])"
   ]
  },
  {
   "cell_type": "code",
   "execution_count": 69,
   "metadata": {},
   "outputs": [],
   "source": [
    "t0sents = nltk.sent_tokenize(transcripts[0])\n",
    "t1sents = nltk.sent_tokenize(transcripts[1])\n",
    "t2sents = nltk.sent_tokenize(transcripts[2])"
   ]
  },
  {
   "cell_type": "code",
   "execution_count": 66,
   "metadata": {},
   "outputs": [
    {
     "data": {
      "text/plain": [
       "['PARTICIPANTS:\\nFormer Secretary of State Hillary Clinton (D) and\\nBusinessman Donald Trump (R)\\nMODERATOR:\\nChris Wallace (Fox News)\\n\\nWALLACE: Good evening from the Thomas and Mack Center at the University of Nevada, Las Vegas.',\n",
       " \"I'm Chris Wallace of Fox News, and I welcome you to the third and final of the 2016 presidential debates between Secretary of State Hillary Clinton and Donald J. Trump.\",\n",
       " 'This debate is sponsored by the Commission on Presidential Debates.']"
      ]
     },
     "execution_count": 66,
     "metadata": {},
     "output_type": "execute_result"
    }
   ],
   "source": [
    "t0sents[:3]"
   ]
  }
 ],
 "metadata": {
  "kernelspec": {
   "display_name": "Python 3",
   "language": "python",
   "name": "python3"
  },
  "language_info": {
   "codemirror_mode": {
    "name": "ipython",
    "version": 3
   },
   "file_extension": ".py",
   "mimetype": "text/x-python",
   "name": "python",
   "nbconvert_exporter": "python",
   "pygments_lexer": "ipython3",
   "version": "3.6.1"
  }
 },
 "nbformat": 4,
 "nbformat_minor": 2
}
