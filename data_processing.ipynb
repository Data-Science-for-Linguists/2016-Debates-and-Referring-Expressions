{
 "cells": [
  {
   "cell_type": "markdown",
   "metadata": {},
   "source": [
    "## 2016 Election Project \n",
    "\n",
    "This notebook is intended to document my data processing throughout this project. I'll be poking around and modifying my data in this file. The data I am starting out with are transcripts of the presidential debates from the 2016 US Election between Hillary Clinton and Donald Trump. The transcripts were taken from UCSB's American Presidency Project, and the citation for each of the transcripts will be included both above, and as a part of the data I process."
   ]
  },
  {
   "cell_type": "markdown",
   "metadata": {},
   "source": [
    "To begin, I have three transcripts from the three presidential debates.\n",
    "\n",
    "Presidential Candidates Debates: \"Presidential Debate at the University of Nevada in Las Vegas,\" October 19, 2016. Online by Gerhard Peters and John T. Woolley, The American Presidency Project. http://www.presidency.ucsb.edu/ws/?pid=119039.\n",
    "\n",
    "Presidential Candidates Debates: \"Presidential Debate at Washington University in St. Louis, Missouri,\" October 9, 2016. Online by Gerhard Peters and John T. Woolley, The American Presidency Project. http://www.presidency.ucsb.edu/ws/?pid=119038.\n",
    "\n",
    "Presidential Candidates Debates: \"Presidential Debate at Hofstra University in Hempstead, New York,\" September 26, 2016. Online by Gerhard Peters and John T. Woolley, The American Presidency Project. http://www.presidency.ucsb.edu/ws/?pid=118971.\n",
    "\n",
    "\n",
    "**I might use other speeches as well, but I think I will use their individual speeches AFTER they have both been chosen as their party's candidates. Since I'll be adding manual RE annotation, I worry about using too many files** "
   ]
  },
  {
   "cell_type": "code",
   "execution_count": 1,
   "metadata": {},
   "outputs": [],
   "source": [
    "import nltk\n",
    "from nltk.corpus import PlaintextCorpusReader\n",
    "import pandas as pd\n",
    "import glob\n",
    "import os\n"
   ]
  },
  {
   "cell_type": "code",
   "execution_count": 2,
   "metadata": {},
   "outputs": [
    {
     "data": {
      "text/plain": [
       "['10-19-16.txt', '10-9-16.txt', '9-26-16.txt']"
      ]
     },
     "execution_count": 2,
     "metadata": {},
     "output_type": "execute_result"
    }
   ],
   "source": [
    "os.chdir('/Users/Paige/Documents/Data_Science/2016-Election-Project/data/Debates')\n",
    "files = glob.glob(\"*.txt\")\n",
    "files"
   ]
  },
  {
   "cell_type": "code",
   "execution_count": 3,
   "metadata": {
    "collapsed": true
   },
   "outputs": [],
   "source": [
    "transcripts = []\n",
    "for f in files:\n",
    "    fi = open(f, 'r')\n",
    "    txt = fi.read()\n",
    "    fi.close\n",
    "    transcripts.append(txt)"
   ]
  },
  {
   "cell_type": "code",
   "execution_count": 4,
   "metadata": {},
   "outputs": [
    {
     "name": "stdout",
     "output_type": "stream",
     "text": [
      "PARTICIPANTS:\n",
      "Former Secretary of State Hillary Clinton (D) and\n",
      "Businessman Donald Trump (R)\n",
      "MODERATOR:\n",
      "Chris Wallace (Fox News)\n",
      "\n",
      "WALLACE: Good evening from the Thomas and Mack Center at the Universit\n"
     ]
    }
   ],
   "source": [
    "print(transcripts[0][:200])"
   ]
  },
  {
   "cell_type": "code",
   "execution_count": 5,
   "metadata": {},
   "outputs": [
    {
     "name": "stdout",
     "output_type": "stream",
     "text": [
      "PARTICIPANTS:\n",
      "Former Secretary of State Hillary Clinton (D) and\n",
      "Businessman Donald Trump (R)\n",
      "MODERATORS:\n",
      "Anderson Cooper (CNN) and\n",
      "Martha Raddatz (ABC News)\n",
      "\n",
      "RADDATZ: Ladies and gentlemen the Republic\n"
     ]
    }
   ],
   "source": [
    "print(transcripts[1][:200])"
   ]
  },
  {
   "cell_type": "code",
   "execution_count": 6,
   "metadata": {},
   "outputs": [
    {
     "name": "stdout",
     "output_type": "stream",
     "text": [
      "PARTICIPANTS:\n",
      "Former Secretary of State Hillary Clinton (D) and\n",
      "Businessman Donald Trump (R)\n",
      "MODERATOR:\n",
      "Lester Holt (NBC News)\n",
      "\n",
      "HOLT: Good evening from Hofstra University in Hempstead, New York. I'm Lester Holt, anchor of \"NBC Nightly News.\" I want to welcome you to the first presidential debate.\n",
      "\n",
      "The participants tonight are Donald Trump and Hillary Clinton. This debate is sponsored by the Commission on Presidential Debates, a nonpartisan, nonprofit organization. The commission drafted tonight'\n"
     ]
    }
   ],
   "source": [
    "print(transcripts[2][:500])"
   ]
  },
  {
   "cell_type": "markdown",
   "metadata": {},
   "source": [
    "**We can see that we need to do some clean up. What I would eventually like to end up with is a dataframe where the columns are Debate, Date, Source, Speaker, Sents, where the Sents are in the order of their speech. For now, I will keep the speech/questions of the moderators, becuase it might be interesting to compare the referring expressions *they* use for the candidates vs what the cadidates use for each other.**"
   ]
  },
  {
   "cell_type": "code",
   "execution_count": 7,
   "metadata": {},
   "outputs": [],
   "source": [
    "#I want to split large chunks of the transcript based on who is speaking.\n",
    "#Since the transcript data has a pretty standardized fomat (The speaker is in all caps followed by a colon)\n",
    "#I can add a marker to each of these sections, and split the data on that marker\n",
    "\n",
    "speaker_split = []\n",
    "\n",
    "for txt in transcripts:\n",
    "    speaker_split.append(txt.replace(\"CLINTON:\", \"#$&CLINTON*:\").replace(\"TRUMP:\", \"#$&TRUMP*:\").replace(\"WALLACE:\", \"#$&WALLACE*:\").replace(\"COOPER:\", \"#$&COOPER*:\").replace(\"RADDATZ:\", \"#$&RADDATZ*:\").replace(\"HOLT:\", \"#$&HOLT*:\").replace(\"PARTICIPANTS:\", \"#$&PARTICIPANTS*:\").replace(\"MODERATOR:\", \"#$&MODERATOR*:\").replace(\"MODERATORS:\", \"#$&MODERATORS*:\").replace(\"\\n\", \" \"))\n",
    "\n",
    "speaker_split = [txt.strip().split(\"#$&\") for txt in speaker_split]"
   ]
  },
  {
   "cell_type": "code",
   "execution_count": 8,
   "metadata": {},
   "outputs": [
    {
     "data": {
      "text/plain": [
       "['',\n",
       " 'PARTICIPANTS*: Former Secretary of State Hillary Clinton (D) and Businessman Donald Trump (R) ',\n",
       " 'MODERATOR*: Chris Wallace (Fox News)  ',\n",
       " \"WALLACE*: Good evening from the Thomas and Mack Center at the University of Nevada, Las Vegas. I'm Chris Wallace of Fox News, and I welcome you to the third and final of the 2016 presidential debates between Secretary of State Hillary Clinton and Donald J. Trump.  This debate is sponsored by the Commission on Presidential Debates. The commission has designed the format: Six roughly 15-minute segments with two-minute answers to the first question, then open discussion for the rest of each segment. Both campaigns have agreed to those rules.  For the record, I decided the topics and the questions in each topic. None of those questions has been shared with the commission or the two candidates. The audience here in the hall has promised to remain silent. No cheers, boos, or other interruptions so we and you can focus on what the candidates have to say.  No noise, except right now, as we welcome the Democratic nominee for president, Secretary Clinton, and the Republican nominee for president, Mr. Trump. [applause]  Secretary Clinton, Mr. Trump, welcome. Let's get right to it. The first topic is the Supreme Court.  You both talked briefly about the court in the last debate, but I want to drill down on this, because the next president will almost certainly have at least one appointment and likely or possibly two or three appointments.  Which means that you will, in effect, determine the balance of the court for what could be the next quarter century.  First of all, where do you want to see the court take the country? And secondly, what's your view on how the Constitution should be interpreted? Do the founders' words mean what they say or is it a living document to be applied flexibly according to changing circumstances? In this segment, Secretary Clinton, you go first. You have two minutes.  \"]"
      ]
     },
     "execution_count": 8,
     "metadata": {},
     "output_type": "execute_result"
    }
   ],
   "source": [
    "speaker_split[0][:4]"
   ]
  },
  {
   "cell_type": "code",
   "execution_count": 9,
   "metadata": {},
   "outputs": [],
   "source": [
    "#Creating three separate lists of split speech by speaker for each debate\n",
    "debate3 = speaker_split[0]\n",
    "debate2 = speaker_split[1]\n",
    "debate1 = speaker_split[2]"
   ]
  },
  {
   "cell_type": "code",
   "execution_count": 10,
   "metadata": {},
   "outputs": [],
   "source": [
    "#Splitting the SPEAKER: from the speech\n",
    "debate3 = [txt.split(\"*:\") for txt in debate3]\n",
    "debate2 = [txt.split(\"*:\") for txt in debate2]\n",
    "debate1 = [txt.split(\"*:\") for txt in debate1]"
   ]
  },
  {
   "cell_type": "code",
   "execution_count": 11,
   "metadata": {},
   "outputs": [
    {
     "data": {
      "text/plain": [
       "[['PARTICIPANTS',\n",
       "  ' Former Secretary of State Hillary Clinton (D) and Businessman Donald Trump (R) '],\n",
       " ['MODERATOR', ' Chris Wallace (Fox News)  '],\n",
       " ['WALLACE',\n",
       "  \" Good evening from the Thomas and Mack Center at the University of Nevada, Las Vegas. I'm Chris Wallace of Fox News, and I welcome you to the third and final of the 2016 presidential debates between Secretary of State Hillary Clinton and Donald J. Trump.  This debate is sponsored by the Commission on Presidential Debates. The commission has designed the format: Six roughly 15-minute segments with two-minute answers to the first question, then open discussion for the rest of each segment. Both campaigns have agreed to those rules.  For the record, I decided the topics and the questions in each topic. None of those questions has been shared with the commission or the two candidates. The audience here in the hall has promised to remain silent. No cheers, boos, or other interruptions so we and you can focus on what the candidates have to say.  No noise, except right now, as we welcome the Democratic nominee for president, Secretary Clinton, and the Republican nominee for president, Mr. Trump. [applause]  Secretary Clinton, Mr. Trump, welcome. Let's get right to it. The first topic is the Supreme Court.  You both talked briefly about the court in the last debate, but I want to drill down on this, because the next president will almost certainly have at least one appointment and likely or possibly two or three appointments.  Which means that you will, in effect, determine the balance of the court for what could be the next quarter century.  First of all, where do you want to see the court take the country? And secondly, what's your view on how the Constitution should be interpreted? Do the founders' words mean what they say or is it a living document to be applied flexibly according to changing circumstances? In this segment, Secretary Clinton, you go first. You have two minutes.  \"],\n",
       " ['CLINTON',\n",
       "  \" Thank you very much, Chris. And thanks to UNLV for hosting us.  You know, I think when we talk about the Supreme Court, it really raises the central issue in this election, namely, what kind of country are we going to be? What kind of opportunities will we provide for our citizens? What kind of rights will Americans have?  And I feel strongly that the Supreme Court needs to stand on the side of the American people, not on the side of the powerful corporations and the wealthy. For me, that means that we need a Supreme Court that will stand up on behalf of women's rights, on behalf of the rights of the LGBT community, that will stand up and say no to Citizens United, a decision that has undermined the election system in our country because of the way it permits dark, unaccountable money to come into our electoral system.  I have major disagreements with my opponent about these issues and others that will be before the Supreme Court. But I feel that at this point in our country's history, it is important that we not reverse marriage equality, that we not reverse Roe v. Wade, that we stand up against Citizens United, we stand up for the rights of people in the workplace, that we stand up and basically say: The Supreme Court should represent all of us.  That's how I see the court, and the kind of people that I would be looking to nominate to the court would be in the great tradition of standing up to the powerful, standing up on behalf of our rights as Americans.  And I look forward to having that opportunity. I would hope that the Senate would do its job and confirm the nominee that President Obama has sent to them. That's the way the Constitution fundamentally should operate. The president nominates, and then the Senate advises and consents, or not, but they go forward with the process.  \"]]"
      ]
     },
     "execution_count": 11,
     "metadata": {},
     "output_type": "execute_result"
    }
   ],
   "source": [
    "debate3 #We can see that we need to remove the empty list at the beginning, and strip all of the entries\n",
    "debate3.remove([''])\n",
    "debate3[:4]\n",
    "#We'll strip the entries when they're in the data frame"
   ]
  },
  {
   "cell_type": "code",
   "execution_count": 12,
   "metadata": {},
   "outputs": [],
   "source": [
    "debate2.remove([''])\n",
    "debate1.remove([''])"
   ]
  },
  {
   "cell_type": "code",
   "execution_count": 19,
   "metadata": {},
   "outputs": [],
   "source": [
    "debate3df = pd.DataFrame(debate3)\n",
    "#I want to add a column of the source of the transcript for each dataframe\n",
    "debate3df['Source'] = 'http://www.presidency.ucsb.edu/ws/?pid=119039'"
   ]
  },
  {
   "cell_type": "code",
   "execution_count": 21,
   "metadata": {},
   "outputs": [
    {
     "data": {
      "text/html": [
       "<div>\n",
       "<style>\n",
       "    .dataframe thead tr:only-child th {\n",
       "        text-align: right;\n",
       "    }\n",
       "\n",
       "    .dataframe thead th {\n",
       "        text-align: left;\n",
       "    }\n",
       "\n",
       "    .dataframe tbody tr th {\n",
       "        vertical-align: top;\n",
       "    }\n",
       "</style>\n",
       "<table border=\"1\" class=\"dataframe\">\n",
       "  <thead>\n",
       "    <tr style=\"text-align: right;\">\n",
       "      <th></th>\n",
       "      <th>0</th>\n",
       "      <th>1</th>\n",
       "      <th>Source</th>\n",
       "    </tr>\n",
       "  </thead>\n",
       "  <tbody>\n",
       "    <tr>\n",
       "      <th>0</th>\n",
       "      <td>PARTICIPANTS</td>\n",
       "      <td>Former Secretary of State Hillary Clinton (D)...</td>\n",
       "      <td>http://www.presidency.ucsb.edu/ws/?pid=119039</td>\n",
       "    </tr>\n",
       "    <tr>\n",
       "      <th>1</th>\n",
       "      <td>MODERATOR</td>\n",
       "      <td>Chris Wallace (Fox News)</td>\n",
       "      <td>http://www.presidency.ucsb.edu/ws/?pid=119039</td>\n",
       "    </tr>\n",
       "    <tr>\n",
       "      <th>2</th>\n",
       "      <td>WALLACE</td>\n",
       "      <td>Good evening from the Thomas and Mack Center ...</td>\n",
       "      <td>http://www.presidency.ucsb.edu/ws/?pid=119039</td>\n",
       "    </tr>\n",
       "    <tr>\n",
       "      <th>3</th>\n",
       "      <td>CLINTON</td>\n",
       "      <td>Thank you very much, Chris. And thanks to UNL...</td>\n",
       "      <td>http://www.presidency.ucsb.edu/ws/?pid=119039</td>\n",
       "    </tr>\n",
       "    <tr>\n",
       "      <th>4</th>\n",
       "      <td>WALLACE</td>\n",
       "      <td>Secretary Clinton, thank you.  Mr. Trump, sam...</td>\n",
       "      <td>http://www.presidency.ucsb.edu/ws/?pid=119039</td>\n",
       "    </tr>\n",
       "    <tr>\n",
       "      <th>5</th>\n",
       "      <td>TRUMP</td>\n",
       "      <td>Well, first of all, it's great to be with you...</td>\n",
       "      <td>http://www.presidency.ucsb.edu/ws/?pid=119039</td>\n",
       "    </tr>\n",
       "    <tr>\n",
       "      <th>6</th>\n",
       "      <td>WALLACE</td>\n",
       "      <td>Mr. Trump, thank you.  We now have about 10 m...</td>\n",
       "      <td>http://www.presidency.ucsb.edu/ws/?pid=119039</td>\n",
       "    </tr>\n",
       "    <tr>\n",
       "      <th>7</th>\n",
       "      <td>CLINTON</td>\n",
       "      <td>Well, first of all, I support the Second Amen...</td>\n",
       "      <td>http://www.presidency.ucsb.edu/ws/?pid=119039</td>\n",
       "    </tr>\n",
       "    <tr>\n",
       "      <th>8</th>\n",
       "      <td>WALLACE</td>\n",
       "      <td>Let me bring Mr. Trump in here. The bipartisa...</td>\n",
       "      <td>http://www.presidency.ucsb.edu/ws/?pid=119039</td>\n",
       "    </tr>\n",
       "    <tr>\n",
       "      <th>9</th>\n",
       "      <td>TRUMP</td>\n",
       "      <td>Well, the D.C. vs. Heller decision was very s...</td>\n",
       "      <td>http://www.presidency.ucsb.edu/ws/?pid=119039</td>\n",
       "    </tr>\n",
       "  </tbody>\n",
       "</table>\n",
       "</div>"
      ],
      "text/plain": [
       "              0                                                  1  \\\n",
       "0  PARTICIPANTS   Former Secretary of State Hillary Clinton (D)...   \n",
       "1     MODERATOR                         Chris Wallace (Fox News)     \n",
       "2       WALLACE   Good evening from the Thomas and Mack Center ...   \n",
       "3       CLINTON   Thank you very much, Chris. And thanks to UNL...   \n",
       "4       WALLACE   Secretary Clinton, thank you.  Mr. Trump, sam...   \n",
       "5         TRUMP   Well, first of all, it's great to be with you...   \n",
       "6       WALLACE   Mr. Trump, thank you.  We now have about 10 m...   \n",
       "7       CLINTON   Well, first of all, I support the Second Amen...   \n",
       "8       WALLACE   Let me bring Mr. Trump in here. The bipartisa...   \n",
       "9         TRUMP   Well, the D.C. vs. Heller decision was very s...   \n",
       "\n",
       "                                          Source  \n",
       "0  http://www.presidency.ucsb.edu/ws/?pid=119039  \n",
       "1  http://www.presidency.ucsb.edu/ws/?pid=119039  \n",
       "2  http://www.presidency.ucsb.edu/ws/?pid=119039  \n",
       "3  http://www.presidency.ucsb.edu/ws/?pid=119039  \n",
       "4  http://www.presidency.ucsb.edu/ws/?pid=119039  \n",
       "5  http://www.presidency.ucsb.edu/ws/?pid=119039  \n",
       "6  http://www.presidency.ucsb.edu/ws/?pid=119039  \n",
       "7  http://www.presidency.ucsb.edu/ws/?pid=119039  \n",
       "8  http://www.presidency.ucsb.edu/ws/?pid=119039  \n",
       "9  http://www.presidency.ucsb.edu/ws/?pid=119039  "
      ]
     },
     "execution_count": 21,
     "metadata": {},
     "output_type": "execute_result"
    }
   ],
   "source": [
    "debate3df.head(10)"
   ]
  },
  {
   "cell_type": "markdown",
   "metadata": {},
   "source": [
    "**Currently, the entries in this data frame are split into chunks of who is speaking. I think I might want each entry in the data frame to be a sentence instead.**"
   ]
  },
  {
   "cell_type": "code",
   "execution_count": 15,
   "metadata": {},
   "outputs": [],
   "source": [
    "debate3df.columns = ['Speaker', 'Speech']\n",
    "debate3df['Speaker'] = debate3df['Speaker'].apply(lambda x: x.strip())\n",
    "debate3df['Speech'] = debate3df['Speech'].apply(lambda x: x.strip())"
   ]
  },
  {
   "cell_type": "code",
   "execution_count": 22,
   "metadata": {},
   "outputs": [
    {
     "data": {
      "text/html": [
       "<div>\n",
       "<style>\n",
       "    .dataframe thead tr:only-child th {\n",
       "        text-align: right;\n",
       "    }\n",
       "\n",
       "    .dataframe thead th {\n",
       "        text-align: left;\n",
       "    }\n",
       "\n",
       "    .dataframe tbody tr th {\n",
       "        vertical-align: top;\n",
       "    }\n",
       "</style>\n",
       "<table border=\"1\" class=\"dataframe\">\n",
       "  <thead>\n",
       "    <tr style=\"text-align: right;\">\n",
       "      <th></th>\n",
       "      <th>0</th>\n",
       "      <th>1</th>\n",
       "      <th>Source</th>\n",
       "    </tr>\n",
       "  </thead>\n",
       "  <tbody>\n",
       "    <tr>\n",
       "      <th>0</th>\n",
       "      <td>PARTICIPANTS</td>\n",
       "      <td>Former Secretary of State Hillary Clinton (D)...</td>\n",
       "      <td>http://www.presidency.ucsb.edu/ws/?pid=119039</td>\n",
       "    </tr>\n",
       "    <tr>\n",
       "      <th>1</th>\n",
       "      <td>MODERATOR</td>\n",
       "      <td>Chris Wallace (Fox News)</td>\n",
       "      <td>http://www.presidency.ucsb.edu/ws/?pid=119039</td>\n",
       "    </tr>\n",
       "    <tr>\n",
       "      <th>2</th>\n",
       "      <td>WALLACE</td>\n",
       "      <td>Good evening from the Thomas and Mack Center ...</td>\n",
       "      <td>http://www.presidency.ucsb.edu/ws/?pid=119039</td>\n",
       "    </tr>\n",
       "    <tr>\n",
       "      <th>3</th>\n",
       "      <td>CLINTON</td>\n",
       "      <td>Thank you very much, Chris. And thanks to UNL...</td>\n",
       "      <td>http://www.presidency.ucsb.edu/ws/?pid=119039</td>\n",
       "    </tr>\n",
       "    <tr>\n",
       "      <th>4</th>\n",
       "      <td>WALLACE</td>\n",
       "      <td>Secretary Clinton, thank you.  Mr. Trump, sam...</td>\n",
       "      <td>http://www.presidency.ucsb.edu/ws/?pid=119039</td>\n",
       "    </tr>\n",
       "    <tr>\n",
       "      <th>5</th>\n",
       "      <td>TRUMP</td>\n",
       "      <td>Well, first of all, it's great to be with you...</td>\n",
       "      <td>http://www.presidency.ucsb.edu/ws/?pid=119039</td>\n",
       "    </tr>\n",
       "    <tr>\n",
       "      <th>6</th>\n",
       "      <td>WALLACE</td>\n",
       "      <td>Mr. Trump, thank you.  We now have about 10 m...</td>\n",
       "      <td>http://www.presidency.ucsb.edu/ws/?pid=119039</td>\n",
       "    </tr>\n",
       "    <tr>\n",
       "      <th>7</th>\n",
       "      <td>CLINTON</td>\n",
       "      <td>Well, first of all, I support the Second Amen...</td>\n",
       "      <td>http://www.presidency.ucsb.edu/ws/?pid=119039</td>\n",
       "    </tr>\n",
       "    <tr>\n",
       "      <th>8</th>\n",
       "      <td>WALLACE</td>\n",
       "      <td>Let me bring Mr. Trump in here. The bipartisa...</td>\n",
       "      <td>http://www.presidency.ucsb.edu/ws/?pid=119039</td>\n",
       "    </tr>\n",
       "    <tr>\n",
       "      <th>9</th>\n",
       "      <td>TRUMP</td>\n",
       "      <td>Well, the D.C. vs. Heller decision was very s...</td>\n",
       "      <td>http://www.presidency.ucsb.edu/ws/?pid=119039</td>\n",
       "    </tr>\n",
       "  </tbody>\n",
       "</table>\n",
       "</div>"
      ],
      "text/plain": [
       "              0                                                  1  \\\n",
       "0  PARTICIPANTS   Former Secretary of State Hillary Clinton (D)...   \n",
       "1     MODERATOR                         Chris Wallace (Fox News)     \n",
       "2       WALLACE   Good evening from the Thomas and Mack Center ...   \n",
       "3       CLINTON   Thank you very much, Chris. And thanks to UNL...   \n",
       "4       WALLACE   Secretary Clinton, thank you.  Mr. Trump, sam...   \n",
       "5         TRUMP   Well, first of all, it's great to be with you...   \n",
       "6       WALLACE   Mr. Trump, thank you.  We now have about 10 m...   \n",
       "7       CLINTON   Well, first of all, I support the Second Amen...   \n",
       "8       WALLACE   Let me bring Mr. Trump in here. The bipartisa...   \n",
       "9         TRUMP   Well, the D.C. vs. Heller decision was very s...   \n",
       "\n",
       "                                          Source  \n",
       "0  http://www.presidency.ucsb.edu/ws/?pid=119039  \n",
       "1  http://www.presidency.ucsb.edu/ws/?pid=119039  \n",
       "2  http://www.presidency.ucsb.edu/ws/?pid=119039  \n",
       "3  http://www.presidency.ucsb.edu/ws/?pid=119039  \n",
       "4  http://www.presidency.ucsb.edu/ws/?pid=119039  \n",
       "5  http://www.presidency.ucsb.edu/ws/?pid=119039  \n",
       "6  http://www.presidency.ucsb.edu/ws/?pid=119039  \n",
       "7  http://www.presidency.ucsb.edu/ws/?pid=119039  \n",
       "8  http://www.presidency.ucsb.edu/ws/?pid=119039  \n",
       "9  http://www.presidency.ucsb.edu/ws/?pid=119039  "
      ]
     },
     "execution_count": 22,
     "metadata": {},
     "output_type": "execute_result"
    }
   ],
   "source": [
    "debate3df.head(10)"
   ]
  },
  {
   "cell_type": "code",
   "execution_count": null,
   "metadata": {
    "collapsed": true
   },
   "outputs": [],
   "source": []
  }
 ],
 "metadata": {
  "kernelspec": {
   "display_name": "Python 3",
   "language": "python",
   "name": "python3"
  },
  "language_info": {
   "codemirror_mode": {
    "name": "ipython",
    "version": 3
   },
   "file_extension": ".py",
   "mimetype": "text/x-python",
   "name": "python",
   "nbconvert_exporter": "python",
   "pygments_lexer": "ipython3",
   "version": "3.6.1"
  }
 },
 "nbformat": 4,
 "nbformat_minor": 2
}
