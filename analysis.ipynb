{
 "cells": [
  {
   "cell_type": "code",
   "execution_count": 1,
   "metadata": {},
   "outputs": [
    {
     "name": "stdout",
     "output_type": "stream",
     "text": [
      "Pretty printing has been turned OFF\n"
     ]
    }
   ],
   "source": [
    "%pprint"
   ]
  },
  {
   "cell_type": "markdown",
   "metadata": {},
   "source": [
    "## 2016 Election Project\n",
    "### Part 3 of Processing Pipeline\n",
    "\n",
    "This notebook is intended to document analysis of my data throughout this project. The data I am starting out with are transcripts of the presidential debates from the 2016 US Election- the 10 Democratic primary debates, the 12 Republican primary debates, and the debates for the general election between Hillary Clinton and Donald Trump. The transcripts were taken from UCSB's American Presidency Project. The citations for these transcripts can be found in the README. Using these transcripts I'll analyze the referring expressions the candidates use for each other. \n",
    "\n",
    "\n",
    "We have two factors at play: gender and experience. Hillary Clinton and Carly Fiorina are the only two female candidates. Clinton has several titles due to her experience in politics, and Fiorina has no professional titles other than Mrs. because she has no political experience. We can compare how the two are referred to by looking at being called a professional title (Senator or Secretary for Clinton; Mrs. or Businesswoman for Fiorina) or by their first name only or first and last name. \n",
    "\n",
    "There is a similar situation among the male candidates. Donald Trump is the only male candidate without a professional title other than Mr. Therefore, we can try and see if there are differences in the ways the moderators and candidates refer to those with or without government experience and if there are differences in the ways the male and female candidates are referred to. Does the frequency of being called by a first name or without a title have to do with gender? Or does it have to do with experience?"
   ]
  },
  {
   "cell_type": "code",
   "execution_count": 2,
   "metadata": {
    "collapsed": true
   },
   "outputs": [],
   "source": [
    "import nltk\n",
    "from nltk.corpus import PlaintextCorpusReader\n",
    "import pandas as pd\n",
    "import glob\n",
    "import os\n",
    "from collections import defaultdict\n",
    "import matplotlib.pyplot as plt\n",
    "import pickle"
   ]
  },
  {
   "cell_type": "code",
   "execution_count": 3,
   "metadata": {
    "collapsed": true
   },
   "outputs": [],
   "source": [
    "f = open('/Users/Paige/Documents/Data_Science/link_dict.pkl', 'rb')\n",
    "link_dict = pickle.load(f)\n",
    "f.close()"
   ]
  },
  {
   "cell_type": "code",
   "execution_count": 4,
   "metadata": {},
   "outputs": [
    {
     "data": {
      "text/html": [
       "<div>\n",
       "<style>\n",
       "    .dataframe thead tr:only-child th {\n",
       "        text-align: right;\n",
       "    }\n",
       "\n",
       "    .dataframe thead th {\n",
       "        text-align: left;\n",
       "    }\n",
       "\n",
       "    .dataframe tbody tr th {\n",
       "        vertical-align: top;\n",
       "    }\n",
       "</style>\n",
       "<table border=\"1\" class=\"dataframe\">\n",
       "  <thead>\n",
       "    <tr style=\"text-align: right;\">\n",
       "      <th></th>\n",
       "      <th>Date</th>\n",
       "      <th>Debate Type</th>\n",
       "      <th>Speaker</th>\n",
       "      <th>Sents</th>\n",
       "      <th>Tree</th>\n",
       "    </tr>\n",
       "  </thead>\n",
       "  <tbody>\n",
       "    <tr>\n",
       "      <th>0</th>\n",
       "      <td>1-14-16</td>\n",
       "      <td>primary_rep</td>\n",
       "      <td>CAVUTO</td>\n",
       "      <td>It is 9:00 p.m. here at the North Charleston ...</td>\n",
       "      <td>[(It, PRP), (is, VBZ), (9:00, CD), (p.m., NN),...</td>\n",
       "    </tr>\n",
       "    <tr>\n",
       "      <th>1</th>\n",
       "      <td>1-14-16</td>\n",
       "      <td>primary_rep</td>\n",
       "      <td>CAVUTO</td>\n",
       "      <td>Welcome to the sixth Republican presidential o...</td>\n",
       "      <td>[(Welcome, VB), (to, TO), (the, DT), (sixth, J...</td>\n",
       "    </tr>\n",
       "    <tr>\n",
       "      <th>2</th>\n",
       "      <td>1-14-16</td>\n",
       "      <td>primary_rep</td>\n",
       "      <td>CAVUTO</td>\n",
       "      <td>I'm Neil Cavuto, alongside my friend and co-mo...</td>\n",
       "      <td>[(I, PRP), ('m, VBP), [(Neil, JJ), (Cavuto, NN...</td>\n",
       "    </tr>\n",
       "    <tr>\n",
       "      <th>3</th>\n",
       "      <td>1-14-16</td>\n",
       "      <td>primary_rep</td>\n",
       "      <td>BARTIROMO</td>\n",
       "      <td>Tonight we are working with Facebook to ask t...</td>\n",
       "      <td>[(Tonight, NN), (we, PRP), (are, VBP), (workin...</td>\n",
       "    </tr>\n",
       "    <tr>\n",
       "      <th>4</th>\n",
       "      <td>1-14-16</td>\n",
       "      <td>primary_rep</td>\n",
       "      <td>BARTIROMO</td>\n",
       "      <td>And according to Facebook, the U.S. election h...</td>\n",
       "      <td>[(And, CC), (according, VBG), (to, TO), [(Face...</td>\n",
       "    </tr>\n",
       "  </tbody>\n",
       "</table>\n",
       "</div>"
      ],
      "text/plain": [
       "      Date  Debate Type    Speaker  \\\n",
       "0  1-14-16  primary_rep     CAVUTO   \n",
       "1  1-14-16  primary_rep     CAVUTO   \n",
       "2  1-14-16  primary_rep     CAVUTO   \n",
       "3  1-14-16  primary_rep  BARTIROMO   \n",
       "4  1-14-16  primary_rep  BARTIROMO   \n",
       "\n",
       "                                               Sents  \\\n",
       "0   It is 9:00 p.m. here at the North Charleston ...   \n",
       "1  Welcome to the sixth Republican presidential o...   \n",
       "2  I'm Neil Cavuto, alongside my friend and co-mo...   \n",
       "3   Tonight we are working with Facebook to ask t...   \n",
       "4  And according to Facebook, the U.S. election h...   \n",
       "\n",
       "                                                Tree  \n",
       "0  [(It, PRP), (is, VBZ), (9:00, CD), (p.m., NN),...  \n",
       "1  [(Welcome, VB), (to, TO), (the, DT), (sixth, J...  \n",
       "2  [(I, PRP), ('m, VBP), [(Neil, JJ), (Cavuto, NN...  \n",
       "3  [(Tonight, NN), (we, PRP), (are, VBP), (workin...  \n",
       "4  [(And, CC), (according, VBG), (to, TO), [(Face...  "
      ]
     },
     "execution_count": 4,
     "metadata": {},
     "output_type": "execute_result"
    }
   ],
   "source": [
    "f = open('/Users/Paige/Documents/Data_Science/master_df.pkl', 'rb')\n",
    "master_df = pickle.load(f)\n",
    "f.close\n",
    "master_df = master_df.reset_index(drop=True)\n",
    "master_df.head()"
   ]
  },
  {
   "cell_type": "markdown",
   "metadata": {},
   "source": [
    "**First, I'm going to create a mapping function that will make it easier to see if a person is being talked about in a particular utterance. This function is just going to create a set of all of the entity labels that appear in the tree. Then, to see if a person is being referred to in a particular utterance, we can just see if they are in that set instead of traversing the tree each time.**"
   ]
  },
  {
   "cell_type": "code",
   "execution_count": 5,
   "metadata": {
    "collapsed": true
   },
   "outputs": [],
   "source": [
    "def entity_tracking(tree):\n",
    "    name = ''\n",
    "    referred_to = []\n",
    "    entities = set(link_dict.values())\n",
    "    for chunk in tree:\n",
    "        if hasattr(chunk, 'label'):\n",
    "            if chunk.label() in entities:\n",
    "                referred_to.append(chunk.label())\n",
    "                    \n",
    "    return list(set(referred_to))"
   ]
  },
  {
   "cell_type": "code",
   "execution_count": 6,
   "metadata": {},
   "outputs": [
    {
     "data": {
      "text/html": [
       "<div>\n",
       "<style>\n",
       "    .dataframe thead tr:only-child th {\n",
       "        text-align: right;\n",
       "    }\n",
       "\n",
       "    .dataframe thead th {\n",
       "        text-align: left;\n",
       "    }\n",
       "\n",
       "    .dataframe tbody tr th {\n",
       "        vertical-align: top;\n",
       "    }\n",
       "</style>\n",
       "<table border=\"1\" class=\"dataframe\">\n",
       "  <thead>\n",
       "    <tr style=\"text-align: right;\">\n",
       "      <th></th>\n",
       "      <th>Date</th>\n",
       "      <th>Debate Type</th>\n",
       "      <th>Speaker</th>\n",
       "      <th>Sents</th>\n",
       "      <th>Tree</th>\n",
       "      <th>Entities</th>\n",
       "    </tr>\n",
       "  </thead>\n",
       "  <tbody>\n",
       "    <tr>\n",
       "      <th>0</th>\n",
       "      <td>1-14-16</td>\n",
       "      <td>primary_rep</td>\n",
       "      <td>CAVUTO</td>\n",
       "      <td>It is 9:00 p.m. here at the North Charleston ...</td>\n",
       "      <td>[(It, PRP), (is, VBZ), (9:00, CD), (p.m., NN),...</td>\n",
       "      <td>[]</td>\n",
       "    </tr>\n",
       "    <tr>\n",
       "      <th>1</th>\n",
       "      <td>1-14-16</td>\n",
       "      <td>primary_rep</td>\n",
       "      <td>CAVUTO</td>\n",
       "      <td>Welcome to the sixth Republican presidential o...</td>\n",
       "      <td>[(Welcome, VB), (to, TO), (the, DT), (sixth, J...</td>\n",
       "      <td>[]</td>\n",
       "    </tr>\n",
       "    <tr>\n",
       "      <th>2</th>\n",
       "      <td>1-14-16</td>\n",
       "      <td>primary_rep</td>\n",
       "      <td>CAVUTO</td>\n",
       "      <td>I'm Neil Cavuto, alongside my friend and co-mo...</td>\n",
       "      <td>[(I, PRP), ('m, VBP), [(Neil, JJ), (Cavuto, NN...</td>\n",
       "      <td>[Neil Cavuto, Maria Bartiromo]</td>\n",
       "    </tr>\n",
       "    <tr>\n",
       "      <th>3</th>\n",
       "      <td>1-14-16</td>\n",
       "      <td>primary_rep</td>\n",
       "      <td>BARTIROMO</td>\n",
       "      <td>Tonight we are working with Facebook to ask t...</td>\n",
       "      <td>[(Tonight, NN), (we, PRP), (are, VBP), (workin...</td>\n",
       "      <td>[]</td>\n",
       "    </tr>\n",
       "    <tr>\n",
       "      <th>4</th>\n",
       "      <td>1-14-16</td>\n",
       "      <td>primary_rep</td>\n",
       "      <td>BARTIROMO</td>\n",
       "      <td>And according to Facebook, the U.S. election h...</td>\n",
       "      <td>[(And, CC), (according, VBG), (to, TO), [(Face...</td>\n",
       "      <td>[]</td>\n",
       "    </tr>\n",
       "  </tbody>\n",
       "</table>\n",
       "</div>"
      ],
      "text/plain": [
       "      Date  Debate Type    Speaker  \\\n",
       "0  1-14-16  primary_rep     CAVUTO   \n",
       "1  1-14-16  primary_rep     CAVUTO   \n",
       "2  1-14-16  primary_rep     CAVUTO   \n",
       "3  1-14-16  primary_rep  BARTIROMO   \n",
       "4  1-14-16  primary_rep  BARTIROMO   \n",
       "\n",
       "                                               Sents  \\\n",
       "0   It is 9:00 p.m. here at the North Charleston ...   \n",
       "1  Welcome to the sixth Republican presidential o...   \n",
       "2  I'm Neil Cavuto, alongside my friend and co-mo...   \n",
       "3   Tonight we are working with Facebook to ask t...   \n",
       "4  And according to Facebook, the U.S. election h...   \n",
       "\n",
       "                                                Tree  \\\n",
       "0  [(It, PRP), (is, VBZ), (9:00, CD), (p.m., NN),...   \n",
       "1  [(Welcome, VB), (to, TO), (the, DT), (sixth, J...   \n",
       "2  [(I, PRP), ('m, VBP), [(Neil, JJ), (Cavuto, NN...   \n",
       "3  [(Tonight, NN), (we, PRP), (are, VBP), (workin...   \n",
       "4  [(And, CC), (according, VBG), (to, TO), [(Face...   \n",
       "\n",
       "                         Entities  \n",
       "0                              []  \n",
       "1                              []  \n",
       "2  [Neil Cavuto, Maria Bartiromo]  \n",
       "3                              []  \n",
       "4                              []  "
      ]
     },
     "execution_count": 6,
     "metadata": {},
     "output_type": "execute_result"
    }
   ],
   "source": [
    "master_df['Entities'] = master_df.Tree.map(entity_tracking)\n",
    "master_df.head()"
   ]
  },
  {
   "cell_type": "markdown",
   "metadata": {},
   "source": [
    "**Let's see how many times each relevant entity was referred to throughout all of the debates:**"
   ]
  },
  {
   "cell_type": "code",
   "execution_count": 7,
   "metadata": {},
   "outputs": [
    {
     "name": "stdout",
     "output_type": "stream",
     "text": [
      "Hillary Clinton 1060\n",
      "Donald Trump 950\n",
      "Barack Obama 540\n",
      "Bernie Sanders 535\n",
      "Marco Rubio 350\n",
      "Ted Cruz 319\n",
      "John Kasich 246\n",
      "Jeb Bush 238\n",
      "Chris Christie 205\n",
      "Ben Carson 202\n",
      "TITLE 197\n",
      "Bashar al-Assad 137\n",
      "Ronald Reagan 135\n",
      "Rand Paul 114\n",
      "Martin O'Malley 110\n",
      "Vladimir Putin 105\n",
      "Carly Fiorina 85\n",
      "Dana Bash 67\n",
      "Jake Tapper 66\n",
      "Anderson Cooper 65\n",
      "Wolf Blitzer 59\n",
      "John Kerry 46\n",
      "Muammar Gaddafi 46\n",
      "Maria Celeste Arraras 45\n",
      "Martha Raddatz 45\n",
      "Megyn Kelly 41\n",
      "David Muir 40\n",
      "Mike Huckabee 38\n",
      "George W. Bush 37\n",
      "Jim Webb 33\n",
      "Lester Holt 32\n",
      "Bill Clinton 30\n",
      "Scott Walker 30\n",
      "Bret Baier 29\n",
      "Saddam Hussein 28\n",
      "Neil Cavuto 27\n",
      "Mitt Romney 26\n",
      "Andrea Mitchell 19\n",
      "Osama bin Laden 18\n",
      "Don Lemon 17\n",
      "Jeff Sessions 17\n",
      "Chuck Schumer 16\n",
      "Edward Snowden 16\n",
      "Hugh Hewitt 15\n",
      "Nancy Pelosi 14\n",
      "Antonin Scalia 14\n",
      "John McCain 13\n",
      "Joe Biden 12\n",
      "Carl Quintanilla 12\n",
      "Sean Hannity 12\n",
      "Rachel Maddow 12\n",
      "NICKNAME 11\n",
      "Nikki Haley 10\n",
      "Lindsey Graham 10\n",
      "Benjamin Netanyahu 10\n",
      "Kim Jong Un 10\n",
      "James Carter 9\n",
      "George Bush 8\n",
      "Theodore Roosevelt 8\n",
      "Abraham Lincoln 8\n",
      "Fidel Castro 7\n",
      "Harry Truman 6\n",
      "James Comey 6\n",
      "Elizabeth Warren 6\n",
      "Chuck Todd 6\n",
      "Chris Cuomo 5\n",
      "Lincoln Chafee 5\n",
      "John Adams 5\n",
      "Deborah Wasserman Schultz 5\n",
      "Hosni Mubarak 5\n",
      "John Kennedy 5\n",
      "Jorge Ramos 5\n",
      "Al Gore 4\n",
      "Ivanka Trump 4\n",
      "Franklin D. Roosevelt 4\n",
      "Chris Wallace 4\n",
      "Alicia Machado 4\n",
      "Rick Santorum 4\n",
      "Michelle Obama 4\n",
      "Dwight Eisenhower 4\n",
      "Winston Churchill 4\n",
      "Joe Arpaio 4\n",
      "Nancy Reagan 4\n",
      "Eric Trump 3\n",
      "Freddie Gray 3\n",
      "Tamir Rice 3\n",
      "Barbara Bush 3\n",
      "Kim Davis 3\n",
      "John Boehner 3\n",
      "Paul Ryan 3\n",
      "Humayun Khan 3\n",
      "Major Garrett 3\n",
      "Mitch McConnell 3\n",
      "David Duke 3\n",
      "Chelsea Clinton 3\n",
      "Rosie O'Donnell 3\n",
      "Rosa Parks 3\n",
      "Maria Bartiromo 2\n",
      "Bobby Jindal 2\n",
      "Sonia Sotomayor 2\n",
      "Michael Flynn 2\n",
      "Woodrow Wilson 2\n",
      "Sandra Bland 2\n",
      "Pope Francis 2\n",
      "John Podesta 2\n",
      "Trayvon Martin 2\n",
      "Katie O'Malley 2\n",
      "George H. W. Bush 2\n",
      "Michael Bloomberg 2\n",
      "Tip O'Neill 2\n",
      "Richard Nixon 2\n",
      "Adolf Hitler 2\n",
      "Abigail Adams 2\n",
      "Dylann Roof 1\n",
      "Frederick Douglas 1\n",
      "Benjamin Franklin 1\n",
      "Rush Limbaugh 1\n",
      "John Quincy Adams 1\n",
      "Mark Zuckerburg 1\n",
      "George Washington 1\n",
      "Omran Daqneesh 1\n",
      "Ken Bone 1\n",
      "Andrew Cuomo 1\n",
      "Calvin Coolidge 1\n",
      "Senator Clinton 1\n",
      "Eric Garner 1\n",
      "Michael Brown 1\n",
      "Joseph Mattis 1\n",
      "Kim Jong-Un 1\n",
      "Abdullah 1\n",
      "Nelson Mandela 1\n",
      "Kimberley Strassel 1\n",
      "Joseph Stalin 1\n",
      "Ashraf Ghani 1\n",
      "Angela Merkel 1\n",
      "Maria Elena Salinas 1\n",
      "Yasser Arafat 1\n",
      "Merrick Garland 1\n",
      "Abdel Fattah el-Sisi 1\n",
      "Lyndon Johnson 1\n",
      "Thomas Jefferson 1\n",
      "Alexander Hamilton 1\n",
      "Rudy Giuliani 1\n"
     ]
    }
   ],
   "source": [
    "ner_categories = defaultdict(int)\n",
    "\n",
    "# Create the nested for loop\n",
    "for tree in master_df['Tree']:\n",
    "    for chunk in tree:\n",
    "        if hasattr(chunk, 'label') and chunk.label() not in ['GPE', 'ORGANIZATION', 'PERSON', 'LOCATION', 'GSP', 'FACILITY' ]:\n",
    "            ner_categories[chunk.label()] += 1\n",
    "for category in sorted(ner_categories, key=ner_categories.get, reverse=True):\n",
    "    print(category, ner_categories[category])"
   ]
  },
  {
   "cell_type": "markdown",
   "metadata": {},
   "source": [
    "**Here is a distribution across the candidates that remained in the race until the last primary debate.**"
   ]
  },
  {
   "cell_type": "code",
   "execution_count": 8,
   "metadata": {},
   "outputs": [
    {
     "data": {
      "image/png": "[encoded data removed]",
      "text/plain": [
       "<matplotlib.figure.Figure object at 0x11b718358>"
      ]
     },
     "metadata": {},
     "output_type": "display_data"
    }
   ],
   "source": [
    "#This section is with help from a datacamp tutorial\n",
    "#https://campus.datacamp.com/courses/natural-language-processing-fundamentals-in-python/named-entity-recognition?ex=3\n",
    "\n",
    "ner_categories = defaultdict(int)\n",
    "\n",
    "# Create the nested for loop\n",
    "for tree in master_df['Tree']:\n",
    "    for chunk in tree:\n",
    "        if hasattr(chunk, 'label'):\n",
    "            if chunk.label() in ['Hillary Clinton', 'Donald Trump', 'Bernie Sanders', 'Ted Cruz', 'Marco Rubio', 'John Kasich']:\n",
    "                ner_categories[chunk.label()] += 1\n",
    "            \n",
    "# Create a list from the dictionary keys for the chart labels: labels\n",
    "labels = list(ner_categories.keys())\n",
    "\n",
    "# Create a list of the values: values\n",
    "values = [ner_categories.get(l) for l in labels]\n",
    "\n",
    "# Create the pie chart\n",
    "plt.pie(values, labels=labels, autopct='%1.1f%%', startangle=140)\n",
    "\n",
    "# Display the chart\n",
    "plt.show()"
   ]
  },
  {
   "cell_type": "markdown",
   "metadata": {},
   "source": [
    "**We see that Hillary Clinton is talked about the most, followed by Trump, Sanders, Rubio, Cruz, and Kasich. It makes sense that Hillary Clinton is addressed/referred to the most often because she made it through the Democratic primary debates and then into the general election debates. The Democratic party only ever had at most 5 candidates running, while the Republican party had at most 17 candidates running. That means that each candidate who was a Democrat had more opportunities in each debate to speak than the Republican candidates simply because there were less of them.**"
   ]
  },
  {
   "cell_type": "markdown",
   "metadata": {},
   "source": [
    "**Let's build a data frame for each speaker with only their utterances in it.**"
   ]
  },
  {
   "cell_type": "code",
   "execution_count": 9,
   "metadata": {},
   "outputs": [
    {
     "data": {
      "text/plain": [
       "89"
      ]
     },
     "execution_count": 9,
     "metadata": {},
     "output_type": "execute_result"
    }
   ],
   "source": [
    "#There are 89 different speakers\n",
    "speaker_counts = master_df['Speaker'].value_counts()\n",
    "speaker_counts.size"
   ]
  },
  {
   "cell_type": "code",
   "execution_count": 10,
   "metadata": {},
   "outputs": [
    {
     "data": {
      "text/plain": [
       "TRUMP        6013\n",
       "CLINTON      4890\n",
       "SANDERS      3545\n",
       "RUBIO        2617\n",
       "CRUZ         2117\n",
       "KASICH       1977\n",
       "BUSH         1461\n",
       "OMALLEY      1073\n",
       "CHRISTIE     1018\n",
       "CARSON        974\n",
       "COOPER        792\n",
       "BLITZER       756\n",
       "PAUL          752\n",
       "TAPPER        677\n",
       "WALLACE       652\n",
       "FIORINA       614\n",
       "KELLY         493\n",
       "MUIR          488\n",
       "DICKERSON     481\n",
       "HOLT          416\n",
       "Name: Speaker, dtype: int64"
      ]
     },
     "execution_count": 10,
     "metadata": {},
     "output_type": "execute_result"
    }
   ],
   "source": [
    "#These are the top 20 speakers who had the most utterances. A larger count doesn't necissarily \n",
    "#mean a speaker spoke for more time than another, just that they had more utterances.\n",
    "speaker_counts[:20]"
   ]
  },
  {
   "cell_type": "code",
   "execution_count": 11,
   "metadata": {},
   "outputs": [
    {
     "data": {
      "text/plain": [
       "['TRUMP', 'CLINTON', 'SANDERS', 'RUBIO', 'CRUZ', 'KASICH', 'BUSH', 'OMALLEY', 'CHRISTIE', 'CARSON', 'COOPER', 'BLITZER', 'PAUL', 'TAPPER', 'WALLACE', 'FIORINA', 'KELLY', 'MUIR', 'DICKERSON', 'HOLT', 'RADDATZ', 'BAIER', 'CUOMO', 'BASH', 'HUCKABEE', 'BARTIROMO', 'CAVUTO', 'WALKER', 'HEWITT', 'QUESTION', 'TODD', 'WEBB', 'QUINTANILLA', 'CHAFEE', 'QUICK', 'HARWOOD', 'RAMOS', 'MADDOW', 'SALINAS', 'BAKER', 'WOODRUFF', 'IFILL', 'MITCHELL', 'LEMON', 'TUMULTY', 'GARRETT', 'LOUIS', 'CORDES', 'MCELVEEN', 'HAM', 'DINAN', 'STRASSEL', 'UNKNOWN', 'COONEY', 'UNIDENTIFIED', 'LOPEZ', 'EPPERSON', 'OBRADOVICH', 'SANTELLI', 'CRAMER', 'ANNOUNCER', 'LEVESQUE', 'GOODSON', 'BROWNLEE', 'FRANCHESCA', 'JENNA', 'FRANTA', 'BISHOP', 'PANELISTS', 'LASSEN', 'ARNOLD', 'MODERATOR', 'AUDIENCE', 'SMITH', 'PERRY', 'CRAWFORD', 'ALEXIS', 'WILKINS', 'DICK', 'PLUMMER', 'ROSENGREN', 'SEAN', 'BRETT', 'JOY', 'DEBORAH', 'MALE', 'UNIDENTIFIABLE', 'HANNITY', 'COLLISON']"
      ]
     },
     "execution_count": 11,
     "metadata": {},
     "output_type": "execute_result"
    }
   ],
   "source": [
    "speakers = list(speaker_counts.index)\n",
    "speakers"
   ]
  },
  {
   "cell_type": "code",
   "execution_count": 12,
   "metadata": {
    "collapsed": true
   },
   "outputs": [],
   "source": [
    "speaker_dfs = []\n",
    "for speaker in speakers:\n",
    "    df = master_df.loc[master_df['Speaker']==speaker, :]\n",
    "    speaker_dfs.append(df)"
   ]
  },
  {
   "cell_type": "markdown",
   "metadata": {},
   "source": [
    "**First, let's focus on the candidates. The ultimate goal of this project is to focus on the referring expressions Hillary Clinton and Donald Trump use for each other, but analyzing how they refer to other candidates, and other candidates them can be helpful in comparison.**"
   ]
  },
  {
   "cell_type": "code",
   "execution_count": 13,
   "metadata": {
    "collapsed": true
   },
   "outputs": [],
   "source": [
    "trump = speaker_dfs[0]\n",
    "clinton = speaker_dfs[1]\n",
    "sanders = speaker_dfs[2]\n",
    "rubio = speaker_dfs[3]\n",
    "cruz = speaker_dfs[4]\n",
    "kasich = speaker_dfs[5]\n",
    "bush = speaker_dfs[6]\n",
    "omalley = speaker_dfs[7]\n",
    "christie = speaker_dfs[8]\n",
    "carson = speaker_dfs[9]\n",
    "paul = speaker_dfs[12]\n",
    "fiorina = speaker_dfs[15]\n",
    "huckabee = speaker_dfs[24]\n",
    "walker = speaker_dfs[27]\n",
    "webb = speaker_dfs[31]\n",
    "chafee = speaker_dfs[33]"
   ]
  },
  {
   "cell_type": "code",
   "execution_count": 14,
   "metadata": {},
   "outputs": [
    {
     "data": {
      "text/html": [
       "<div>\n",
       "<style>\n",
       "    .dataframe thead tr:only-child th {\n",
       "        text-align: right;\n",
       "    }\n",
       "\n",
       "    .dataframe thead th {\n",
       "        text-align: left;\n",
       "    }\n",
       "\n",
       "    .dataframe tbody tr th {\n",
       "        vertical-align: top;\n",
       "    }\n",
       "</style>\n",
       "<table border=\"1\" class=\"dataframe\">\n",
       "  <thead>\n",
       "    <tr style=\"text-align: right;\">\n",
       "      <th></th>\n",
       "      <th>Date</th>\n",
       "      <th>Debate Type</th>\n",
       "      <th>Speaker</th>\n",
       "      <th>Sents</th>\n",
       "      <th>Tree</th>\n",
       "      <th>Entities</th>\n",
       "    </tr>\n",
       "  </thead>\n",
       "  <tbody>\n",
       "    <tr>\n",
       "      <th>170</th>\n",
       "      <td>1-14-16</td>\n",
       "      <td>primary_rep</td>\n",
       "      <td>TRUMP</td>\n",
       "      <td>It's not fear and terror, it's reality.</td>\n",
       "      <td>[(It, PRP), ('s, VBZ), (not, RB), (fear, JJ), ...</td>\n",
       "      <td>[]</td>\n",
       "    </tr>\n",
       "    <tr>\n",
       "      <th>171</th>\n",
       "      <td>1-14-16</td>\n",
       "      <td>primary_rep</td>\n",
       "      <td>TRUMP</td>\n",
       "      <td>You just have to look today at Indonesia, bomb...</td>\n",
       "      <td>[(You, PRP), (just, RB), (have, VBP), (to, TO)...</td>\n",
       "      <td>[]</td>\n",
       "    </tr>\n",
       "    <tr>\n",
       "      <th>172</th>\n",
       "      <td>1-14-16</td>\n",
       "      <td>primary_rep</td>\n",
       "      <td>TRUMP</td>\n",
       "      <td>[applause]\\n\\nYou look at California, you look...</td>\n",
       "      <td>[([, NN), (applause, NN), (], NNP), (You, PRP)...</td>\n",
       "      <td>[]</td>\n",
       "    </tr>\n",
       "    <tr>\n",
       "      <th>173</th>\n",
       "      <td>1-14-16</td>\n",
       "      <td>primary_rep</td>\n",
       "      <td>TRUMP</td>\n",
       "      <td>They're very, very badly wounded.</td>\n",
       "      <td>[(They, PRP), ('re, VBP), (very, RB), (,, ,), ...</td>\n",
       "      <td>[]</td>\n",
       "    </tr>\n",
       "    <tr>\n",
       "      <th>174</th>\n",
       "      <td>1-14-16</td>\n",
       "      <td>primary_rep</td>\n",
       "      <td>TRUMP</td>\n",
       "      <td>They will — some will follow.</td>\n",
       "      <td>[(They, PRP), (will, MD), (—, VB), (some, DT),...</td>\n",
       "      <td>[]</td>\n",
       "    </tr>\n",
       "  </tbody>\n",
       "</table>\n",
       "</div>"
      ],
      "text/plain": [
       "        Date  Debate Type Speaker  \\\n",
       "170  1-14-16  primary_rep   TRUMP   \n",
       "171  1-14-16  primary_rep   TRUMP   \n",
       "172  1-14-16  primary_rep   TRUMP   \n",
       "173  1-14-16  primary_rep   TRUMP   \n",
       "174  1-14-16  primary_rep   TRUMP   \n",
       "\n",
       "                                                 Sents  \\\n",
       "170            It's not fear and terror, it's reality.   \n",
       "171  You just have to look today at Indonesia, bomb...   \n",
       "172  [applause]\\n\\nYou look at California, you look...   \n",
       "173                  They're very, very badly wounded.   \n",
       "174                      They will — some will follow.   \n",
       "\n",
       "                                                  Tree Entities  \n",
       "170  [(It, PRP), ('s, VBZ), (not, RB), (fear, JJ), ...       []  \n",
       "171  [(You, PRP), (just, RB), (have, VBP), (to, TO)...       []  \n",
       "172  [([, NN), (applause, NN), (], NNP), (You, PRP)...       []  \n",
       "173  [(They, PRP), ('re, VBP), (very, RB), (,, ,), ...       []  \n",
       "174  [(They, PRP), (will, MD), (—, VB), (some, DT),...       []  "
      ]
     },
     "execution_count": 14,
     "metadata": {},
     "output_type": "execute_result"
    }
   ],
   "source": [
    "trump.head()"
   ]
  },
  {
   "cell_type": "code",
   "execution_count": 15,
   "metadata": {},
   "outputs": [
    {
     "data": {
      "text/html": [
       "<div>\n",
       "<style>\n",
       "    .dataframe thead tr:only-child th {\n",
       "        text-align: right;\n",
       "    }\n",
       "\n",
       "    .dataframe thead th {\n",
       "        text-align: left;\n",
       "    }\n",
       "\n",
       "    .dataframe tbody tr th {\n",
       "        vertical-align: top;\n",
       "    }\n",
       "</style>\n",
       "<table border=\"1\" class=\"dataframe\">\n",
       "  <thead>\n",
       "    <tr style=\"text-align: right;\">\n",
       "      <th></th>\n",
       "      <th>Date</th>\n",
       "      <th>Debate Type</th>\n",
       "      <th>Speaker</th>\n",
       "      <th>Sents</th>\n",
       "      <th>Tree</th>\n",
       "      <th>Entities</th>\n",
       "    </tr>\n",
       "  </thead>\n",
       "  <tbody>\n",
       "    <tr>\n",
       "      <th>1617</th>\n",
       "      <td>1-17-16</td>\n",
       "      <td>primary_dem</td>\n",
       "      <td>CLINTON</td>\n",
       "      <td>Well, good evening.</td>\n",
       "      <td>[(Well, RB), (,, ,), (good, JJ), (evening, NN)...</td>\n",
       "      <td>[]</td>\n",
       "    </tr>\n",
       "    <tr>\n",
       "      <th>1618</th>\n",
       "      <td>1-17-16</td>\n",
       "      <td>primary_dem</td>\n",
       "      <td>CLINTON</td>\n",
       "      <td>And I want to thank the Congressional Black Ca...</td>\n",
       "      <td>[(And, CC), (I, PRP), (want, VBP), (to, TO), (...</td>\n",
       "      <td>[]</td>\n",
       "    </tr>\n",
       "    <tr>\n",
       "      <th>1619</th>\n",
       "      <td>1-17-16</td>\n",
       "      <td>primary_dem</td>\n",
       "      <td>CLINTON</td>\n",
       "      <td>You know, I remember well when my youth minist...</td>\n",
       "      <td>[(You, PRP), (know, VBP), (,, ,), (I, PRP), (r...</td>\n",
       "      <td>[]</td>\n",
       "    </tr>\n",
       "    <tr>\n",
       "      <th>1620</th>\n",
       "      <td>1-17-16</td>\n",
       "      <td>primary_dem</td>\n",
       "      <td>CLINTON</td>\n",
       "      <td>I was a teenager.</td>\n",
       "      <td>[(I, PRP), (was, VBD), (a, DT), (teenager, NN)...</td>\n",
       "      <td>[]</td>\n",
       "    </tr>\n",
       "    <tr>\n",
       "      <th>1621</th>\n",
       "      <td>1-17-16</td>\n",
       "      <td>primary_dem</td>\n",
       "      <td>CLINTON</td>\n",
       "      <td>And his moral clarity, the message that he con...</td>\n",
       "      <td>[(And, CC), (his, PRP$), (moral, JJ), (clarity...</td>\n",
       "      <td>[]</td>\n",
       "    </tr>\n",
       "  </tbody>\n",
       "</table>\n",
       "</div>"
      ],
      "text/plain": [
       "         Date  Debate Type  Speaker  \\\n",
       "1617  1-17-16  primary_dem  CLINTON   \n",
       "1618  1-17-16  primary_dem  CLINTON   \n",
       "1619  1-17-16  primary_dem  CLINTON   \n",
       "1620  1-17-16  primary_dem  CLINTON   \n",
       "1621  1-17-16  primary_dem  CLINTON   \n",
       "\n",
       "                                                  Sents  \\\n",
       "1617                                Well, good evening.   \n",
       "1618  And I want to thank the Congressional Black Ca...   \n",
       "1619  You know, I remember well when my youth minist...   \n",
       "1620                                  I was a teenager.   \n",
       "1621  And his moral clarity, the message that he con...   \n",
       "\n",
       "                                                   Tree Entities  \n",
       "1617  [(Well, RB), (,, ,), (good, JJ), (evening, NN)...       []  \n",
       "1618  [(And, CC), (I, PRP), (want, VBP), (to, TO), (...       []  \n",
       "1619  [(You, PRP), (know, VBP), (,, ,), (I, PRP), (r...       []  \n",
       "1620  [(I, PRP), (was, VBD), (a, DT), (teenager, NN)...       []  \n",
       "1621  [(And, CC), (his, PRP$), (moral, JJ), (clarity...       []  "
      ]
     },
     "execution_count": 15,
     "metadata": {},
     "output_type": "execute_result"
    }
   ],
   "source": [
    "clinton.head()"
   ]
  },
  {
   "cell_type": "markdown",
   "metadata": {
    "collapsed": true
   },
   "source": [
    "**First, we're going to get some stats.**"
   ]
  },
  {
   "cell_type": "code",
   "execution_count": 16,
   "metadata": {},
   "outputs": [
    {
     "data": {
      "text/html": [
       "<div>\n",
       "<style>\n",
       "    .dataframe thead tr:only-child th {\n",
       "        text-align: right;\n",
       "    }\n",
       "\n",
       "    .dataframe thead th {\n",
       "        text-align: left;\n",
       "    }\n",
       "\n",
       "    .dataframe tbody tr th {\n",
       "        vertical-align: top;\n",
       "    }\n",
       "</style>\n",
       "<table border=\"1\" class=\"dataframe\">\n",
       "  <thead>\n",
       "    <tr style=\"text-align: right;\">\n",
       "      <th></th>\n",
       "      <th>Date</th>\n",
       "      <th>Debate Type</th>\n",
       "      <th>Speaker</th>\n",
       "      <th>Sents</th>\n",
       "      <th>Tree</th>\n",
       "    </tr>\n",
       "  </thead>\n",
       "  <tbody>\n",
       "    <tr>\n",
       "      <th>count</th>\n",
       "      <td>6013</td>\n",
       "      <td>6013</td>\n",
       "      <td>6013</td>\n",
       "      <td>6013</td>\n",
       "      <td>6013</td>\n",
       "    </tr>\n",
       "    <tr>\n",
       "      <th>unique</th>\n",
       "      <td>14</td>\n",
       "      <td>2</td>\n",
       "      <td>1</td>\n",
       "      <td>5606</td>\n",
       "      <td>5541</td>\n",
       "    </tr>\n",
       "    <tr>\n",
       "      <th>top</th>\n",
       "      <td>9-26-16</td>\n",
       "      <td>primary_rep</td>\n",
       "      <td>TRUMP</td>\n",
       "      <td>[applause]</td>\n",
       "      <td>[([, NN), (applause, NN), (], NN)]</td>\n",
       "    </tr>\n",
       "    <tr>\n",
       "      <th>freq</th>\n",
       "      <td>751</td>\n",
       "      <td>3979</td>\n",
       "      <td>6013</td>\n",
       "      <td>89</td>\n",
       "      <td>89</td>\n",
       "    </tr>\n",
       "  </tbody>\n",
       "</table>\n",
       "</div>"
      ],
      "text/plain": [
       "           Date  Debate Type Speaker       Sents  \\\n",
       "count      6013         6013    6013        6013   \n",
       "unique       14            2       1        5606   \n",
       "top     9-26-16  primary_rep   TRUMP  [applause]   \n",
       "freq        751         3979    6013          89   \n",
       "\n",
       "                                      Tree  \n",
       "count                                 6013  \n",
       "unique                                5541  \n",
       "top     [([, NN), (applause, NN), (], NN)]  \n",
       "freq                                    89  "
      ]
     },
     "execution_count": 16,
     "metadata": {},
     "output_type": "execute_result"
    }
   ],
   "source": [
    "trump[['Date', 'Debate Type', 'Speaker', 'Sents', 'Tree']].describe()"
   ]
  },
  {
   "cell_type": "code",
   "execution_count": 17,
   "metadata": {},
   "outputs": [
    {
     "data": {
      "text/html": [
       "<div>\n",
       "<style>\n",
       "    .dataframe thead tr:only-child th {\n",
       "        text-align: right;\n",
       "    }\n",
       "\n",
       "    .dataframe thead th {\n",
       "        text-align: left;\n",
       "    }\n",
       "\n",
       "    .dataframe tbody tr th {\n",
       "        vertical-align: top;\n",
       "    }\n",
       "</style>\n",
       "<table border=\"1\" class=\"dataframe\">\n",
       "  <thead>\n",
       "    <tr style=\"text-align: right;\">\n",
       "      <th></th>\n",
       "      <th>Date</th>\n",
       "      <th>Debate Type</th>\n",
       "      <th>Speaker</th>\n",
       "      <th>Sents</th>\n",
       "      <th>Tree</th>\n",
       "    </tr>\n",
       "  </thead>\n",
       "  <tbody>\n",
       "    <tr>\n",
       "      <th>count</th>\n",
       "      <td>4890</td>\n",
       "      <td>4890</td>\n",
       "      <td>4890</td>\n",
       "      <td>4890</td>\n",
       "      <td>4890</td>\n",
       "    </tr>\n",
       "    <tr>\n",
       "      <th>unique</th>\n",
       "      <td>13</td>\n",
       "      <td>2</td>\n",
       "      <td>1</td>\n",
       "      <td>4686</td>\n",
       "      <td>4672</td>\n",
       "    </tr>\n",
       "    <tr>\n",
       "      <th>top</th>\n",
       "      <td>4-14-16</td>\n",
       "      <td>primary_dem</td>\n",
       "      <td>CLINTON</td>\n",
       "      <td>[applause]</td>\n",
       "      <td>[([, NN), (applause, NN), (], NN)]</td>\n",
       "    </tr>\n",
       "    <tr>\n",
       "      <th>freq</th>\n",
       "      <td>495</td>\n",
       "      <td>3660</td>\n",
       "      <td>4890</td>\n",
       "      <td>118</td>\n",
       "      <td>118</td>\n",
       "    </tr>\n",
       "  </tbody>\n",
       "</table>\n",
       "</div>"
      ],
      "text/plain": [
       "           Date  Debate Type  Speaker       Sents  \\\n",
       "count      4890         4890     4890        4890   \n",
       "unique       13            2        1        4686   \n",
       "top     4-14-16  primary_dem  CLINTON  [applause]   \n",
       "freq        495         3660     4890         118   \n",
       "\n",
       "                                      Tree  \n",
       "count                                 4890  \n",
       "unique                                4672  \n",
       "top     [([, NN), (applause, NN), (], NN)]  \n",
       "freq                                   118  "
      ]
     },
     "execution_count": 17,
     "metadata": {},
     "output_type": "execute_result"
    }
   ],
   "source": [
    "clinton[['Date', 'Debate Type', 'Speaker', 'Sents', 'Tree']].describe()"
   ]
  },
  {
   "cell_type": "markdown",
   "metadata": {},
   "source": [
    "**These descriptions show that out of all of the debates, Trump had his most utterances in the 9-26-16 debate, and Clinton had her most utterances in the 4-14-16 debate. The most frequent \"utterance\" by both of these candidates was the transcription for applause. Based on these transcriptions, Clinton was applauded 118 times while Trump was applauded 89 times. Out of Trump's 6013 utterances, 5606 of those were unique. Somehow, there are less unique trees (5541) than there are unique utterances. I'm not quite sure how that is. Out of Clinton's 4890 utterances, 4686 of those were unique, and there are only 4672 unique trees.**"
   ]
  },
  {
   "cell_type": "markdown",
   "metadata": {},
   "source": [
    "**Defining some functions:**"
   ]
  },
  {
   "cell_type": "code",
   "execution_count": 18,
   "metadata": {
    "collapsed": true
   },
   "outputs": [],
   "source": [
    "#This function returns a set of all of the relevant entities a given speaker refers to.\n",
    "def get_entities(entities):\n",
    "    all_ents = []\n",
    "    for entity_list in entities:\n",
    "        for ent in entity_list:\n",
    "            all_ents.append(ent)\n",
    "    return set(all_ents)"
   ]
  },
  {
   "cell_type": "code",
   "execution_count": 19,
   "metadata": {
    "collapsed": true
   },
   "outputs": [],
   "source": [
    "#This function returns a list of REs a speaker used to describe a given entity.\n",
    "def get_RE_for_label(trees, label):\n",
    "    name = ''\n",
    "    REs = []\n",
    "    RE_trees = []\n",
    "    ents=set(link_dict.values())\n",
    "    for tree in trees:\n",
    "        for chunk in tree:\n",
    "            if hasattr(chunk, 'label'):\n",
    "                if label == 'all':\n",
    "                    if chunk.label() in ents:\n",
    "                        for leaf in chunk.leaves():\n",
    "                            name+=' '+str(leaf[0])\n",
    "                        name = name.strip()\n",
    "                        REs.append(name)\n",
    "                        name = ''\n",
    "                    else:\n",
    "                        name = ''\n",
    "                else:\n",
    "                    if chunk.label()==label:\n",
    "                        for leaf in chunk.leaves():\n",
    "                            name+=' '+str(leaf[0])\n",
    "                        name = name.strip()\n",
    "                        REs.append(name)\n",
    "                        name = ''\n",
    "                    else:\n",
    "                        name = ''\n",
    "    return REs"
   ]
  },
  {
   "cell_type": "code",
   "execution_count": 20,
   "metadata": {
    "collapsed": true
   },
   "outputs": [],
   "source": [
    "def get_re_type_freq(re_map, freq_dict):\n",
    "    re_freq_dict = {}\n",
    "    for key in re_map:\n",
    "        if key in freq_dict.keys():\n",
    "            if re_map[key] in re_freq_dict.keys():\n",
    "                re_freq_dict[re_map[key]] += freq_dict[key]\n",
    "            else:\n",
    "                re_freq_dict[re_map[key]] = freq_dict[key]\n",
    "    return re_freq_dict"
   ]
  },
  {
   "cell_type": "code",
   "execution_count": 21,
   "metadata": {
    "collapsed": true
   },
   "outputs": [],
   "source": [
    "#This function takes a data frame, and entity label, and a specific RE and returns all rows with that specific RE in it\n",
    "#If no RE is passed in, any rows about the entity specified will be returned\n",
    "def get_trees_for(df, label, RE=''):\n",
    "    name = ''\n",
    "    REs = []\n",
    "    RE_trees = []\n",
    "    df2 = pd.DataFrame(columns=['Date', 'Debate Type', 'Speaker', 'Sents', 'Tree'])\n",
    "    row=0\n",
    "    if RE == '':\n",
    "        for ent_list in df['Entities']:\n",
    "            if label in ent_list:\n",
    "                df2.loc[row]=(df.iloc[row][:])\n",
    "            row+=1\n",
    "    else:\n",
    "        for tree in df['Tree']:\n",
    "            for chunk in tree:\n",
    "                if hasattr(chunk, 'label'):\n",
    "                    if chunk.label()==label:\n",
    "                        for leaf in chunk.leaves():\n",
    "                            name+=' '+str(leaf[0])\n",
    "                        name = name.strip()\n",
    "                        if name == RE:\n",
    "                            df2.loc[row]=(df.iloc[row][:])\n",
    "                        name = ''\n",
    "                    else:\n",
    "                        name = ''\n",
    "            row +=1\n",
    "    return df2\n"
   ]
  },
  {
   "cell_type": "markdown",
   "metadata": {},
   "source": [
    "**Let's categorize the ways a person can be referred to into different types. I will define the types as follows:**\n",
    "\n",
    "**PROFESSIONAL- Senator, Secretary, Businessman, Dr., Governor, etc.**\n",
    "\n",
    "**FIRST NAME- Hillary, Donald, etc.**\n",
    "\n",
    "**FULL NAME- Hillary Clinton, Donald Trump, etc.**\n",
    "\n",
    "**LAST NAME- Clinton, Trump, etc.**\n",
    "\n",
    "**GENDERED- Mrs., Ms., Miss, Mr. (Only if they posess an alternate professional title)**\n",
    "\n",
    "**NAMECALLING- any form of namecalling**"
   ]
  },
  {
   "cell_type": "markdown",
   "metadata": {},
   "source": [
    "**I'm going to find all of the ways Hillary Clinton and Donald Trump are referred to by anyone who participated in the debates.**"
   ]
  },
  {
   "cell_type": "code",
   "execution_count": 22,
   "metadata": {},
   "outputs": [
    {
     "data": {
      "text/plain": [
       "{'Clinton', 'Hillary Rodham Clinton', 'Secretary Clinton', 'Hillary', 'President Clinton', 'Hill', 'Hillary Clinton', 'Madam Secretary', 'Hilary Clinton', 'Secretary Hillary Clinton', 'Mrs. Clinton', 'Senator Clinton'}"
      ]
     },
     "execution_count": 22,
     "metadata": {},
     "output_type": "execute_result"
    }
   ],
   "source": [
    "master_REclinton = get_RE_for_label(master_df['Tree'], 'Hillary Clinton')\n",
    "set(master_REclinton)"
   ]
  },
  {
   "cell_type": "code",
   "execution_count": 23,
   "metadata": {},
   "outputs": [
    {
     "data": {
      "text/plain": [
       "{'Secretary Clinton': 590, 'Hillary Clinton': 310, 'Hillary': 64, 'Hillary Rodham Clinton': 3, 'Clinton': 50, 'Secretary Hillary Clinton': 4, 'President Clinton': 13, 'Mrs. Clinton': 12, 'Madam Secretary': 6, 'Hill': 1, 'Senator Clinton': 6, 'Hilary Clinton': 1}"
      ]
     },
     "execution_count": 23,
     "metadata": {},
     "output_type": "execute_result"
    }
   ],
   "source": [
    "master_REclinton_freq = {re: master_REclinton.count(re) for re in master_REclinton}\n",
    "master_REclinton_freq"
   ]
  },
  {
   "cell_type": "code",
   "execution_count": 24,
   "metadata": {},
   "outputs": [
    {
     "data": {
      "text/plain": [
       "12"
      ]
     },
     "execution_count": 24,
     "metadata": {},
     "output_type": "execute_result"
    }
   ],
   "source": [
    "len(master_REclinton_freq)"
   ]
  },
  {
   "cell_type": "markdown",
   "metadata": {},
   "source": [
    "**The length of this dictionary is 12, but since President Clinton is most likely tagging error that's difficult to fix (actually referring to President Bill Clinton). Let's take a look at these to be sure.**"
   ]
  },
  {
   "cell_type": "code",
   "execution_count": 25,
   "metadata": {},
   "outputs": [
    {
     "data": {
      "text/html": [
       "<div>\n",
       "<style>\n",
       "    .dataframe thead tr:only-child th {\n",
       "        text-align: right;\n",
       "    }\n",
       "\n",
       "    .dataframe thead th {\n",
       "        text-align: left;\n",
       "    }\n",
       "\n",
       "    .dataframe tbody tr th {\n",
       "        vertical-align: top;\n",
       "    }\n",
       "</style>\n",
       "<table border=\"1\" class=\"dataframe\">\n",
       "  <thead>\n",
       "    <tr style=\"text-align: right;\">\n",
       "      <th></th>\n",
       "      <th>Date</th>\n",
       "      <th>Debate Type</th>\n",
       "      <th>Speaker</th>\n",
       "      <th>Sents</th>\n",
       "      <th>Tree</th>\n",
       "    </tr>\n",
       "  </thead>\n",
       "  <tbody>\n",
       "    <tr>\n",
       "      <th>2538</th>\n",
       "      <td>1-17-16</td>\n",
       "      <td>primary_dem</td>\n",
       "      <td>HOLT</td>\n",
       "      <td>You have said that President Clinton would adv...</td>\n",
       "      <td>[(You, PRP), (have, VBP), (said, VBD), (that, ...</td>\n",
       "    </tr>\n",
       "    <tr>\n",
       "      <th>2755</th>\n",
       "      <td>1-25-16</td>\n",
       "      <td>primary_dem</td>\n",
       "      <td>CUOMO</td>\n",
       "      <td>And, if you do a checklist of how you pay for ...</td>\n",
       "      <td>[(And, CC), (,, ,), (if, IN), (you, PRP), (do,...</td>\n",
       "    </tr>\n",
       "    <tr>\n",
       "      <th>5922</th>\n",
       "      <td>10-13-15</td>\n",
       "      <td>primary_dem</td>\n",
       "      <td>SANDERS</td>\n",
       "      <td>Well, obviously, I voted, when President Clin...</td>\n",
       "      <td>[(Well, RB), (,, ,), (obviously, RB), (,, ,), ...</td>\n",
       "    </tr>\n",
       "    <tr>\n",
       "      <th>6065</th>\n",
       "      <td>10-13-15</td>\n",
       "      <td>primary_dem</td>\n",
       "      <td>SANDERS</td>\n",
       "      <td>I supported President Clinton's effort to deal...</td>\n",
       "      <td>[(I, PRP), (supported, VBD), [(President, NNP)...</td>\n",
       "    </tr>\n",
       "    <tr>\n",
       "      <th>8145</th>\n",
       "      <td>10-19-16</td>\n",
       "      <td>general</td>\n",
       "      <td>WALLACE</td>\n",
       "      <td>Secondly, if you impose a no-fly zone and a Ru...</td>\n",
       "      <td>[(Secondly, RB), (,, ,), (if, IN), (you, PRP),...</td>\n",
       "    </tr>\n",
       "    <tr>\n",
       "      <th>10222</th>\n",
       "      <td>10-9-16</td>\n",
       "      <td>general</td>\n",
       "      <td>TRUMP</td>\n",
       "      <td>But what President Clinton did, he was impeach...</td>\n",
       "      <td>[(But, CC), (what, WP), [(President, NNP), (Cl...</td>\n",
       "    </tr>\n",
       "    <tr>\n",
       "      <th>11454</th>\n",
       "      <td>11-10-15</td>\n",
       "      <td>primary_rep</td>\n",
       "      <td>BARTIROMO</td>\n",
       "      <td>Governor Kasich, you have spoken much about yo...</td>\n",
       "      <td>[[(Governor, NNP), (Kasich, NNP)], (,, ,), (yo...</td>\n",
       "    </tr>\n",
       "    <tr>\n",
       "      <th>11575</th>\n",
       "      <td>11-10-15</td>\n",
       "      <td>primary_rep</td>\n",
       "      <td>BAKER</td>\n",
       "      <td>Under President Clinton, the economy added abo...</td>\n",
       "      <td>[(Under, IN), [(President, NNP), (Clinton, NNP...</td>\n",
       "    </tr>\n",
       "    <tr>\n",
       "      <th>30197</th>\n",
       "      <td>3-9-16</td>\n",
       "      <td>primary_dem</td>\n",
       "      <td>CLINTON</td>\n",
       "      <td>You know, in the debates we've had — maybe thi...</td>\n",
       "      <td>[(You, PRP), (know, VBP), (,, ,), (in, IN), (t...</td>\n",
       "    </tr>\n",
       "    <tr>\n",
       "      <th>30214</th>\n",
       "      <td>3-9-16</td>\n",
       "      <td>primary_dem</td>\n",
       "      <td>SANDERS</td>\n",
       "      <td>[laughter]\\n\\nNow, when we talk about the poli...</td>\n",
       "      <td>[([, JJ), (laughter, NN), (], NN), (Now, RB), ...</td>\n",
       "    </tr>\n",
       "    <tr>\n",
       "      <th>30906</th>\n",
       "      <td>4-14-16</td>\n",
       "      <td>primary_dem</td>\n",
       "      <td>LOUIS</td>\n",
       "      <td>Senator Sanders, earlier this week at the Apo...</td>\n",
       "      <td>[[(Senator, NNP), (Sanders, NNP)], (,, ,), (ea...</td>\n",
       "    </tr>\n",
       "    <tr>\n",
       "      <th>31305</th>\n",
       "      <td>4-14-16</td>\n",
       "      <td>primary_dem</td>\n",
       "      <td>SANDERS</td>\n",
       "      <td>And I think, again, it is a complicated issue ...</td>\n",
       "      <td>[(And, CC), (I, PRP), (think, VBP), (,, ,), (a...</td>\n",
       "    </tr>\n",
       "    <tr>\n",
       "      <th>33894</th>\n",
       "      <td>9-16-15</td>\n",
       "      <td>primary_rep</td>\n",
       "      <td>BUSH</td>\n",
       "      <td>He interpreted it the right way, the courts ru...</td>\n",
       "      <td>[(He, PRP), (interpreted, VBD), (it, PRP), (th...</td>\n",
       "    </tr>\n",
       "  </tbody>\n",
       "</table>\n",
       "</div>"
      ],
      "text/plain": [
       "           Date  Debate Type    Speaker  \\\n",
       "2538    1-17-16  primary_dem       HOLT   \n",
       "2755    1-25-16  primary_dem      CUOMO   \n",
       "5922   10-13-15  primary_dem    SANDERS   \n",
       "6065   10-13-15  primary_dem    SANDERS   \n",
       "8145   10-19-16      general    WALLACE   \n",
       "10222   10-9-16      general      TRUMP   \n",
       "11454  11-10-15  primary_rep  BARTIROMO   \n",
       "11575  11-10-15  primary_rep      BAKER   \n",
       "30197    3-9-16  primary_dem    CLINTON   \n",
       "30214    3-9-16  primary_dem    SANDERS   \n",
       "30906   4-14-16  primary_dem      LOUIS   \n",
       "31305   4-14-16  primary_dem    SANDERS   \n",
       "33894   9-16-15  primary_rep       BUSH   \n",
       "\n",
       "                                                   Sents  \\\n",
       "2538   You have said that President Clinton would adv...   \n",
       "2755   And, if you do a checklist of how you pay for ...   \n",
       "5922    Well, obviously, I voted, when President Clin...   \n",
       "6065   I supported President Clinton's effort to deal...   \n",
       "8145   Secondly, if you impose a no-fly zone and a Ru...   \n",
       "10222  But what President Clinton did, he was impeach...   \n",
       "11454  Governor Kasich, you have spoken much about yo...   \n",
       "11575  Under President Clinton, the economy added abo...   \n",
       "30197  You know, in the debates we've had — maybe thi...   \n",
       "30214  [laughter]\\n\\nNow, when we talk about the poli...   \n",
       "30906   Senator Sanders, earlier this week at the Apo...   \n",
       "31305  And I think, again, it is a complicated issue ...   \n",
       "33894  He interpreted it the right way, the courts ru...   \n",
       "\n",
       "                                                    Tree  \n",
       "2538   [(You, PRP), (have, VBP), (said, VBD), (that, ...  \n",
       "2755   [(And, CC), (,, ,), (if, IN), (you, PRP), (do,...  \n",
       "5922   [(Well, RB), (,, ,), (obviously, RB), (,, ,), ...  \n",
       "6065   [(I, PRP), (supported, VBD), [(President, NNP)...  \n",
       "8145   [(Secondly, RB), (,, ,), (if, IN), (you, PRP),...  \n",
       "10222  [(But, CC), (what, WP), [(President, NNP), (Cl...  \n",
       "11454  [[(Governor, NNP), (Kasich, NNP)], (,, ,), (yo...  \n",
       "11575  [(Under, IN), [(President, NNP), (Clinton, NNP...  \n",
       "30197  [(You, PRP), (know, VBP), (,, ,), (in, IN), (t...  \n",
       "30214  [([, JJ), (laughter, NN), (], NN), (Now, RB), ...  \n",
       "30906  [[(Senator, NNP), (Sanders, NNP)], (,, ,), (ea...  \n",
       "31305  [(And, CC), (I, PRP), (think, VBP), (,, ,), (a...  \n",
       "33894  [(He, PRP), (interpreted, VBD), (it, PRP), (th...  "
      ]
     },
     "execution_count": 25,
     "metadata": {},
     "output_type": "execute_result"
    }
   ],
   "source": [
    "master_presclinton = get_trees_for(master_df, 'Hillary Clinton', 'President Clinton')\n",
    "master_presclinton"
   ]
  },
  {
   "cell_type": "markdown",
   "metadata": {},
   "source": [
    "**As expected, these all appear to be tagging mistakes, so we will ignore these.**"
   ]
  },
  {
   "cell_type": "markdown",
   "metadata": {},
   "source": [
    "**In addition to Hilary Clinton being a mispelling, there are only 10 ways of referring to Hillary Clinton. That being said, I can categorize these RE's into the categories described above very easily by hand.**"
   ]
  },
  {
   "cell_type": "markdown",
   "metadata": {},
   "source": [
    "**Madam Secretary could be considered professional because it has information about her previous job, but the use of \"Madam\" instead of just saying \"Secretary\" when that would suffice just as well makes this RE gendered. The use of Clinton's full name, including her maiden name (Hillary Rodham Clinton), could be an interesting case. I'm going to look at these three instances closer.**"
   ]
  },
  {
   "cell_type": "code",
   "execution_count": 26,
   "metadata": {},
   "outputs": [
    {
     "data": {
      "text/html": [
       "<div>\n",
       "<style>\n",
       "    .dataframe thead tr:only-child th {\n",
       "        text-align: right;\n",
       "    }\n",
       "\n",
       "    .dataframe thead th {\n",
       "        text-align: left;\n",
       "    }\n",
       "\n",
       "    .dataframe tbody tr th {\n",
       "        vertical-align: top;\n",
       "    }\n",
       "</style>\n",
       "<table border=\"1\" class=\"dataframe\">\n",
       "  <thead>\n",
       "    <tr style=\"text-align: right;\">\n",
       "      <th></th>\n",
       "      <th>Date</th>\n",
       "      <th>Debate Type</th>\n",
       "      <th>Speaker</th>\n",
       "      <th>Sents</th>\n",
       "      <th>Tree</th>\n",
       "    </tr>\n",
       "  </thead>\n",
       "  <tbody>\n",
       "    <tr>\n",
       "      <th>435</th>\n",
       "      <td>1-14-16</td>\n",
       "      <td>primary_rep</td>\n",
       "      <td>CHRISTIE</td>\n",
       "      <td>He's a good guy, a smart guy, and he would be ...</td>\n",
       "      <td>[(He, PRP), ('s, VBZ), (a, DT), (good, JJ), (g...</td>\n",
       "    </tr>\n",
       "    <tr>\n",
       "      <th>1277</th>\n",
       "      <td>1-14-16</td>\n",
       "      <td>primary_rep</td>\n",
       "      <td>CHRISTIE</td>\n",
       "      <td>And I'm the only one up on this stage who back...</td>\n",
       "      <td>[(And, CC), (I, PRP), ('m, VBP), (the, DT), (o...</td>\n",
       "    </tr>\n",
       "    <tr>\n",
       "      <th>4340</th>\n",
       "      <td>1-28-16</td>\n",
       "      <td>primary_rep</td>\n",
       "      <td>CHRISTIE</td>\n",
       "      <td>Hillary Rodham Clinton did that to our country.</td>\n",
       "      <td>[[(Hillary, NNP), (Rodham, NNP), (Clinton, NNP...</td>\n",
       "    </tr>\n",
       "  </tbody>\n",
       "</table>\n",
       "</div>"
      ],
      "text/plain": [
       "         Date  Debate Type   Speaker  \\\n",
       "435   1-14-16  primary_rep  CHRISTIE   \n",
       "1277  1-14-16  primary_rep  CHRISTIE   \n",
       "4340  1-28-16  primary_rep  CHRISTIE   \n",
       "\n",
       "                                                  Sents  \\\n",
       "435   He's a good guy, a smart guy, and he would be ...   \n",
       "1277  And I'm the only one up on this stage who back...   \n",
       "4340    Hillary Rodham Clinton did that to our country.   \n",
       "\n",
       "                                                   Tree  \n",
       "435   [(He, PRP), ('s, VBZ), (a, DT), (good, JJ), (g...  \n",
       "1277  [(And, CC), (I, PRP), ('m, VBP), (the, DT), (o...  \n",
       "4340  [[(Hillary, NNP), (Rodham, NNP), (Clinton, NNP...  "
      ]
     },
     "execution_count": 26,
     "metadata": {},
     "output_type": "execute_result"
    }
   ],
   "source": [
    "master_rodham = get_trees_for(master_df, 'Hillary Clinton', 'Hillary Rodham Clinton')\n",
    "master_rodham"
   ]
  },
  {
   "cell_type": "markdown",
   "metadata": {},
   "source": [
    "**Interesting. Chris Christie is the only one to use Hillary Clinton's maiden name.**"
   ]
  },
  {
   "cell_type": "code",
   "execution_count": 27,
   "metadata": {},
   "outputs": [
    {
     "data": {
      "text/plain": [
       "{'Secretary Clinton': 'PROFESSIONAL', 'Hillary Clinton': 'FULL NAME', 'Hillary': 'FIRST NAME', 'Hillary Rodham Clinton': 'FULL NAME', 'Clinton': 'LAST NAME', 'Secretary Hillary Clinton': 'PROFESSIONAL', 'Mrs. Clinton': 'GENDERED', 'Madam Secretary': 'GENDERED', 'Hill': 'FIRST NAME', 'Senator Clinton': 'PROFESSIONAL', 'Hilary Clinton': 'FULL NAME'}"
      ]
     },
     "execution_count": 27,
     "metadata": {},
     "output_type": "execute_result"
    }
   ],
   "source": [
    "clinton_re_maps = {'Secretary Clinton': 'PROFESSIONAL', 'Hillary Clinton': \"FULL NAME\", 'Hillary': \"FIRST NAME\", 'Hillary Rodham Clinton': \"FULL NAME\", 'Clinton': \"LAST NAME\", 'Secretary Hillary Clinton': \"PROFESSIONAL\", 'Mrs. Clinton': \"GENDERED\", 'Madam Secretary': \"GENDERED\", 'Hill': \"FIRST NAME\", 'Senator Clinton': \"PROFESSIONAL\", 'Hilary Clinton': \"FULL NAME\"}\n",
    "clinton_re_maps"
   ]
  },
  {
   "cell_type": "code",
   "execution_count": 28,
   "metadata": {},
   "outputs": [
    {
     "data": {
      "text/plain": [
       "{'PROFESSIONAL': 600, 'FULL NAME': 314, 'FIRST NAME': 65, 'LAST NAME': 50, 'GENDERED': 18}"
      ]
     },
     "execution_count": 28,
     "metadata": {},
     "output_type": "execute_result"
    }
   ],
   "source": [
    "clinton_freq = get_re_type_freq(clinton_re_maps, master_REclinton_freq)\n",
    "clinton_freq"
   ]
  },
  {
   "cell_type": "markdown",
   "metadata": {},
   "source": [
    "**Let's do the same for Donald Trump and map his REs.**"
   ]
  },
  {
   "cell_type": "code",
   "execution_count": 29,
   "metadata": {},
   "outputs": [
    {
     "data": {
      "text/plain": [
       "{'Donald Trump', 'Mr. Trmup', 'Businessman Donald Trump', 'Mr. Trump', 'Senator Trump', 'President Trump', 'Donald', 'Donald J. Trump', 'Trump', 'Mr. Donald Trump'}"
      ]
     },
     "execution_count": 29,
     "metadata": {},
     "output_type": "execute_result"
    }
   ],
   "source": [
    "master_REtrump = get_RE_for_label(master_df['Tree'], 'Donald Trump')\n",
    "set(master_REtrump)"
   ]
  },
  {
   "cell_type": "code",
   "execution_count": 30,
   "metadata": {},
   "outputs": [
    {
     "data": {
      "text/plain": [
       "{'Businessman Donald Trump': 2, 'Mr. Trump': 458, 'Donald Trump': 176, 'Donald': 252, 'Donald J. Trump': 6, 'Trump': 47, 'President Trump': 4, 'Mr. Trmup': 1, 'Mr. Donald Trump': 3, 'Senator Trump': 1}"
      ]
     },
     "execution_count": 30,
     "metadata": {},
     "output_type": "execute_result"
    }
   ],
   "source": [
    "master_REtrump_freq = {re: master_REtrump.count(re) for re in master_REtrump}\n",
    "master_REtrump_freq"
   ]
  },
  {
   "cell_type": "markdown",
   "metadata": {},
   "source": [
    "**That Senator Trump is weird because Donald Trump was never a senator. Let's see what's up with that.**"
   ]
  },
  {
   "cell_type": "code",
   "execution_count": 31,
   "metadata": {},
   "outputs": [
    {
     "data": {
      "text/html": [
       "<div>\n",
       "<style>\n",
       "    .dataframe thead tr:only-child th {\n",
       "        text-align: right;\n",
       "    }\n",
       "\n",
       "    .dataframe thead th {\n",
       "        text-align: left;\n",
       "    }\n",
       "\n",
       "    .dataframe tbody tr th {\n",
       "        vertical-align: top;\n",
       "    }\n",
       "</style>\n",
       "<table border=\"1\" class=\"dataframe\">\n",
       "  <thead>\n",
       "    <tr style=\"text-align: right;\">\n",
       "      <th></th>\n",
       "      <th>Date</th>\n",
       "      <th>Debate Type</th>\n",
       "      <th>Speaker</th>\n",
       "      <th>Sents</th>\n",
       "      <th>Tree</th>\n",
       "    </tr>\n",
       "  </thead>\n",
       "  <tbody>\n",
       "    <tr>\n",
       "      <th>25524</th>\n",
       "      <td>3-10-16</td>\n",
       "      <td>primary_rep</td>\n",
       "      <td>HEWITT</td>\n",
       "      <td>Senator Trump...[crosstalk]</td>\n",
       "      <td>[[(Senator, NNP), (Trump, NNP)], (..., :), ([,...</td>\n",
       "    </tr>\n",
       "  </tbody>\n",
       "</table>\n",
       "</div>"
      ],
      "text/plain": [
       "          Date  Debate Type Speaker                         Sents  \\\n",
       "25524  3-10-16  primary_rep  HEWITT   Senator Trump...[crosstalk]   \n",
       "\n",
       "                                                    Tree  \n",
       "25524  [[(Senator, NNP), (Trump, NNP)], (..., :), ([,...  "
      ]
     },
     "execution_count": 31,
     "metadata": {},
     "output_type": "execute_result"
    }
   ],
   "source": [
    "master_sentrump = get_trees_for(master_df, 'Donald Trump', 'Senator Trump')\n",
    "master_sentrump"
   ]
  },
  {
   "cell_type": "code",
   "execution_count": 32,
   "metadata": {},
   "outputs": [
    {
     "data": {
      "text/html": [
       "<div>\n",
       "<style>\n",
       "    .dataframe thead tr:only-child th {\n",
       "        text-align: right;\n",
       "    }\n",
       "\n",
       "    .dataframe thead th {\n",
       "        text-align: left;\n",
       "    }\n",
       "\n",
       "    .dataframe tbody tr th {\n",
       "        vertical-align: top;\n",
       "    }\n",
       "</style>\n",
       "<table border=\"1\" class=\"dataframe\">\n",
       "  <thead>\n",
       "    <tr style=\"text-align: right;\">\n",
       "      <th></th>\n",
       "      <th>Date</th>\n",
       "      <th>Debate Type</th>\n",
       "      <th>Speaker</th>\n",
       "      <th>Sents</th>\n",
       "      <th>Tree</th>\n",
       "      <th>Entities</th>\n",
       "    </tr>\n",
       "  </thead>\n",
       "  <tbody>\n",
       "    <tr>\n",
       "      <th>25520</th>\n",
       "      <td>3-10-16</td>\n",
       "      <td>primary_rep</td>\n",
       "      <td>TRUMP</td>\n",
       "      <td>But I would like to at least have the other si...</td>\n",
       "      <td>[(But, CC), (I, PRP), (would, MD), (like, VB),...</td>\n",
       "      <td>[]</td>\n",
       "    </tr>\n",
       "    <tr>\n",
       "      <th>25521</th>\n",
       "      <td>3-10-16</td>\n",
       "      <td>primary_rep</td>\n",
       "      <td>TRUMP</td>\n",
       "      <td>Maybe we can get a deal.</td>\n",
       "      <td>[(Maybe, RB), (we, PRP), (can, MD), (get, VB),...</td>\n",
       "      <td>[]</td>\n",
       "    </tr>\n",
       "    <tr>\n",
       "      <th>25522</th>\n",
       "      <td>3-10-16</td>\n",
       "      <td>primary_rep</td>\n",
       "      <td>TRUMP</td>\n",
       "      <td>I think it's probably the toughest negotiation...</td>\n",
       "      <td>[(I, PRP), (think, VBP), (it, PRP), ('s, VBZ),...</td>\n",
       "      <td>[]</td>\n",
       "    </tr>\n",
       "    <tr>\n",
       "      <th>25523</th>\n",
       "      <td>3-10-16</td>\n",
       "      <td>primary_rep</td>\n",
       "      <td>TRUMP</td>\n",
       "      <td>But maybe we can get a deal done.</td>\n",
       "      <td>[(But, CC), (maybe, RB), (we, PRP), (can, MD),...</td>\n",
       "      <td>[]</td>\n",
       "    </tr>\n",
       "    <tr>\n",
       "      <th>25524</th>\n",
       "      <td>3-10-16</td>\n",
       "      <td>primary_rep</td>\n",
       "      <td>HEWITT</td>\n",
       "      <td>Senator Trump...[crosstalk]</td>\n",
       "      <td>[[(Senator, NNP), (Trump, NNP)], (..., :), ([,...</td>\n",
       "      <td>[Donald Trump]</td>\n",
       "    </tr>\n",
       "    <tr>\n",
       "      <th>25525</th>\n",
       "      <td>3-10-16</td>\n",
       "      <td>primary_rep</td>\n",
       "      <td>TRUMP</td>\n",
       "      <td>And, by the way, just so you understand, as f...</td>\n",
       "      <td>[(And, CC), (,, ,), (by, IN), (the, DT), (way,...</td>\n",
       "      <td>[]</td>\n",
       "    </tr>\n",
       "    <tr>\n",
       "      <th>25526</th>\n",
       "      <td>3-10-16</td>\n",
       "      <td>primary_rep</td>\n",
       "      <td>TRUMP</td>\n",
       "      <td>I think it's maybe the world deal I've ever seen.</td>\n",
       "      <td>[(I, PRP), (think, VBP), (it, PRP), ('s, VBZ),...</td>\n",
       "      <td>[]</td>\n",
       "    </tr>\n",
       "    <tr>\n",
       "      <th>25527</th>\n",
       "      <td>3-10-16</td>\n",
       "      <td>primary_rep</td>\n",
       "      <td>TRUMP</td>\n",
       "      <td>I think it's the worst deal I've ever seen neg...</td>\n",
       "      <td>[(I, PRP), (think, VBP), (it, PRP), ('s, VBZ),...</td>\n",
       "      <td>[]</td>\n",
       "    </tr>\n",
       "    <tr>\n",
       "      <th>25528</th>\n",
       "      <td>3-10-16</td>\n",
       "      <td>primary_rep</td>\n",
       "      <td>TRUMP</td>\n",
       "      <td>I will be so tough on them and ultimately that...</td>\n",
       "      <td>[(I, PRP), (will, MD), (be, VB), (so, RB), (to...</td>\n",
       "      <td>[]</td>\n",
       "    </tr>\n",
       "    <tr>\n",
       "      <th>25529</th>\n",
       "      <td>3-10-16</td>\n",
       "      <td>primary_rep</td>\n",
       "      <td>TRUMP</td>\n",
       "      <td>That deal will be broken.</td>\n",
       "      <td>[(That, DT), (deal, NN), (will, MD), (be, VB),...</td>\n",
       "      <td>[]</td>\n",
       "    </tr>\n",
       "    <tr>\n",
       "      <th>25530</th>\n",
       "      <td>3-10-16</td>\n",
       "      <td>primary_rep</td>\n",
       "      <td>HEWITT</td>\n",
       "      <td>Thank you Mr. Trump.</td>\n",
       "      <td>[(Thank, NNP), (you, PRP), [(Mr., NNP), (Trump...</td>\n",
       "      <td>[Donald Trump]</td>\n",
       "    </tr>\n",
       "  </tbody>\n",
       "</table>\n",
       "</div>"
      ],
      "text/plain": [
       "          Date  Debate Type Speaker  \\\n",
       "25520  3-10-16  primary_rep   TRUMP   \n",
       "25521  3-10-16  primary_rep   TRUMP   \n",
       "25522  3-10-16  primary_rep   TRUMP   \n",
       "25523  3-10-16  primary_rep   TRUMP   \n",
       "25524  3-10-16  primary_rep  HEWITT   \n",
       "25525  3-10-16  primary_rep   TRUMP   \n",
       "25526  3-10-16  primary_rep   TRUMP   \n",
       "25527  3-10-16  primary_rep   TRUMP   \n",
       "25528  3-10-16  primary_rep   TRUMP   \n",
       "25529  3-10-16  primary_rep   TRUMP   \n",
       "25530  3-10-16  primary_rep  HEWITT   \n",
       "\n",
       "                                                   Sents  \\\n",
       "25520  But I would like to at least have the other si...   \n",
       "25521                           Maybe we can get a deal.   \n",
       "25522  I think it's probably the toughest negotiation...   \n",
       "25523                  But maybe we can get a deal done.   \n",
       "25524                        Senator Trump...[crosstalk]   \n",
       "25525   And, by the way, just so you understand, as f...   \n",
       "25526  I think it's maybe the world deal I've ever seen.   \n",
       "25527  I think it's the worst deal I've ever seen neg...   \n",
       "25528  I will be so tough on them and ultimately that...   \n",
       "25529                          That deal will be broken.   \n",
       "25530                               Thank you Mr. Trump.   \n",
       "\n",
       "                                                    Tree        Entities  \n",
       "25520  [(But, CC), (I, PRP), (would, MD), (like, VB),...              []  \n",
       "25521  [(Maybe, RB), (we, PRP), (can, MD), (get, VB),...              []  \n",
       "25522  [(I, PRP), (think, VBP), (it, PRP), ('s, VBZ),...              []  \n",
       "25523  [(But, CC), (maybe, RB), (we, PRP), (can, MD),...              []  \n",
       "25524  [[(Senator, NNP), (Trump, NNP)], (..., :), ([,...  [Donald Trump]  \n",
       "25525  [(And, CC), (,, ,), (by, IN), (the, DT), (way,...              []  \n",
       "25526  [(I, PRP), (think, VBP), (it, PRP), ('s, VBZ),...              []  \n",
       "25527  [(I, PRP), (think, VBP), (it, PRP), ('s, VBZ),...              []  \n",
       "25528  [(I, PRP), (will, MD), (be, VB), (so, RB), (to...              []  \n",
       "25529  [(That, DT), (deal, NN), (will, MD), (be, VB),...              []  \n",
       "25530  [(Thank, NNP), (you, PRP), [(Mr., NNP), (Trump...  [Donald Trump]  "
      ]
     },
     "execution_count": 32,
     "metadata": {},
     "output_type": "execute_result"
    }
   ],
   "source": [
    "master_df.loc[25520:25530][:]"
   ]
  },
  {
   "cell_type": "markdown",
   "metadata": {},
   "source": [
    "**Looks like it wasn't a tagging mistake. It was a slip of the tongue.**"
   ]
  },
  {
   "cell_type": "code",
   "execution_count": 33,
   "metadata": {},
   "outputs": [
    {
     "data": {
      "text/plain": [
       "10"
      ]
     },
     "execution_count": 33,
     "metadata": {},
     "output_type": "execute_result"
    }
   ],
   "source": [
    "len(master_REtrump_freq)"
   ]
  },
  {
   "cell_type": "markdown",
   "metadata": {},
   "source": [
    "**The length of this dictionary is 10, but since one of these keys 'Mr. Trmup', is just a typo, we will say Donald Trump is only referred to in 9 different ways throughout this entire corpus. There is only one more RE for Clinton than there are for Trump. I expected there to be more variation in the ways speakers refer to Clinton because she has had many different titles over the course of her career (Senator, Secretary, First Lady), she has a maiden name, and there are two common titles to refer to married women (Ms. and Mrs.) as opposed to one title for men (Mr.). ****"
   ]
  },
  {
   "cell_type": "markdown",
   "metadata": {},
   "source": [
    "**The line between professional title and gendered title gets a little fuzzy with Donald Trump because of his lack of political experience. His professional title is simply Mr., which is inherently gendered. I have decided to define Mr. as professional in this case because of a lack of any other term.**"
   ]
  },
  {
   "cell_type": "code",
   "execution_count": 34,
   "metadata": {},
   "outputs": [
    {
     "data": {
      "text/plain": [
       "{'Businessman Donald Trump': 'PROFESSIONAL', 'Mr. Trump': 'PROFESSIONAL', 'Donald Trump': 'FULL NAME', 'Donald': 'FIRST NAME', 'Donald J. Trump': 'FULL NAME', 'Trump': 'LAST NAME', 'President Trump': 'PROFESSIONAL', 'Mr. Trmup': 'PROFESSIONAL', 'Mr. Donald Trump': 'PROFESSIONAL', 'Senator Trump': 'PROFESSIONAL'}"
      ]
     },
     "execution_count": 34,
     "metadata": {},
     "output_type": "execute_result"
    }
   ],
   "source": [
    "trump_re_maps = {'Businessman Donald Trump': 'PROFESSIONAL', 'Mr. Trump': 'PROFESSIONAL', 'Donald Trump': 'FULL NAME', 'Donald': 'FIRST NAME', 'Donald J. Trump': 'FULL NAME', 'Trump': 'LAST NAME', 'President Trump': 'PROFESSIONAL', 'Mr. Trmup': 'PROFESSIONAL', 'Mr. Donald Trump': 'PROFESSIONAL', 'Senator Trump': 'PROFESSIONAL'}\n",
    "trump_re_maps"
   ]
  },
  {
   "cell_type": "code",
   "execution_count": 35,
   "metadata": {},
   "outputs": [
    {
     "data": {
      "text/plain": [
       "{'PROFESSIONAL': 469, 'FULL NAME': 182, 'FIRST NAME': 252, 'LAST NAME': 47}"
      ]
     },
     "execution_count": 35,
     "metadata": {},
     "output_type": "execute_result"
    }
   ],
   "source": [
    "trump_freq = get_re_type_freq(trump_re_maps, master_REtrump_freq)\n",
    "trump_freq"
   ]
  },
  {
   "cell_type": "markdown",
   "metadata": {},
   "source": [
    "**Let's do the same for Carly Fiorina since she is the only other female candidate and she also does not have a political title, and then for all of the candidates who made it to the last primary debate.**"
   ]
  },
  {
   "cell_type": "markdown",
   "metadata": {},
   "source": [
    "#### Carly Fiorina"
   ]
  },
  {
   "cell_type": "code",
   "execution_count": 36,
   "metadata": {},
   "outputs": [
    {
     "data": {
      "text/plain": [
       "{'Mrs. Fiorina', 'Carly', 'Fiorina', 'President Fiorina', 'Businesswoman Carly Fiorina', 'Carly Fiorina'}"
      ]
     },
     "execution_count": 36,
     "metadata": {},
     "output_type": "execute_result"
    }
   ],
   "source": [
    "master_REfiorina = get_RE_for_label(master_df['Tree'], 'Carly Fiorina')\n",
    "set(master_REfiorina)"
   ]
  },
  {
   "cell_type": "code",
   "execution_count": 37,
   "metadata": {},
   "outputs": [
    {
     "data": {
      "text/plain": [
       "{'Carly Fiorina': 17, 'Mrs. Fiorina': 17, 'Fiorina': 38, 'Businesswoman Carly Fiorina': 1, 'Carly': 10, 'President Fiorina': 2}"
      ]
     },
     "execution_count": 37,
     "metadata": {},
     "output_type": "execute_result"
    }
   ],
   "source": [
    "master_REfiorina_freq = {re: master_REfiorina.count(re) for re in master_REfiorina}\n",
    "master_REfiorina_freq"
   ]
  },
  {
   "cell_type": "code",
   "execution_count": 38,
   "metadata": {},
   "outputs": [
    {
     "data": {
      "text/plain": [
       "{'Carly Fiorina': 'FULL NAME', 'Mrs. Fiorina': 'PROFESSIONAL', 'Fiorina': 'LAST NAME', 'Businesswoman Carly Fiorina': 'PROFESSIONAL', 'Carly': 'FIRST NAME', 'President Fiorina': 'PROFESSIONAL'}"
      ]
     },
     "execution_count": 38,
     "metadata": {},
     "output_type": "execute_result"
    }
   ],
   "source": [
    "fiorina_re_maps = {'Carly Fiorina': \"FULL NAME\", 'Mrs. Fiorina': \"PROFESSIONAL\", 'Fiorina': \"LAST NAME\", 'Businesswoman Carly Fiorina': \"PROFESSIONAL\", 'Carly': \"FIRST NAME\", 'President Fiorina': \"PROFESSIONAL\"}\n",
    "fiorina_re_maps"
   ]
  },
  {
   "cell_type": "code",
   "execution_count": 39,
   "metadata": {},
   "outputs": [
    {
     "data": {
      "text/plain": [
       "{'FULL NAME': 17, 'PROFESSIONAL': 20, 'LAST NAME': 38, 'FIRST NAME': 10}"
      ]
     },
     "execution_count": 39,
     "metadata": {},
     "output_type": "execute_result"
    }
   ],
   "source": [
    "fiorina_freq = get_re_type_freq(fiorina_re_maps, master_REfiorina_freq)\n",
    "fiorina_freq"
   ]
  },
  {
   "cell_type": "markdown",
   "metadata": {},
   "source": [
    "#### Bernie Sanders"
   ]
  },
  {
   "cell_type": "code",
   "execution_count": 40,
   "metadata": {},
   "outputs": [
    {
     "data": {
      "text/plain": [
       "{'Governor Sanders', 'Bernie', 'Senator Bernie Sanders', 'President Sanders', 'Senator Sanders', 'Vermont Bernie Sanders', 'Secretary Sanders', 'Sanders', 'Senator Sander', 'Bernie Sanders'}"
      ]
     },
     "execution_count": 40,
     "metadata": {},
     "output_type": "execute_result"
    }
   ],
   "source": [
    "master_REsanders = get_RE_for_label(master_df['Tree'], 'Bernie Sanders')\n",
    "set(master_REsanders)"
   ]
  },
  {
   "cell_type": "code",
   "execution_count": 41,
   "metadata": {},
   "outputs": [
    {
     "data": {
      "text/plain": [
       "{'Senator Bernie Sanders': 8, 'Bernie': 13, 'Bernie Sanders': 61, 'Senator Sanders': 418, 'Governor Sanders': 1, 'Sanders': 21, 'President Sanders': 8, 'Secretary Sanders': 3, 'Senator Sander': 1, 'Vermont Bernie Sanders': 1}"
      ]
     },
     "execution_count": 41,
     "metadata": {},
     "output_type": "execute_result"
    }
   ],
   "source": [
    "master_REsanders_freq = {re: master_REsanders.count(re) for re in master_REsanders}\n",
    "master_REsanders_freq"
   ]
  },
  {
   "cell_type": "code",
   "execution_count": 42,
   "metadata": {},
   "outputs": [
    {
     "data": {
      "text/plain": [
       "{'Senator Bernie Sanders': 'PROFESSIONAL', 'Bernie': 'FIRST NAME', 'Bernie Sanders': 'FULL NAME', 'Senator Sanders': 'PROFESSIONAL', 'Governor Sanders': 'PROFESSIONAL', 'Sanders': 'LAST NAME', 'President Sanders': 'PROFESSIONAL', 'Secretary Sanders': 'PROFESSIONAL', 'Senator Sander': 'PROFESSIONAL', 'Vermont Bernie Sanders': 'PROFESSIONAL'}"
      ]
     },
     "execution_count": 42,
     "metadata": {},
     "output_type": "execute_result"
    }
   ],
   "source": [
    "#There are some REs in here that are typos, and some where people just used incorrect titles (Secretary Sanders)\n",
    "#We are still going to map those to professional\n",
    "sanders_re_maps = {'Senator Bernie Sanders': \"PROFESSIONAL\", 'Bernie': \"FIRST NAME\", 'Bernie Sanders': \"FULL NAME\", 'Senator Sanders': \"PROFESSIONAL\", 'Governor Sanders': \"PROFESSIONAL\", 'Sanders': \"LAST NAME\", 'President Sanders': \"PROFESSIONAL\", 'Secretary Sanders': \"PROFESSIONAL\", 'Senator Sander': \"PROFESSIONAL\", 'Vermont Bernie Sanders': \"PROFESSIONAL\"}\n",
    "sanders_re_maps"
   ]
  },
  {
   "cell_type": "code",
   "execution_count": 43,
   "metadata": {},
   "outputs": [
    {
     "data": {
      "text/plain": [
       "{'PROFESSIONAL': 440, 'FIRST NAME': 13, 'FULL NAME': 61, 'LAST NAME': 21}"
      ]
     },
     "execution_count": 43,
     "metadata": {},
     "output_type": "execute_result"
    }
   ],
   "source": [
    "sanders_freq = get_re_type_freq(sanders_re_maps, master_REsanders_freq)\n",
    "sanders_freq"
   ]
  },
  {
   "cell_type": "markdown",
   "metadata": {},
   "source": [
    "#### Marco Rubio"
   ]
  },
  {
   "cell_type": "code",
   "execution_count": 44,
   "metadata": {},
   "outputs": [
    {
     "data": {
      "text/plain": [
       "{'Florida Senator Marco Rubio', 'Senator Marco Rubio', 'Senator Rubio', 'Florida Senator', 'Marco', 'Rubio', 'President Rubio', 'Marco Rubio', 'Mr. Rubio'}"
      ]
     },
     "execution_count": 44,
     "metadata": {},
     "output_type": "execute_result"
    }
   ],
   "source": [
    "master_RErubio = get_RE_for_label(master_df['Tree'], 'Marco Rubio')\n",
    "set(master_RErubio)"
   ]
  },
  {
   "cell_type": "code",
   "execution_count": 45,
   "metadata": {},
   "outputs": [
    {
     "data": {
      "text/plain": [
       "{'Marco Rubio': 17, 'Senator Rubio': 224, 'Marco': 84, 'Senator Marco Rubio': 14, 'Florida Senator Marco Rubio': 2, 'Rubio': 5, 'Mr. Rubio': 2, 'Florida Senator': 1, 'President Rubio': 1}"
      ]
     },
     "execution_count": 45,
     "metadata": {},
     "output_type": "execute_result"
    }
   ],
   "source": [
    "master_RErubio_freq = {re: master_RErubio.count(re) for re in master_RErubio}\n",
    "master_RErubio_freq"
   ]
  },
  {
   "cell_type": "code",
   "execution_count": 46,
   "metadata": {},
   "outputs": [
    {
     "data": {
      "text/plain": [
       "{'Marco Rubio': 'FULL NAME', 'Senator Rubio': 'PROFESSIONAL', 'Marco': 'FIRST NAME', 'Senator Marco Rubio': 'PROFESSIONAL', 'Florida Senator Marco Rubio': 'PROFESSIONAL', 'Rubio': 'LAST NAME', 'Mr. Rubio': 'GENDERED', 'Florida Senator': 'PROFESSIONAL', 'President Rubio': 'PROFESSIONAL'}"
      ]
     },
     "execution_count": 46,
     "metadata": {},
     "output_type": "execute_result"
    }
   ],
   "source": [
    "rubio_re_maps = {'Marco Rubio': \"FULL NAME\", 'Senator Rubio': \"PROFESSIONAL\", 'Marco': \"FIRST NAME\", 'Senator Marco Rubio': \"PROFESSIONAL\", 'Florida Senator Marco Rubio': \"PROFESSIONAL\", 'Rubio': \"LAST NAME\", 'Mr. Rubio': \"GENDERED\", 'Florida Senator': \"PROFESSIONAL\", 'President Rubio': \"PROFESSIONAL\"}\n",
    "rubio_re_maps"
   ]
  },
  {
   "cell_type": "code",
   "execution_count": 47,
   "metadata": {},
   "outputs": [
    {
     "data": {
      "text/plain": [
       "{'FULL NAME': 17, 'PROFESSIONAL': 242, 'FIRST NAME': 84, 'LAST NAME': 5, 'GENDERED': 2}"
      ]
     },
     "execution_count": 47,
     "metadata": {},
     "output_type": "execute_result"
    }
   ],
   "source": [
    "rubio_freq = get_re_type_freq(rubio_re_maps, master_RErubio_freq)\n",
    "rubio_freq"
   ]
  },
  {
   "cell_type": "markdown",
   "metadata": {},
   "source": [
    "#### Ted Cruz"
   ]
  },
  {
   "cell_type": "code",
   "execution_count": 48,
   "metadata": {},
   "outputs": [
    {
     "data": {
      "text/plain": [
       "{'Texas Senator Ted Cruz', 'Ted Cruz', 'Ted', 'Senator Cruz', 'President Cruz', 'Cruz', 'Mr. Cruz', 'Senator Ted Cruz', 'Lyin', 'Texas Senator'}"
      ]
     },
     "execution_count": 48,
     "metadata": {},
     "output_type": "execute_result"
    }
   ],
   "source": [
    "master_REcruz = get_RE_for_label(master_df['Tree'], 'Ted Cruz')\n",
    "set(master_REcruz)"
   ]
  },
  {
   "cell_type": "code",
   "execution_count": 49,
   "metadata": {},
   "outputs": [
    {
     "data": {
      "text/plain": [
       "{'Ted Cruz': 34, 'Senator Cruz': 209, 'Ted': 58, 'Cruz': 9, 'Texas Senator Ted Cruz': 2, 'Mr. Cruz': 2, 'Texas Senator': 1, 'Lyin': 2, 'President Cruz': 1, 'Senator Ted Cruz': 1}"
      ]
     },
     "execution_count": 49,
     "metadata": {},
     "output_type": "execute_result"
    }
   ],
   "source": [
    "master_REcruz_freq = {re: master_REcruz.count(re) for re in master_REcruz}\n",
    "master_REcruz_freq"
   ]
  },
  {
   "cell_type": "code",
   "execution_count": 50,
   "metadata": {},
   "outputs": [
    {
     "data": {
      "text/plain": [
       "{'Ted Cruz': 'FULL NAME', 'Senator Cruz': 'PROFESSIONAL', 'Ted': 'FIRST NAME', 'Cruz': 'LAST NAME', 'Texas Senator Ted Cruz': 'PROFESSIONAL', 'Mr. Cruz': 'GENDERED', 'Texas Senator': 'PROFESSIONAL', 'Lyin': 'NAMECALLING', 'President Cruz': 'PROFESSIONAL', 'Senator Ted Cruz': 'PROFESSIONAL'}"
      ]
     },
     "execution_count": 50,
     "metadata": {},
     "output_type": "execute_result"
    }
   ],
   "source": [
    "cruz_re_maps = {'Ted Cruz': 'FULL NAME', 'Senator Cruz': \"PROFESSIONAL\", 'Ted': \"FIRST NAME\", 'Cruz': \"LAST NAME\", 'Texas Senator Ted Cruz': \"PROFESSIONAL\", 'Mr. Cruz': \"GENDERED\", 'Texas Senator': \"PROFESSIONAL\", 'Lyin': \"NAMECALLING\", 'President Cruz': \"PROFESSIONAL\", 'Senator Ted Cruz': \"PROFESSIONAL\"}\n",
    "cruz_re_maps"
   ]
  },
  {
   "cell_type": "code",
   "execution_count": 51,
   "metadata": {},
   "outputs": [
    {
     "data": {
      "text/plain": [
       "{'FULL NAME': 34, 'PROFESSIONAL': 214, 'FIRST NAME': 58, 'LAST NAME': 9, 'GENDERED': 2, 'NAMECALLING': 2}"
      ]
     },
     "execution_count": 51,
     "metadata": {},
     "output_type": "execute_result"
    }
   ],
   "source": [
    "cruz_freq = get_re_type_freq(cruz_re_maps, master_REcruz_freq)\n",
    "cruz_freq"
   ]
  },
  {
   "cell_type": "markdown",
   "metadata": {},
   "source": [
    "**We are going to exclude John Kasich from this analysis because there were issues discerning whether \"John\" referred to John Kasich or one of the many other Johns, including moderator John Harwood, while tagging.**"
   ]
  },
  {
   "cell_type": "code",
   "execution_count": 52,
   "metadata": {},
   "outputs": [
    {
     "data": {
      "text/html": [
       "<div>\n",
       "<style>\n",
       "    .dataframe thead tr:only-child th {\n",
       "        text-align: right;\n",
       "    }\n",
       "\n",
       "    .dataframe thead th {\n",
       "        text-align: left;\n",
       "    }\n",
       "\n",
       "    .dataframe tbody tr th {\n",
       "        vertical-align: top;\n",
       "    }\n",
       "</style>\n",
       "<table border=\"1\" class=\"dataframe\">\n",
       "  <thead>\n",
       "    <tr style=\"text-align: right;\">\n",
       "      <th></th>\n",
       "      <th>FIRST NAME</th>\n",
       "      <th>FULL NAME</th>\n",
       "      <th>GENDERED</th>\n",
       "      <th>LAST NAME</th>\n",
       "      <th>NAMECALLING</th>\n",
       "      <th>PROFESSIONAL</th>\n",
       "    </tr>\n",
       "  </thead>\n",
       "  <tbody>\n",
       "    <tr>\n",
       "      <th>CLINTON</th>\n",
       "      <td>65</td>\n",
       "      <td>314</td>\n",
       "      <td>18.0</td>\n",
       "      <td>50</td>\n",
       "      <td>0.0</td>\n",
       "      <td>600</td>\n",
       "    </tr>\n",
       "    <tr>\n",
       "      <th>TRUMP</th>\n",
       "      <td>252</td>\n",
       "      <td>182</td>\n",
       "      <td>0.0</td>\n",
       "      <td>47</td>\n",
       "      <td>0.0</td>\n",
       "      <td>469</td>\n",
       "    </tr>\n",
       "    <tr>\n",
       "      <th>SANDERS</th>\n",
       "      <td>13</td>\n",
       "      <td>61</td>\n",
       "      <td>0.0</td>\n",
       "      <td>21</td>\n",
       "      <td>0.0</td>\n",
       "      <td>440</td>\n",
       "    </tr>\n",
       "    <tr>\n",
       "      <th>FIORINA</th>\n",
       "      <td>10</td>\n",
       "      <td>17</td>\n",
       "      <td>0.0</td>\n",
       "      <td>38</td>\n",
       "      <td>0.0</td>\n",
       "      <td>20</td>\n",
       "    </tr>\n",
       "    <tr>\n",
       "      <th>CRUZ</th>\n",
       "      <td>58</td>\n",
       "      <td>34</td>\n",
       "      <td>2.0</td>\n",
       "      <td>9</td>\n",
       "      <td>2.0</td>\n",
       "      <td>214</td>\n",
       "    </tr>\n",
       "    <tr>\n",
       "      <th>RUBIO</th>\n",
       "      <td>84</td>\n",
       "      <td>17</td>\n",
       "      <td>2.0</td>\n",
       "      <td>5</td>\n",
       "      <td>0.0</td>\n",
       "      <td>242</td>\n",
       "    </tr>\n",
       "  </tbody>\n",
       "</table>\n",
       "</div>"
      ],
      "text/plain": [
       "         FIRST NAME  FULL NAME  GENDERED  LAST NAME  NAMECALLING  PROFESSIONAL\n",
       "CLINTON          65        314      18.0         50          0.0           600\n",
       "TRUMP           252        182       0.0         47          0.0           469\n",
       "SANDERS          13         61       0.0         21          0.0           440\n",
       "FIORINA          10         17       0.0         38          0.0            20\n",
       "CRUZ             58         34       2.0          9          2.0           214\n",
       "RUBIO            84         17       2.0          5          0.0           242"
      ]
     },
     "execution_count": 52,
     "metadata": {},
     "output_type": "execute_result"
    }
   ],
   "source": [
    "distribution = pd.DataFrame([clinton_freq, trump_freq, sanders_freq, fiorina_freq, cruz_freq, rubio_freq], index = ['CLINTON', 'TRUMP', 'SANDERS', 'FIORINA', 'CRUZ', 'RUBIO'])\n",
    "distribution.fillna(0, inplace=True)\n",
    "distribution.head(6)"
   ]
  },
  {
   "cell_type": "code",
   "execution_count": 53,
   "metadata": {},
   "outputs": [
    {
     "data": {
      "text/html": [
       "<div>\n",
       "<style>\n",
       "    .dataframe thead tr:only-child th {\n",
       "        text-align: right;\n",
       "    }\n",
       "\n",
       "    .dataframe thead th {\n",
       "        text-align: left;\n",
       "    }\n",
       "\n",
       "    .dataframe tbody tr th {\n",
       "        vertical-align: top;\n",
       "    }\n",
       "</style>\n",
       "<table border=\"1\" class=\"dataframe\">\n",
       "  <thead>\n",
       "    <tr style=\"text-align: right;\">\n",
       "      <th></th>\n",
       "      <th>FIRST NAME</th>\n",
       "      <th>FULL NAME</th>\n",
       "      <th>GENDERED</th>\n",
       "      <th>LAST NAME</th>\n",
       "      <th>NAMECALLING</th>\n",
       "      <th>PROFESSIONAL</th>\n",
       "      <th>TOTAL</th>\n",
       "    </tr>\n",
       "  </thead>\n",
       "  <tbody>\n",
       "    <tr>\n",
       "      <th>CLINTON</th>\n",
       "      <td>65</td>\n",
       "      <td>314</td>\n",
       "      <td>18.0</td>\n",
       "      <td>50</td>\n",
       "      <td>0.0</td>\n",
       "      <td>600</td>\n",
       "      <td>1047.0</td>\n",
       "    </tr>\n",
       "    <tr>\n",
       "      <th>TRUMP</th>\n",
       "      <td>252</td>\n",
       "      <td>182</td>\n",
       "      <td>0.0</td>\n",
       "      <td>47</td>\n",
       "      <td>0.0</td>\n",
       "      <td>469</td>\n",
       "      <td>950.0</td>\n",
       "    </tr>\n",
       "    <tr>\n",
       "      <th>SANDERS</th>\n",
       "      <td>13</td>\n",
       "      <td>61</td>\n",
       "      <td>0.0</td>\n",
       "      <td>21</td>\n",
       "      <td>0.0</td>\n",
       "      <td>440</td>\n",
       "      <td>535.0</td>\n",
       "    </tr>\n",
       "    <tr>\n",
       "      <th>FIORINA</th>\n",
       "      <td>10</td>\n",
       "      <td>17</td>\n",
       "      <td>0.0</td>\n",
       "      <td>38</td>\n",
       "      <td>0.0</td>\n",
       "      <td>20</td>\n",
       "      <td>85.0</td>\n",
       "    </tr>\n",
       "    <tr>\n",
       "      <th>CRUZ</th>\n",
       "      <td>58</td>\n",
       "      <td>34</td>\n",
       "      <td>2.0</td>\n",
       "      <td>9</td>\n",
       "      <td>2.0</td>\n",
       "      <td>214</td>\n",
       "      <td>319.0</td>\n",
       "    </tr>\n",
       "    <tr>\n",
       "      <th>RUBIO</th>\n",
       "      <td>84</td>\n",
       "      <td>17</td>\n",
       "      <td>2.0</td>\n",
       "      <td>5</td>\n",
       "      <td>0.0</td>\n",
       "      <td>242</td>\n",
       "      <td>350.0</td>\n",
       "    </tr>\n",
       "  </tbody>\n",
       "</table>\n",
       "</div>"
      ],
      "text/plain": [
       "         FIRST NAME  FULL NAME  GENDERED  LAST NAME  NAMECALLING  \\\n",
       "CLINTON          65        314      18.0         50          0.0   \n",
       "TRUMP           252        182       0.0         47          0.0   \n",
       "SANDERS          13         61       0.0         21          0.0   \n",
       "FIORINA          10         17       0.0         38          0.0   \n",
       "CRUZ             58         34       2.0          9          2.0   \n",
       "RUBIO            84         17       2.0          5          0.0   \n",
       "\n",
       "         PROFESSIONAL   TOTAL  \n",
       "CLINTON           600  1047.0  \n",
       "TRUMP             469   950.0  \n",
       "SANDERS           440   535.0  \n",
       "FIORINA            20    85.0  \n",
       "CRUZ              214   319.0  \n",
       "RUBIO             242   350.0  "
      ]
     },
     "execution_count": 53,
     "metadata": {},
     "output_type": "execute_result"
    }
   ],
   "source": [
    "import numpy as np\n",
    "distribution['TOTAL']=distribution.sum(axis=1)\n",
    "distribution.head(6)"
   ]
  },
  {
   "cell_type": "code",
   "execution_count": 54,
   "metadata": {},
   "outputs": [
    {
     "data": {
      "text/html": [
       "<div>\n",
       "<style>\n",
       "    .dataframe thead tr:only-child th {\n",
       "        text-align: right;\n",
       "    }\n",
       "\n",
       "    .dataframe thead th {\n",
       "        text-align: left;\n",
       "    }\n",
       "\n",
       "    .dataframe tbody tr th {\n",
       "        vertical-align: top;\n",
       "    }\n",
       "</style>\n",
       "<table border=\"1\" class=\"dataframe\">\n",
       "  <thead>\n",
       "    <tr style=\"text-align: right;\">\n",
       "      <th></th>\n",
       "      <th>FIRST NAME</th>\n",
       "      <th>FULL NAME</th>\n",
       "      <th>GENDERED</th>\n",
       "      <th>LAST NAME</th>\n",
       "      <th>NAMECALLING</th>\n",
       "      <th>PROFESSIONAL</th>\n",
       "    </tr>\n",
       "  </thead>\n",
       "  <tbody>\n",
       "    <tr>\n",
       "      <th>CLINTON</th>\n",
       "      <td>6.208214</td>\n",
       "      <td>29.990449</td>\n",
       "      <td>1.719198</td>\n",
       "      <td>4.775549</td>\n",
       "      <td>0.000000</td>\n",
       "      <td>57.306590</td>\n",
       "    </tr>\n",
       "    <tr>\n",
       "      <th>TRUMP</th>\n",
       "      <td>26.526316</td>\n",
       "      <td>19.157895</td>\n",
       "      <td>0.000000</td>\n",
       "      <td>4.947368</td>\n",
       "      <td>0.000000</td>\n",
       "      <td>49.368421</td>\n",
       "    </tr>\n",
       "    <tr>\n",
       "      <th>SANDERS</th>\n",
       "      <td>2.429907</td>\n",
       "      <td>11.401869</td>\n",
       "      <td>0.000000</td>\n",
       "      <td>3.925234</td>\n",
       "      <td>0.000000</td>\n",
       "      <td>82.242991</td>\n",
       "    </tr>\n",
       "    <tr>\n",
       "      <th>FIORINA</th>\n",
       "      <td>11.764706</td>\n",
       "      <td>20.000000</td>\n",
       "      <td>0.000000</td>\n",
       "      <td>44.705882</td>\n",
       "      <td>0.000000</td>\n",
       "      <td>23.529412</td>\n",
       "    </tr>\n",
       "    <tr>\n",
       "      <th>CRUZ</th>\n",
       "      <td>18.181818</td>\n",
       "      <td>10.658307</td>\n",
       "      <td>0.626959</td>\n",
       "      <td>2.821317</td>\n",
       "      <td>0.626959</td>\n",
       "      <td>67.084639</td>\n",
       "    </tr>\n",
       "    <tr>\n",
       "      <th>RUBIO</th>\n",
       "      <td>24.000000</td>\n",
       "      <td>4.857143</td>\n",
       "      <td>0.571429</td>\n",
       "      <td>1.428571</td>\n",
       "      <td>0.000000</td>\n",
       "      <td>69.142857</td>\n",
       "    </tr>\n",
       "  </tbody>\n",
       "</table>\n",
       "</div>"
      ],
      "text/plain": [
       "         FIRST NAME  FULL NAME  GENDERED  LAST NAME  NAMECALLING  PROFESSIONAL\n",
       "CLINTON    6.208214  29.990449  1.719198   4.775549     0.000000     57.306590\n",
       "TRUMP     26.526316  19.157895  0.000000   4.947368     0.000000     49.368421\n",
       "SANDERS    2.429907  11.401869  0.000000   3.925234     0.000000     82.242991\n",
       "FIORINA   11.764706  20.000000  0.000000  44.705882     0.000000     23.529412\n",
       "CRUZ      18.181818  10.658307  0.626959   2.821317     0.626959     67.084639\n",
       "RUBIO     24.000000   4.857143  0.571429   1.428571     0.000000     69.142857"
      ]
     },
     "execution_count": 54,
     "metadata": {},
     "output_type": "execute_result"
    }
   ],
   "source": [
    "#Get the percentage of each type of RE for each candidate.\n",
    "distribution['FIRST NAME'] = distribution['FIRST NAME']/distribution['TOTAL']*100\n",
    "distribution['FULL NAME'] = distribution['FULL NAME']/distribution['TOTAL']*100\n",
    "distribution['GENDERED'] = distribution['GENDERED']/distribution['TOTAL']*100\n",
    "distribution['LAST NAME'] = distribution['LAST NAME']/distribution['TOTAL']*100\n",
    "distribution['NAMECALLING'] = distribution['NAMECALLING']/distribution['TOTAL']*100\n",
    "distribution['PROFESSIONAL'] = distribution['PROFESSIONAL']/distribution['TOTAL']*100\n",
    "del distribution['TOTAL']\n",
    "distribution.head(6)"
   ]
  },
  {
   "cell_type": "code",
   "execution_count": 55,
   "metadata": {},
   "outputs": [
    {
     "data": {
      "image/png": "[encoded data removed]",
      "text/plain": [
       "<matplotlib.figure.Figure object at 0x120628e48>"
      ]
     },
     "metadata": {},
     "output_type": "display_data"
    }
   ],
   "source": [
    "plt.style.use('fivethirtyeight')\n",
    "distribution.plot(kind='bar', figsize=(15,6))\n",
    "plt.xlabel('CANDIDATE')\n",
    "plt.ylabel('% of RE')\n",
    "plt.title('OVERALL DISTRIBUTION OF RE')\n",
    "plt.show()\n",
    "#Why are there two?"
   ]
  },
  {
   "cell_type": "markdown",
   "metadata": {},
   "source": [
    "### Some Conclusions\n",
    "**The person who is referred to by their full name the most often is Hillary Clinton. The person who is referred to by their first name the most often is Donald Trump. The person who is referred to by a professional title the most often is Bernie Sanders. Every candidate is referred to by a professional title more ofthen than any other type of RE except for Carly Fiorina, who is mostly referred to by her last name. Hillary Clinton is referred to by a professional title more often than Donald Trump, but less often than Bernie Sanders, Ted Cruz, and Marco Rubio.**"
   ]
  },
  {
   "cell_type": "markdown",
   "metadata": {},
   "source": [
    "### Some Questions\n",
    "**What does it mean to call someone by their professional title vs their first name? What does the choice of using a first name/full name instead of a title mean? Is the distribution in type of RE for each candidate different depending on who is referring to/addressing them? Is this distribution different when a candidate is being referred to as opposed to addressed?**\n",
    "\n",
    "**Let's look at some individual speakers now.**"
   ]
  },
  {
   "cell_type": "code",
   "execution_count": 56,
   "metadata": {},
   "outputs": [
    {
     "data": {
      "text/plain": [
       "{'Trump': 15, 'Cruz': 1, 'Ted': 29, 'Neil': 4, 'Nikki': 4, 'Jeb': 34, 'Barack Obama': 12, 'Donald': 2, 'President Obama': 26, 'Carl': 4, 'Marco': 16, 'Maria': 2, 'Ivanka': 3, 'Eric': 2, 'Don': 2, 'Hillary': 42, 'Hillary Clinton': 33, 'Chris': 18, 'Obama': 15, 'Putin': 26, 'Podesta': 1, 'Bernie Sanders': 10, 'John Podesta': 1, 'Assad': 21, 'Ronald Reagan': 11, 'John': 3, 'Ben': 8, 'Bill Clinton': 2, 'President Clinton': 1, 'Michelle Obama': 2, 'Deborah Wasserman Schultz': 2, 'Anderson': 3, 'Captain Khan': 1, 'Abraham Lincoln': 3, 'Honest Abe': 2, 'Warren': 1, 'Donald Trump': 9, 'Clinton': 2, 'Gadhafi': 4, 'Kerry': 2, 'Scalia': 1, 'Dwight Eisenhower': 3, 'Mr. Trump': 6, 'Wolf': 2, 'Lindsey Graham': 2, 'Jeb Bush': 4, 'Governor Bush': 1, 'Mister': 1, 'Santorum': 1, 'Governor Huckabee': 1, 'Mitch McConnell': 1, 'Bush': 3, 'George Bush': 4, 'Chris Christie': 3, 'Ben Carson': 7, 'Ted Cruz': 3, 'Sheriff Joe Arpaio': 3, 'Mitt Romney': 5, 'Robin Hood': 2, 'Anderson Cooper': 2, 'Bill': 2, 'Saddam Hussein': 1, 'John Kerry': 2, 'Dr. Ben Carson': 1, 'Senator Rubio': 1, 'Tip': 2, 'Jake': 4, 'Sheriff Joe': 1, 'Jeff Sessions': 1, 'Senator Jeff Sessions': 1, 'Merkel': 1, 'David Duke': 1, 'Megyn': 3, 'Bret': 1, 'Lyin': 2, 'Snowden': 1, 'Sean': 2, 'Senator Marco Rubio': 1, 'Vladimir Putin': 1, \"Rosie O'Donnell\": 2, 'Rand Paul': 1, 'Dana': 2, 'Carly': 5, 'Hugh Hewitt': 1, 'Rand': 2, 'Rosa Parks': 1, 'Lester': 9, 'Secretary Clinton': 21, 'Kennedy': 1, 'Mayor Giuliani': 1, 'Mayor Bloomberg': 1, 'Wolf Blitzer': 1, 'Debbie Wasserman Schultz': 1, 'Neil Cavuto': 1, 'Sean Hannity': 7, 'Secretary Kerry': 1, 'Bibi Netanyahu': 1}"
      ]
     },
     "execution_count": 56,
     "metadata": {},
     "output_type": "execute_result"
    }
   ],
   "source": [
    "trump_re = get_RE_for_label(trump['Tree'], 'all')\n",
    "trump_re_freq = {re: trump_re.count(re) for re in trump_re}\n",
    "trump_re_freq"
   ]
  },
  {
   "cell_type": "markdown",
   "metadata": {},
   "source": [
    "**Interesting. It looks like Trump refers to himself as Mr. Trump 6 times. Let's see those instances in context.**"
   ]
  },
  {
   "cell_type": "code",
   "execution_count": 57,
   "metadata": {
    "collapsed": true
   },
   "outputs": [],
   "source": [
    "trump_mrtrump_trees = get_trees_for(trump, 'Donald Trump', 'Mr. Trump')"
   ]
  },
  {
   "cell_type": "code",
   "execution_count": 58,
   "metadata": {},
   "outputs": [
    {
     "data": {
      "text/html": [
       "<div>\n",
       "<style>\n",
       "    .dataframe thead tr:only-child th {\n",
       "        text-align: right;\n",
       "    }\n",
       "\n",
       "    .dataframe thead th {\n",
       "        text-align: left;\n",
       "    }\n",
       "\n",
       "    .dataframe tbody tr th {\n",
       "        vertical-align: top;\n",
       "    }\n",
       "</style>\n",
       "<table border=\"1\" class=\"dataframe\">\n",
       "  <thead>\n",
       "    <tr style=\"text-align: right;\">\n",
       "      <th></th>\n",
       "      <th>Date</th>\n",
       "      <th>Debate Type</th>\n",
       "      <th>Speaker</th>\n",
       "      <th>Sents</th>\n",
       "      <th>Tree</th>\n",
       "    </tr>\n",
       "  </thead>\n",
       "  <tbody>\n",
       "    <tr>\n",
       "      <th>1917</th>\n",
       "      <td>11-10-15</td>\n",
       "      <td>primary_rep</td>\n",
       "      <td>TRUMP</td>\n",
       "      <td>He said, \"You know, Mr. Trump?</td>\n",
       "      <td>[(He, PRP), (said, VBD), (,, ,), (``, ``), (Yo...</td>\n",
       "    </tr>\n",
       "    <tr>\n",
       "      <th>2150</th>\n",
       "      <td>12-15-15</td>\n",
       "      <td>primary_rep</td>\n",
       "      <td>TRUMP</td>\n",
       "      <td>I think it's very sad that CNN leads Jeb Bush...</td>\n",
       "      <td>[(I, PRP), (think, VBP), (it, PRP), ('s, VBZ),...</td>\n",
       "    </tr>\n",
       "    <tr>\n",
       "      <th>2152</th>\n",
       "      <td>12-15-15</td>\n",
       "      <td>primary_rep</td>\n",
       "      <td>TRUMP</td>\n",
       "      <td>And, frankly, I watched the first debate, and ...</td>\n",
       "      <td>[(And, CC), (,, ,), (frankly, RB), (,, ,), (I,...</td>\n",
       "    </tr>\n",
       "    <tr>\n",
       "      <th>2153</th>\n",
       "      <td>12-15-15</td>\n",
       "      <td>primary_rep</td>\n",
       "      <td>TRUMP</td>\n",
       "      <td>Mr. Trump\" — these poor guys — although, I mus...</td>\n",
       "      <td>[[(Mr., NNP), (Trump, NNP)], ('', ''), (—, IN)...</td>\n",
       "    </tr>\n",
       "    <tr>\n",
       "      <th>3247</th>\n",
       "      <td>2-25-16</td>\n",
       "      <td>primary_rep</td>\n",
       "      <td>TRUMP</td>\n",
       "      <td>Mr. Trump, you're doing a great job.</td>\n",
       "      <td>[[(Mr., NNP), (Trump, NNP)], (,, ,), (you, PRP...</td>\n",
       "    </tr>\n",
       "  </tbody>\n",
       "</table>\n",
       "</div>"
      ],
      "text/plain": [
       "          Date  Debate Type Speaker  \\\n",
       "1917  11-10-15  primary_rep   TRUMP   \n",
       "2150  12-15-15  primary_rep   TRUMP   \n",
       "2152  12-15-15  primary_rep   TRUMP   \n",
       "2153  12-15-15  primary_rep   TRUMP   \n",
       "3247   2-25-16  primary_rep   TRUMP   \n",
       "\n",
       "                                                  Sents  \\\n",
       "1917                     He said, \"You know, Mr. Trump?   \n",
       "2150   I think it's very sad that CNN leads Jeb Bush...   \n",
       "2152  And, frankly, I watched the first debate, and ...   \n",
       "2153  Mr. Trump\" — these poor guys — although, I mus...   \n",
       "3247               Mr. Trump, you're doing a great job.   \n",
       "\n",
       "                                                   Tree  \n",
       "1917  [(He, PRP), (said, VBD), (,, ,), (``, ``), (Yo...  \n",
       "2150  [(I, PRP), (think, VBP), (it, PRP), ('s, VBZ),...  \n",
       "2152  [(And, CC), (,, ,), (frankly, RB), (,, ,), (I,...  \n",
       "2153  [[(Mr., NNP), (Trump, NNP)], ('', ''), (—, IN)...  \n",
       "3247  [[(Mr., NNP), (Trump, NNP)], (,, ,), (you, PRP...  "
      ]
     },
     "execution_count": 58,
     "metadata": {},
     "output_type": "execute_result"
    }
   ],
   "source": [
    "trump_mrtrump_trees"
   ]
  },
  {
   "cell_type": "code",
   "execution_count": 59,
   "metadata": {},
   "outputs": [
    {
     "data": {
      "text/plain": [
       "'And, frankly, I watched the first debate, and the first long number of questions were, \"Mr. Trump said this, Mr. Trump said that.'"
      ]
     },
     "execution_count": 59,
     "metadata": {},
     "output_type": "execute_result"
    }
   ],
   "source": [
    "trump_mrtrump_trees.loc[2152]['Sents']"
   ]
  },
  {
   "cell_type": "code",
   "execution_count": 60,
   "metadata": {},
   "outputs": [
    {
     "data": {
      "text/plain": [
       "'Mr. Trump\" — these poor guys — although, I must tell you, Santorum, good guy.'"
      ]
     },
     "execution_count": 60,
     "metadata": {},
     "output_type": "execute_result"
    }
   ],
   "source": [
    "trump_mrtrump_trees.loc[2153]['Sents']"
   ]
  },
  {
   "cell_type": "markdown",
   "metadata": {},
   "source": [
    "**It looks like every time Donald Trump refers to himself as Mr. Trump, he is quoting someone else.**"
   ]
  },
  {
   "cell_type": "code",
   "execution_count": 61,
   "metadata": {},
   "outputs": [
    {
     "data": {
      "text/html": [
       "<div>\n",
       "<style>\n",
       "    .dataframe thead tr:only-child th {\n",
       "        text-align: right;\n",
       "    }\n",
       "\n",
       "    .dataframe thead th {\n",
       "        text-align: left;\n",
       "    }\n",
       "\n",
       "    .dataframe tbody tr th {\n",
       "        vertical-align: top;\n",
       "    }\n",
       "</style>\n",
       "<table border=\"1\" class=\"dataframe\">\n",
       "  <thead>\n",
       "    <tr style=\"text-align: right;\">\n",
       "      <th></th>\n",
       "      <th>Date</th>\n",
       "      <th>Debate Type</th>\n",
       "      <th>Speaker</th>\n",
       "      <th>Sents</th>\n",
       "      <th>Tree</th>\n",
       "    </tr>\n",
       "  </thead>\n",
       "  <tbody>\n",
       "    <tr>\n",
       "      <th>331</th>\n",
       "      <td>10-19-16</td>\n",
       "      <td>general</td>\n",
       "      <td>TRUMP</td>\n",
       "      <td>But Hillary was extremely upset, extremely angry.</td>\n",
       "      <td>[(But, CC), [(Hillary, NNP)], (was, VBD), (ext...</td>\n",
       "    </tr>\n",
       "    <tr>\n",
       "      <th>337</th>\n",
       "      <td>10-19-16</td>\n",
       "      <td>general</td>\n",
       "      <td>TRUMP</td>\n",
       "      <td>And I am—I don't know if Hillary was saying it...</td>\n",
       "      <td>[(And, CC), (I, PRP), (am—I, VBP), (do, VBP), ...</td>\n",
       "    </tr>\n",
       "    <tr>\n",
       "      <th>349</th>\n",
       "      <td>10-19-16</td>\n",
       "      <td>general</td>\n",
       "      <td>TRUMP</td>\n",
       "      <td>If you go with what Hillary is saying, in the ...</td>\n",
       "      <td>[(If, IN), (you, PRP), (go, VBP), (with, IN), ...</td>\n",
       "    </tr>\n",
       "    <tr>\n",
       "      <th>350</th>\n",
       "      <td>10-19-16</td>\n",
       "      <td>general</td>\n",
       "      <td>TRUMP</td>\n",
       "      <td>Now, you can say that that's OK and Hillary ca...</td>\n",
       "      <td>[(Now, RB), (,, ,), (you, PRP), (can, MD), (sa...</td>\n",
       "    </tr>\n",
       "    <tr>\n",
       "      <th>362</th>\n",
       "      <td>10-19-16</td>\n",
       "      <td>general</td>\n",
       "      <td>TRUMP</td>\n",
       "      <td>Hillary wants to give amnesty.</td>\n",
       "      <td>[[(Hillary, JJ)], (wants, VBZ), (to, TO), (giv...</td>\n",
       "    </tr>\n",
       "  </tbody>\n",
       "</table>\n",
       "</div>"
      ],
      "text/plain": [
       "         Date Debate Type Speaker  \\\n",
       "331  10-19-16     general   TRUMP   \n",
       "337  10-19-16     general   TRUMP   \n",
       "349  10-19-16     general   TRUMP   \n",
       "350  10-19-16     general   TRUMP   \n",
       "362  10-19-16     general   TRUMP   \n",
       "\n",
       "                                                 Sents  \\\n",
       "331  But Hillary was extremely upset, extremely angry.   \n",
       "337  And I am—I don't know if Hillary was saying it...   \n",
       "349  If you go with what Hillary is saying, in the ...   \n",
       "350  Now, you can say that that's OK and Hillary ca...   \n",
       "362                     Hillary wants to give amnesty.   \n",
       "\n",
       "                                                  Tree  \n",
       "331  [(But, CC), [(Hillary, NNP)], (was, VBD), (ext...  \n",
       "337  [(And, CC), (I, PRP), (am—I, VBP), (do, VBP), ...  \n",
       "349  [(If, IN), (you, PRP), (go, VBP), (with, IN), ...  \n",
       "350  [(Now, RB), (,, ,), (you, PRP), (can, MD), (sa...  \n",
       "362  [[(Hillary, JJ)], (wants, VBZ), (to, TO), (giv...  "
      ]
     },
     "execution_count": 61,
     "metadata": {},
     "output_type": "execute_result"
    }
   ],
   "source": [
    "trump_clinton_tree = get_trees_for(trump, 'Hillary Clinton')\n",
    "trump_clinton_tree.head()"
   ]
  },
  {
   "cell_type": "code",
   "execution_count": 62,
   "metadata": {},
   "outputs": [
    {
     "data": {
      "text/plain": [
       "['Hillary', 'Hillary', 'Hillary', 'Hillary', 'Hillary', 'Hillary Clinton', 'Hillary Clinton', 'Hillary Clinton', 'Hillary Clinton', 'Hillary', 'Hillary Clinton', 'Hillary', 'Hillary', 'Hillary', 'Hillary Clinton', 'Hillary', 'Hillary', 'Hillary', 'Hillary', 'Hillary', 'Hillary', 'Hillary Clinton', 'President Clinton', 'Hillary', 'Hillary', 'Hillary', 'Hillary', 'Hillary Clinton', 'Hillary', 'Hillary Clinton', 'Hillary Clinton', 'Hillary Clinton', 'Hillary Clinton', 'Hillary Clinton', 'Hillary', 'Hillary Clinton', 'Hillary', 'Hillary', 'Clinton', 'Hillary', 'Hillary', 'Hillary', 'Hillary Clinton', 'Hillary', 'Hillary', 'Hillary Clinton', 'Hillary', 'Hillary Clinton', 'Hillary', 'Hillary Clinton', 'Hillary Clinton', 'Hillary', 'Hillary Clinton', 'Hillary Clinton', 'Hillary', 'Hillary', 'Hillary Clinton', 'Hillary Clinton', 'Hillary Clinton', 'Hillary Clinton', 'Hillary Clinton', 'Hillary Clinton', 'Hillary Clinton', 'Hillary Clinton', 'Hillary', 'Hillary Clinton', 'Hillary Clinton', 'Hillary Clinton', 'Hillary Clinton', 'Clinton', 'Hillary', 'Secretary Clinton', 'Secretary Clinton', 'Hillary', 'Secretary Clinton', 'Secretary Clinton', 'Secretary Clinton', 'Secretary Clinton', 'Secretary Clinton', 'Secretary Clinton', 'Secretary Clinton', 'Secretary Clinton', 'Secretary Clinton', 'Secretary Clinton', 'Secretary Clinton', 'Secretary Clinton', 'Secretary Clinton', 'Secretary Clinton', 'Secretary Clinton', 'Secretary Clinton', 'Secretary Clinton', 'Secretary Clinton', 'Secretary Clinton', 'Hillary', 'Hillary', 'Hillary', 'Hillary', 'Hillary', 'Hillary']"
      ]
     },
     "execution_count": 62,
     "metadata": {},
     "output_type": "execute_result"
    }
   ],
   "source": [
    "trump_REclinton = get_RE_for_label(trump['Tree'], 'Hillary Clinton')\n",
    "trump_REclinton"
   ]
  },
  {
   "cell_type": "code",
   "execution_count": 63,
   "metadata": {},
   "outputs": [
    {
     "data": {
      "text/plain": [
       "{'Hillary': 42, 'Hillary Clinton': 33, 'President Clinton': 1, 'Clinton': 2, 'Secretary Clinton': 21}"
      ]
     },
     "execution_count": 63,
     "metadata": {},
     "output_type": "execute_result"
    }
   ],
   "source": [
    "trump_clinton_freq = {re: trump_REclinton.count(re) for re in trump_REclinton}\n",
    "trump_clinton_freq"
   ]
  },
  {
   "cell_type": "code",
   "execution_count": 64,
   "metadata": {},
   "outputs": [
    {
     "data": {
      "text/plain": [
       "{'PROFESSIONAL': 21, 'FULL NAME': 33, 'FIRST NAME': 42, 'LAST NAME': 2}"
      ]
     },
     "execution_count": 64,
     "metadata": {},
     "output_type": "execute_result"
    }
   ],
   "source": [
    "trump_clinton_REtype_freq = get_re_type_freq(clinton_re_maps, trump_clinton_freq)\n",
    "trump_clinton_REtype_freq"
   ]
  },
  {
   "cell_type": "markdown",
   "metadata": {},
   "source": [
    "##### Carly Fiorina"
   ]
  },
  {
   "cell_type": "code",
   "execution_count": 65,
   "metadata": {},
   "outputs": [
    {
     "data": {
      "text/plain": [
       "{'Carly': 5}"
      ]
     },
     "execution_count": 65,
     "metadata": {},
     "output_type": "execute_result"
    }
   ],
   "source": [
    "trump_REfiorina = get_RE_for_label(trump['Tree'], 'Carly Fiorina')\n",
    "trump_fiorina_freq = {re: trump_REfiorina.count(re) for re in trump_REfiorina}\n",
    "trump_fiorina_freq"
   ]
  },
  {
   "cell_type": "code",
   "execution_count": 66,
   "metadata": {},
   "outputs": [
    {
     "data": {
      "text/plain": [
       "{'FIRST NAME': 5}"
      ]
     },
     "execution_count": 66,
     "metadata": {},
     "output_type": "execute_result"
    }
   ],
   "source": [
    "trump_fiorina_REtype_freq = get_re_type_freq(fiorina_re_maps, trump_fiorina_freq)\n",
    "trump_fiorina_REtype_freq"
   ]
  },
  {
   "cell_type": "markdown",
   "metadata": {},
   "source": [
    "##### Ted Cruz"
   ]
  },
  {
   "cell_type": "code",
   "execution_count": 67,
   "metadata": {},
   "outputs": [
    {
     "data": {
      "text/plain": [
       "{'Cruz': 1, 'Ted': 29, 'Ted Cruz': 3, 'Lyin': 2}"
      ]
     },
     "execution_count": 67,
     "metadata": {},
     "output_type": "execute_result"
    }
   ],
   "source": [
    "trump_REcruz = get_RE_for_label(trump['Tree'], 'Ted Cruz')\n",
    "trump_cruz_freq = {re: trump_REcruz.count(re) for re in trump_REcruz}\n",
    "trump_cruz_freq"
   ]
  },
  {
   "cell_type": "code",
   "execution_count": 68,
   "metadata": {},
   "outputs": [
    {
     "data": {
      "text/plain": [
       "{'FULL NAME': 3, 'FIRST NAME': 29, 'LAST NAME': 1, 'NAMECALLING': 2}"
      ]
     },
     "execution_count": 68,
     "metadata": {},
     "output_type": "execute_result"
    }
   ],
   "source": [
    "trump_cruz_REtype_freq = get_re_type_freq(cruz_re_maps, trump_cruz_freq)\n",
    "trump_cruz_REtype_freq"
   ]
  },
  {
   "cell_type": "markdown",
   "metadata": {},
   "source": [
    "##### Marco Rubio"
   ]
  },
  {
   "cell_type": "code",
   "execution_count": 69,
   "metadata": {},
   "outputs": [
    {
     "data": {
      "text/plain": [
       "{'Marco': 16, 'Senator Rubio': 1, 'Senator Marco Rubio': 1}"
      ]
     },
     "execution_count": 69,
     "metadata": {},
     "output_type": "execute_result"
    }
   ],
   "source": [
    "trump_RErubio = get_RE_for_label(trump['Tree'], 'Marco Rubio')\n",
    "trump_rubio_freq = {re: trump_RErubio.count(re) for re in trump_RErubio}\n",
    "trump_rubio_freq"
   ]
  },
  {
   "cell_type": "code",
   "execution_count": 70,
   "metadata": {},
   "outputs": [
    {
     "data": {
      "text/plain": [
       "{'PROFESSIONAL': 2, 'FIRST NAME': 16}"
      ]
     },
     "execution_count": 70,
     "metadata": {},
     "output_type": "execute_result"
    }
   ],
   "source": [
    "trump_rubio_REtype_freq = get_re_type_freq(rubio_re_maps, trump_rubio_freq)\n",
    "trump_rubio_REtype_freq"
   ]
  },
  {
   "cell_type": "markdown",
   "metadata": {},
   "source": [
    "##### Bernie Sanders"
   ]
  },
  {
   "cell_type": "code",
   "execution_count": 71,
   "metadata": {},
   "outputs": [
    {
     "data": {
      "text/plain": [
       "{'Bernie Sanders': 10}"
      ]
     },
     "execution_count": 71,
     "metadata": {},
     "output_type": "execute_result"
    }
   ],
   "source": [
    "trump_REsanders = get_RE_for_label(trump['Tree'], 'Bernie Sanders')\n",
    "trump_sanders_freq = {re: trump_REsanders.count(re) for re in trump_REsanders}\n",
    "trump_sanders_freq"
   ]
  },
  {
   "cell_type": "code",
   "execution_count": 72,
   "metadata": {},
   "outputs": [
    {
     "data": {
      "text/plain": [
       "{'FULL NAME': 10}"
      ]
     },
     "execution_count": 72,
     "metadata": {},
     "output_type": "execute_result"
    }
   ],
   "source": [
    "trump_sanders_REtype_freq = get_re_type_freq(sanders_re_maps, trump_sanders_freq)\n",
    "trump_sanders_REtype_freq"
   ]
  },
  {
   "cell_type": "code",
   "execution_count": 73,
   "metadata": {},
   "outputs": [
    {
     "data": {
      "text/html": [
       "<div>\n",
       "<style>\n",
       "    .dataframe thead tr:only-child th {\n",
       "        text-align: right;\n",
       "    }\n",
       "\n",
       "    .dataframe thead th {\n",
       "        text-align: left;\n",
       "    }\n",
       "\n",
       "    .dataframe tbody tr th {\n",
       "        vertical-align: top;\n",
       "    }\n",
       "</style>\n",
       "<table border=\"1\" class=\"dataframe\">\n",
       "  <thead>\n",
       "    <tr style=\"text-align: right;\">\n",
       "      <th></th>\n",
       "      <th>FIRST NAME</th>\n",
       "      <th>FULL NAME</th>\n",
       "      <th>LAST NAME</th>\n",
       "      <th>NAMECALLING</th>\n",
       "      <th>PROFESSIONAL</th>\n",
       "    </tr>\n",
       "  </thead>\n",
       "  <tbody>\n",
       "    <tr>\n",
       "      <th>CLINTON</th>\n",
       "      <td>42.857143</td>\n",
       "      <td>33.673469</td>\n",
       "      <td>2.040816</td>\n",
       "      <td>0.000000</td>\n",
       "      <td>21.428571</td>\n",
       "    </tr>\n",
       "    <tr>\n",
       "      <th>SANDERS</th>\n",
       "      <td>0.000000</td>\n",
       "      <td>100.000000</td>\n",
       "      <td>0.000000</td>\n",
       "      <td>0.000000</td>\n",
       "      <td>0.000000</td>\n",
       "    </tr>\n",
       "    <tr>\n",
       "      <th>FIORINA</th>\n",
       "      <td>100.000000</td>\n",
       "      <td>0.000000</td>\n",
       "      <td>0.000000</td>\n",
       "      <td>0.000000</td>\n",
       "      <td>0.000000</td>\n",
       "    </tr>\n",
       "    <tr>\n",
       "      <th>CRUZ</th>\n",
       "      <td>82.857143</td>\n",
       "      <td>8.571429</td>\n",
       "      <td>2.857143</td>\n",
       "      <td>5.714286</td>\n",
       "      <td>0.000000</td>\n",
       "    </tr>\n",
       "    <tr>\n",
       "      <th>RUBIO</th>\n",
       "      <td>88.888889</td>\n",
       "      <td>0.000000</td>\n",
       "      <td>0.000000</td>\n",
       "      <td>0.000000</td>\n",
       "      <td>11.111111</td>\n",
       "    </tr>\n",
       "  </tbody>\n",
       "</table>\n",
       "</div>"
      ],
      "text/plain": [
       "         FIRST NAME   FULL NAME  LAST NAME  NAMECALLING  PROFESSIONAL\n",
       "CLINTON   42.857143   33.673469   2.040816     0.000000     21.428571\n",
       "SANDERS    0.000000  100.000000   0.000000     0.000000      0.000000\n",
       "FIORINA  100.000000    0.000000   0.000000     0.000000      0.000000\n",
       "CRUZ      82.857143    8.571429   2.857143     5.714286      0.000000\n",
       "RUBIO     88.888889    0.000000   0.000000     0.000000     11.111111"
      ]
     },
     "execution_count": 73,
     "metadata": {},
     "output_type": "execute_result"
    }
   ],
   "source": [
    "distribution_trump = pd.DataFrame([trump_clinton_REtype_freq, trump_sanders_REtype_freq, trump_fiorina_REtype_freq, trump_cruz_REtype_freq, trump_rubio_REtype_freq, ], index = ['CLINTON', 'SANDERS', 'FIORINA', 'CRUZ', 'RUBIO'])\n",
    "distribution_trump.fillna(0, inplace=True)\n",
    "\n",
    "distribution_trump['TOTAL']=distribution_trump.sum(axis=1)\n",
    "\n",
    "#Get the percentage of each type of RE for each candidate.\n",
    "distribution_trump['FIRST NAME'] = distribution_trump['FIRST NAME']/distribution_trump['TOTAL']*100\n",
    "distribution_trump['FULL NAME'] = distribution_trump['FULL NAME']/distribution_trump['TOTAL']*100\n",
    "distribution_trump['LAST NAME'] = distribution_trump['LAST NAME']/distribution_trump['TOTAL']*100\n",
    "distribution_trump['NAMECALLING'] = distribution_trump['NAMECALLING']/distribution_trump['TOTAL']*100\n",
    "distribution_trump['PROFESSIONAL'] = distribution_trump['PROFESSIONAL']/distribution_trump['TOTAL']*100\n",
    "del distribution_trump['TOTAL']\n",
    "distribution_trump.head(6)"
   ]
  },
  {
   "cell_type": "code",
   "execution_count": 74,
   "metadata": {},
   "outputs": [
    {
     "data": {
      "image/png": "[encoded data removed]",
      "text/plain": [
       "<matplotlib.figure.Figure object at 0x1201002b0>"
      ]
     },
     "metadata": {},
     "output_type": "display_data"
    }
   ],
   "source": [
    "plt.style.use('fivethirtyeight')\n",
    "distribution_trump.plot(kind='bar', figsize=(15,6))\n",
    "plt.xlabel('CANDIDATE')\n",
    "plt.ylabel('% of RE')\n",
    "plt.title('TRUMP DISTRIBUTION OF RE')\n",
    "plt.show()\n",
    "#Why are there two?"
   ]
  },
  {
   "cell_type": "markdown",
   "metadata": {},
   "source": [
    "### Some Conclusions\n",
    "**We can see Trump's most frequent type of RE for all of the candidates were looking at besides Bernie Sanders is their first name. Trump refers to Hillary Clinton by her first name or her full name more often than by a professional title, but calls her by a professional title more often than he calls any of the other candidates by one. In fact, the only other person he uses a professional title for is Marco Rubio. Trump refers to the only other female candidate, Carly Fiorina, exclusively by her first name. He also calls Ted Cruz names more often than he refers to him as Cruz.**\n",
    "\n",
    "**Let's check out how Hillary Clinton refers to these candidates.**"
   ]
  },
  {
   "cell_type": "code",
   "execution_count": 75,
   "metadata": {},
   "outputs": [
    {
     "data": {
      "text/plain": [
       "{'Senator Sanders': 111, 'Lester': 8, 'Andrea': 1, 'Harry Truman': 2, 'President Obama': 91, \"Governor O'Malley\": 10, 'Lindsey Graham': 1, 'Secretary Kerry': 5, 'Assad': 22, 'Putin': 15, 'Hillary Clinton': 2, 'Chris': 14, 'George W.': 1, 'Bush': 12, 'Chris Cuomo': 1, 'Chairman': 1, 'Ronald Reagan': 3, 'Bill': 5, 'Abraham Lincoln': 2, 'Abraham': 1, 'Lincoln': 2, 'Anderson': 6, 'Senator Obama': 6, 'Osama': 2, 'Laden': 8, 'Gadhafi': 10, 'Senator Webb': 1, 'Bernie': 2, 'Clinton': 2, 'Barack Obama': 7, 'Donald': 80, 'George W. Bush': 10, 'Donald Trump': 23, 'Vladimir Putin': 2, 'Bernie Sanders': 3, 'Alicia Machado': 2, 'Mr.': 2, 'John McCain': 1, 'President Reagan': 3, 'Michelle Obama': 2, 'Captain Khan': 2, 'Martha': 7, 'George Washington': 1, 'President Lincoln': 2, 'Mr. Carter': 1, 'Trump': 4, 'John': 6, 'Gaddafi': 2, 'Eric Garner': 1, 'Tamir Rice': 1, 'Michael Brown': 1, 'Trayvon Martin': 2, 'Bin Laden': 2, 'Hillary': 1, 'Martin': 2, 'Mr. Trump': 1, 'David': 3, 'Senator': 11, 'Mubarak': 1, 'Mrs. Obama': 2, 'Scott Walker': 2, 'Obama': 8, 'Saddam Hussein': 1, 'Nelson Mandela': 1, 'President Biden': 1, 'Chuck': 3, 'Rachel': 3, 'Ashraf Ghani': 1, 'Secretary Carter': 3, 'President Bush': 1, 'Nikki': 1, 'Don': 2, 'Sandra Bland': 1, 'Jorge': 4, 'David Duke': 1, 'Senator Warren': 1, 'President Clinton': 1, 'Gore': 1, 'Dana': 3, 'Governor Cuomo': 2, 'Qadafi': 2, 'Wolf': 2, 'Netanyahu': 2, 'Yasser Arafat': 1, 'Lester Holt': 1, 'John Kerry': 1, 'Miss Piggy': 1, 'Miss Housekeeping': 1}"
      ]
     },
     "execution_count": 75,
     "metadata": {},
     "output_type": "execute_result"
    }
   ],
   "source": [
    "clinton_re = get_RE_for_label(clinton['Tree'], 'all')\n",
    "clinton_re_freq = {re: clinton_re.count(re) for re in clinton_re}\n",
    "clinton_re_freq"
   ]
  },
  {
   "cell_type": "code",
   "execution_count": 76,
   "metadata": {},
   "outputs": [
    {
     "data": {
      "text/plain": [
       "{'Lincoln Chafee', 'Ronald Reagan', 'David Duke', 'George W. Bush', 'John Kasich', 'Bill Clinton', 'Anderson Cooper', 'Harry Truman', 'Andrea Mitchell', 'George Washington', 'John Kerry', 'Scott Walker', 'Chuck Todd', 'David Muir', 'Trayvon Martin', 'Jim Webb', 'Rachel Maddow', 'Tamir Rice', 'Saddam Hussein', 'Elizabeth Warren', 'Jeb Bush', 'Barack Obama', 'Chris Cuomo', 'Michael Brown', 'Bashar al-Assad', 'TITLE', 'Don Lemon', 'Sandra Bland', 'Bernie Sanders', 'Nelson Mandela', 'Osama bin Laden', 'Dana Bash', \"Martin O'Malley\", 'Jorge Ramos', 'Yasser Arafat', 'Al Gore', 'Joe Biden', 'Abraham Lincoln', 'Wolf Blitzer', 'Eric Garner', 'Muammar Gaddafi', 'Ashraf Ghani', 'Donald Trump', 'Martha Raddatz', 'Nikki Haley', 'Lester Holt', 'Lindsey Graham', 'Chris Christie', 'Vladimir Putin', 'Humayun Khan', 'Benjamin Netanyahu', 'James Carter', 'Hosni Mubarak', 'Hillary Clinton', 'Michelle Obama', 'John McCain', 'Alicia Machado'}"
      ]
     },
     "execution_count": 76,
     "metadata": {},
     "output_type": "execute_result"
    }
   ],
   "source": [
    "clinton_ents = get_entities(clinton['Entities'])\n",
    "clinton_ents"
   ]
  },
  {
   "cell_type": "code",
   "execution_count": 77,
   "metadata": {},
   "outputs": [
    {
     "data": {
      "text/plain": [
       "False"
      ]
     },
     "execution_count": 77,
     "metadata": {},
     "output_type": "execute_result"
    }
   ],
   "source": [
    "'Carly Fiorina' in clinton_ents"
   ]
  },
  {
   "cell_type": "code",
   "execution_count": 78,
   "metadata": {},
   "outputs": [
    {
     "data": {
      "text/plain": [
       "False"
      ]
     },
     "execution_count": 78,
     "metadata": {},
     "output_type": "execute_result"
    }
   ],
   "source": [
    "'Ted Cruz' in clinton_ents"
   ]
  },
  {
   "cell_type": "code",
   "execution_count": 79,
   "metadata": {},
   "outputs": [
    {
     "data": {
      "text/plain": [
       "False"
      ]
     },
     "execution_count": 79,
     "metadata": {},
     "output_type": "execute_result"
    }
   ],
   "source": [
    "'Marco Rubio' in clinton_ents"
   ]
  },
  {
   "cell_type": "markdown",
   "metadata": {},
   "source": [
    "**Hillary Clinton doesn't refer to any of the Republican candidates listed above except for Donald Trump. Therefore, we're going to look at the way she refers to the other candidates she was in debates with, and we are going to examine the titles she uses.**"
   ]
  },
  {
   "cell_type": "code",
   "execution_count": 80,
   "metadata": {},
   "outputs": [
    {
     "data": {
      "text/html": [
       "<div>\n",
       "<style>\n",
       "    .dataframe thead tr:only-child th {\n",
       "        text-align: right;\n",
       "    }\n",
       "\n",
       "    .dataframe thead th {\n",
       "        text-align: left;\n",
       "    }\n",
       "\n",
       "    .dataframe tbody tr th {\n",
       "        vertical-align: top;\n",
       "    }\n",
       "</style>\n",
       "<table border=\"1\" class=\"dataframe\">\n",
       "  <thead>\n",
       "    <tr style=\"text-align: right;\">\n",
       "      <th></th>\n",
       "      <th>Date</th>\n",
       "      <th>Debate Type</th>\n",
       "      <th>Speaker</th>\n",
       "      <th>Sents</th>\n",
       "      <th>Tree</th>\n",
       "    </tr>\n",
       "  </thead>\n",
       "  <tbody>\n",
       "    <tr>\n",
       "      <th>491</th>\n",
       "      <td>1-25-16</td>\n",
       "      <td>primary_dem</td>\n",
       "      <td>CLINTON</td>\n",
       "      <td>And, at the end of it, the Chairman said, \"No,...</td>\n",
       "      <td>[(And, CC), (,, ,), (at, IN), (the, DT), (end,...</td>\n",
       "    </tr>\n",
       "    <tr>\n",
       "      <th>1178</th>\n",
       "      <td>10-19-16</td>\n",
       "      <td>general</td>\n",
       "      <td>CLINTON</td>\n",
       "      <td>He went after Mr. and Mrs. Khan, the parents ...</td>\n",
       "      <td>[(He, PRP), (went, VBD), (after, IN), [(Mr., N...</td>\n",
       "    </tr>\n",
       "    <tr>\n",
       "      <th>1400</th>\n",
       "      <td>10-9-16</td>\n",
       "      <td>general</td>\n",
       "      <td>CLINTON</td>\n",
       "      <td>He never apologized to Mr. and Mrs. Khan, the ...</td>\n",
       "      <td>[(He, PRP), (never, RB), (apologized, VBD), (t...</td>\n",
       "    </tr>\n",
       "    <tr>\n",
       "      <th>2173</th>\n",
       "      <td>12-19-15</td>\n",
       "      <td>primary_dem</td>\n",
       "      <td>CLINTON</td>\n",
       "      <td>And, you know, with all due respect, Senator, ...</td>\n",
       "      <td>[(And, CC), (,, ,), (you, PRP), (know, VBP), (...</td>\n",
       "    </tr>\n",
       "    <tr>\n",
       "      <th>2310</th>\n",
       "      <td>12-19-15</td>\n",
       "      <td>primary_dem</td>\n",
       "      <td>CLINTON</td>\n",
       "      <td>Senator, I have been -- I have been fighting ...</td>\n",
       "      <td>[[(Senator, NNP)], (,, ,), (I, PRP), (have, VB...</td>\n",
       "    </tr>\n",
       "    <tr>\n",
       "      <th>2409</th>\n",
       "      <td>2-11-16</td>\n",
       "      <td>primary_dem</td>\n",
       "      <td>CLINTON</td>\n",
       "      <td>Last week in a CNN town hall, the Senator told...</td>\n",
       "      <td>[(Last, JJ), (week, NN), (in, IN), (a, DT), [(...</td>\n",
       "    </tr>\n",
       "    <tr>\n",
       "      <th>2559</th>\n",
       "      <td>2-11-16</td>\n",
       "      <td>primary_dem</td>\n",
       "      <td>CLINTON</td>\n",
       "      <td>I've said I'm looking at a couple of different...</td>\n",
       "      <td>[(I, PRP), ('ve, VBP), (said, VBD), (I, PRP), ...</td>\n",
       "    </tr>\n",
       "    <tr>\n",
       "      <th>2569</th>\n",
       "      <td>2-11-16</td>\n",
       "      <td>primary_dem</td>\n",
       "      <td>CLINTON</td>\n",
       "      <td>Well, Senator, look, I think we're in vigorou...</td>\n",
       "      <td>[(Well, RB), (,, ,), [(Senator, NNP)], (,, ,),...</td>\n",
       "    </tr>\n",
       "    <tr>\n",
       "      <th>2598</th>\n",
       "      <td>2-11-16</td>\n",
       "      <td>primary_dem</td>\n",
       "      <td>CLINTON</td>\n",
       "      <td>But, the real issue, I think, that the Senator...</td>\n",
       "      <td>[(But, CC), (,, ,), (the, DT), (real, JJ), (is...</td>\n",
       "    </tr>\n",
       "    <tr>\n",
       "      <th>2745</th>\n",
       "      <td>2-11-16</td>\n",
       "      <td>primary_dem</td>\n",
       "      <td>CLINTON</td>\n",
       "      <td>You know, Senator, what I am concerned about,...</td>\n",
       "      <td>[(You, PRP), (know, VBP), (,, ,), [(Senator, N...</td>\n",
       "    </tr>\n",
       "    <tr>\n",
       "      <th>2824</th>\n",
       "      <td>2-4-16</td>\n",
       "      <td>primary_dem</td>\n",
       "      <td>CLINTON</td>\n",
       "      <td>It is fair to say, Senator, that in your defin...</td>\n",
       "      <td>[(It, PRP), (is, VBZ), (fair, JJ), (to, TO), (...</td>\n",
       "    </tr>\n",
       "    <tr>\n",
       "      <th>2870</th>\n",
       "      <td>2-4-16</td>\n",
       "      <td>primary_dem</td>\n",
       "      <td>CLINTON</td>\n",
       "      <td>Well, you know, Senator, I don't think—I don'...</td>\n",
       "      <td>[(Well, RB), (,, ,), (you, PRP), (know, VBP), ...</td>\n",
       "    </tr>\n",
       "    <tr>\n",
       "      <th>2946</th>\n",
       "      <td>2-4-16</td>\n",
       "      <td>primary_dem</td>\n",
       "      <td>CLINTON</td>\n",
       "      <td>... Well, Senator, no one wants to see that h...</td>\n",
       "      <td>[(..., :), (Well, RB), (,, ,), [(Senator, NNP)...</td>\n",
       "    </tr>\n",
       "    <tr>\n",
       "      <th>3634</th>\n",
       "      <td>3-9-16</td>\n",
       "      <td>primary_dem</td>\n",
       "      <td>CLINTON</td>\n",
       "      <td>So I think when you were running for the Senat...</td>\n",
       "      <td>[(So, RB), (I, PRP), (think, VBP), (when, WRB)...</td>\n",
       "    </tr>\n",
       "  </tbody>\n",
       "</table>\n",
       "</div>"
      ],
      "text/plain": [
       "          Date  Debate Type  Speaker  \\\n",
       "491    1-25-16  primary_dem  CLINTON   \n",
       "1178  10-19-16      general  CLINTON   \n",
       "1400   10-9-16      general  CLINTON   \n",
       "2173  12-19-15  primary_dem  CLINTON   \n",
       "2310  12-19-15  primary_dem  CLINTON   \n",
       "2409   2-11-16  primary_dem  CLINTON   \n",
       "2559   2-11-16  primary_dem  CLINTON   \n",
       "2569   2-11-16  primary_dem  CLINTON   \n",
       "2598   2-11-16  primary_dem  CLINTON   \n",
       "2745   2-11-16  primary_dem  CLINTON   \n",
       "2824    2-4-16  primary_dem  CLINTON   \n",
       "2870    2-4-16  primary_dem  CLINTON   \n",
       "2946    2-4-16  primary_dem  CLINTON   \n",
       "3634    3-9-16  primary_dem  CLINTON   \n",
       "\n",
       "                                                  Sents  \\\n",
       "491   And, at the end of it, the Chairman said, \"No,...   \n",
       "1178   He went after Mr. and Mrs. Khan, the parents ...   \n",
       "1400  He never apologized to Mr. and Mrs. Khan, the ...   \n",
       "2173  And, you know, with all due respect, Senator, ...   \n",
       "2310   Senator, I have been -- I have been fighting ...   \n",
       "2409  Last week in a CNN town hall, the Senator told...   \n",
       "2559  I've said I'm looking at a couple of different...   \n",
       "2569   Well, Senator, look, I think we're in vigorou...   \n",
       "2598  But, the real issue, I think, that the Senator...   \n",
       "2745   You know, Senator, what I am concerned about,...   \n",
       "2824  It is fair to say, Senator, that in your defin...   \n",
       "2870   Well, you know, Senator, I don't think—I don'...   \n",
       "2946   ... Well, Senator, no one wants to see that h...   \n",
       "3634  So I think when you were running for the Senat...   \n",
       "\n",
       "                                                   Tree  \n",
       "491   [(And, CC), (,, ,), (at, IN), (the, DT), (end,...  \n",
       "1178  [(He, PRP), (went, VBD), (after, IN), [(Mr., N...  \n",
       "1400  [(He, PRP), (never, RB), (apologized, VBD), (t...  \n",
       "2173  [(And, CC), (,, ,), (you, PRP), (know, VBP), (...  \n",
       "2310  [[(Senator, NNP)], (,, ,), (I, PRP), (have, VB...  \n",
       "2409  [(Last, JJ), (week, NN), (in, IN), (a, DT), [(...  \n",
       "2559  [(I, PRP), ('ve, VBP), (said, VBD), (I, PRP), ...  \n",
       "2569  [(Well, RB), (,, ,), [(Senator, NNP)], (,, ,),...  \n",
       "2598  [(But, CC), (,, ,), (the, DT), (real, JJ), (is...  \n",
       "2745  [(You, PRP), (know, VBP), (,, ,), [(Senator, N...  \n",
       "2824  [(It, PRP), (is, VBZ), (fair, JJ), (to, TO), (...  \n",
       "2870  [(Well, RB), (,, ,), (you, PRP), (know, VBP), ...  \n",
       "2946  [(..., :), (Well, RB), (,, ,), [(Senator, NNP)...  \n",
       "3634  [(So, RB), (I, PRP), (think, VBP), (when, WRB)...  "
      ]
     },
     "execution_count": 80,
     "metadata": {},
     "output_type": "execute_result"
    }
   ],
   "source": [
    "get_trees_for(clinton, 'TITLE')"
   ]
  },
  {
   "cell_type": "markdown",
   "metadata": {},
   "source": [
    "**We see that Hillary Clinton often refers to one of the other candidates as Senator. Since all of these instances were in the primary debates, and it's clear that she is talking directly to someone instead of about them, it is clear that she much be talking about Senator Bernie Sanders or Senator Jim Webb. Based on the dates of the debates, she is always talking about Bernie Sanders, because Jim Webb withdrew from the race on October 20, 2015.**"
   ]
  },
  {
   "cell_type": "code",
   "execution_count": 81,
   "metadata": {},
   "outputs": [
    {
     "data": {
      "text/html": [
       "<div>\n",
       "<style>\n",
       "    .dataframe thead tr:only-child th {\n",
       "        text-align: right;\n",
       "    }\n",
       "\n",
       "    .dataframe thead th {\n",
       "        text-align: left;\n",
       "    }\n",
       "\n",
       "    .dataframe tbody tr th {\n",
       "        vertical-align: top;\n",
       "    }\n",
       "</style>\n",
       "<table border=\"1\" class=\"dataframe\">\n",
       "  <thead>\n",
       "    <tr style=\"text-align: right;\">\n",
       "      <th></th>\n",
       "      <th>Date</th>\n",
       "      <th>Debate Type</th>\n",
       "      <th>Speaker</th>\n",
       "      <th>Sents</th>\n",
       "      <th>Tree</th>\n",
       "    </tr>\n",
       "  </thead>\n",
       "  <tbody>\n",
       "    <tr>\n",
       "      <th>955</th>\n",
       "      <td>10-19-16</td>\n",
       "      <td>general</td>\n",
       "      <td>CLINTON</td>\n",
       "      <td>And, you know, look, I understand that Donald'...</td>\n",
       "      <td>[(And, CC), (,, ,), (you, PRP), (know, VBP), (...</td>\n",
       "    </tr>\n",
       "    <tr>\n",
       "      <th>964</th>\n",
       "      <td>10-19-16</td>\n",
       "      <td>general</td>\n",
       "      <td>CLINTON</td>\n",
       "      <td>Donald has said he's in favor of defunding Pla...</td>\n",
       "      <td>[[(Donald, NNP)], (has, VBZ), (said, VBD), (he...</td>\n",
       "    </tr>\n",
       "    <tr>\n",
       "      <th>991</th>\n",
       "      <td>10-19-16</td>\n",
       "      <td>general</td>\n",
       "      <td>CLINTON</td>\n",
       "      <td>I don't want to see the deportation force that...</td>\n",
       "      <td>[(I, PRP), (do, VBP), (n't, RB), (want, VB), (...</td>\n",
       "    </tr>\n",
       "    <tr>\n",
       "      <th>1005</th>\n",
       "      <td>10-19-16</td>\n",
       "      <td>general</td>\n",
       "      <td>CLINTON</td>\n",
       "      <td>When it comes to the wall that Donald talks ab...</td>\n",
       "      <td>[(When, WRB), (it, PRP), (comes, VBZ), (to, TO...</td>\n",
       "    </tr>\n",
       "    <tr>\n",
       "      <th>1013</th>\n",
       "      <td>10-19-16</td>\n",
       "      <td>general</td>\n",
       "      <td>CLINTON</td>\n",
       "      <td>But it is clear, when you look at what Donald ...</td>\n",
       "      <td>[(But, CC), (it, PRP), (is, VBZ), (clear, JJ),...</td>\n",
       "    </tr>\n",
       "  </tbody>\n",
       "</table>\n",
       "</div>"
      ],
      "text/plain": [
       "          Date Debate Type  Speaker  \\\n",
       "955   10-19-16     general  CLINTON   \n",
       "964   10-19-16     general  CLINTON   \n",
       "991   10-19-16     general  CLINTON   \n",
       "1005  10-19-16     general  CLINTON   \n",
       "1013  10-19-16     general  CLINTON   \n",
       "\n",
       "                                                  Sents  \\\n",
       "955   And, you know, look, I understand that Donald'...   \n",
       "964   Donald has said he's in favor of defunding Pla...   \n",
       "991   I don't want to see the deportation force that...   \n",
       "1005  When it comes to the wall that Donald talks ab...   \n",
       "1013  But it is clear, when you look at what Donald ...   \n",
       "\n",
       "                                                   Tree  \n",
       "955   [(And, CC), (,, ,), (you, PRP), (know, VBP), (...  \n",
       "964   [[(Donald, NNP)], (has, VBZ), (said, VBD), (he...  \n",
       "991   [(I, PRP), (do, VBP), (n't, RB), (want, VB), (...  \n",
       "1005  [(When, WRB), (it, PRP), (comes, VBZ), (to, TO...  \n",
       "1013  [(But, CC), (it, PRP), (is, VBZ), (clear, JJ),...  "
      ]
     },
     "execution_count": 81,
     "metadata": {},
     "output_type": "execute_result"
    }
   ],
   "source": [
    "clinton_trump_tree = get_trees_for(clinton, 'Donald Trump')\n",
    "clinton_trump_tree.head()"
   ]
  },
  {
   "cell_type": "code",
   "execution_count": 82,
   "metadata": {},
   "outputs": [
    {
     "data": {
      "text/plain": [
       "['Donald', 'Donald', 'Donald', 'Donald', 'Donald', 'Donald', 'Donald', 'Donald Trump', 'Donald Trump', 'Donald', 'Donald', 'Donald', 'Donald', 'Donald', 'Donald', 'Donald', 'Donald', 'Donald', 'Donald', 'Donald', 'Donald', 'Donald', 'Donald', 'Donald', 'Donald', 'Donald', 'Donald', 'Donald', 'Donald', 'Donald', 'Donald Trump', 'Donald', 'Donald Trump', 'Donald Trump', 'Donald', 'Donald', 'Donald Trump', 'Donald', 'Donald', 'Donald', 'Donald', 'Donald', 'Donald', 'Donald', 'Donald', 'Donald', 'Donald Trump', 'Donald Trump', 'Donald', 'Donald', 'Donald', 'Donald', 'Donald', 'Donald', 'Donald', 'Donald', 'Donald Trump', 'Donald', 'Trump', 'Donald', 'Donald', 'Donald Trump', 'Donald', 'Donald Trump', 'Donald Trump', 'Mr. Trump', 'Trump', 'Donald Trump', 'Donald Trump', 'Donald Trump', 'Donald Trump', 'Donald Trump', 'Donald Trump', 'Donald Trump', 'Donald Trump', 'Trump', 'Donald Trump', 'Donald', 'Donald Trump', 'Donald', 'Donald', 'Donald', 'Donald', 'Donald', 'Donald', 'Donald', 'Donald', 'Trump', 'Donald', 'Donald', 'Donald', 'Donald', 'Donald', 'Donald', 'Donald Trump', 'Donald', 'Donald', 'Donald', 'Donald', 'Donald', 'Donald', 'Donald', 'Donald', 'Donald', 'Donald', 'Donald', 'Donald', 'Donald']"
      ]
     },
     "execution_count": 82,
     "metadata": {},
     "output_type": "execute_result"
    }
   ],
   "source": [
    "clinton_REtrump = get_RE_for_label(clinton['Tree'], 'Donald Trump')\n",
    "clinton_REtrump"
   ]
  },
  {
   "cell_type": "code",
   "execution_count": 83,
   "metadata": {},
   "outputs": [
    {
     "data": {
      "text/plain": [
       "{'Donald': 80, 'Donald Trump': 23, 'Trump': 4, 'Mr. Trump': 1}"
      ]
     },
     "execution_count": 83,
     "metadata": {},
     "output_type": "execute_result"
    }
   ],
   "source": [
    "clinton_trump_freq = {re: clinton_REtrump.count(re) for re in clinton_REtrump}\n",
    "clinton_trump_freq"
   ]
  },
  {
   "cell_type": "code",
   "execution_count": 84,
   "metadata": {},
   "outputs": [
    {
     "data": {
      "text/plain": [
       "{'PROFESSIONAL': 1, 'FULL NAME': 23, 'FIRST NAME': 80, 'LAST NAME': 4}"
      ]
     },
     "execution_count": 84,
     "metadata": {},
     "output_type": "execute_result"
    }
   ],
   "source": [
    "clinton_trump_REtype_freq = get_re_type_freq(trump_re_maps, clinton_trump_freq)\n",
    "clinton_trump_REtype_freq"
   ]
  },
  {
   "cell_type": "markdown",
   "metadata": {},
   "source": [
    "##### Bernie Sanders"
   ]
  },
  {
   "cell_type": "code",
   "execution_count": 85,
   "metadata": {},
   "outputs": [
    {
     "data": {
      "text/plain": [
       "{'Senator', 'Senator Sanders', 'Bernie', 'Bernie Sanders'}"
      ]
     },
     "execution_count": 85,
     "metadata": {},
     "output_type": "execute_result"
    }
   ],
   "source": [
    "clinton_REsanders = get_RE_for_label(clinton['Tree'], 'Bernie Sanders')\n",
    "clinton_senator = get_RE_for_label(clinton['Tree'], 'TITLE')\n",
    "clinton_senator = [x for x in clinton_senator if x == 'Senator']\n",
    "clinton_REsanders = clinton_REsanders + clinton_senator\n",
    "set(clinton_REsanders)"
   ]
  },
  {
   "cell_type": "code",
   "execution_count": 86,
   "metadata": {},
   "outputs": [
    {
     "data": {
      "text/plain": [
       "{'Senator Sanders': 111, 'Bernie': 2, 'Bernie Sanders': 3, 'Senator': 11}"
      ]
     },
     "execution_count": 86,
     "metadata": {},
     "output_type": "execute_result"
    }
   ],
   "source": [
    "clinton_sanders_freq = {re: clinton_REsanders.count(re) for re in clinton_REsanders}\n",
    "clinton_sanders_freq"
   ]
  },
  {
   "cell_type": "code",
   "execution_count": 87,
   "metadata": {},
   "outputs": [
    {
     "data": {
      "text/plain": [
       "{'FIRST NAME': 2, 'FULL NAME': 3, 'PROFESSIONAL': 122}"
      ]
     },
     "execution_count": 87,
     "metadata": {},
     "output_type": "execute_result"
    }
   ],
   "source": [
    "sanders_re_maps['Senator'] = 'PROFESSIONAL'\n",
    "clinton_sanders_REtype_freq = get_re_type_freq(sanders_re_maps, clinton_sanders_freq)\n",
    "clinton_sanders_REtype_freq"
   ]
  },
  {
   "cell_type": "markdown",
   "metadata": {},
   "source": [
    "##### Martin O'Malley"
   ]
  },
  {
   "cell_type": "code",
   "execution_count": 88,
   "metadata": {},
   "outputs": [
    {
     "data": {
      "text/plain": [
       "{'Martin', \"Governor O'Malley\"}"
      ]
     },
     "execution_count": 88,
     "metadata": {},
     "output_type": "execute_result"
    }
   ],
   "source": [
    "clinton_REomalley = get_RE_for_label(clinton['Tree'], \"Martin O'Malley\")\n",
    "set(clinton_REomalley)"
   ]
  },
  {
   "cell_type": "code",
   "execution_count": 89,
   "metadata": {},
   "outputs": [
    {
     "data": {
      "text/plain": [
       "{\"Governor O'Malley\": 10, 'Martin': 2}"
      ]
     },
     "execution_count": 89,
     "metadata": {},
     "output_type": "execute_result"
    }
   ],
   "source": [
    "clinton_omalley_freq = {re: clinton_REomalley.count(re) for re in clinton_REomalley}\n",
    "clinton_omalley_freq"
   ]
  },
  {
   "cell_type": "code",
   "execution_count": 90,
   "metadata": {},
   "outputs": [
    {
     "data": {
      "text/plain": [
       "{'PROFESSIONAL': 10, 'FIRST NAME': 2}"
      ]
     },
     "execution_count": 90,
     "metadata": {},
     "output_type": "execute_result"
    }
   ],
   "source": [
    "omalley_re_maps = {\"Governor O'Malley\" : \"PROFESSIONAL\", \"Martin\": \"FIRST NAME\"}\n",
    "clinton_omalley_REtype_freq = get_re_type_freq(omalley_re_maps, clinton_omalley_freq)\n",
    "clinton_omalley_REtype_freq"
   ]
  },
  {
   "cell_type": "code",
   "execution_count": 91,
   "metadata": {},
   "outputs": [
    {
     "data": {
      "text/html": [
       "<div>\n",
       "<style>\n",
       "    .dataframe thead tr:only-child th {\n",
       "        text-align: right;\n",
       "    }\n",
       "\n",
       "    .dataframe thead th {\n",
       "        text-align: left;\n",
       "    }\n",
       "\n",
       "    .dataframe tbody tr th {\n",
       "        vertical-align: top;\n",
       "    }\n",
       "</style>\n",
       "<table border=\"1\" class=\"dataframe\">\n",
       "  <thead>\n",
       "    <tr style=\"text-align: right;\">\n",
       "      <th></th>\n",
       "      <th>FIRST NAME</th>\n",
       "      <th>FULL NAME</th>\n",
       "      <th>LAST NAME</th>\n",
       "      <th>PROFESSIONAL</th>\n",
       "    </tr>\n",
       "  </thead>\n",
       "  <tbody>\n",
       "    <tr>\n",
       "      <th>O'MALLEY</th>\n",
       "      <td>16.666667</td>\n",
       "      <td>0.000000</td>\n",
       "      <td>0.000000</td>\n",
       "      <td>83.333333</td>\n",
       "    </tr>\n",
       "    <tr>\n",
       "      <th>SANDERS</th>\n",
       "      <td>1.574803</td>\n",
       "      <td>2.362205</td>\n",
       "      <td>0.000000</td>\n",
       "      <td>96.062992</td>\n",
       "    </tr>\n",
       "    <tr>\n",
       "      <th>TRUMP</th>\n",
       "      <td>74.074074</td>\n",
       "      <td>21.296296</td>\n",
       "      <td>3.703704</td>\n",
       "      <td>0.925926</td>\n",
       "    </tr>\n",
       "  </tbody>\n",
       "</table>\n",
       "</div>"
      ],
      "text/plain": [
       "          FIRST NAME  FULL NAME  LAST NAME  PROFESSIONAL\n",
       "O'MALLEY   16.666667   0.000000   0.000000     83.333333\n",
       "SANDERS     1.574803   2.362205   0.000000     96.062992\n",
       "TRUMP      74.074074  21.296296   3.703704      0.925926"
      ]
     },
     "execution_count": 91,
     "metadata": {},
     "output_type": "execute_result"
    }
   ],
   "source": [
    "distribution_clinton = pd.DataFrame([clinton_omalley_REtype_freq, clinton_sanders_REtype_freq, clinton_trump_REtype_freq, ], index = [\"O'MALLEY\", 'SANDERS', 'TRUMP'])\n",
    "distribution_clinton.fillna(0, inplace=True)\n",
    "\n",
    "distribution_clinton['TOTAL']=distribution_clinton.sum(axis=1)\n",
    "\n",
    "#Get the percentage of each type of RE for each candidate.\n",
    "distribution_clinton['FIRST NAME'] = distribution_clinton['FIRST NAME']/distribution_clinton['TOTAL']*100\n",
    "distribution_clinton['FULL NAME'] = distribution_clinton['FULL NAME']/distribution_clinton['TOTAL']*100\n",
    "distribution_clinton['LAST NAME'] = distribution_clinton['LAST NAME']/distribution_clinton['TOTAL']*100\n",
    "distribution_clinton['PROFESSIONAL'] = distribution_clinton['PROFESSIONAL']/distribution_clinton['TOTAL']*100\n",
    "del distribution_clinton['TOTAL']\n",
    "distribution_clinton.head(6)"
   ]
  },
  {
   "cell_type": "code",
   "execution_count": 92,
   "metadata": {},
   "outputs": [
    {
     "data": {
      "image/png": "[encoded data removed]",
      "text/plain": [
       "<matplotlib.figure.Figure object at 0x12160cb70>"
      ]
     },
     "metadata": {},
     "output_type": "display_data"
    }
   ],
   "source": [
    "distribution_clinton.plot(kind='bar', figsize=(15,6))\n",
    "plt.xlabel('CANDIDATE')\n",
    "plt.ylabel('% of RE')\n",
    "plt.title('CLINTON DISTRIBUTION OF RE')\n",
    "plt.show()\n",
    "#Why are there two?"
   ]
  },
  {
   "cell_type": "markdown",
   "metadata": {},
   "source": [
    "### Some Conclusions\n",
    "**It's a little harder to compare this graph to Trump's since Clinton didn't refer to all of the same candidates Trump did, but we can see that she refers to O'Malley and Sanders by a professional title the majority of the time, yet she almost never calls Trump by a professional title, and really mostly refers to him by his first name.**"
   ]
  },
  {
   "cell_type": "markdown",
   "metadata": {},
   "source": [
    "**Last steps: Let's look at how Carly Fiorina refers to other candidates, and then how Bernie Sanders, Ted Cruz, and Marco Rubio refer to other candidates**"
   ]
  },
  {
   "cell_type": "code",
   "execution_count": 93,
   "metadata": {},
   "outputs": [
    {
     "data": {
      "text/plain": [
       "['Mr. Trump', 'Mr. Trump', 'Mr. Trump', 'Mr. Trump', 'Mr. Trump', 'Mr. Trump', 'Mr. Trump', 'Mr. Trump', 'Mr. Trump', 'Mr. Trump', 'Mr. Trump', 'Mr. Trump']"
      ]
     },
     "execution_count": 93,
     "metadata": {},
     "output_type": "execute_result"
    }
   ],
   "source": [
    "fiorina_REtrump = get_RE_for_label(fiorina['Tree'], \"Donald Trump\")\n",
    "fiorina_REtrump"
   ]
  },
  {
   "cell_type": "code",
   "execution_count": 94,
   "metadata": {},
   "outputs": [
    {
     "data": {
      "text/plain": [
       "['Mrs. Clinton', 'Hillary Clinton', 'Hillary Clinton', 'Hillary Clinton', 'Hillary Clinton', 'Clinton', 'Mrs. Clinton', 'Clinton', 'Clinton', 'Hillary Clinton', 'Hillary Clinton', 'Hillary Clinton', 'Hillary Clinton', 'Hillary Clinton', 'Hillary Clinton', 'Hillary Clinton', 'Hillary Clinton', 'Hillary Clinton', 'Hillary Clinton', 'Mrs. Clinton', 'Mrs. Clinton', 'Mrs. Clinton', 'Mrs. Clinton', 'Mrs. Clinton']"
      ]
     },
     "execution_count": 94,
     "metadata": {},
     "output_type": "execute_result"
    }
   ],
   "source": [
    "fiorina_REclinton = get_RE_for_label(fiorina['Tree'], \"Hillary Clinton\")\n",
    "fiorina_REclinton"
   ]
  },
  {
   "cell_type": "code",
   "execution_count": null,
   "metadata": {
    "collapsed": true
   },
   "outputs": [],
   "source": []
  }
 ],
 "metadata": {
  "kernelspec": {
   "display_name": "Python 3",
   "language": "python",
   "name": "python3"
  },
  "language_info": {
   "codemirror_mode": {
    "name": "ipython",
    "version": 3
   },
   "file_extension": ".py",
   "mimetype": "text/x-python",
   "name": "python",
   "nbconvert_exporter": "python",
   "pygments_lexer": "ipython3",
   "version": "3.6.1"
  }
 },
 "nbformat": 4,
 "nbformat_minor": 2
}
