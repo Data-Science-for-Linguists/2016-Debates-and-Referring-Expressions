{
 "cells": [
  {
   "cell_type": "code",
   "execution_count": 1,
   "metadata": {},
   "outputs": [
    {
     "name": "stdout",
     "output_type": "stream",
     "text": [
      "Pretty printing has been turned OFF\n"
     ]
    }
   ],
   "source": [
    "%pprint"
   ]
  },
  {
   "cell_type": "markdown",
   "metadata": {},
   "source": [
    "## 2016 Election Project\n",
    "### Part 3 of Processing Pipeline\n",
    "\n",
    "This notebook is intended to document analysis of my data throughout this project. The data I am starting out with are transcripts of the presidential debates from the 2016 US Election- the 10 Democratic primary debates, the 12 Republican primary debates, and the debates for the general election between Hillary Clinton and Donald Trump. The transcripts were taken from UCSB's American Presidency Project. The citations for these transcripts can be found in the README. Using these transcripts I'll analyze the referring expressions the candidates use for each other, try classifying utterance by each candidate, and perhaps a classifer to sort different types of referring expressions (i.e. female, male, professional)."
   ]
  },
  {
   "cell_type": "code",
   "execution_count": 2,
   "metadata": {
    "collapsed": true
   },
   "outputs": [],
   "source": [
    "import nltk\n",
    "from nltk.corpus import PlaintextCorpusReader\n",
    "import pandas as pd\n",
    "import glob\n",
    "import os\n",
    "from collections import defaultdict\n",
    "import matplotlib.pyplot as plt\n",
    "import pickle"
   ]
  },
  {
   "cell_type": "code",
   "execution_count": 3,
   "metadata": {
    "collapsed": true
   },
   "outputs": [],
   "source": [
    "f = open('/Users/Paige/Documents/Data_Science/link_dict.pkl', 'rb')\n",
    "link_dict = pickle.load(f)\n",
    "f.close()"
   ]
  },
  {
   "cell_type": "code",
   "execution_count": 4,
   "metadata": {},
   "outputs": [
    {
     "data": {
      "text/html": [
       "<div>\n",
       "<style>\n",
       "    .dataframe thead tr:only-child th {\n",
       "        text-align: right;\n",
       "    }\n",
       "\n",
       "    .dataframe thead th {\n",
       "        text-align: left;\n",
       "    }\n",
       "\n",
       "    .dataframe tbody tr th {\n",
       "        vertical-align: top;\n",
       "    }\n",
       "</style>\n",
       "<table border=\"1\" class=\"dataframe\">\n",
       "  <thead>\n",
       "    <tr style=\"text-align: right;\">\n",
       "      <th></th>\n",
       "      <th>Date</th>\n",
       "      <th>Debate Type</th>\n",
       "      <th>Speaker</th>\n",
       "      <th>Sents</th>\n",
       "      <th>Tree</th>\n",
       "    </tr>\n",
       "  </thead>\n",
       "  <tbody>\n",
       "    <tr>\n",
       "      <th>0</th>\n",
       "      <td>1-14-16</td>\n",
       "      <td>primary_rep</td>\n",
       "      <td>CAVUTO</td>\n",
       "      <td>It is 9:00 p.m. here at the North Charleston ...</td>\n",
       "      <td>[(It, PRP), (is, VBZ), (9:00, CD), (p.m., NN),...</td>\n",
       "    </tr>\n",
       "    <tr>\n",
       "      <th>1</th>\n",
       "      <td>1-14-16</td>\n",
       "      <td>primary_rep</td>\n",
       "      <td>CAVUTO</td>\n",
       "      <td>Welcome to the sixth Republican presidential o...</td>\n",
       "      <td>[(Welcome, VB), (to, TO), (the, DT), (sixth, J...</td>\n",
       "    </tr>\n",
       "    <tr>\n",
       "      <th>2</th>\n",
       "      <td>1-14-16</td>\n",
       "      <td>primary_rep</td>\n",
       "      <td>CAVUTO</td>\n",
       "      <td>I'm Neil Cavuto, alongside my friend and co-mo...</td>\n",
       "      <td>[(I, PRP), ('m, VBP), [(Neil, JJ), (Cavuto, NN...</td>\n",
       "    </tr>\n",
       "    <tr>\n",
       "      <th>3</th>\n",
       "      <td>1-14-16</td>\n",
       "      <td>primary_rep</td>\n",
       "      <td>BARTIROMO</td>\n",
       "      <td>Tonight we are working with Facebook to ask t...</td>\n",
       "      <td>[(Tonight, NN), (we, PRP), (are, VBP), (workin...</td>\n",
       "    </tr>\n",
       "    <tr>\n",
       "      <th>4</th>\n",
       "      <td>1-14-16</td>\n",
       "      <td>primary_rep</td>\n",
       "      <td>BARTIROMO</td>\n",
       "      <td>And according to Facebook, the U.S. election h...</td>\n",
       "      <td>[(And, CC), (according, VBG), (to, TO), [(Face...</td>\n",
       "    </tr>\n",
       "  </tbody>\n",
       "</table>\n",
       "</div>"
      ],
      "text/plain": [
       "      Date  Debate Type    Speaker  \\\n",
       "0  1-14-16  primary_rep     CAVUTO   \n",
       "1  1-14-16  primary_rep     CAVUTO   \n",
       "2  1-14-16  primary_rep     CAVUTO   \n",
       "3  1-14-16  primary_rep  BARTIROMO   \n",
       "4  1-14-16  primary_rep  BARTIROMO   \n",
       "\n",
       "                                               Sents  \\\n",
       "0   It is 9:00 p.m. here at the North Charleston ...   \n",
       "1  Welcome to the sixth Republican presidential o...   \n",
       "2  I'm Neil Cavuto, alongside my friend and co-mo...   \n",
       "3   Tonight we are working with Facebook to ask t...   \n",
       "4  And according to Facebook, the U.S. election h...   \n",
       "\n",
       "                                                Tree  \n",
       "0  [(It, PRP), (is, VBZ), (9:00, CD), (p.m., NN),...  \n",
       "1  [(Welcome, VB), (to, TO), (the, DT), (sixth, J...  \n",
       "2  [(I, PRP), ('m, VBP), [(Neil, JJ), (Cavuto, NN...  \n",
       "3  [(Tonight, NN), (we, PRP), (are, VBP), (workin...  \n",
       "4  [(And, CC), (according, VBG), (to, TO), [(Face...  "
      ]
     },
     "execution_count": 4,
     "metadata": {},
     "output_type": "execute_result"
    }
   ],
   "source": [
    "f = open('/Users/Paige/Documents/Data_Science/master_df.pkl', 'rb')\n",
    "master_df = pickle.load(f)\n",
    "f.close\n",
    "master_df = master_df.reset_index(drop=True)\n",
    "master_df.head()"
   ]
  },
  {
   "cell_type": "markdown",
   "metadata": {},
   "source": [
    "**First, I'm going to create a mapping function that will make it easier to see if a person is being talked about in a particular utterance. This function is just going to create a set of all of the entity labels that appear in the tree. Then, to see if a person is being referred to in a particular utterance, we can just see if they are in that set instead of traversing the tree each time.**"
   ]
  },
  {
   "cell_type": "code",
   "execution_count": 5,
   "metadata": {
    "collapsed": true
   },
   "outputs": [],
   "source": [
    "def entity_tracking(tree):\n",
    "    name = ''\n",
    "    referred_to = []\n",
    "    entities = set(link_dict.values())\n",
    "    for chunk in tree:\n",
    "        if hasattr(chunk, 'label'):\n",
    "            if chunk.label() in entities:\n",
    "                referred_to.append(chunk.label())\n",
    "                    \n",
    "    return list(set(referred_to))"
   ]
  },
  {
   "cell_type": "code",
   "execution_count": 6,
   "metadata": {},
   "outputs": [
    {
     "data": {
      "text/html": [
       "<div>\n",
       "<style>\n",
       "    .dataframe thead tr:only-child th {\n",
       "        text-align: right;\n",
       "    }\n",
       "\n",
       "    .dataframe thead th {\n",
       "        text-align: left;\n",
       "    }\n",
       "\n",
       "    .dataframe tbody tr th {\n",
       "        vertical-align: top;\n",
       "    }\n",
       "</style>\n",
       "<table border=\"1\" class=\"dataframe\">\n",
       "  <thead>\n",
       "    <tr style=\"text-align: right;\">\n",
       "      <th></th>\n",
       "      <th>Date</th>\n",
       "      <th>Debate Type</th>\n",
       "      <th>Speaker</th>\n",
       "      <th>Sents</th>\n",
       "      <th>Tree</th>\n",
       "      <th>Entities</th>\n",
       "    </tr>\n",
       "  </thead>\n",
       "  <tbody>\n",
       "    <tr>\n",
       "      <th>0</th>\n",
       "      <td>1-14-16</td>\n",
       "      <td>primary_rep</td>\n",
       "      <td>CAVUTO</td>\n",
       "      <td>It is 9:00 p.m. here at the North Charleston ...</td>\n",
       "      <td>[(It, PRP), (is, VBZ), (9:00, CD), (p.m., NN),...</td>\n",
       "      <td>[]</td>\n",
       "    </tr>\n",
       "    <tr>\n",
       "      <th>1</th>\n",
       "      <td>1-14-16</td>\n",
       "      <td>primary_rep</td>\n",
       "      <td>CAVUTO</td>\n",
       "      <td>Welcome to the sixth Republican presidential o...</td>\n",
       "      <td>[(Welcome, VB), (to, TO), (the, DT), (sixth, J...</td>\n",
       "      <td>[]</td>\n",
       "    </tr>\n",
       "    <tr>\n",
       "      <th>2</th>\n",
       "      <td>1-14-16</td>\n",
       "      <td>primary_rep</td>\n",
       "      <td>CAVUTO</td>\n",
       "      <td>I'm Neil Cavuto, alongside my friend and co-mo...</td>\n",
       "      <td>[(I, PRP), ('m, VBP), [(Neil, JJ), (Cavuto, NN...</td>\n",
       "      <td>[Neil Cavuto, Maria Bartiromo]</td>\n",
       "    </tr>\n",
       "    <tr>\n",
       "      <th>3</th>\n",
       "      <td>1-14-16</td>\n",
       "      <td>primary_rep</td>\n",
       "      <td>BARTIROMO</td>\n",
       "      <td>Tonight we are working with Facebook to ask t...</td>\n",
       "      <td>[(Tonight, NN), (we, PRP), (are, VBP), (workin...</td>\n",
       "      <td>[]</td>\n",
       "    </tr>\n",
       "    <tr>\n",
       "      <th>4</th>\n",
       "      <td>1-14-16</td>\n",
       "      <td>primary_rep</td>\n",
       "      <td>BARTIROMO</td>\n",
       "      <td>And according to Facebook, the U.S. election h...</td>\n",
       "      <td>[(And, CC), (according, VBG), (to, TO), [(Face...</td>\n",
       "      <td>[]</td>\n",
       "    </tr>\n",
       "  </tbody>\n",
       "</table>\n",
       "</div>"
      ],
      "text/plain": [
       "      Date  Debate Type    Speaker  \\\n",
       "0  1-14-16  primary_rep     CAVUTO   \n",
       "1  1-14-16  primary_rep     CAVUTO   \n",
       "2  1-14-16  primary_rep     CAVUTO   \n",
       "3  1-14-16  primary_rep  BARTIROMO   \n",
       "4  1-14-16  primary_rep  BARTIROMO   \n",
       "\n",
       "                                               Sents  \\\n",
       "0   It is 9:00 p.m. here at the North Charleston ...   \n",
       "1  Welcome to the sixth Republican presidential o...   \n",
       "2  I'm Neil Cavuto, alongside my friend and co-mo...   \n",
       "3   Tonight we are working with Facebook to ask t...   \n",
       "4  And according to Facebook, the U.S. election h...   \n",
       "\n",
       "                                                Tree  \\\n",
       "0  [(It, PRP), (is, VBZ), (9:00, CD), (p.m., NN),...   \n",
       "1  [(Welcome, VB), (to, TO), (the, DT), (sixth, J...   \n",
       "2  [(I, PRP), ('m, VBP), [(Neil, JJ), (Cavuto, NN...   \n",
       "3  [(Tonight, NN), (we, PRP), (are, VBP), (workin...   \n",
       "4  [(And, CC), (according, VBG), (to, TO), [(Face...   \n",
       "\n",
       "                         Entities  \n",
       "0                              []  \n",
       "1                              []  \n",
       "2  [Neil Cavuto, Maria Bartiromo]  \n",
       "3                              []  \n",
       "4                              []  "
      ]
     },
     "execution_count": 6,
     "metadata": {},
     "output_type": "execute_result"
    }
   ],
   "source": [
    "master_df['Entities'] = master_df.Tree.map(entity_tracking)\n",
    "master_df.head()"
   ]
  },
  {
   "cell_type": "markdown",
   "metadata": {},
   "source": [
    "**Let's see how many times each relevant entity was referred to throughout all of the debates:**"
   ]
  },
  {
   "cell_type": "code",
   "execution_count": 7,
   "metadata": {},
   "outputs": [
    {
     "name": "stdout",
     "output_type": "stream",
     "text": [
      "Hillary Clinton 1060\n",
      "Donald Trump 950\n",
      "Barack Obama 540\n",
      "Bernie Sanders 536\n",
      "Marco Rubio 350\n",
      "Ted Cruz 320\n",
      "Jeb Bush 238\n",
      "Chris Christie 205\n",
      "Ben Carson 202\n",
      "TITLE 197\n",
      "John Kasich 167\n",
      "Bashar al-Assad 137\n",
      "Ronald Reagan 135\n",
      "Rand Paul 114\n",
      "Martin O'Malley 110\n",
      "Vladimir Putin 105\n",
      "Carly Fiorina 85\n",
      "Dana Bash 67\n",
      "Jake Tapper 66\n",
      "Anderson Cooper 65\n",
      "Wolf Blitzer 59\n",
      "John Kerry 46\n",
      "Muammar Gaddafi 46\n",
      "Maria Celeste Arraras 45\n",
      "Martha Raddatz 45\n",
      "Megyn Kelly 41\n",
      "David Muir 40\n",
      "Mike Huckabee 38\n",
      "George W. Bush 37\n",
      "Jim Webb 33\n",
      "Lester Holt 32\n",
      "Bill Clinton 30\n",
      "Scott Walker 30\n",
      "Bret Baier 29\n",
      "Saddam Hussein 28\n",
      "Neil Cavuto 27\n",
      "Mitt Romney 26\n",
      "Andrea Mitchell 19\n",
      "Osama bin Laden 18\n",
      "Don Lemon 17\n",
      "Jeff Sessions 17\n",
      "Chuck Schumer 16\n",
      "Edward Snowden 16\n",
      "Hugh Hewitt 15\n",
      "Nancy Pelosi 14\n",
      "Antonin Scalia 14\n",
      "John McCain 13\n",
      "Joe Biden 12\n",
      "Carl Quintanilla 12\n",
      "Sean Hannity 12\n",
      "Rachel Maddow 12\n",
      "NICKNAME 11\n",
      "Nikki Haley 10\n",
      "Lindsey Graham 10\n",
      "Benjamin Netanyahu 10\n",
      "Kim Jong Un 10\n",
      "James Carter 9\n",
      "George Bush 8\n",
      "Theodore Roosevelt 8\n",
      "Abraham Lincoln 8\n",
      "Fidel Castro 7\n",
      "Harry Truman 6\n",
      "James Comey 6\n",
      "Elizabeth Warren 6\n",
      "Chuck Todd 6\n",
      "Chris Cuomo 5\n",
      "Lincoln Chafee 5\n",
      "John Adams 5\n",
      "Deborah Wasserman Schultz 5\n",
      "Hosni Mubarak 5\n",
      "John Kennedy 5\n",
      "Jorge Ramos 5\n",
      "Al Gore 4\n",
      "Ivanka Trump 4\n",
      "Franklin D. Roosevelt 4\n",
      "Chris Wallace 4\n",
      "Alicia Machado 4\n",
      "Rick Santorum 4\n",
      "Michelle Obama 4\n",
      "Dwight Eisenhower 4\n",
      "Winston Churchill 4\n",
      "Joe Arpaio 4\n",
      "Nancy Reagan 4\n",
      "Eric Trump 3\n",
      "Freddie Gray 3\n",
      "Tamir Rice 3\n",
      "Barbara Bush 3\n",
      "Kim Davis 3\n",
      "John Boehner 3\n",
      "Paul Ryan 3\n",
      "Humayun Khan 3\n",
      "Major Garrett 3\n",
      "Mitch McConnell 3\n",
      "David Duke 3\n",
      "Chelsea Clinton 3\n",
      "Rosie O'Donnell 3\n",
      "Rosa Parks 3\n",
      "Maria Bartiromo 2\n",
      "Bobby Jindal 2\n",
      "Sonia Sotomayor 2\n",
      "Michael Flynn 2\n",
      "Woodrow Wilson 2\n",
      "Sandra Bland 2\n",
      "Pope Francis 2\n",
      "John Podesta 2\n",
      "Trayvon Martin 2\n",
      "Katie O'Malley 2\n",
      "George H. W. Bush 2\n",
      "Michael Bloomberg 2\n",
      "Tip O'Neill 2\n",
      "Richard Nixon 2\n",
      "Adolf Hitler 2\n",
      "Abigail Adams 2\n",
      "Dylann Roof 1\n",
      "Frederick Douglas 1\n",
      "Benjamin Franklin 1\n",
      "Rush Limbaugh 1\n",
      "John Quincy Adams 1\n",
      "Mark Zuckerburg 1\n",
      "George Washington 1\n",
      "Omran Daqneesh 1\n",
      "Ken Bone 1\n",
      "Andrew Cuomo 1\n",
      "Calvin Coolidge 1\n",
      "Senator Clinton 1\n",
      "Eric Garner 1\n",
      "Michael Brown 1\n",
      "Joseph Mattis 1\n",
      "Kim Jong-Un 1\n",
      "Abdullah 1\n",
      "Nelson Mandela 1\n",
      "Kimberley Strassel 1\n",
      "Joseph Stalin 1\n",
      "Ashraf Ghani 1\n",
      "Angela Merkel 1\n",
      "Maria Elena Salinas 1\n",
      "Yasser Arafat 1\n",
      "Merrick Garland 1\n",
      "Abdel Fattah el-Sisi 1\n",
      "Lyndon Johnson 1\n",
      "Thomas Jefferson 1\n",
      "Alexander Hamilton 1\n",
      "Rudy Giuliani 1\n"
     ]
    }
   ],
   "source": [
    "ner_categories = defaultdict(int)\n",
    "\n",
    "# Create the nested for loop\n",
    "for tree in master_df['Tree']:\n",
    "    for chunk in tree:\n",
    "        if hasattr(chunk, 'label') and chunk.label() not in ['GPE', 'ORGANIZATION', 'PERSON', 'LOCATION', 'GSP', 'FACILITY' ]:\n",
    "            ner_categories[chunk.label()] += 1\n",
    "     \n",
    "for category in sorted(ner_categories, key=ner_categories.get, reverse=True):\n",
    "    print(category, ner_categories[category])"
   ]
  },
  {
   "cell_type": "markdown",
   "metadata": {},
   "source": [
    "**Here is a distribution across the candidates that remained in the race until the last primary debate.**"
   ]
  },
  {
   "cell_type": "code",
   "execution_count": 8,
   "metadata": {},
   "outputs": [
    {
     "data": {
      "image/png": "[encoded data removed]",
      "text/plain": [
       "<matplotlib.figure.Figure object at 0x11253f940>"
      ]
     },
     "metadata": {},
     "output_type": "display_data"
    }
   ],
   "source": [
    "#This section is with help from a datacamp tutorial\n",
    "#https://campus.datacamp.com/courses/natural-language-processing-fundamentals-in-python/named-entity-recognition?ex=3\n",
    "\n",
    "ner_categories = defaultdict(int)\n",
    "\n",
    "# Create the nested for loop\n",
    "for tree in master_df['Tree']:\n",
    "    for chunk in tree:\n",
    "        if hasattr(chunk, 'label'):\n",
    "            if chunk.label() in ['Hillary Clinton', 'Donald Trump', 'Bernie Sanders', 'Ted Cruz', 'Marco Rubio', 'John Kasich']:\n",
    "                ner_categories[chunk.label()] += 1\n",
    "            \n",
    "# Create a list from the dictionary keys for the chart labels: labels\n",
    "labels = list(ner_categories.keys())\n",
    "\n",
    "# Create a list of the values: values\n",
    "values = [ner_categories.get(l) for l in labels]\n",
    "\n",
    "# Create the pie chart\n",
    "plt.pie(values, labels=labels, autopct='%1.1f%%', startangle=140)\n",
    "\n",
    "# Display the chart\n",
    "plt.show()"
   ]
  },
  {
   "cell_type": "markdown",
   "metadata": {},
   "source": [
    "**Let's build a data frame for each speaker with only their utterances in it.**"
   ]
  },
  {
   "cell_type": "code",
   "execution_count": 9,
   "metadata": {},
   "outputs": [
    {
     "data": {
      "text/plain": [
       "89"
      ]
     },
     "execution_count": 9,
     "metadata": {},
     "output_type": "execute_result"
    }
   ],
   "source": [
    "#There are 81 different speakers\n",
    "speaker_counts = master_df['Speaker'].value_counts()\n",
    "speaker_counts.size"
   ]
  },
  {
   "cell_type": "code",
   "execution_count": 10,
   "metadata": {},
   "outputs": [
    {
     "data": {
      "text/plain": [
       "TRUMP        6013\n",
       "CLINTON      4890\n",
       "SANDERS      3545\n",
       "RUBIO        2617\n",
       "CRUZ         2117\n",
       "KASICH       1977\n",
       "BUSH         1461\n",
       "OMALLEY      1073\n",
       "CHRISTIE     1018\n",
       "CARSON        974\n",
       "COOPER        792\n",
       "BLITZER       756\n",
       "PAUL          752\n",
       "TAPPER        677\n",
       "WALLACE       652\n",
       "FIORINA       614\n",
       "KELLY         493\n",
       "MUIR          488\n",
       "DICKERSON     481\n",
       "HOLT          416\n",
       "Name: Speaker, dtype: int64"
      ]
     },
     "execution_count": 10,
     "metadata": {},
     "output_type": "execute_result"
    }
   ],
   "source": [
    "#These are the top 20 speakers who had the most utterances. A larger count doesn't necissarilly \n",
    "#mean a speaker spoke for more time than another, just that they used more sentences.\n",
    "speaker_counts[:20]"
   ]
  },
  {
   "cell_type": "code",
   "execution_count": 11,
   "metadata": {},
   "outputs": [
    {
     "data": {
      "text/plain": [
       "['TRUMP', 'CLINTON', 'SANDERS', 'RUBIO', 'CRUZ', 'KASICH', 'BUSH', 'OMALLEY', 'CHRISTIE', 'CARSON', 'COOPER', 'BLITZER', 'PAUL', 'TAPPER', 'WALLACE', 'FIORINA', 'KELLY', 'MUIR', 'DICKERSON', 'HOLT', 'RADDATZ', 'BAIER', 'CUOMO', 'BASH', 'HUCKABEE', 'BARTIROMO', 'CAVUTO', 'WALKER', 'HEWITT', 'QUESTION', 'TODD', 'WEBB', 'QUINTANILLA', 'CHAFEE', 'QUICK', 'HARWOOD', 'RAMOS', 'MADDOW', 'SALINAS', 'BAKER', 'WOODRUFF', 'IFILL', 'MITCHELL', 'LEMON', 'TUMULTY', 'GARRETT', 'CORDES', 'LOUIS', 'MCELVEEN', 'DINAN', 'HAM', 'STRASSEL', 'UNKNOWN', 'COONEY', 'UNIDENTIFIED', 'LOPEZ', 'EPPERSON', 'OBRADOVICH', 'SANTELLI', 'CRAMER', 'ANNOUNCER', 'LEVESQUE', 'GOODSON', 'BROWNLEE', 'FRANCHESCA', 'FRANTA', 'BISHOP', 'JENNA', 'PANELISTS', 'LASSEN', 'SMITH', 'PERRY', 'ARNOLD', 'AUDIENCE', 'CRAWFORD', 'MODERATOR', 'ROSENGREN', 'WILKINS', 'PLUMMER', 'ALEXIS', 'BRETT', 'SEAN', 'DICK', 'UNIDENTIFIABLE', 'DEBORAH', 'MALE', 'HANNITY', 'JOY', 'COLLISON']"
      ]
     },
     "execution_count": 11,
     "metadata": {},
     "output_type": "execute_result"
    }
   ],
   "source": [
    "speakers = list(speaker_counts.index)\n",
    "speakers"
   ]
  },
  {
   "cell_type": "code",
   "execution_count": 12,
   "metadata": {},
   "outputs": [
    {
     "data": {
      "text/plain": [
       "False"
      ]
     },
     "execution_count": 12,
     "metadata": {},
     "output_type": "execute_result"
    }
   ],
   "source": [
    "'SANTORUM' in speakers"
   ]
  },
  {
   "cell_type": "code",
   "execution_count": 13,
   "metadata": {
    "collapsed": true
   },
   "outputs": [],
   "source": [
    "speaker_dfs = []\n",
    "for speaker in speakers:\n",
    "    df = master_df.loc[master_df['Speaker']==speaker, :]\n",
    "    speaker_dfs.append(df)"
   ]
  },
  {
   "cell_type": "markdown",
   "metadata": {},
   "source": [
    "**First, let's focus on the candidates. The ultimate goal of this project is to focus on the referring expressions Hillary Clinton and Donald Trump use for each other, but analyzing how they refer to other candidates, and other candidates them can be helpful in comparison.**"
   ]
  },
  {
   "cell_type": "code",
   "execution_count": 14,
   "metadata": {
    "collapsed": true
   },
   "outputs": [],
   "source": [
    "trump = speaker_dfs[0]\n",
    "clinton = speaker_dfs[1]\n",
    "sanders = speaker_dfs[2]\n",
    "rubio = speaker_dfs[3]\n",
    "cruz = speaker_dfs[4]\n",
    "kasich = speaker_dfs[5]\n",
    "bush = speaker_dfs[6]\n",
    "omalley = speaker_dfs[7]\n",
    "christie = speaker_dfs[8]\n",
    "carson = speaker_dfs[9]\n",
    "paul = speaker_dfs[12]\n",
    "fiorina = speaker_dfs[15]\n",
    "huckabee = speaker_dfs[24]\n",
    "walker = speaker_dfs[27]\n",
    "webb = speaker_dfs[31]\n",
    "chafee = speaker_dfs[33]\n"
   ]
  },
  {
   "cell_type": "code",
   "execution_count": 15,
   "metadata": {},
   "outputs": [
    {
     "data": {
      "text/html": [
       "<div>\n",
       "<style>\n",
       "    .dataframe thead tr:only-child th {\n",
       "        text-align: right;\n",
       "    }\n",
       "\n",
       "    .dataframe thead th {\n",
       "        text-align: left;\n",
       "    }\n",
       "\n",
       "    .dataframe tbody tr th {\n",
       "        vertical-align: top;\n",
       "    }\n",
       "</style>\n",
       "<table border=\"1\" class=\"dataframe\">\n",
       "  <thead>\n",
       "    <tr style=\"text-align: right;\">\n",
       "      <th></th>\n",
       "      <th>Date</th>\n",
       "      <th>Debate Type</th>\n",
       "      <th>Speaker</th>\n",
       "      <th>Sents</th>\n",
       "      <th>Tree</th>\n",
       "      <th>Entities</th>\n",
       "    </tr>\n",
       "  </thead>\n",
       "  <tbody>\n",
       "    <tr>\n",
       "      <th>170</th>\n",
       "      <td>1-14-16</td>\n",
       "      <td>primary_rep</td>\n",
       "      <td>TRUMP</td>\n",
       "      <td>It's not fear and terror, it's reality.</td>\n",
       "      <td>[(It, PRP), ('s, VBZ), (not, RB), (fear, JJ), ...</td>\n",
       "      <td>[]</td>\n",
       "    </tr>\n",
       "    <tr>\n",
       "      <th>171</th>\n",
       "      <td>1-14-16</td>\n",
       "      <td>primary_rep</td>\n",
       "      <td>TRUMP</td>\n",
       "      <td>You just have to look today at Indonesia, bomb...</td>\n",
       "      <td>[(You, PRP), (just, RB), (have, VBP), (to, TO)...</td>\n",
       "      <td>[]</td>\n",
       "    </tr>\n",
       "    <tr>\n",
       "      <th>172</th>\n",
       "      <td>1-14-16</td>\n",
       "      <td>primary_rep</td>\n",
       "      <td>TRUMP</td>\n",
       "      <td>[applause]\\n\\nYou look at California, you look...</td>\n",
       "      <td>[([, NN), (applause, NN), (], NNP), (You, PRP)...</td>\n",
       "      <td>[]</td>\n",
       "    </tr>\n",
       "    <tr>\n",
       "      <th>173</th>\n",
       "      <td>1-14-16</td>\n",
       "      <td>primary_rep</td>\n",
       "      <td>TRUMP</td>\n",
       "      <td>They're very, very badly wounded.</td>\n",
       "      <td>[(They, PRP), ('re, VBP), (very, RB), (,, ,), ...</td>\n",
       "      <td>[]</td>\n",
       "    </tr>\n",
       "    <tr>\n",
       "      <th>174</th>\n",
       "      <td>1-14-16</td>\n",
       "      <td>primary_rep</td>\n",
       "      <td>TRUMP</td>\n",
       "      <td>They will — some will follow.</td>\n",
       "      <td>[(They, PRP), (will, MD), (—, VB), (some, DT),...</td>\n",
       "      <td>[]</td>\n",
       "    </tr>\n",
       "  </tbody>\n",
       "</table>\n",
       "</div>"
      ],
      "text/plain": [
       "        Date  Debate Type Speaker  \\\n",
       "170  1-14-16  primary_rep   TRUMP   \n",
       "171  1-14-16  primary_rep   TRUMP   \n",
       "172  1-14-16  primary_rep   TRUMP   \n",
       "173  1-14-16  primary_rep   TRUMP   \n",
       "174  1-14-16  primary_rep   TRUMP   \n",
       "\n",
       "                                                 Sents  \\\n",
       "170            It's not fear and terror, it's reality.   \n",
       "171  You just have to look today at Indonesia, bomb...   \n",
       "172  [applause]\\n\\nYou look at California, you look...   \n",
       "173                  They're very, very badly wounded.   \n",
       "174                      They will — some will follow.   \n",
       "\n",
       "                                                  Tree Entities  \n",
       "170  [(It, PRP), ('s, VBZ), (not, RB), (fear, JJ), ...       []  \n",
       "171  [(You, PRP), (just, RB), (have, VBP), (to, TO)...       []  \n",
       "172  [([, NN), (applause, NN), (], NNP), (You, PRP)...       []  \n",
       "173  [(They, PRP), ('re, VBP), (very, RB), (,, ,), ...       []  \n",
       "174  [(They, PRP), (will, MD), (—, VB), (some, DT),...       []  "
      ]
     },
     "execution_count": 15,
     "metadata": {},
     "output_type": "execute_result"
    }
   ],
   "source": [
    "trump.head()"
   ]
  },
  {
   "cell_type": "code",
   "execution_count": 16,
   "metadata": {},
   "outputs": [
    {
     "data": {
      "text/html": [
       "<div>\n",
       "<style>\n",
       "    .dataframe thead tr:only-child th {\n",
       "        text-align: right;\n",
       "    }\n",
       "\n",
       "    .dataframe thead th {\n",
       "        text-align: left;\n",
       "    }\n",
       "\n",
       "    .dataframe tbody tr th {\n",
       "        vertical-align: top;\n",
       "    }\n",
       "</style>\n",
       "<table border=\"1\" class=\"dataframe\">\n",
       "  <thead>\n",
       "    <tr style=\"text-align: right;\">\n",
       "      <th></th>\n",
       "      <th>Date</th>\n",
       "      <th>Debate Type</th>\n",
       "      <th>Speaker</th>\n",
       "      <th>Sents</th>\n",
       "      <th>Tree</th>\n",
       "      <th>Entities</th>\n",
       "    </tr>\n",
       "  </thead>\n",
       "  <tbody>\n",
       "    <tr>\n",
       "      <th>1617</th>\n",
       "      <td>1-17-16</td>\n",
       "      <td>primary_dem</td>\n",
       "      <td>CLINTON</td>\n",
       "      <td>Well, good evening.</td>\n",
       "      <td>[(Well, RB), (,, ,), (good, JJ), (evening, NN)...</td>\n",
       "      <td>[]</td>\n",
       "    </tr>\n",
       "    <tr>\n",
       "      <th>1618</th>\n",
       "      <td>1-17-16</td>\n",
       "      <td>primary_dem</td>\n",
       "      <td>CLINTON</td>\n",
       "      <td>And I want to thank the Congressional Black Ca...</td>\n",
       "      <td>[(And, CC), (I, PRP), (want, VBP), (to, TO), (...</td>\n",
       "      <td>[]</td>\n",
       "    </tr>\n",
       "    <tr>\n",
       "      <th>1619</th>\n",
       "      <td>1-17-16</td>\n",
       "      <td>primary_dem</td>\n",
       "      <td>CLINTON</td>\n",
       "      <td>You know, I remember well when my youth minist...</td>\n",
       "      <td>[(You, PRP), (know, VBP), (,, ,), (I, PRP), (r...</td>\n",
       "      <td>[]</td>\n",
       "    </tr>\n",
       "    <tr>\n",
       "      <th>1620</th>\n",
       "      <td>1-17-16</td>\n",
       "      <td>primary_dem</td>\n",
       "      <td>CLINTON</td>\n",
       "      <td>I was a teenager.</td>\n",
       "      <td>[(I, PRP), (was, VBD), (a, DT), (teenager, NN)...</td>\n",
       "      <td>[]</td>\n",
       "    </tr>\n",
       "    <tr>\n",
       "      <th>1621</th>\n",
       "      <td>1-17-16</td>\n",
       "      <td>primary_dem</td>\n",
       "      <td>CLINTON</td>\n",
       "      <td>And his moral clarity, the message that he con...</td>\n",
       "      <td>[(And, CC), (his, PRP$), (moral, JJ), (clarity...</td>\n",
       "      <td>[]</td>\n",
       "    </tr>\n",
       "  </tbody>\n",
       "</table>\n",
       "</div>"
      ],
      "text/plain": [
       "         Date  Debate Type  Speaker  \\\n",
       "1617  1-17-16  primary_dem  CLINTON   \n",
       "1618  1-17-16  primary_dem  CLINTON   \n",
       "1619  1-17-16  primary_dem  CLINTON   \n",
       "1620  1-17-16  primary_dem  CLINTON   \n",
       "1621  1-17-16  primary_dem  CLINTON   \n",
       "\n",
       "                                                  Sents  \\\n",
       "1617                                Well, good evening.   \n",
       "1618  And I want to thank the Congressional Black Ca...   \n",
       "1619  You know, I remember well when my youth minist...   \n",
       "1620                                  I was a teenager.   \n",
       "1621  And his moral clarity, the message that he con...   \n",
       "\n",
       "                                                   Tree Entities  \n",
       "1617  [(Well, RB), (,, ,), (good, JJ), (evening, NN)...       []  \n",
       "1618  [(And, CC), (I, PRP), (want, VBP), (to, TO), (...       []  \n",
       "1619  [(You, PRP), (know, VBP), (,, ,), (I, PRP), (r...       []  \n",
       "1620  [(I, PRP), (was, VBD), (a, DT), (teenager, NN)...       []  \n",
       "1621  [(And, CC), (his, PRP$), (moral, JJ), (clarity...       []  "
      ]
     },
     "execution_count": 16,
     "metadata": {},
     "output_type": "execute_result"
    }
   ],
   "source": [
    "clinton.head()"
   ]
  },
  {
   "cell_type": "code",
   "execution_count": 17,
   "metadata": {},
   "outputs": [
    {
     "data": {
      "text/html": [
       "<div>\n",
       "<style>\n",
       "    .dataframe thead tr:only-child th {\n",
       "        text-align: right;\n",
       "    }\n",
       "\n",
       "    .dataframe thead th {\n",
       "        text-align: left;\n",
       "    }\n",
       "\n",
       "    .dataframe tbody tr th {\n",
       "        vertical-align: top;\n",
       "    }\n",
       "</style>\n",
       "<table border=\"1\" class=\"dataframe\">\n",
       "  <thead>\n",
       "    <tr style=\"text-align: right;\">\n",
       "      <th></th>\n",
       "      <th>Date</th>\n",
       "      <th>Debate Type</th>\n",
       "      <th>Speaker</th>\n",
       "      <th>Sents</th>\n",
       "      <th>Tree</th>\n",
       "      <th>Entities</th>\n",
       "    </tr>\n",
       "  </thead>\n",
       "  <tbody>\n",
       "    <tr>\n",
       "      <th>1632</th>\n",
       "      <td>1-17-16</td>\n",
       "      <td>primary_dem</td>\n",
       "      <td>SANDERS</td>\n",
       "      <td>Thank you.</td>\n",
       "      <td>[(Thank, NNP), (you, PRP), (., .)]</td>\n",
       "      <td>[]</td>\n",
       "    </tr>\n",
       "    <tr>\n",
       "      <th>1633</th>\n",
       "      <td>1-17-16</td>\n",
       "      <td>primary_dem</td>\n",
       "      <td>SANDERS</td>\n",
       "      <td>As we honor the extraordinary life of Dr. Mart...</td>\n",
       "      <td>[(As, IN), (we, PRP), (honor, VBP), (the, DT),...</td>\n",
       "      <td>[]</td>\n",
       "    </tr>\n",
       "    <tr>\n",
       "      <th>1634</th>\n",
       "      <td>1-17-16</td>\n",
       "      <td>primary_dem</td>\n",
       "      <td>SANDERS</td>\n",
       "      <td>As we look out at our country today, what the ...</td>\n",
       "      <td>[(As, IN), (we, PRP), (look, VBP), (out, RP), ...</td>\n",
       "      <td>[]</td>\n",
       "    </tr>\n",
       "    <tr>\n",
       "      <th>1635</th>\n",
       "      <td>1-17-16</td>\n",
       "      <td>primary_dem</td>\n",
       "      <td>SANDERS</td>\n",
       "      <td>And then, to make a bad situation worse, we ha...</td>\n",
       "      <td>[(And, CC), (then, RB), (,, ,), (to, TO), (mak...</td>\n",
       "      <td>[]</td>\n",
       "    </tr>\n",
       "    <tr>\n",
       "      <th>1636</th>\n",
       "      <td>1-17-16</td>\n",
       "      <td>primary_dem</td>\n",
       "      <td>SANDERS</td>\n",
       "      <td>This campaign is about a political revolution ...</td>\n",
       "      <td>[(This, DT), (campaign, NN), (is, VBZ), (about...</td>\n",
       "      <td>[]</td>\n",
       "    </tr>\n",
       "  </tbody>\n",
       "</table>\n",
       "</div>"
      ],
      "text/plain": [
       "         Date  Debate Type  Speaker  \\\n",
       "1632  1-17-16  primary_dem  SANDERS   \n",
       "1633  1-17-16  primary_dem  SANDERS   \n",
       "1634  1-17-16  primary_dem  SANDERS   \n",
       "1635  1-17-16  primary_dem  SANDERS   \n",
       "1636  1-17-16  primary_dem  SANDERS   \n",
       "\n",
       "                                                  Sents  \\\n",
       "1632                                         Thank you.   \n",
       "1633  As we honor the extraordinary life of Dr. Mart...   \n",
       "1634  As we look out at our country today, what the ...   \n",
       "1635  And then, to make a bad situation worse, we ha...   \n",
       "1636  This campaign is about a political revolution ...   \n",
       "\n",
       "                                                   Tree Entities  \n",
       "1632                 [(Thank, NNP), (you, PRP), (., .)]       []  \n",
       "1633  [(As, IN), (we, PRP), (honor, VBP), (the, DT),...       []  \n",
       "1634  [(As, IN), (we, PRP), (look, VBP), (out, RP), ...       []  \n",
       "1635  [(And, CC), (then, RB), (,, ,), (to, TO), (mak...       []  \n",
       "1636  [(This, DT), (campaign, NN), (is, VBZ), (about...       []  "
      ]
     },
     "execution_count": 17,
     "metadata": {},
     "output_type": "execute_result"
    }
   ],
   "source": [
    "sanders.head()"
   ]
  },
  {
   "cell_type": "code",
   "execution_count": 18,
   "metadata": {},
   "outputs": [
    {
     "data": {
      "text/html": [
       "<div>\n",
       "<style>\n",
       "    .dataframe thead tr:only-child th {\n",
       "        text-align: right;\n",
       "    }\n",
       "\n",
       "    .dataframe thead th {\n",
       "        text-align: left;\n",
       "    }\n",
       "\n",
       "    .dataframe tbody tr th {\n",
       "        vertical-align: top;\n",
       "    }\n",
       "</style>\n",
       "<table border=\"1\" class=\"dataframe\">\n",
       "  <thead>\n",
       "    <tr style=\"text-align: right;\">\n",
       "      <th></th>\n",
       "      <th>Date</th>\n",
       "      <th>Debate Type</th>\n",
       "      <th>Speaker</th>\n",
       "      <th>Sents</th>\n",
       "      <th>Tree</th>\n",
       "      <th>Entities</th>\n",
       "    </tr>\n",
       "  </thead>\n",
       "  <tbody>\n",
       "    <tr>\n",
       "      <th>133</th>\n",
       "      <td>1-14-16</td>\n",
       "      <td>primary_rep</td>\n",
       "      <td>RUBIO</td>\n",
       "      <td>Yeah, I would go, first of all, one step furt...</td>\n",
       "      <td>[(Yeah, UH), (,, ,), (I, PRP), (would, MD), (g...</td>\n",
       "      <td>[Hillary Clinton]</td>\n",
       "    </tr>\n",
       "    <tr>\n",
       "      <th>134</th>\n",
       "      <td>1-14-16</td>\n",
       "      <td>primary_rep</td>\n",
       "      <td>RUBIO</td>\n",
       "      <td>She wouldn't just be a disaster, Hillary Clint...</td>\n",
       "      <td>[(She, PRP), (would, MD), (n't, RB), (just, RB...</td>\n",
       "      <td>[Hillary Clinton]</td>\n",
       "    </tr>\n",
       "    <tr>\n",
       "      <th>135</th>\n",
       "      <td>1-14-16</td>\n",
       "      <td>primary_rep</td>\n",
       "      <td>RUBIO</td>\n",
       "      <td>[applause]\\n\\nSomeone who cannot handle intell...</td>\n",
       "      <td>[([, NN), (applause, NN), (], NNP), (Someone, ...</td>\n",
       "      <td>[]</td>\n",
       "    </tr>\n",
       "    <tr>\n",
       "      <th>136</th>\n",
       "      <td>1-14-16</td>\n",
       "      <td>primary_rep</td>\n",
       "      <td>RUBIO</td>\n",
       "      <td>Ever.</td>\n",
       "      <td>[(Ever, RB), (., .)]</td>\n",
       "      <td>[]</td>\n",
       "    </tr>\n",
       "    <tr>\n",
       "      <th>137</th>\n",
       "      <td>1-14-16</td>\n",
       "      <td>primary_rep</td>\n",
       "      <td>RUBIO</td>\n",
       "      <td>[applause]\\n\\nOn the issue of Barack Obama, Ba...</td>\n",
       "      <td>[([, NN), (applause, NN), (], NN), (On, IN), (...</td>\n",
       "      <td>[Barack Obama]</td>\n",
       "    </tr>\n",
       "  </tbody>\n",
       "</table>\n",
       "</div>"
      ],
      "text/plain": [
       "        Date  Debate Type Speaker  \\\n",
       "133  1-14-16  primary_rep   RUBIO   \n",
       "134  1-14-16  primary_rep   RUBIO   \n",
       "135  1-14-16  primary_rep   RUBIO   \n",
       "136  1-14-16  primary_rep   RUBIO   \n",
       "137  1-14-16  primary_rep   RUBIO   \n",
       "\n",
       "                                                 Sents  \\\n",
       "133   Yeah, I would go, first of all, one step furt...   \n",
       "134  She wouldn't just be a disaster, Hillary Clint...   \n",
       "135  [applause]\\n\\nSomeone who cannot handle intell...   \n",
       "136                                              Ever.   \n",
       "137  [applause]\\n\\nOn the issue of Barack Obama, Ba...   \n",
       "\n",
       "                                                  Tree           Entities  \n",
       "133  [(Yeah, UH), (,, ,), (I, PRP), (would, MD), (g...  [Hillary Clinton]  \n",
       "134  [(She, PRP), (would, MD), (n't, RB), (just, RB...  [Hillary Clinton]  \n",
       "135  [([, NN), (applause, NN), (], NNP), (Someone, ...                 []  \n",
       "136                               [(Ever, RB), (., .)]                 []  \n",
       "137  [([, NN), (applause, NN), (], NN), (On, IN), (...     [Barack Obama]  "
      ]
     },
     "execution_count": 18,
     "metadata": {},
     "output_type": "execute_result"
    }
   ],
   "source": [
    "rubio.head()"
   ]
  },
  {
   "cell_type": "code",
   "execution_count": 19,
   "metadata": {},
   "outputs": [
    {
     "data": {
      "text/html": [
       "<div>\n",
       "<style>\n",
       "    .dataframe thead tr:only-child th {\n",
       "        text-align: right;\n",
       "    }\n",
       "\n",
       "    .dataframe thead th {\n",
       "        text-align: left;\n",
       "    }\n",
       "\n",
       "    .dataframe tbody tr th {\n",
       "        vertical-align: top;\n",
       "    }\n",
       "</style>\n",
       "<table border=\"1\" class=\"dataframe\">\n",
       "  <thead>\n",
       "    <tr style=\"text-align: right;\">\n",
       "      <th></th>\n",
       "      <th>Date</th>\n",
       "      <th>Debate Type</th>\n",
       "      <th>Speaker</th>\n",
       "      <th>Sents</th>\n",
       "      <th>Tree</th>\n",
       "      <th>Entities</th>\n",
       "    </tr>\n",
       "  </thead>\n",
       "  <tbody>\n",
       "    <tr>\n",
       "      <th>25</th>\n",
       "      <td>1-14-16</td>\n",
       "      <td>primary_rep</td>\n",
       "      <td>CRUZ</td>\n",
       "      <td>Well, Maria, thank you for that question, and...</td>\n",
       "      <td>[(Well, RB), (,, ,), [(Maria, NNP)], (,, ,), (...</td>\n",
       "      <td>[Maria Celeste Arraras]</td>\n",
       "    </tr>\n",
       "    <tr>\n",
       "      <th>26</th>\n",
       "      <td>1-14-16</td>\n",
       "      <td>primary_rep</td>\n",
       "      <td>CRUZ</td>\n",
       "      <td>Let me start — I want to get to the substance ...</td>\n",
       "      <td>[(Let, VB), (me, PRP), (start, VB), (—, FW), (...</td>\n",
       "      <td>[]</td>\n",
       "    </tr>\n",
       "    <tr>\n",
       "      <th>27</th>\n",
       "      <td>1-14-16</td>\n",
       "      <td>primary_rep</td>\n",
       "      <td>CRUZ</td>\n",
       "      <td>Today, many of us picked up our newspapers, an...</td>\n",
       "      <td>[(Today, NN), (,, ,), (many, JJ), (of, IN), (u...</td>\n",
       "      <td>[]</td>\n",
       "    </tr>\n",
       "    <tr>\n",
       "      <th>28</th>\n",
       "      <td>1-14-16</td>\n",
       "      <td>primary_rep</td>\n",
       "      <td>CRUZ</td>\n",
       "      <td>In that State of the Union, President Obama di...</td>\n",
       "      <td>[(In, IN), (that, DT), (State, NNP), (of, IN),...</td>\n",
       "      <td>[Barack Obama]</td>\n",
       "    </tr>\n",
       "    <tr>\n",
       "      <th>29</th>\n",
       "      <td>1-14-16</td>\n",
       "      <td>primary_rep</td>\n",
       "      <td>CRUZ</td>\n",
       "      <td>President Obama's preparing to send $100 billi...</td>\n",
       "      <td>[[(President, NNP), (Obama, NNP)], ('s, POS), ...</td>\n",
       "      <td>[Barack Obama]</td>\n",
       "    </tr>\n",
       "  </tbody>\n",
       "</table>\n",
       "</div>"
      ],
      "text/plain": [
       "       Date  Debate Type Speaker  \\\n",
       "25  1-14-16  primary_rep    CRUZ   \n",
       "26  1-14-16  primary_rep    CRUZ   \n",
       "27  1-14-16  primary_rep    CRUZ   \n",
       "28  1-14-16  primary_rep    CRUZ   \n",
       "29  1-14-16  primary_rep    CRUZ   \n",
       "\n",
       "                                                Sents  \\\n",
       "25   Well, Maria, thank you for that question, and...   \n",
       "26  Let me start — I want to get to the substance ...   \n",
       "27  Today, many of us picked up our newspapers, an...   \n",
       "28  In that State of the Union, President Obama di...   \n",
       "29  President Obama's preparing to send $100 billi...   \n",
       "\n",
       "                                                 Tree                 Entities  \n",
       "25  [(Well, RB), (,, ,), [(Maria, NNP)], (,, ,), (...  [Maria Celeste Arraras]  \n",
       "26  [(Let, VB), (me, PRP), (start, VB), (—, FW), (...                       []  \n",
       "27  [(Today, NN), (,, ,), (many, JJ), (of, IN), (u...                       []  \n",
       "28  [(In, IN), (that, DT), (State, NNP), (of, IN),...           [Barack Obama]  \n",
       "29  [[(President, NNP), (Obama, NNP)], ('s, POS), ...           [Barack Obama]  "
      ]
     },
     "execution_count": 19,
     "metadata": {},
     "output_type": "execute_result"
    }
   ],
   "source": [
    "cruz.head()"
   ]
  },
  {
   "cell_type": "code",
   "execution_count": 20,
   "metadata": {},
   "outputs": [
    {
     "data": {
      "text/html": [
       "<div>\n",
       "<style>\n",
       "    .dataframe thead tr:only-child th {\n",
       "        text-align: right;\n",
       "    }\n",
       "\n",
       "    .dataframe thead th {\n",
       "        text-align: left;\n",
       "    }\n",
       "\n",
       "    .dataframe tbody tr th {\n",
       "        vertical-align: top;\n",
       "    }\n",
       "</style>\n",
       "<table border=\"1\" class=\"dataframe\">\n",
       "  <thead>\n",
       "    <tr style=\"text-align: right;\">\n",
       "      <th></th>\n",
       "      <th>Date</th>\n",
       "      <th>Debate Type</th>\n",
       "      <th>Speaker</th>\n",
       "      <th>Sents</th>\n",
       "      <th>Tree</th>\n",
       "      <th>Entities</th>\n",
       "    </tr>\n",
       "  </thead>\n",
       "  <tbody>\n",
       "    <tr>\n",
       "      <th>48</th>\n",
       "      <td>1-14-16</td>\n",
       "      <td>primary_rep</td>\n",
       "      <td>KASICH</td>\n",
       "      <td>Look, it takes three things basically to grow...</td>\n",
       "      <td>[[(Look, NN)], (,, ,), (it, PRP), (takes, VBZ)...</td>\n",
       "      <td>[]</td>\n",
       "    </tr>\n",
       "    <tr>\n",
       "      <th>49</th>\n",
       "      <td>1-14-16</td>\n",
       "      <td>primary_rep</td>\n",
       "      <td>KASICH</td>\n",
       "      <td>And I've done it when I was in Washington when...</td>\n",
       "      <td>[(And, CC), (I, PRP), ('ve, VBP), (done, VBN),...</td>\n",
       "      <td>[]</td>\n",
       "    </tr>\n",
       "    <tr>\n",
       "      <th>50</th>\n",
       "      <td>1-14-16</td>\n",
       "      <td>primary_rep</td>\n",
       "      <td>KASICH</td>\n",
       "      <td>And our economy was growing like crazy.</td>\n",
       "      <td>[(And, CC), (our, PRP$), (economy, NN), (was, ...</td>\n",
       "      <td>[]</td>\n",
       "    </tr>\n",
       "    <tr>\n",
       "      <th>51</th>\n",
       "      <td>1-14-16</td>\n",
       "      <td>primary_rep</td>\n",
       "      <td>KASICH</td>\n",
       "      <td>It's the same thing that I did in Ohio.</td>\n",
       "      <td>[(It, PRP), ('s, VBZ), (the, DT), (same, JJ), ...</td>\n",
       "      <td>[]</td>\n",
       "    </tr>\n",
       "    <tr>\n",
       "      <th>52</th>\n",
       "      <td>1-14-16</td>\n",
       "      <td>primary_rep</td>\n",
       "      <td>KASICH</td>\n",
       "      <td>It's a simple formula: common sense regulation...</td>\n",
       "      <td>[(It, PRP), ('s, VBZ), (a, DT), (simple, JJ), ...</td>\n",
       "      <td>[]</td>\n",
       "    </tr>\n",
       "  </tbody>\n",
       "</table>\n",
       "</div>"
      ],
      "text/plain": [
       "       Date  Debate Type Speaker  \\\n",
       "48  1-14-16  primary_rep  KASICH   \n",
       "49  1-14-16  primary_rep  KASICH   \n",
       "50  1-14-16  primary_rep  KASICH   \n",
       "51  1-14-16  primary_rep  KASICH   \n",
       "52  1-14-16  primary_rep  KASICH   \n",
       "\n",
       "                                                Sents  \\\n",
       "48   Look, it takes three things basically to grow...   \n",
       "49  And I've done it when I was in Washington when...   \n",
       "50            And our economy was growing like crazy.   \n",
       "51            It's the same thing that I did in Ohio.   \n",
       "52  It's a simple formula: common sense regulation...   \n",
       "\n",
       "                                                 Tree Entities  \n",
       "48  [[(Look, NN)], (,, ,), (it, PRP), (takes, VBZ)...       []  \n",
       "49  [(And, CC), (I, PRP), ('ve, VBP), (done, VBN),...       []  \n",
       "50  [(And, CC), (our, PRP$), (economy, NN), (was, ...       []  \n",
       "51  [(It, PRP), ('s, VBZ), (the, DT), (same, JJ), ...       []  \n",
       "52  [(It, PRP), ('s, VBZ), (a, DT), (simple, JJ), ...       []  "
      ]
     },
     "execution_count": 20,
     "metadata": {},
     "output_type": "execute_result"
    }
   ],
   "source": [
    "kasich.head()"
   ]
  },
  {
   "cell_type": "code",
   "execution_count": 21,
   "metadata": {},
   "outputs": [
    {
     "data": {
      "text/html": [
       "<div>\n",
       "<style>\n",
       "    .dataframe thead tr:only-child th {\n",
       "        text-align: right;\n",
       "    }\n",
       "\n",
       "    .dataframe thead th {\n",
       "        text-align: left;\n",
       "    }\n",
       "\n",
       "    .dataframe tbody tr th {\n",
       "        vertical-align: top;\n",
       "    }\n",
       "</style>\n",
       "<table border=\"1\" class=\"dataframe\">\n",
       "  <thead>\n",
       "    <tr style=\"text-align: right;\">\n",
       "      <th></th>\n",
       "      <th>Date</th>\n",
       "      <th>Debate Type</th>\n",
       "      <th>Speaker</th>\n",
       "      <th>Sents</th>\n",
       "      <th>Tree</th>\n",
       "      <th>Entities</th>\n",
       "    </tr>\n",
       "  </thead>\n",
       "  <tbody>\n",
       "    <tr>\n",
       "      <th>103</th>\n",
       "      <td>1-14-16</td>\n",
       "      <td>primary_rep</td>\n",
       "      <td>BUSH</td>\n",
       "      <td>Well first of all, the idea that somehow we'r...</td>\n",
       "      <td>[(Well, NNP), (first, RB), (of, IN), (all, DT)...</td>\n",
       "      <td>[Barack Obama]</td>\n",
       "    </tr>\n",
       "    <tr>\n",
       "      <th>104</th>\n",
       "      <td>1-14-16</td>\n",
       "      <td>primary_rep</td>\n",
       "      <td>BUSH</td>\n",
       "      <td>The simple fact is that the world has been tor...</td>\n",
       "      <td>[(The, DT), (simple, JJ), (fact, NN), (is, VBZ...</td>\n",
       "      <td>[]</td>\n",
       "    </tr>\n",
       "    <tr>\n",
       "      <th>105</th>\n",
       "      <td>1-14-16</td>\n",
       "      <td>primary_rep</td>\n",
       "      <td>BUSH</td>\n",
       "      <td>Think about it.</td>\n",
       "      <td>[(Think, VBP), (about, IN), (it, PRP), (., .)]</td>\n",
       "      <td>[]</td>\n",
       "    </tr>\n",
       "    <tr>\n",
       "      <th>106</th>\n",
       "      <td>1-14-16</td>\n",
       "      <td>primary_rep</td>\n",
       "      <td>BUSH</td>\n",
       "      <td>With grandiose language, the president talks a...</td>\n",
       "      <td>[(With, IN), (grandiose, JJ), (language, NN), ...</td>\n",
       "      <td>[]</td>\n",
       "    </tr>\n",
       "    <tr>\n",
       "      <th>107</th>\n",
       "      <td>1-14-16</td>\n",
       "      <td>primary_rep</td>\n",
       "      <td>BUSH</td>\n",
       "      <td>He's missing the whole point, that America's l...</td>\n",
       "      <td>[(He, PRP), ('s, VBZ), (missing, VBG), (the, D...</td>\n",
       "      <td>[]</td>\n",
       "    </tr>\n",
       "  </tbody>\n",
       "</table>\n",
       "</div>"
      ],
      "text/plain": [
       "        Date  Debate Type Speaker  \\\n",
       "103  1-14-16  primary_rep    BUSH   \n",
       "104  1-14-16  primary_rep    BUSH   \n",
       "105  1-14-16  primary_rep    BUSH   \n",
       "106  1-14-16  primary_rep    BUSH   \n",
       "107  1-14-16  primary_rep    BUSH   \n",
       "\n",
       "                                                 Sents  \\\n",
       "103   Well first of all, the idea that somehow we'r...   \n",
       "104  The simple fact is that the world has been tor...   \n",
       "105                                    Think about it.   \n",
       "106  With grandiose language, the president talks a...   \n",
       "107  He's missing the whole point, that America's l...   \n",
       "\n",
       "                                                  Tree        Entities  \n",
       "103  [(Well, NNP), (first, RB), (of, IN), (all, DT)...  [Barack Obama]  \n",
       "104  [(The, DT), (simple, JJ), (fact, NN), (is, VBZ...              []  \n",
       "105     [(Think, VBP), (about, IN), (it, PRP), (., .)]              []  \n",
       "106  [(With, IN), (grandiose, JJ), (language, NN), ...              []  \n",
       "107  [(He, PRP), ('s, VBZ), (missing, VBG), (the, D...              []  "
      ]
     },
     "execution_count": 21,
     "metadata": {},
     "output_type": "execute_result"
    }
   ],
   "source": [
    "bush.head()"
   ]
  },
  {
   "cell_type": "code",
   "execution_count": 22,
   "metadata": {},
   "outputs": [
    {
     "data": {
      "text/html": [
       "<div>\n",
       "<style>\n",
       "    .dataframe thead tr:only-child th {\n",
       "        text-align: right;\n",
       "    }\n",
       "\n",
       "    .dataframe thead th {\n",
       "        text-align: left;\n",
       "    }\n",
       "\n",
       "    .dataframe tbody tr th {\n",
       "        vertical-align: top;\n",
       "    }\n",
       "</style>\n",
       "<table border=\"1\" class=\"dataframe\">\n",
       "  <thead>\n",
       "    <tr style=\"text-align: right;\">\n",
       "      <th></th>\n",
       "      <th>Date</th>\n",
       "      <th>Debate Type</th>\n",
       "      <th>Speaker</th>\n",
       "      <th>Sents</th>\n",
       "      <th>Tree</th>\n",
       "      <th>Entities</th>\n",
       "    </tr>\n",
       "  </thead>\n",
       "  <tbody>\n",
       "    <tr>\n",
       "      <th>1639</th>\n",
       "      <td>1-17-16</td>\n",
       "      <td>primary_dem</td>\n",
       "      <td>OMALLEY</td>\n",
       "      <td>Thank you.</td>\n",
       "      <td>[(Thank, NNP), (you, PRP), (., .)]</td>\n",
       "      <td>[]</td>\n",
       "    </tr>\n",
       "    <tr>\n",
       "      <th>1640</th>\n",
       "      <td>1-17-16</td>\n",
       "      <td>primary_dem</td>\n",
       "      <td>OMALLEY</td>\n",
       "      <td>My name is Martin O'Malley, I was born the yea...</td>\n",
       "      <td>[(My, PRP$), (name, NN), (is, VBZ), [(Martin, ...</td>\n",
       "      <td>[Martin O'Malley]</td>\n",
       "    </tr>\n",
       "    <tr>\n",
       "      <th>1641</th>\n",
       "      <td>1-17-16</td>\n",
       "      <td>primary_dem</td>\n",
       "      <td>OMALLEY</td>\n",
       "      <td>And I want to thank the people of South Caroli...</td>\n",
       "      <td>[(And, CC), (I, PRP), (want, VBP), (to, TO), (...</td>\n",
       "      <td>[]</td>\n",
       "    </tr>\n",
       "    <tr>\n",
       "      <th>1642</th>\n",
       "      <td>1-17-16</td>\n",
       "      <td>primary_dem</td>\n",
       "      <td>OMALLEY</td>\n",
       "      <td>You taught us, in fact, in keeping with Dr. Ki...</td>\n",
       "      <td>[(You, PRP), (taught, VBP), (us, PRP), (,, ,),...</td>\n",
       "      <td>[]</td>\n",
       "    </tr>\n",
       "    <tr>\n",
       "      <th>1643</th>\n",
       "      <td>1-17-16</td>\n",
       "      <td>primary_dem</td>\n",
       "      <td>OMALLEY</td>\n",
       "      <td>Eight years ago, you brought forward a new lea...</td>\n",
       "      <td>[(Eight, CD), (years, NNS), (ago, RB), (,, ,),...</td>\n",
       "      <td>[Barack Obama]</td>\n",
       "    </tr>\n",
       "  </tbody>\n",
       "</table>\n",
       "</div>"
      ],
      "text/plain": [
       "         Date  Debate Type  Speaker  \\\n",
       "1639  1-17-16  primary_dem  OMALLEY   \n",
       "1640  1-17-16  primary_dem  OMALLEY   \n",
       "1641  1-17-16  primary_dem  OMALLEY   \n",
       "1642  1-17-16  primary_dem  OMALLEY   \n",
       "1643  1-17-16  primary_dem  OMALLEY   \n",
       "\n",
       "                                                  Sents  \\\n",
       "1639                                         Thank you.   \n",
       "1640  My name is Martin O'Malley, I was born the yea...   \n",
       "1641  And I want to thank the people of South Caroli...   \n",
       "1642  You taught us, in fact, in keeping with Dr. Ki...   \n",
       "1643  Eight years ago, you brought forward a new lea...   \n",
       "\n",
       "                                                   Tree           Entities  \n",
       "1639                 [(Thank, NNP), (you, PRP), (., .)]                 []  \n",
       "1640  [(My, PRP$), (name, NN), (is, VBZ), [(Martin, ...  [Martin O'Malley]  \n",
       "1641  [(And, CC), (I, PRP), (want, VBP), (to, TO), (...                 []  \n",
       "1642  [(You, PRP), (taught, VBP), (us, PRP), (,, ,),...                 []  \n",
       "1643  [(Eight, CD), (years, NNS), (ago, RB), (,, ,),...     [Barack Obama]  "
      ]
     },
     "execution_count": 22,
     "metadata": {},
     "output_type": "execute_result"
    }
   ],
   "source": [
    "omalley.head()"
   ]
  },
  {
   "cell_type": "code",
   "execution_count": 23,
   "metadata": {},
   "outputs": [
    {
     "data": {
      "text/html": [
       "<div>\n",
       "<style>\n",
       "    .dataframe thead tr:only-child th {\n",
       "        text-align: right;\n",
       "    }\n",
       "\n",
       "    .dataframe thead th {\n",
       "        text-align: left;\n",
       "    }\n",
       "\n",
       "    .dataframe tbody tr th {\n",
       "        vertical-align: top;\n",
       "    }\n",
       "</style>\n",
       "<table border=\"1\" class=\"dataframe\">\n",
       "  <thead>\n",
       "    <tr style=\"text-align: right;\">\n",
       "      <th></th>\n",
       "      <th>Date</th>\n",
       "      <th>Debate Type</th>\n",
       "      <th>Speaker</th>\n",
       "      <th>Sents</th>\n",
       "      <th>Tree</th>\n",
       "      <th>Entities</th>\n",
       "    </tr>\n",
       "  </thead>\n",
       "  <tbody>\n",
       "    <tr>\n",
       "      <th>76</th>\n",
       "      <td>1-14-16</td>\n",
       "      <td>primary_rep</td>\n",
       "      <td>CHRISTIE</td>\n",
       "      <td>Well, Maria, I'm glad to have heard from you ...</td>\n",
       "      <td>[(Well, RB), (,, ,), [(Maria, NNP)], (,, ,), (...</td>\n",
       "      <td>[Maria Celeste Arraras]</td>\n",
       "    </tr>\n",
       "    <tr>\n",
       "      <th>77</th>\n",
       "      <td>1-14-16</td>\n",
       "      <td>primary_rep</td>\n",
       "      <td>CHRISTIE</td>\n",
       "      <td>Because Tuesday night, I watched story time wi...</td>\n",
       "      <td>[(Because, IN), (Tuesday, NNP), (night, NN), (...</td>\n",
       "      <td>[Barack Obama]</td>\n",
       "    </tr>\n",
       "    <tr>\n",
       "      <th>78</th>\n",
       "      <td>1-14-16</td>\n",
       "      <td>primary_rep</td>\n",
       "      <td>CHRISTIE</td>\n",
       "      <td>And I've got to tell you, it sounded like ever...</td>\n",
       "      <td>[(And, CC), (I, PRP), ('ve, VBP), (got, VBN), ...</td>\n",
       "      <td>[]</td>\n",
       "    </tr>\n",
       "    <tr>\n",
       "      <th>79</th>\n",
       "      <td>1-14-16</td>\n",
       "      <td>primary_rep</td>\n",
       "      <td>CHRISTIE</td>\n",
       "      <td>[applause]\\n\\nThe fact is, there's a number of...</td>\n",
       "      <td>[([, NN), (applause, NN), (], VBZ), (The, DT),...</td>\n",
       "      <td>[]</td>\n",
       "    </tr>\n",
       "    <tr>\n",
       "      <th>80</th>\n",
       "      <td>1-14-16</td>\n",
       "      <td>primary_rep</td>\n",
       "      <td>CHRISTIE</td>\n",
       "      <td>The first thing is we have to strengthen our a...</td>\n",
       "      <td>[(The, DT), (first, JJ), (thing, NN), (is, VBZ...</td>\n",
       "      <td>[]</td>\n",
       "    </tr>\n",
       "  </tbody>\n",
       "</table>\n",
       "</div>"
      ],
      "text/plain": [
       "       Date  Debate Type   Speaker  \\\n",
       "76  1-14-16  primary_rep  CHRISTIE   \n",
       "77  1-14-16  primary_rep  CHRISTIE   \n",
       "78  1-14-16  primary_rep  CHRISTIE   \n",
       "79  1-14-16  primary_rep  CHRISTIE   \n",
       "80  1-14-16  primary_rep  CHRISTIE   \n",
       "\n",
       "                                                Sents  \\\n",
       "76   Well, Maria, I'm glad to have heard from you ...   \n",
       "77  Because Tuesday night, I watched story time wi...   \n",
       "78  And I've got to tell you, it sounded like ever...   \n",
       "79  [applause]\\n\\nThe fact is, there's a number of...   \n",
       "80  The first thing is we have to strengthen our a...   \n",
       "\n",
       "                                                 Tree                 Entities  \n",
       "76  [(Well, RB), (,, ,), [(Maria, NNP)], (,, ,), (...  [Maria Celeste Arraras]  \n",
       "77  [(Because, IN), (Tuesday, NNP), (night, NN), (...           [Barack Obama]  \n",
       "78  [(And, CC), (I, PRP), ('ve, VBP), (got, VBN), ...                       []  \n",
       "79  [([, NN), (applause, NN), (], VBZ), (The, DT),...                       []  \n",
       "80  [(The, DT), (first, JJ), (thing, NN), (is, VBZ...                       []  "
      ]
     },
     "execution_count": 23,
     "metadata": {},
     "output_type": "execute_result"
    }
   ],
   "source": [
    "christie.head()"
   ]
  },
  {
   "cell_type": "code",
   "execution_count": 24,
   "metadata": {},
   "outputs": [
    {
     "data": {
      "text/html": [
       "<div>\n",
       "<style>\n",
       "    .dataframe thead tr:only-child th {\n",
       "        text-align: right;\n",
       "    }\n",
       "\n",
       "    .dataframe thead th {\n",
       "        text-align: left;\n",
       "    }\n",
       "\n",
       "    .dataframe tbody tr th {\n",
       "        vertical-align: top;\n",
       "    }\n",
       "</style>\n",
       "<table border=\"1\" class=\"dataframe\">\n",
       "  <thead>\n",
       "    <tr style=\"text-align: right;\">\n",
       "      <th></th>\n",
       "      <th>Date</th>\n",
       "      <th>Debate Type</th>\n",
       "      <th>Speaker</th>\n",
       "      <th>Sents</th>\n",
       "      <th>Tree</th>\n",
       "      <th>Entities</th>\n",
       "    </tr>\n",
       "  </thead>\n",
       "  <tbody>\n",
       "    <tr>\n",
       "      <th>150</th>\n",
       "      <td>1-14-16</td>\n",
       "      <td>primary_rep</td>\n",
       "      <td>CARSON</td>\n",
       "      <td>Well, I'm very happy to get a question this e...</td>\n",
       "      <td>[(Well, RB), (,, ,), (I, PRP), ('m, VBP), (ver...</td>\n",
       "      <td>[]</td>\n",
       "    </tr>\n",
       "    <tr>\n",
       "      <th>151</th>\n",
       "      <td>1-14-16</td>\n",
       "      <td>primary_rep</td>\n",
       "      <td>CARSON</td>\n",
       "      <td>I was going to ask you to wake me up when that...</td>\n",
       "      <td>[(I, PRP), (was, VBD), (going, VBG), (to, TO),...</td>\n",
       "      <td>[]</td>\n",
       "    </tr>\n",
       "    <tr>\n",
       "      <th>152</th>\n",
       "      <td>1-14-16</td>\n",
       "      <td>primary_rep</td>\n",
       "      <td>CARSON</td>\n",
       "      <td>[laughter]\\n\\nYou know, I find it really quite...</td>\n",
       "      <td>[([, JJ), (laughter, NN), (], NNP), (You, PRP)...</td>\n",
       "      <td>[]</td>\n",
       "    </tr>\n",
       "    <tr>\n",
       "      <th>153</th>\n",
       "      <td>1-14-16</td>\n",
       "      <td>primary_rep</td>\n",
       "      <td>CARSON</td>\n",
       "      <td>The fact of the matter is he doesn't realize t...</td>\n",
       "      <td>[(The, DT), (fact, NN), (of, IN), (the, DT), (...</td>\n",
       "      <td>[]</td>\n",
       "    </tr>\n",
       "    <tr>\n",
       "      <th>154</th>\n",
       "      <td>1-14-16</td>\n",
       "      <td>primary_rep</td>\n",
       "      <td>CARSON</td>\n",
       "      <td>Not armies massively marching on each other an...</td>\n",
       "      <td>[(Not, RB), (armies, NNS), (massively, RB), (m...</td>\n",
       "      <td>[]</td>\n",
       "    </tr>\n",
       "  </tbody>\n",
       "</table>\n",
       "</div>"
      ],
      "text/plain": [
       "        Date  Debate Type Speaker  \\\n",
       "150  1-14-16  primary_rep  CARSON   \n",
       "151  1-14-16  primary_rep  CARSON   \n",
       "152  1-14-16  primary_rep  CARSON   \n",
       "153  1-14-16  primary_rep  CARSON   \n",
       "154  1-14-16  primary_rep  CARSON   \n",
       "\n",
       "                                                 Sents  \\\n",
       "150   Well, I'm very happy to get a question this e...   \n",
       "151  I was going to ask you to wake me up when that...   \n",
       "152  [laughter]\\n\\nYou know, I find it really quite...   \n",
       "153  The fact of the matter is he doesn't realize t...   \n",
       "154  Not armies massively marching on each other an...   \n",
       "\n",
       "                                                  Tree Entities  \n",
       "150  [(Well, RB), (,, ,), (I, PRP), ('m, VBP), (ver...       []  \n",
       "151  [(I, PRP), (was, VBD), (going, VBG), (to, TO),...       []  \n",
       "152  [([, JJ), (laughter, NN), (], NNP), (You, PRP)...       []  \n",
       "153  [(The, DT), (fact, NN), (of, IN), (the, DT), (...       []  \n",
       "154  [(Not, RB), (armies, NNS), (massively, RB), (m...       []  "
      ]
     },
     "execution_count": 24,
     "metadata": {},
     "output_type": "execute_result"
    }
   ],
   "source": [
    "carson.head()"
   ]
  },
  {
   "cell_type": "code",
   "execution_count": 25,
   "metadata": {},
   "outputs": [
    {
     "data": {
      "text/html": [
       "<div>\n",
       "<style>\n",
       "    .dataframe thead tr:only-child th {\n",
       "        text-align: right;\n",
       "    }\n",
       "\n",
       "    .dataframe thead th {\n",
       "        text-align: left;\n",
       "    }\n",
       "\n",
       "    .dataframe tbody tr th {\n",
       "        vertical-align: top;\n",
       "    }\n",
       "</style>\n",
       "<table border=\"1\" class=\"dataframe\">\n",
       "  <thead>\n",
       "    <tr style=\"text-align: right;\">\n",
       "      <th></th>\n",
       "      <th>Date</th>\n",
       "      <th>Debate Type</th>\n",
       "      <th>Speaker</th>\n",
       "      <th>Sents</th>\n",
       "      <th>Tree</th>\n",
       "      <th>Entities</th>\n",
       "    </tr>\n",
       "  </thead>\n",
       "  <tbody>\n",
       "    <tr>\n",
       "      <th>4172</th>\n",
       "      <td>1-28-16</td>\n",
       "      <td>primary_rep</td>\n",
       "      <td>PAUL</td>\n",
       "      <td>You know, I've always had a great deal of res...</td>\n",
       "      <td>[(You, PRP), (know, VBP), (,, ,), (I, PRP), ('...</td>\n",
       "      <td>[]</td>\n",
       "    </tr>\n",
       "    <tr>\n",
       "      <th>4173</th>\n",
       "      <td>1-28-16</td>\n",
       "      <td>primary_rep</td>\n",
       "      <td>PAUL</td>\n",
       "      <td>There's probably no person I respect more in t...</td>\n",
       "      <td>[(There, EX), ('s, VBZ), (probably, RB), (no, ...</td>\n",
       "      <td>[]</td>\n",
       "    </tr>\n",
       "    <tr>\n",
       "      <th>4174</th>\n",
       "      <td>1-28-16</td>\n",
       "      <td>primary_rep</td>\n",
       "      <td>PAUL</td>\n",
       "      <td>I think he was probably the most honest man in...</td>\n",
       "      <td>[(I, PRP), (think, VBP), (he, PRP), (was, VBD)...</td>\n",
       "      <td>[]</td>\n",
       "    </tr>\n",
       "    <tr>\n",
       "      <th>4175</th>\n",
       "      <td>1-28-16</td>\n",
       "      <td>primary_rep</td>\n",
       "      <td>PAUL</td>\n",
       "      <td>And so in no way have I ever said that I don't...</td>\n",
       "      <td>[(And, CC), (so, RB), (in, IN), (no, DT), (way...</td>\n",
       "      <td>[]</td>\n",
       "    </tr>\n",
       "    <tr>\n",
       "      <th>4176</th>\n",
       "      <td>1-28-16</td>\n",
       "      <td>primary_rep</td>\n",
       "      <td>PAUL</td>\n",
       "      <td>I think what's interesting about where that li...</td>\n",
       "      <td>[(I, PRP), (think, VBP), (what, WP), ('s, VBZ)...</td>\n",
       "      <td>[Ted Cruz]</td>\n",
       "    </tr>\n",
       "  </tbody>\n",
       "</table>\n",
       "</div>"
      ],
      "text/plain": [
       "         Date  Debate Type Speaker  \\\n",
       "4172  1-28-16  primary_rep    PAUL   \n",
       "4173  1-28-16  primary_rep    PAUL   \n",
       "4174  1-28-16  primary_rep    PAUL   \n",
       "4175  1-28-16  primary_rep    PAUL   \n",
       "4176  1-28-16  primary_rep    PAUL   \n",
       "\n",
       "                                                  Sents  \\\n",
       "4172   You know, I've always had a great deal of res...   \n",
       "4173  There's probably no person I respect more in t...   \n",
       "4174  I think he was probably the most honest man in...   \n",
       "4175  And so in no way have I ever said that I don't...   \n",
       "4176  I think what's interesting about where that li...   \n",
       "\n",
       "                                                   Tree    Entities  \n",
       "4172  [(You, PRP), (know, VBP), (,, ,), (I, PRP), ('...          []  \n",
       "4173  [(There, EX), ('s, VBZ), (probably, RB), (no, ...          []  \n",
       "4174  [(I, PRP), (think, VBP), (he, PRP), (was, VBD)...          []  \n",
       "4175  [(And, CC), (so, RB), (in, IN), (no, DT), (way...          []  \n",
       "4176  [(I, PRP), (think, VBP), (what, WP), ('s, VBZ)...  [Ted Cruz]  "
      ]
     },
     "execution_count": 25,
     "metadata": {},
     "output_type": "execute_result"
    }
   ],
   "source": [
    "paul.head()"
   ]
  },
  {
   "cell_type": "code",
   "execution_count": 26,
   "metadata": {},
   "outputs": [
    {
     "data": {
      "text/html": [
       "<div>\n",
       "<style>\n",
       "    .dataframe thead tr:only-child th {\n",
       "        text-align: right;\n",
       "    }\n",
       "\n",
       "    .dataframe thead th {\n",
       "        text-align: left;\n",
       "    }\n",
       "\n",
       "    .dataframe tbody tr th {\n",
       "        vertical-align: top;\n",
       "    }\n",
       "</style>\n",
       "<table border=\"1\" class=\"dataframe\">\n",
       "  <thead>\n",
       "    <tr style=\"text-align: right;\">\n",
       "      <th></th>\n",
       "      <th>Date</th>\n",
       "      <th>Debate Type</th>\n",
       "      <th>Speaker</th>\n",
       "      <th>Sents</th>\n",
       "      <th>Tree</th>\n",
       "      <th>Entities</th>\n",
       "    </tr>\n",
       "  </thead>\n",
       "  <tbody>\n",
       "    <tr>\n",
       "      <th>8415</th>\n",
       "      <td>10-28-15</td>\n",
       "      <td>primary_rep</td>\n",
       "      <td>FIORINA</td>\n",
       "      <td>Well, gee, after the last debate, I was told ...</td>\n",
       "      <td>[(Well, RB), (,, ,), (gee, NNS), (,, ,), (afte...</td>\n",
       "      <td>[]</td>\n",
       "    </tr>\n",
       "    <tr>\n",
       "      <th>8416</th>\n",
       "      <td>10-28-15</td>\n",
       "      <td>primary_rep</td>\n",
       "      <td>FIORINA</td>\n",
       "      <td>[laughter]</td>\n",
       "      <td>[([, JJ), (laughter, NN), (], NN)]</td>\n",
       "      <td>[]</td>\n",
       "    </tr>\n",
       "    <tr>\n",
       "      <th>8418</th>\n",
       "      <td>10-28-15</td>\n",
       "      <td>primary_rep</td>\n",
       "      <td>FIORINA</td>\n",
       "      <td>But I also think that these are very serious ...</td>\n",
       "      <td>[(But, CC), (I, PRP), (also, RB), (think, VBP)...</td>\n",
       "      <td>[]</td>\n",
       "    </tr>\n",
       "    <tr>\n",
       "      <th>8419</th>\n",
       "      <td>10-28-15</td>\n",
       "      <td>primary_rep</td>\n",
       "      <td>FIORINA</td>\n",
       "      <td>I agree with them.</td>\n",
       "      <td>[(I, PRP), (agree, VBP), (with, IN), (them, PR...</td>\n",
       "      <td>[]</td>\n",
       "    </tr>\n",
       "    <tr>\n",
       "      <th>8420</th>\n",
       "      <td>10-28-15</td>\n",
       "      <td>primary_rep</td>\n",
       "      <td>FIORINA</td>\n",
       "      <td>And this big powerful, corrupt bureaucracy wor...</td>\n",
       "      <td>[(And, CC), (this, DT), (big, JJ), (powerful, ...</td>\n",
       "      <td>[]</td>\n",
       "    </tr>\n",
       "  </tbody>\n",
       "</table>\n",
       "</div>"
      ],
      "text/plain": [
       "          Date  Debate Type  Speaker  \\\n",
       "8415  10-28-15  primary_rep  FIORINA   \n",
       "8416  10-28-15  primary_rep  FIORINA   \n",
       "8418  10-28-15  primary_rep  FIORINA   \n",
       "8419  10-28-15  primary_rep  FIORINA   \n",
       "8420  10-28-15  primary_rep  FIORINA   \n",
       "\n",
       "                                                  Sents  \\\n",
       "8415   Well, gee, after the last debate, I was told ...   \n",
       "8416                                         [laughter]   \n",
       "8418   But I also think that these are very serious ...   \n",
       "8419                                 I agree with them.   \n",
       "8420  And this big powerful, corrupt bureaucracy wor...   \n",
       "\n",
       "                                                   Tree Entities  \n",
       "8415  [(Well, RB), (,, ,), (gee, NNS), (,, ,), (afte...       []  \n",
       "8416                 [([, JJ), (laughter, NN), (], NN)]       []  \n",
       "8418  [(But, CC), (I, PRP), (also, RB), (think, VBP)...       []  \n",
       "8419  [(I, PRP), (agree, VBP), (with, IN), (them, PR...       []  \n",
       "8420  [(And, CC), (this, DT), (big, JJ), (powerful, ...       []  "
      ]
     },
     "execution_count": 26,
     "metadata": {},
     "output_type": "execute_result"
    }
   ],
   "source": [
    "fiorina.head()"
   ]
  },
  {
   "cell_type": "code",
   "execution_count": 27,
   "metadata": {},
   "outputs": [
    {
     "data": {
      "text/html": [
       "<div>\n",
       "<style>\n",
       "    .dataframe thead tr:only-child th {\n",
       "        text-align: right;\n",
       "    }\n",
       "\n",
       "    .dataframe thead th {\n",
       "        text-align: left;\n",
       "    }\n",
       "\n",
       "    .dataframe tbody tr th {\n",
       "        vertical-align: top;\n",
       "    }\n",
       "</style>\n",
       "<table border=\"1\" class=\"dataframe\">\n",
       "  <thead>\n",
       "    <tr style=\"text-align: right;\">\n",
       "      <th></th>\n",
       "      <th>Date</th>\n",
       "      <th>Debate Type</th>\n",
       "      <th>Speaker</th>\n",
       "      <th>Sents</th>\n",
       "      <th>Tree</th>\n",
       "      <th>Entities</th>\n",
       "    </tr>\n",
       "  </thead>\n",
       "  <tbody>\n",
       "    <tr>\n",
       "      <th>8377</th>\n",
       "      <td>10-28-15</td>\n",
       "      <td>primary_rep</td>\n",
       "      <td>HUCKABEE</td>\n",
       "      <td>Well, John, I don't really have any weaknesse...</td>\n",
       "      <td>[(Well, RB), (,, ,), [(John, NNP)], (,, ,), (I...</td>\n",
       "      <td>[]</td>\n",
       "    </tr>\n",
       "    <tr>\n",
       "      <th>8378</th>\n",
       "      <td>10-28-15</td>\n",
       "      <td>primary_rep</td>\n",
       "      <td>HUCKABEE</td>\n",
       "      <td>[laughter]\\n\\nBut my wife is down here in the ...</td>\n",
       "      <td>[([, JJ), (laughter, NN), (], NN), (But, CC), ...</td>\n",
       "      <td>[]</td>\n",
       "    </tr>\n",
       "    <tr>\n",
       "      <th>8379</th>\n",
       "      <td>10-28-15</td>\n",
       "      <td>primary_rep</td>\n",
       "      <td>HUCKABEE</td>\n",
       "      <td>If I have a weakness, it's that I try to live ...</td>\n",
       "      <td>[(If, IN), (I, PRP), (have, VBP), (a, DT), (we...</td>\n",
       "      <td>[]</td>\n",
       "    </tr>\n",
       "    <tr>\n",
       "      <th>8380</th>\n",
       "      <td>10-28-15</td>\n",
       "      <td>primary_rep</td>\n",
       "      <td>HUCKABEE</td>\n",
       "      <td>I try to live by the rules, no matter what the...</td>\n",
       "      <td>[(I, PRP), (try, VBP), (to, TO), (live, VB), (...</td>\n",
       "      <td>[]</td>\n",
       "    </tr>\n",
       "    <tr>\n",
       "      <th>8381</th>\n",
       "      <td>10-28-15</td>\n",
       "      <td>primary_rep</td>\n",
       "      <td>HUCKABEE</td>\n",
       "      <td>Play by the rules.</td>\n",
       "      <td>[[(Play, NN)], (by, IN), (the, DT), (rules, NN...</td>\n",
       "      <td>[]</td>\n",
       "    </tr>\n",
       "  </tbody>\n",
       "</table>\n",
       "</div>"
      ],
      "text/plain": [
       "          Date  Debate Type   Speaker  \\\n",
       "8377  10-28-15  primary_rep  HUCKABEE   \n",
       "8378  10-28-15  primary_rep  HUCKABEE   \n",
       "8379  10-28-15  primary_rep  HUCKABEE   \n",
       "8380  10-28-15  primary_rep  HUCKABEE   \n",
       "8381  10-28-15  primary_rep  HUCKABEE   \n",
       "\n",
       "                                                  Sents  \\\n",
       "8377   Well, John, I don't really have any weaknesse...   \n",
       "8378  [laughter]\\n\\nBut my wife is down here in the ...   \n",
       "8379  If I have a weakness, it's that I try to live ...   \n",
       "8380  I try to live by the rules, no matter what the...   \n",
       "8381                                 Play by the rules.   \n",
       "\n",
       "                                                   Tree Entities  \n",
       "8377  [(Well, RB), (,, ,), [(John, NNP)], (,, ,), (I...       []  \n",
       "8378  [([, JJ), (laughter, NN), (], NN), (But, CC), ...       []  \n",
       "8379  [(If, IN), (I, PRP), (have, VBP), (a, DT), (we...       []  \n",
       "8380  [(I, PRP), (try, VBP), (to, TO), (live, VB), (...       []  \n",
       "8381  [[(Play, NN)], (by, IN), (the, DT), (rules, NN...       []  "
      ]
     },
     "execution_count": 27,
     "metadata": {},
     "output_type": "execute_result"
    }
   ],
   "source": [
    "huckabee.head()"
   ]
  },
  {
   "cell_type": "code",
   "execution_count": 28,
   "metadata": {},
   "outputs": [
    {
     "data": {
      "text/html": [
       "<div>\n",
       "<style>\n",
       "    .dataframe thead tr:only-child th {\n",
       "        text-align: right;\n",
       "    }\n",
       "\n",
       "    .dataframe thead th {\n",
       "        text-align: left;\n",
       "    }\n",
       "\n",
       "    .dataframe tbody tr th {\n",
       "        vertical-align: top;\n",
       "    }\n",
       "</style>\n",
       "<table border=\"1\" class=\"dataframe\">\n",
       "  <thead>\n",
       "    <tr style=\"text-align: right;\">\n",
       "      <th></th>\n",
       "      <th>Date</th>\n",
       "      <th>Debate Type</th>\n",
       "      <th>Speaker</th>\n",
       "      <th>Sents</th>\n",
       "      <th>Tree</th>\n",
       "      <th>Entities</th>\n",
       "    </tr>\n",
       "  </thead>\n",
       "  <tbody>\n",
       "    <tr>\n",
       "      <th>31878</th>\n",
       "      <td>8-6-15</td>\n",
       "      <td>primary_rep</td>\n",
       "      <td>WALKER</td>\n",
       "      <td>Well, I'm pro-life, I've always been pro-life...</td>\n",
       "      <td>[(Well, RB), (,, ,), (I, PRP), ('m, VBP), (pro...</td>\n",
       "      <td>[]</td>\n",
       "    </tr>\n",
       "    <tr>\n",
       "      <th>31879</th>\n",
       "      <td>8-6-15</td>\n",
       "      <td>primary_rep</td>\n",
       "      <td>WALKER</td>\n",
       "      <td>That's been consistently proven.</td>\n",
       "      <td>[(That, DT), ('s, VBZ), (been, VBN), (consiste...</td>\n",
       "      <td>[]</td>\n",
       "    </tr>\n",
       "    <tr>\n",
       "      <th>31880</th>\n",
       "      <td>8-6-15</td>\n",
       "      <td>primary_rep</td>\n",
       "      <td>WALKER</td>\n",
       "      <td>Unlike Hillary Clinton, who has a radical posi...</td>\n",
       "      <td>[(Unlike, IN), [(Hillary, NNP), (Clinton, NNP)...</td>\n",
       "      <td>[Hillary Clinton]</td>\n",
       "    </tr>\n",
       "    <tr>\n",
       "      <th>31881</th>\n",
       "      <td>8-6-15</td>\n",
       "      <td>primary_rep</td>\n",
       "      <td>WALKER</td>\n",
       "      <td>[applause]</td>\n",
       "      <td>[([, NN), (applause, NN), (], NN)]</td>\n",
       "      <td>[]</td>\n",
       "    </tr>\n",
       "    <tr>\n",
       "      <th>32039</th>\n",
       "      <td>8-6-15</td>\n",
       "      <td>primary_rep</td>\n",
       "      <td>WALKER</td>\n",
       "      <td>Chris, I actually said that on your show earl...</td>\n",
       "      <td>[[(Chris, NNP)], (,, ,), (I, PRP), (actually, ...</td>\n",
       "      <td>[Chris Christie]</td>\n",
       "    </tr>\n",
       "  </tbody>\n",
       "</table>\n",
       "</div>"
      ],
      "text/plain": [
       "         Date  Debate Type Speaker  \\\n",
       "31878  8-6-15  primary_rep  WALKER   \n",
       "31879  8-6-15  primary_rep  WALKER   \n",
       "31880  8-6-15  primary_rep  WALKER   \n",
       "31881  8-6-15  primary_rep  WALKER   \n",
       "32039  8-6-15  primary_rep  WALKER   \n",
       "\n",
       "                                                   Sents  \\\n",
       "31878   Well, I'm pro-life, I've always been pro-life...   \n",
       "31879                   That's been consistently proven.   \n",
       "31880  Unlike Hillary Clinton, who has a radical posi...   \n",
       "31881                                         [applause]   \n",
       "32039   Chris, I actually said that on your show earl...   \n",
       "\n",
       "                                                    Tree           Entities  \n",
       "31878  [(Well, RB), (,, ,), (I, PRP), ('m, VBP), (pro...                 []  \n",
       "31879  [(That, DT), ('s, VBZ), (been, VBN), (consiste...                 []  \n",
       "31880  [(Unlike, IN), [(Hillary, NNP), (Clinton, NNP)...  [Hillary Clinton]  \n",
       "31881                 [([, NN), (applause, NN), (], NN)]                 []  \n",
       "32039  [[(Chris, NNP)], (,, ,), (I, PRP), (actually, ...   [Chris Christie]  "
      ]
     },
     "execution_count": 28,
     "metadata": {},
     "output_type": "execute_result"
    }
   ],
   "source": [
    "walker.head()"
   ]
  },
  {
   "cell_type": "code",
   "execution_count": 29,
   "metadata": {},
   "outputs": [
    {
     "data": {
      "text/html": [
       "<div>\n",
       "<style>\n",
       "    .dataframe thead tr:only-child th {\n",
       "        text-align: right;\n",
       "    }\n",
       "\n",
       "    .dataframe thead th {\n",
       "        text-align: left;\n",
       "    }\n",
       "\n",
       "    .dataframe tbody tr th {\n",
       "        vertical-align: top;\n",
       "    }\n",
       "</style>\n",
       "<table border=\"1\" class=\"dataframe\">\n",
       "  <thead>\n",
       "    <tr style=\"text-align: right;\">\n",
       "      <th></th>\n",
       "      <th>Date</th>\n",
       "      <th>Debate Type</th>\n",
       "      <th>Speaker</th>\n",
       "      <th>Sents</th>\n",
       "      <th>Tree</th>\n",
       "      <th>Entities</th>\n",
       "    </tr>\n",
       "  </thead>\n",
       "  <tbody>\n",
       "    <tr>\n",
       "      <th>5493</th>\n",
       "      <td>10-13-15</td>\n",
       "      <td>primary_dem</td>\n",
       "      <td>WEBB</td>\n",
       "      <td>Thank you.</td>\n",
       "      <td>[(Thank, NNP), (you, PRP), (., .)]</td>\n",
       "      <td>[]</td>\n",
       "    </tr>\n",
       "    <tr>\n",
       "      <th>5494</th>\n",
       "      <td>10-13-15</td>\n",
       "      <td>primary_dem</td>\n",
       "      <td>WEBB</td>\n",
       "      <td>You know, people are disgusted with the way th...</td>\n",
       "      <td>[(You, PRP), (know, VBP), (,, ,), (people, NNS...</td>\n",
       "      <td>[]</td>\n",
       "    </tr>\n",
       "    <tr>\n",
       "      <th>5495</th>\n",
       "      <td>10-13-15</td>\n",
       "      <td>primary_dem</td>\n",
       "      <td>WEBB</td>\n",
       "      <td>They're looking for a leader who understands h...</td>\n",
       "      <td>[(They, PRP), ('re, VBP), (looking, VBG), (for...</td>\n",
       "      <td>[]</td>\n",
       "    </tr>\n",
       "    <tr>\n",
       "      <th>5496</th>\n",
       "      <td>10-13-15</td>\n",
       "      <td>primary_dem</td>\n",
       "      <td>WEBB</td>\n",
       "      <td>I have a record of working across the politica...</td>\n",
       "      <td>[(I, PRP), (have, VBP), (a, DT), (record, NN),...</td>\n",
       "      <td>[]</td>\n",
       "    </tr>\n",
       "    <tr>\n",
       "      <th>5497</th>\n",
       "      <td>10-13-15</td>\n",
       "      <td>primary_dem</td>\n",
       "      <td>WEBB</td>\n",
       "      <td>I've also spent more than half of my professio...</td>\n",
       "      <td>[(I, PRP), ('ve, VBP), (also, RB), (spent, VBN...</td>\n",
       "      <td>[]</td>\n",
       "    </tr>\n",
       "  </tbody>\n",
       "</table>\n",
       "</div>"
      ],
      "text/plain": [
       "          Date  Debate Type Speaker  \\\n",
       "5493  10-13-15  primary_dem    WEBB   \n",
       "5494  10-13-15  primary_dem    WEBB   \n",
       "5495  10-13-15  primary_dem    WEBB   \n",
       "5496  10-13-15  primary_dem    WEBB   \n",
       "5497  10-13-15  primary_dem    WEBB   \n",
       "\n",
       "                                                  Sents  \\\n",
       "5493                                         Thank you.   \n",
       "5494  You know, people are disgusted with the way th...   \n",
       "5495  They're looking for a leader who understands h...   \n",
       "5496  I have a record of working across the politica...   \n",
       "5497  I've also spent more than half of my professio...   \n",
       "\n",
       "                                                   Tree Entities  \n",
       "5493                 [(Thank, NNP), (you, PRP), (., .)]       []  \n",
       "5494  [(You, PRP), (know, VBP), (,, ,), (people, NNS...       []  \n",
       "5495  [(They, PRP), ('re, VBP), (looking, VBG), (for...       []  \n",
       "5496  [(I, PRP), (have, VBP), (a, DT), (record, NN),...       []  \n",
       "5497  [(I, PRP), ('ve, VBP), (also, RB), (spent, VBN...       []  "
      ]
     },
     "execution_count": 29,
     "metadata": {},
     "output_type": "execute_result"
    }
   ],
   "source": [
    "webb.head()"
   ]
  },
  {
   "cell_type": "code",
   "execution_count": 30,
   "metadata": {},
   "outputs": [
    {
     "data": {
      "text/html": [
       "<div>\n",
       "<style>\n",
       "    .dataframe thead tr:only-child th {\n",
       "        text-align: right;\n",
       "    }\n",
       "\n",
       "    .dataframe thead th {\n",
       "        text-align: left;\n",
       "    }\n",
       "\n",
       "    .dataframe tbody tr th {\n",
       "        vertical-align: top;\n",
       "    }\n",
       "</style>\n",
       "<table border=\"1\" class=\"dataframe\">\n",
       "  <thead>\n",
       "    <tr style=\"text-align: right;\">\n",
       "      <th></th>\n",
       "      <th>Date</th>\n",
       "      <th>Debate Type</th>\n",
       "      <th>Speaker</th>\n",
       "      <th>Sents</th>\n",
       "      <th>Tree</th>\n",
       "      <th>Entities</th>\n",
       "    </tr>\n",
       "  </thead>\n",
       "  <tbody>\n",
       "    <tr>\n",
       "      <th>5469</th>\n",
       "      <td>10-13-15</td>\n",
       "      <td>primary_dem</td>\n",
       "      <td>CHAFEE</td>\n",
       "      <td>Thank you, Anderson.</td>\n",
       "      <td>[(Thank, NNP), (you, PRP), (,, ,), [(Anderson,...</td>\n",
       "      <td>[Anderson Cooper]</td>\n",
       "    </tr>\n",
       "    <tr>\n",
       "      <th>5470</th>\n",
       "      <td>10-13-15</td>\n",
       "      <td>primary_dem</td>\n",
       "      <td>CHAFEE</td>\n",
       "      <td>Thank you, CNN, and thank you Facebook for org...</td>\n",
       "      <td>[(Thank, NNP), (you, PRP), (,, ,), [(CNN, NNP)...</td>\n",
       "      <td>[]</td>\n",
       "    </tr>\n",
       "    <tr>\n",
       "      <th>5471</th>\n",
       "      <td>10-13-15</td>\n",
       "      <td>primary_dem</td>\n",
       "      <td>CHAFEE</td>\n",
       "      <td>Not only will Americans be electing a new pres...</td>\n",
       "      <td>[(Not, RB), (only, RB), (will, MD), (Americans...</td>\n",
       "      <td>[]</td>\n",
       "    </tr>\n",
       "    <tr>\n",
       "      <th>5472</th>\n",
       "      <td>10-13-15</td>\n",
       "      <td>primary_dem</td>\n",
       "      <td>CHAFEE</td>\n",
       "      <td>Voters should assess the candidate's experienc...</td>\n",
       "      <td>[(Voters, NNS), (should, MD), (assess, VB), (t...</td>\n",
       "      <td>[]</td>\n",
       "    </tr>\n",
       "    <tr>\n",
       "      <th>5473</th>\n",
       "      <td>10-13-15</td>\n",
       "      <td>primary_dem</td>\n",
       "      <td>CHAFEE</td>\n",
       "      <td>I'm the only one running for president that ha...</td>\n",
       "      <td>[(I, PRP), ('m, VBP), (the, DT), (only, JJ), (...</td>\n",
       "      <td>[]</td>\n",
       "    </tr>\n",
       "  </tbody>\n",
       "</table>\n",
       "</div>"
      ],
      "text/plain": [
       "          Date  Debate Type Speaker  \\\n",
       "5469  10-13-15  primary_dem  CHAFEE   \n",
       "5470  10-13-15  primary_dem  CHAFEE   \n",
       "5471  10-13-15  primary_dem  CHAFEE   \n",
       "5472  10-13-15  primary_dem  CHAFEE   \n",
       "5473  10-13-15  primary_dem  CHAFEE   \n",
       "\n",
       "                                                  Sents  \\\n",
       "5469                               Thank you, Anderson.   \n",
       "5470  Thank you, CNN, and thank you Facebook for org...   \n",
       "5471  Not only will Americans be electing a new pres...   \n",
       "5472  Voters should assess the candidate's experienc...   \n",
       "5473  I'm the only one running for president that ha...   \n",
       "\n",
       "                                                   Tree           Entities  \n",
       "5469  [(Thank, NNP), (you, PRP), (,, ,), [(Anderson,...  [Anderson Cooper]  \n",
       "5470  [(Thank, NNP), (you, PRP), (,, ,), [(CNN, NNP)...                 []  \n",
       "5471  [(Not, RB), (only, RB), (will, MD), (Americans...                 []  \n",
       "5472  [(Voters, NNS), (should, MD), (assess, VB), (t...                 []  \n",
       "5473  [(I, PRP), ('m, VBP), (the, DT), (only, JJ), (...                 []  "
      ]
     },
     "execution_count": 30,
     "metadata": {},
     "output_type": "execute_result"
    }
   ],
   "source": [
    "chafee.head()"
   ]
  },
  {
   "cell_type": "markdown",
   "metadata": {
    "collapsed": true
   },
   "source": [
    "**First, we're going to get some stats.**"
   ]
  },
  {
   "cell_type": "code",
   "execution_count": 31,
   "metadata": {},
   "outputs": [
    {
     "data": {
      "text/html": [
       "<div>\n",
       "<style>\n",
       "    .dataframe thead tr:only-child th {\n",
       "        text-align: right;\n",
       "    }\n",
       "\n",
       "    .dataframe thead th {\n",
       "        text-align: left;\n",
       "    }\n",
       "\n",
       "    .dataframe tbody tr th {\n",
       "        vertical-align: top;\n",
       "    }\n",
       "</style>\n",
       "<table border=\"1\" class=\"dataframe\">\n",
       "  <thead>\n",
       "    <tr style=\"text-align: right;\">\n",
       "      <th></th>\n",
       "      <th>Date</th>\n",
       "      <th>Debate Type</th>\n",
       "      <th>Speaker</th>\n",
       "      <th>Sents</th>\n",
       "      <th>Tree</th>\n",
       "    </tr>\n",
       "  </thead>\n",
       "  <tbody>\n",
       "    <tr>\n",
       "      <th>count</th>\n",
       "      <td>6013</td>\n",
       "      <td>6013</td>\n",
       "      <td>6013</td>\n",
       "      <td>6013</td>\n",
       "      <td>6013</td>\n",
       "    </tr>\n",
       "    <tr>\n",
       "      <th>unique</th>\n",
       "      <td>14</td>\n",
       "      <td>2</td>\n",
       "      <td>1</td>\n",
       "      <td>5606</td>\n",
       "      <td>5541</td>\n",
       "    </tr>\n",
       "    <tr>\n",
       "      <th>top</th>\n",
       "      <td>9-26-16</td>\n",
       "      <td>primary_rep</td>\n",
       "      <td>TRUMP</td>\n",
       "      <td>[applause]</td>\n",
       "      <td>[([, NN), (applause, NN), (], NN)]</td>\n",
       "    </tr>\n",
       "    <tr>\n",
       "      <th>freq</th>\n",
       "      <td>751</td>\n",
       "      <td>3979</td>\n",
       "      <td>6013</td>\n",
       "      <td>89</td>\n",
       "      <td>89</td>\n",
       "    </tr>\n",
       "  </tbody>\n",
       "</table>\n",
       "</div>"
      ],
      "text/plain": [
       "           Date  Debate Type Speaker       Sents  \\\n",
       "count      6013         6013    6013        6013   \n",
       "unique       14            2       1        5606   \n",
       "top     9-26-16  primary_rep   TRUMP  [applause]   \n",
       "freq        751         3979    6013          89   \n",
       "\n",
       "                                      Tree  \n",
       "count                                 6013  \n",
       "unique                                5541  \n",
       "top     [([, NN), (applause, NN), (], NN)]  \n",
       "freq                                    89  "
      ]
     },
     "execution_count": 31,
     "metadata": {},
     "output_type": "execute_result"
    }
   ],
   "source": [
    "trump[['Date', 'Debate Type', 'Speaker', 'Sents', 'Tree']].describe()"
   ]
  },
  {
   "cell_type": "code",
   "execution_count": 32,
   "metadata": {},
   "outputs": [
    {
     "data": {
      "text/html": [
       "<div>\n",
       "<style>\n",
       "    .dataframe thead tr:only-child th {\n",
       "        text-align: right;\n",
       "    }\n",
       "\n",
       "    .dataframe thead th {\n",
       "        text-align: left;\n",
       "    }\n",
       "\n",
       "    .dataframe tbody tr th {\n",
       "        vertical-align: top;\n",
       "    }\n",
       "</style>\n",
       "<table border=\"1\" class=\"dataframe\">\n",
       "  <thead>\n",
       "    <tr style=\"text-align: right;\">\n",
       "      <th></th>\n",
       "      <th>Date</th>\n",
       "      <th>Debate Type</th>\n",
       "      <th>Speaker</th>\n",
       "      <th>Sents</th>\n",
       "      <th>Tree</th>\n",
       "    </tr>\n",
       "  </thead>\n",
       "  <tbody>\n",
       "    <tr>\n",
       "      <th>count</th>\n",
       "      <td>4890</td>\n",
       "      <td>4890</td>\n",
       "      <td>4890</td>\n",
       "      <td>4890</td>\n",
       "      <td>4890</td>\n",
       "    </tr>\n",
       "    <tr>\n",
       "      <th>unique</th>\n",
       "      <td>13</td>\n",
       "      <td>2</td>\n",
       "      <td>1</td>\n",
       "      <td>4686</td>\n",
       "      <td>4672</td>\n",
       "    </tr>\n",
       "    <tr>\n",
       "      <th>top</th>\n",
       "      <td>4-14-16</td>\n",
       "      <td>primary_dem</td>\n",
       "      <td>CLINTON</td>\n",
       "      <td>[applause]</td>\n",
       "      <td>[([, NN), (applause, NN), (], NN)]</td>\n",
       "    </tr>\n",
       "    <tr>\n",
       "      <th>freq</th>\n",
       "      <td>495</td>\n",
       "      <td>3660</td>\n",
       "      <td>4890</td>\n",
       "      <td>118</td>\n",
       "      <td>118</td>\n",
       "    </tr>\n",
       "  </tbody>\n",
       "</table>\n",
       "</div>"
      ],
      "text/plain": [
       "           Date  Debate Type  Speaker       Sents  \\\n",
       "count      4890         4890     4890        4890   \n",
       "unique       13            2        1        4686   \n",
       "top     4-14-16  primary_dem  CLINTON  [applause]   \n",
       "freq        495         3660     4890         118   \n",
       "\n",
       "                                      Tree  \n",
       "count                                 4890  \n",
       "unique                                4672  \n",
       "top     [([, NN), (applause, NN), (], NN)]  \n",
       "freq                                   118  "
      ]
     },
     "execution_count": 32,
     "metadata": {},
     "output_type": "execute_result"
    }
   ],
   "source": [
    "clinton[['Date', 'Debate Type', 'Speaker', 'Sents', 'Tree']].describe()"
   ]
  },
  {
   "cell_type": "markdown",
   "metadata": {},
   "source": [
    "**These descriptions show that out of all of the debates, Trump had his most utterances in the 9-26-16 debate, and Clinton had her most utterances in the 4-14-16 debate. The most frequent \"utterance\" by both of these candidates was the transcription for applause. Based on these transcriptions, Clinton was applauded 118 times while Trump was applauded 92 times. Out of Trump's 5997 utterances, 5586 of those were unique. Somehow, there are less unique trees than there are unique utterances. I'm not quite sure how that is. Out of Clinton's 4892 utterances, 4687 of those were unique, and there are only 4673 unique trees.**"
   ]
  },
  {
   "cell_type": "markdown",
   "metadata": {},
   "source": [
    "**Let's see all of the people Trump talks about.**"
   ]
  },
  {
   "cell_type": "code",
   "execution_count": 33,
   "metadata": {
    "collapsed": true
   },
   "outputs": [],
   "source": [
    "#This function returns a set of all of the relevant entities a given speaker refers to.\n",
    "def get_entities(entities):\n",
    "    all_ents = []\n",
    "    for entity_list in entities:\n",
    "        for ent in entity_list:\n",
    "            all_ents.append(ent)\n",
    "    return set(all_ents)"
   ]
  },
  {
   "cell_type": "code",
   "execution_count": 34,
   "metadata": {
    "collapsed": true
   },
   "outputs": [],
   "source": [
    "trump_referred_to = get_entities(trump['Entities'])"
   ]
  },
  {
   "cell_type": "code",
   "execution_count": 35,
   "metadata": {},
   "outputs": [
    {
     "data": {
      "text/plain": [
       "{'Rand Paul', 'Dwight Eisenhower', 'Antonin Scalia', 'Jake Tapper', 'Deborah Wasserman Schultz', 'John Podesta', 'Michelle Obama', 'David Duke', 'Hillary Clinton', 'Eric Trump', 'Ivanka Trump', 'Elizabeth Warren', 'Angela Merkel', 'Nikki Haley', 'Hugh Hewitt', 'Chris Christie', 'John Kerry', 'Ronald Reagan', 'Abraham Lincoln', 'Joe Arpaio', 'Carly Fiorina', 'Muammar Gaddafi', 'Marco Rubio', 'Lester Holt', 'Michael Bloomberg', 'Bernie Sanders', 'Carl Quintanilla', 'Bret Baier', 'John Kennedy', 'Mitch McConnell', 'Mike Huckabee', 'Ted Cruz', 'Donald Trump', 'Wolf Blitzer', 'NICKNAME', 'Mitt Romney', 'George Bush', \"Tip O'Neill\", 'Humayun Khan', 'Bashar al-Assad', 'Rick Santorum', 'Benjamin Netanyahu', 'Jeff Sessions', 'Edward Snowden', 'Bill Clinton', 'Megyn Kelly', 'Jeb Bush', 'Vladimir Putin', 'Lindsey Graham', 'Maria Celeste Arraras', 'TITLE', 'Don Lemon', 'Sean Hannity', 'Dana Bash', 'Rudy Giuliani', 'Anderson Cooper', 'Saddam Hussein', 'Barack Obama', 'Neil Cavuto', 'Rosa Parks', \"Rosie O'Donnell\", 'Ben Carson'}"
      ]
     },
     "execution_count": 35,
     "metadata": {},
     "output_type": "execute_result"
    }
   ],
   "source": [
    "trump_referred_to"
   ]
  },
  {
   "cell_type": "code",
   "execution_count": 36,
   "metadata": {
    "collapsed": true
   },
   "outputs": [],
   "source": [
    "clinton_referred_to = get_entities(clinton['Entities'])"
   ]
  },
  {
   "cell_type": "code",
   "execution_count": 37,
   "metadata": {},
   "outputs": [
    {
     "data": {
      "text/plain": [
       "{'Tamir Rice', 'Joe Biden', 'Michelle Obama', 'David Duke', 'Hillary Clinton', 'Elizabeth Warren', 'Nikki Haley', 'Ashraf Ghani', 'Chris Christie', 'John Kerry', 'Ronald Reagan', 'Abraham Lincoln', 'Martha Raddatz', 'Chris Cuomo', 'Scott Walker', 'Eric Garner', 'Muammar Gaddafi', 'Al Gore', 'Lester Holt', 'Bernie Sanders', 'Donald Trump', 'Wolf Blitzer', 'Yasser Arafat', 'George Washington', 'Harry Truman', 'Humayun Khan', 'Bashar al-Assad', 'Hosni Mubarak', 'Benjamin Netanyahu', 'Chuck Todd', 'James Carter', 'Bill Clinton', 'Jeb Bush', 'Vladimir Putin', 'Lindsey Graham', 'Dana Bash', 'George W. Bush', 'TITLE', 'John McCain', 'Alicia Machado', 'Michael Brown', 'Lincoln Chafee', \"Martin O'Malley\", 'Don Lemon', 'Anderson Cooper', 'David Muir', 'Barack Obama', 'Saddam Hussein', 'Sandra Bland', 'Trayvon Martin', 'Andrea Mitchell', 'Jorge Ramos', 'Jim Webb', 'Rachel Maddow', 'Osama bin Laden', 'Nelson Mandela'}"
      ]
     },
     "execution_count": 37,
     "metadata": {},
     "output_type": "execute_result"
    }
   ],
   "source": [
    "clinton_referred_to"
   ]
  },
  {
   "cell_type": "code",
   "execution_count": 38,
   "metadata": {
    "collapsed": true
   },
   "outputs": [],
   "source": [
    "#This function returns a list of REs a speaker used to describe a given entity.\n",
    "def get_RE_for_label(trees, label):\n",
    "    name = ''\n",
    "    REs = []\n",
    "    RE_trees = []\n",
    "    ents=set(link_dict.values())\n",
    "    for tree in trees:\n",
    "        for chunk in tree:\n",
    "            if hasattr(chunk, 'label'):\n",
    "                if label == 'all':\n",
    "                    if chunk.label() in ents:\n",
    "                        for leaf in chunk.leaves():\n",
    "                            name+=' '+str(leaf[0])\n",
    "                        name = name.strip()\n",
    "                        REs.append(name)\n",
    "                        name = ''\n",
    "                    else:\n",
    "                        name = ''\n",
    "                else:\n",
    "                    if chunk.label()==label:\n",
    "                        for leaf in chunk.leaves():\n",
    "                            name+=' '+str(leaf[0])\n",
    "                        name = name.strip()\n",
    "                        REs.append(name)\n",
    "                        name = ''\n",
    "                    else:\n",
    "                        name = ''\n",
    "    return REs"
   ]
  },
  {
   "cell_type": "code",
   "execution_count": 39,
   "metadata": {},
   "outputs": [
    {
     "data": {
      "text/plain": [
       "['Hillary', 'Hillary', 'Hillary', 'Hillary', 'Hillary', 'Hillary Clinton', 'Hillary Clinton', 'Hillary Clinton', 'Hillary Clinton', 'Hillary', 'Hillary Clinton', 'Hillary', 'Hillary', 'Hillary', 'Hillary Clinton', 'Hillary', 'Hillary', 'Hillary', 'Hillary', 'Hillary', 'Hillary', 'Hillary Clinton', 'President Clinton', 'Hillary', 'Hillary', 'Hillary', 'Hillary', 'Hillary Clinton', 'Hillary', 'Hillary Clinton', 'Hillary Clinton', 'Hillary Clinton', 'Hillary Clinton', 'Hillary Clinton', 'Hillary', 'Hillary Clinton', 'Hillary', 'Hillary', 'Clinton', 'Hillary', 'Hillary', 'Hillary', 'Hillary Clinton', 'Hillary', 'Hillary', 'Hillary Clinton', 'Hillary', 'Hillary Clinton', 'Hillary', 'Hillary Clinton', 'Hillary Clinton', 'Hillary', 'Hillary Clinton', 'Hillary Clinton', 'Hillary', 'Hillary', 'Hillary Clinton', 'Hillary Clinton', 'Hillary Clinton', 'Hillary Clinton', 'Hillary Clinton', 'Hillary Clinton', 'Hillary Clinton', 'Hillary Clinton', 'Hillary', 'Hillary Clinton', 'Hillary Clinton', 'Hillary Clinton', 'Hillary Clinton', 'Clinton', 'Hillary', 'Secretary Clinton', 'Secretary Clinton', 'Hillary', 'Secretary Clinton', 'Secretary Clinton', 'Secretary Clinton', 'Secretary Clinton', 'Secretary Clinton', 'Secretary Clinton', 'Secretary Clinton', 'Secretary Clinton', 'Secretary Clinton', 'Secretary Clinton', 'Secretary Clinton', 'Secretary Clinton', 'Secretary Clinton', 'Secretary Clinton', 'Secretary Clinton', 'Secretary Clinton', 'Secretary Clinton', 'Secretary Clinton', 'Secretary Clinton', 'Hillary', 'Hillary', 'Hillary', 'Hillary', 'Hillary', 'Hillary']"
      ]
     },
     "execution_count": 39,
     "metadata": {},
     "output_type": "execute_result"
    }
   ],
   "source": [
    "trump_REclinton = get_RE_for_label(trump['Tree'], 'Hillary Clinton')\n",
    "trump_REclinton"
   ]
  },
  {
   "cell_type": "code",
   "execution_count": 40,
   "metadata": {},
   "outputs": [
    {
     "data": {
      "text/plain": [
       "99"
      ]
     },
     "execution_count": 40,
     "metadata": {},
     "output_type": "execute_result"
    }
   ],
   "source": [
    "len(trump_REclinton)"
   ]
  },
  {
   "cell_type": "code",
   "execution_count": 41,
   "metadata": {},
   "outputs": [
    {
     "data": {
      "text/plain": [
       "['Donald', 'Donald', 'Donald', 'Donald', 'Donald', 'Donald', 'Donald', 'Donald Trump', 'Donald Trump', 'Donald', 'Donald', 'Donald', 'Donald', 'Donald', 'Donald', 'Donald', 'Donald', 'Donald', 'Donald', 'Donald', 'Donald', 'Donald', 'Donald', 'Donald', 'Donald', 'Donald', 'Donald', 'Donald', 'Donald', 'Donald', 'Donald Trump', 'Donald', 'Donald Trump', 'Donald Trump', 'Donald', 'Donald', 'Donald Trump', 'Donald', 'Donald', 'Donald', 'Donald', 'Donald', 'Donald', 'Donald', 'Donald', 'Donald', 'Donald Trump', 'Donald Trump', 'Donald', 'Donald', 'Donald', 'Donald', 'Donald', 'Donald', 'Donald', 'Donald', 'Donald Trump', 'Donald', 'Trump', 'Donald', 'Donald', 'Donald Trump', 'Donald', 'Donald Trump', 'Donald Trump', 'Mr. Trump', 'Trump', 'Donald Trump', 'Donald Trump', 'Donald Trump', 'Donald Trump', 'Donald Trump', 'Donald Trump', 'Donald Trump', 'Donald Trump', 'Trump', 'Donald Trump', 'Donald', 'Donald Trump', 'Donald', 'Donald', 'Donald', 'Donald', 'Donald', 'Donald', 'Donald', 'Donald', 'Trump', 'Donald', 'Donald', 'Donald', 'Donald', 'Donald', 'Donald', 'Donald Trump', 'Donald', 'Donald', 'Donald', 'Donald', 'Donald', 'Donald', 'Donald', 'Donald', 'Donald', 'Donald', 'Donald', 'Donald', 'Donald']"
      ]
     },
     "execution_count": 41,
     "metadata": {},
     "output_type": "execute_result"
    }
   ],
   "source": [
    "clinton_REtrump = get_RE_for_label(clinton['Tree'], 'Donald Trump')\n",
    "clinton_REtrump"
   ]
  },
  {
   "cell_type": "code",
   "execution_count": 42,
   "metadata": {},
   "outputs": [
    {
     "data": {
      "text/plain": [
       "108"
      ]
     },
     "execution_count": 42,
     "metadata": {},
     "output_type": "execute_result"
    }
   ],
   "source": [
    "len(clinton_REtrump)"
   ]
  },
  {
   "cell_type": "markdown",
   "metadata": {},
   "source": [
    "**Let's get the a data frame of all of the times Trump referred to Clinton, and a data frame for all of the times Clinton referred to Trump. That way we have information about the type of debate that person was referred to in, and more context as to *how* they were referred to by looking at the whole sentence.**"
   ]
  },
  {
   "cell_type": "code",
   "execution_count": 43,
   "metadata": {
    "collapsed": true
   },
   "outputs": [],
   "source": [
    "#This function returns the a dataframe that only includes rows where the given person is mentioned.\n",
    "def get_entity_trees(df, label):\n",
    "    df2 = pd.DataFrame(columns=['Date', 'Debate Type', 'Speaker', 'Sents', 'Tree'])\n",
    "    row=0\n",
    "    for ent_list in df['Entities']:\n",
    "        if label in ent_list:\n",
    "            df2.loc[row]=(df.iloc[row][:])\n",
    "        row+=1\n",
    "    return df2"
   ]
  },
  {
   "cell_type": "code",
   "execution_count": 44,
   "metadata": {
    "collapsed": true
   },
   "outputs": [],
   "source": [
    "clinton_trump_tree = get_entity_trees(clinton, 'Donald Trump')"
   ]
  },
  {
   "cell_type": "code",
   "execution_count": 45,
   "metadata": {},
   "outputs": [
    {
     "data": {
      "text/plain": [
       "105"
      ]
     },
     "execution_count": 45,
     "metadata": {},
     "output_type": "execute_result"
    }
   ],
   "source": [
    "len(clinton_trump_tree)"
   ]
  },
  {
   "cell_type": "code",
   "execution_count": 46,
   "metadata": {},
   "outputs": [
    {
     "data": {
      "text/html": [
       "<div>\n",
       "<style>\n",
       "    .dataframe thead tr:only-child th {\n",
       "        text-align: right;\n",
       "    }\n",
       "\n",
       "    .dataframe thead th {\n",
       "        text-align: left;\n",
       "    }\n",
       "\n",
       "    .dataframe tbody tr th {\n",
       "        vertical-align: top;\n",
       "    }\n",
       "</style>\n",
       "<table border=\"1\" class=\"dataframe\">\n",
       "  <thead>\n",
       "    <tr style=\"text-align: right;\">\n",
       "      <th></th>\n",
       "      <th>Date</th>\n",
       "      <th>Debate Type</th>\n",
       "      <th>Speaker</th>\n",
       "      <th>Sents</th>\n",
       "      <th>Tree</th>\n",
       "    </tr>\n",
       "  </thead>\n",
       "  <tbody>\n",
       "    <tr>\n",
       "      <th>955</th>\n",
       "      <td>10-19-16</td>\n",
       "      <td>general</td>\n",
       "      <td>CLINTON</td>\n",
       "      <td>And, you know, look, I understand that Donald'...</td>\n",
       "      <td>[(And, CC), (,, ,), (you, PRP), (know, VBP), (...</td>\n",
       "    </tr>\n",
       "    <tr>\n",
       "      <th>964</th>\n",
       "      <td>10-19-16</td>\n",
       "      <td>general</td>\n",
       "      <td>CLINTON</td>\n",
       "      <td>Donald has said he's in favor of defunding Pla...</td>\n",
       "      <td>[[(Donald, NNP)], (has, VBZ), (said, VBD), (he...</td>\n",
       "    </tr>\n",
       "    <tr>\n",
       "      <th>991</th>\n",
       "      <td>10-19-16</td>\n",
       "      <td>general</td>\n",
       "      <td>CLINTON</td>\n",
       "      <td>I don't want to see the deportation force that...</td>\n",
       "      <td>[(I, PRP), (do, VBP), (n't, RB), (want, VB), (...</td>\n",
       "    </tr>\n",
       "    <tr>\n",
       "      <th>1005</th>\n",
       "      <td>10-19-16</td>\n",
       "      <td>general</td>\n",
       "      <td>CLINTON</td>\n",
       "      <td>When it comes to the wall that Donald talks ab...</td>\n",
       "      <td>[(When, WRB), (it, PRP), (comes, VBZ), (to, TO...</td>\n",
       "    </tr>\n",
       "    <tr>\n",
       "      <th>1013</th>\n",
       "      <td>10-19-16</td>\n",
       "      <td>general</td>\n",
       "      <td>CLINTON</td>\n",
       "      <td>But it is clear, when you look at what Donald ...</td>\n",
       "      <td>[(But, CC), (it, PRP), (is, VBZ), (clear, JJ),...</td>\n",
       "    </tr>\n",
       "  </tbody>\n",
       "</table>\n",
       "</div>"
      ],
      "text/plain": [
       "          Date Debate Type  Speaker  \\\n",
       "955   10-19-16     general  CLINTON   \n",
       "964   10-19-16     general  CLINTON   \n",
       "991   10-19-16     general  CLINTON   \n",
       "1005  10-19-16     general  CLINTON   \n",
       "1013  10-19-16     general  CLINTON   \n",
       "\n",
       "                                                  Sents  \\\n",
       "955   And, you know, look, I understand that Donald'...   \n",
       "964   Donald has said he's in favor of defunding Pla...   \n",
       "991   I don't want to see the deportation force that...   \n",
       "1005  When it comes to the wall that Donald talks ab...   \n",
       "1013  But it is clear, when you look at what Donald ...   \n",
       "\n",
       "                                                   Tree  \n",
       "955   [(And, CC), (,, ,), (you, PRP), (know, VBP), (...  \n",
       "964   [[(Donald, NNP)], (has, VBZ), (said, VBD), (he...  \n",
       "991   [(I, PRP), (do, VBP), (n't, RB), (want, VB), (...  \n",
       "1005  [(When, WRB), (it, PRP), (comes, VBZ), (to, TO...  \n",
       "1013  [(But, CC), (it, PRP), (is, VBZ), (clear, JJ),...  "
      ]
     },
     "execution_count": 46,
     "metadata": {},
     "output_type": "execute_result"
    }
   ],
   "source": [
    "clinton_trump_tree.head()"
   ]
  },
  {
   "cell_type": "markdown",
   "metadata": {},
   "source": [
    "**Notice that our list of all of the ways Clinton referred to Trump is 3 elements bigger than our data frame is. That must be because Clinton referred to him multiple times in one utterance.**"
   ]
  },
  {
   "cell_type": "code",
   "execution_count": 47,
   "metadata": {
    "collapsed": true
   },
   "outputs": [],
   "source": [
    "trump_clinton_tree = get_entity_trees(trump, 'Hillary Clinton')"
   ]
  },
  {
   "cell_type": "code",
   "execution_count": 48,
   "metadata": {},
   "outputs": [
    {
     "data": {
      "text/plain": [
       "97"
      ]
     },
     "execution_count": 48,
     "metadata": {},
     "output_type": "execute_result"
    }
   ],
   "source": [
    "len(trump_clinton_tree)"
   ]
  },
  {
   "cell_type": "code",
   "execution_count": 49,
   "metadata": {},
   "outputs": [
    {
     "data": {
      "text/html": [
       "<div>\n",
       "<style>\n",
       "    .dataframe thead tr:only-child th {\n",
       "        text-align: right;\n",
       "    }\n",
       "\n",
       "    .dataframe thead th {\n",
       "        text-align: left;\n",
       "    }\n",
       "\n",
       "    .dataframe tbody tr th {\n",
       "        vertical-align: top;\n",
       "    }\n",
       "</style>\n",
       "<table border=\"1\" class=\"dataframe\">\n",
       "  <thead>\n",
       "    <tr style=\"text-align: right;\">\n",
       "      <th></th>\n",
       "      <th>Date</th>\n",
       "      <th>Debate Type</th>\n",
       "      <th>Speaker</th>\n",
       "      <th>Sents</th>\n",
       "      <th>Tree</th>\n",
       "    </tr>\n",
       "  </thead>\n",
       "  <tbody>\n",
       "    <tr>\n",
       "      <th>331</th>\n",
       "      <td>10-19-16</td>\n",
       "      <td>general</td>\n",
       "      <td>TRUMP</td>\n",
       "      <td>But Hillary was extremely upset, extremely angry.</td>\n",
       "      <td>[(But, CC), [(Hillary, NNP)], (was, VBD), (ext...</td>\n",
       "    </tr>\n",
       "    <tr>\n",
       "      <th>337</th>\n",
       "      <td>10-19-16</td>\n",
       "      <td>general</td>\n",
       "      <td>TRUMP</td>\n",
       "      <td>And I am—I don't know if Hillary was saying it...</td>\n",
       "      <td>[(And, CC), (I, PRP), (am—I, VBP), (do, VBP), ...</td>\n",
       "    </tr>\n",
       "    <tr>\n",
       "      <th>349</th>\n",
       "      <td>10-19-16</td>\n",
       "      <td>general</td>\n",
       "      <td>TRUMP</td>\n",
       "      <td>If you go with what Hillary is saying, in the ...</td>\n",
       "      <td>[(If, IN), (you, PRP), (go, VBP), (with, IN), ...</td>\n",
       "    </tr>\n",
       "    <tr>\n",
       "      <th>350</th>\n",
       "      <td>10-19-16</td>\n",
       "      <td>general</td>\n",
       "      <td>TRUMP</td>\n",
       "      <td>Now, you can say that that's OK and Hillary ca...</td>\n",
       "      <td>[(Now, RB), (,, ,), (you, PRP), (can, MD), (sa...</td>\n",
       "    </tr>\n",
       "    <tr>\n",
       "      <th>362</th>\n",
       "      <td>10-19-16</td>\n",
       "      <td>general</td>\n",
       "      <td>TRUMP</td>\n",
       "      <td>Hillary wants to give amnesty.</td>\n",
       "      <td>[[(Hillary, JJ)], (wants, VBZ), (to, TO), (giv...</td>\n",
       "    </tr>\n",
       "  </tbody>\n",
       "</table>\n",
       "</div>"
      ],
      "text/plain": [
       "         Date Debate Type Speaker  \\\n",
       "331  10-19-16     general   TRUMP   \n",
       "337  10-19-16     general   TRUMP   \n",
       "349  10-19-16     general   TRUMP   \n",
       "350  10-19-16     general   TRUMP   \n",
       "362  10-19-16     general   TRUMP   \n",
       "\n",
       "                                                 Sents  \\\n",
       "331  But Hillary was extremely upset, extremely angry.   \n",
       "337  And I am—I don't know if Hillary was saying it...   \n",
       "349  If you go with what Hillary is saying, in the ...   \n",
       "350  Now, you can say that that's OK and Hillary ca...   \n",
       "362                     Hillary wants to give amnesty.   \n",
       "\n",
       "                                                  Tree  \n",
       "331  [(But, CC), [(Hillary, NNP)], (was, VBD), (ext...  \n",
       "337  [(And, CC), (I, PRP), (am—I, VBP), (do, VBP), ...  \n",
       "349  [(If, IN), (you, PRP), (go, VBP), (with, IN), ...  \n",
       "350  [(Now, RB), (,, ,), (you, PRP), (can, MD), (sa...  \n",
       "362  [[(Hillary, JJ)], (wants, VBZ), (to, TO), (giv...  "
      ]
     },
     "execution_count": 49,
     "metadata": {},
     "output_type": "execute_result"
    }
   ],
   "source": [
    "trump_clinton_tree.head()"
   ]
  },
  {
   "cell_type": "markdown",
   "metadata": {},
   "source": [
    "**Now that we have some more context, let's look at how many times each different RE for Clinton and Trump was used by the other one.**"
   ]
  },
  {
   "cell_type": "code",
   "execution_count": 50,
   "metadata": {},
   "outputs": [
    {
     "data": {
      "text/plain": [
       "{'Hillary': 42, 'Hillary Clinton': 33, 'President Clinton': 1, 'Clinton': 2, 'Secretary Clinton': 21}"
      ]
     },
     "execution_count": 50,
     "metadata": {},
     "output_type": "execute_result"
    }
   ],
   "source": [
    "trump_clinton_freq = {re: trump_REclinton.count(re) for re in trump_REclinton}\n",
    "trump_clinton_freq"
   ]
  },
  {
   "cell_type": "markdown",
   "metadata": {},
   "source": [
    "**It looks like out of the 100 times Trump referred to Clinton, he used her first name 42 times, her full name 34 times, a professional title 21 times, only her lasy name twice, and \"President Clinton\" once. President Clinton is most likely a mistaken tag, and referring to Bill Clinton.**"
   ]
  },
  {
   "cell_type": "code",
   "execution_count": 51,
   "metadata": {},
   "outputs": [
    {
     "data": {
      "image/png": "[encoded data removed]",
      "text/plain": [
       "<matplotlib.figure.Figure object at 0x116c0dac8>"
      ]
     },
     "metadata": {},
     "output_type": "display_data"
    }
   ],
   "source": [
    "plt.bar(range(len(trump_clinton_freq)), trump_clinton_freq.values(), align='center')\n",
    "plt.xticks(range(len(trump_clinton_freq)), trump_clinton_freq.keys())\n",
    "\n",
    "plt.show()"
   ]
  },
  {
   "cell_type": "code",
   "execution_count": 52,
   "metadata": {},
   "outputs": [
    {
     "data": {
      "text/plain": [
       "{'Donald': 80, 'Donald Trump': 23, 'Trump': 4, 'Mr. Trump': 1}"
      ]
     },
     "execution_count": 52,
     "metadata": {},
     "output_type": "execute_result"
    }
   ],
   "source": [
    "clinton_trump_freq = {re: clinton_REtrump.count(re) for re in clinton_REtrump}\n",
    "clinton_trump_freq"
   ]
  },
  {
   "cell_type": "markdown",
   "metadata": {},
   "source": [
    "**Out of the 108 times Clinton referred to Trump, she used his first name 80 times, his full name 23 times, his last name 4 times, and a professional title once.**"
   ]
  },
  {
   "cell_type": "markdown",
   "metadata": {},
   "source": [
    "**Let's categorize the ways a person can be referred to into different types. I will define the types as follows:**\n",
    "\n",
    "**PROFESSIONAL- Senator, Secretary, Businessman, Dr., Governor, etc.**\n",
    "\n",
    "**FIRST NAME- Hillary, Donald, etc.**\n",
    "\n",
    "**FULL NAME- Hillary Clinton, Donald Trump, etc.**\n",
    "\n",
    "**LAST NAME- Clinton, Trump, etc.**\n",
    "\n",
    "**GENDERED- Mrs., Ms., Miss, Mr.**"
   ]
  },
  {
   "cell_type": "code",
   "execution_count": 53,
   "metadata": {},
   "outputs": [
    {
     "data": {
      "text/plain": [
       "{'Madam Secretary', 'Hillary Rodham Clinton', 'Hill', 'President Clinton', 'Mrs. Clinton', 'Secretary Clinton', 'Hillary Clinton', 'Secretary Hillary Clinton', 'Hilary Clinton', 'Hillary', 'Senator Clinton', 'Clinton'}"
      ]
     },
     "execution_count": 53,
     "metadata": {},
     "output_type": "execute_result"
    }
   ],
   "source": [
    "master_REclinton = get_RE_for_label(master_df['Tree'], 'Hillary Clinton')\n",
    "set(master_REclinton)"
   ]
  },
  {
   "cell_type": "code",
   "execution_count": 54,
   "metadata": {},
   "outputs": [
    {
     "data": {
      "text/plain": [
       "{'Secretary Clinton': 590, 'Hillary Clinton': 310, 'Hillary': 64, 'Hillary Rodham Clinton': 3, 'Clinton': 50, 'Secretary Hillary Clinton': 4, 'President Clinton': 13, 'Mrs. Clinton': 12, 'Madam Secretary': 6, 'Hill': 1, 'Senator Clinton': 6, 'Hilary Clinton': 1}"
      ]
     },
     "execution_count": 54,
     "metadata": {},
     "output_type": "execute_result"
    }
   ],
   "source": [
    "master_REclinton_freq = {re: master_REclinton.count(re) for re in master_REclinton}\n",
    "master_REclinton_freq"
   ]
  },
  {
   "cell_type": "code",
   "execution_count": 66,
   "metadata": {},
   "outputs": [
    {
     "data": {
      "text/plain": [
       "12"
      ]
     },
     "execution_count": 66,
     "metadata": {},
     "output_type": "execute_result"
    }
   ],
   "source": [
    "len(master_REclinton_freq)"
   ]
  },
  {
   "cell_type": "markdown",
   "metadata": {},
   "source": [
    "**The length of this dictionary is 12, but since President Clinton is most likely tagging error that's difficult to fix (actually referring to President Bill Clinton). Let's take a look at these to be sure.**"
   ]
  },
  {
   "cell_type": "code",
   "execution_count": 74,
   "metadata": {},
   "outputs": [
    {
     "data": {
      "text/html": [
       "<div>\n",
       "<style>\n",
       "    .dataframe thead tr:only-child th {\n",
       "        text-align: right;\n",
       "    }\n",
       "\n",
       "    .dataframe thead th {\n",
       "        text-align: left;\n",
       "    }\n",
       "\n",
       "    .dataframe tbody tr th {\n",
       "        vertical-align: top;\n",
       "    }\n",
       "</style>\n",
       "<table border=\"1\" class=\"dataframe\">\n",
       "  <thead>\n",
       "    <tr style=\"text-align: right;\">\n",
       "      <th></th>\n",
       "      <th>Date</th>\n",
       "      <th>Debate Type</th>\n",
       "      <th>Speaker</th>\n",
       "      <th>Sents</th>\n",
       "      <th>Tree</th>\n",
       "    </tr>\n",
       "  </thead>\n",
       "  <tbody>\n",
       "    <tr>\n",
       "      <th>2538</th>\n",
       "      <td>1-17-16</td>\n",
       "      <td>primary_dem</td>\n",
       "      <td>HOLT</td>\n",
       "      <td>You have said that President Clinton would adv...</td>\n",
       "      <td>[(You, PRP), (have, VBP), (said, VBD), (that, ...</td>\n",
       "    </tr>\n",
       "    <tr>\n",
       "      <th>2755</th>\n",
       "      <td>1-25-16</td>\n",
       "      <td>primary_dem</td>\n",
       "      <td>CUOMO</td>\n",
       "      <td>And, if you do a checklist of how you pay for ...</td>\n",
       "      <td>[(And, CC), (,, ,), (if, IN), (you, PRP), (do,...</td>\n",
       "    </tr>\n",
       "    <tr>\n",
       "      <th>5922</th>\n",
       "      <td>10-13-15</td>\n",
       "      <td>primary_dem</td>\n",
       "      <td>SANDERS</td>\n",
       "      <td>Well, obviously, I voted, when President Clin...</td>\n",
       "      <td>[(Well, RB), (,, ,), (obviously, RB), (,, ,), ...</td>\n",
       "    </tr>\n",
       "    <tr>\n",
       "      <th>6065</th>\n",
       "      <td>10-13-15</td>\n",
       "      <td>primary_dem</td>\n",
       "      <td>SANDERS</td>\n",
       "      <td>I supported President Clinton's effort to deal...</td>\n",
       "      <td>[(I, PRP), (supported, VBD), [(President, NNP)...</td>\n",
       "    </tr>\n",
       "    <tr>\n",
       "      <th>8145</th>\n",
       "      <td>10-19-16</td>\n",
       "      <td>general</td>\n",
       "      <td>WALLACE</td>\n",
       "      <td>Secondly, if you impose a no-fly zone and a Ru...</td>\n",
       "      <td>[(Secondly, RB), (,, ,), (if, IN), (you, PRP),...</td>\n",
       "    </tr>\n",
       "    <tr>\n",
       "      <th>10222</th>\n",
       "      <td>10-9-16</td>\n",
       "      <td>general</td>\n",
       "      <td>TRUMP</td>\n",
       "      <td>But what President Clinton did, he was impeach...</td>\n",
       "      <td>[(But, CC), (what, WP), [(President, NNP), (Cl...</td>\n",
       "    </tr>\n",
       "    <tr>\n",
       "      <th>11454</th>\n",
       "      <td>11-10-15</td>\n",
       "      <td>primary_rep</td>\n",
       "      <td>BARTIROMO</td>\n",
       "      <td>Governor Kasich, you have spoken much about yo...</td>\n",
       "      <td>[[(Governor, NNP), (Kasich, NNP)], (,, ,), (yo...</td>\n",
       "    </tr>\n",
       "    <tr>\n",
       "      <th>11575</th>\n",
       "      <td>11-10-15</td>\n",
       "      <td>primary_rep</td>\n",
       "      <td>BAKER</td>\n",
       "      <td>Under President Clinton, the economy added abo...</td>\n",
       "      <td>[(Under, IN), [(President, NNP), (Clinton, NNP...</td>\n",
       "    </tr>\n",
       "    <tr>\n",
       "      <th>30197</th>\n",
       "      <td>3-9-16</td>\n",
       "      <td>primary_dem</td>\n",
       "      <td>CLINTON</td>\n",
       "      <td>You know, in the debates we've had — maybe thi...</td>\n",
       "      <td>[(You, PRP), (know, VBP), (,, ,), (in, IN), (t...</td>\n",
       "    </tr>\n",
       "    <tr>\n",
       "      <th>30214</th>\n",
       "      <td>3-9-16</td>\n",
       "      <td>primary_dem</td>\n",
       "      <td>SANDERS</td>\n",
       "      <td>[laughter]\\n\\nNow, when we talk about the poli...</td>\n",
       "      <td>[([, JJ), (laughter, NN), (], NN), (Now, RB), ...</td>\n",
       "    </tr>\n",
       "    <tr>\n",
       "      <th>30906</th>\n",
       "      <td>4-14-16</td>\n",
       "      <td>primary_dem</td>\n",
       "      <td>LOUIS</td>\n",
       "      <td>Senator Sanders, earlier this week at the Apo...</td>\n",
       "      <td>[[(Senator, NNP), (Sanders, NNP)], (,, ,), (ea...</td>\n",
       "    </tr>\n",
       "    <tr>\n",
       "      <th>31305</th>\n",
       "      <td>4-14-16</td>\n",
       "      <td>primary_dem</td>\n",
       "      <td>SANDERS</td>\n",
       "      <td>And I think, again, it is a complicated issue ...</td>\n",
       "      <td>[(And, CC), (I, PRP), (think, VBP), (,, ,), (a...</td>\n",
       "    </tr>\n",
       "    <tr>\n",
       "      <th>33894</th>\n",
       "      <td>9-16-15</td>\n",
       "      <td>primary_rep</td>\n",
       "      <td>BUSH</td>\n",
       "      <td>He interpreted it the right way, the courts ru...</td>\n",
       "      <td>[(He, PRP), (interpreted, VBD), (it, PRP), (th...</td>\n",
       "    </tr>\n",
       "  </tbody>\n",
       "</table>\n",
       "</div>"
      ],
      "text/plain": [
       "           Date  Debate Type    Speaker  \\\n",
       "2538    1-17-16  primary_dem       HOLT   \n",
       "2755    1-25-16  primary_dem      CUOMO   \n",
       "5922   10-13-15  primary_dem    SANDERS   \n",
       "6065   10-13-15  primary_dem    SANDERS   \n",
       "8145   10-19-16      general    WALLACE   \n",
       "10222   10-9-16      general      TRUMP   \n",
       "11454  11-10-15  primary_rep  BARTIROMO   \n",
       "11575  11-10-15  primary_rep      BAKER   \n",
       "30197    3-9-16  primary_dem    CLINTON   \n",
       "30214    3-9-16  primary_dem    SANDERS   \n",
       "30906   4-14-16  primary_dem      LOUIS   \n",
       "31305   4-14-16  primary_dem    SANDERS   \n",
       "33894   9-16-15  primary_rep       BUSH   \n",
       "\n",
       "                                                   Sents  \\\n",
       "2538   You have said that President Clinton would adv...   \n",
       "2755   And, if you do a checklist of how you pay for ...   \n",
       "5922    Well, obviously, I voted, when President Clin...   \n",
       "6065   I supported President Clinton's effort to deal...   \n",
       "8145   Secondly, if you impose a no-fly zone and a Ru...   \n",
       "10222  But what President Clinton did, he was impeach...   \n",
       "11454  Governor Kasich, you have spoken much about yo...   \n",
       "11575  Under President Clinton, the economy added abo...   \n",
       "30197  You know, in the debates we've had — maybe thi...   \n",
       "30214  [laughter]\\n\\nNow, when we talk about the poli...   \n",
       "30906   Senator Sanders, earlier this week at the Apo...   \n",
       "31305  And I think, again, it is a complicated issue ...   \n",
       "33894  He interpreted it the right way, the courts ru...   \n",
       "\n",
       "                                                    Tree  \n",
       "2538   [(You, PRP), (have, VBP), (said, VBD), (that, ...  \n",
       "2755   [(And, CC), (,, ,), (if, IN), (you, PRP), (do,...  \n",
       "5922   [(Well, RB), (,, ,), (obviously, RB), (,, ,), ...  \n",
       "6065   [(I, PRP), (supported, VBD), [(President, NNP)...  \n",
       "8145   [(Secondly, RB), (,, ,), (if, IN), (you, PRP),...  \n",
       "10222  [(But, CC), (what, WP), [(President, NNP), (Cl...  \n",
       "11454  [[(Governor, NNP), (Kasich, NNP)], (,, ,), (yo...  \n",
       "11575  [(Under, IN), [(President, NNP), (Clinton, NNP...  \n",
       "30197  [(You, PRP), (know, VBP), (,, ,), (in, IN), (t...  \n",
       "30214  [([, JJ), (laughter, NN), (], NN), (Now, RB), ...  \n",
       "30906  [[(Senator, NNP), (Sanders, NNP)], (,, ,), (ea...  \n",
       "31305  [(And, CC), (I, PRP), (think, VBP), (,, ,), (a...  \n",
       "33894  [(He, PRP), (interpreted, VBD), (it, PRP), (th...  "
      ]
     },
     "execution_count": 74,
     "metadata": {},
     "output_type": "execute_result"
    }
   ],
   "source": [
    "master_presclinton = get_trees_for(master_df, 'Hillary Clinton', 'President Clinton')\n",
    "master_presclinton"
   ]
  },
  {
   "cell_type": "markdown",
   "metadata": {},
   "source": [
    "**As expected, these all appear to be tagging mistakes, so we will ignore these.**"
   ]
  },
  {
   "cell_type": "markdown",
   "metadata": {},
   "source": [
    "**That being said, and because Hilary Clinton is just a mispelling, there are only 10 ways of referring to Hillary Clinton. That being said, I can categorize these RE's into the categories described above very easily by hand.**"
   ]
  },
  {
   "cell_type": "markdown",
   "metadata": {},
   "source": [
    "**Madam Secretary could be considered professional because it has information about her previous job, but the use of \"Madam\" instead of just saying \"Secretary\" when that would suffice just as well makes this RE gendered. The use of Clinton's full name, including her maiden name (Hillary Rodham Clinton), could be an interesting case. I'm going to look at these three instances closer.**"
   ]
  },
  {
   "cell_type": "code",
   "execution_count": 71,
   "metadata": {},
   "outputs": [
    {
     "data": {
      "text/html": [
       "<div>\n",
       "<style>\n",
       "    .dataframe thead tr:only-child th {\n",
       "        text-align: right;\n",
       "    }\n",
       "\n",
       "    .dataframe thead th {\n",
       "        text-align: left;\n",
       "    }\n",
       "\n",
       "    .dataframe tbody tr th {\n",
       "        vertical-align: top;\n",
       "    }\n",
       "</style>\n",
       "<table border=\"1\" class=\"dataframe\">\n",
       "  <thead>\n",
       "    <tr style=\"text-align: right;\">\n",
       "      <th></th>\n",
       "      <th>Date</th>\n",
       "      <th>Debate Type</th>\n",
       "      <th>Speaker</th>\n",
       "      <th>Sents</th>\n",
       "      <th>Tree</th>\n",
       "    </tr>\n",
       "  </thead>\n",
       "  <tbody>\n",
       "    <tr>\n",
       "      <th>435</th>\n",
       "      <td>1-14-16</td>\n",
       "      <td>primary_rep</td>\n",
       "      <td>CHRISTIE</td>\n",
       "      <td>He's a good guy, a smart guy, and he would be ...</td>\n",
       "      <td>[(He, PRP), ('s, VBZ), (a, DT), (good, JJ), (g...</td>\n",
       "    </tr>\n",
       "    <tr>\n",
       "      <th>1277</th>\n",
       "      <td>1-14-16</td>\n",
       "      <td>primary_rep</td>\n",
       "      <td>CHRISTIE</td>\n",
       "      <td>And I'm the only one up on this stage who back...</td>\n",
       "      <td>[(And, CC), (I, PRP), ('m, VBP), (the, DT), (o...</td>\n",
       "    </tr>\n",
       "    <tr>\n",
       "      <th>4340</th>\n",
       "      <td>1-28-16</td>\n",
       "      <td>primary_rep</td>\n",
       "      <td>CHRISTIE</td>\n",
       "      <td>Hillary Rodham Clinton did that to our country.</td>\n",
       "      <td>[[(Hillary, NNP), (Rodham, NNP), (Clinton, NNP...</td>\n",
       "    </tr>\n",
       "  </tbody>\n",
       "</table>\n",
       "</div>"
      ],
      "text/plain": [
       "         Date  Debate Type   Speaker  \\\n",
       "435   1-14-16  primary_rep  CHRISTIE   \n",
       "1277  1-14-16  primary_rep  CHRISTIE   \n",
       "4340  1-28-16  primary_rep  CHRISTIE   \n",
       "\n",
       "                                                  Sents  \\\n",
       "435   He's a good guy, a smart guy, and he would be ...   \n",
       "1277  And I'm the only one up on this stage who back...   \n",
       "4340    Hillary Rodham Clinton did that to our country.   \n",
       "\n",
       "                                                   Tree  \n",
       "435   [(He, PRP), ('s, VBZ), (a, DT), (good, JJ), (g...  \n",
       "1277  [(And, CC), (I, PRP), ('m, VBP), (the, DT), (o...  \n",
       "4340  [[(Hillary, NNP), (Rodham, NNP), (Clinton, NNP...  "
      ]
     },
     "execution_count": 71,
     "metadata": {},
     "output_type": "execute_result"
    }
   ],
   "source": [
    "master_rodham = get_trees_for(master_df, 'Hillary Clinton', 'Hillary Rodham Clinton')\n",
    "master_rodham"
   ]
  },
  {
   "cell_type": "markdown",
   "metadata": {},
   "source": [
    "**Interesting. Chris Christie is the only one to use Hillary Clinton's maiden name. We'll come back to what this could mean later.**"
   ]
  },
  {
   "cell_type": "code",
   "execution_count": 72,
   "metadata": {},
   "outputs": [
    {
     "data": {
      "text/plain": [
       "{'Secretary Clinton': 'PROFESSIONAL', 'Hillary Clinton': 'FULL NAME', 'Hillary': 'FIRST NAME', 'Hillary Rodham Clinton': 'FULL NAME', 'Clinton': 'LAST NAME', 'Secretary Hillary Clinton': 'PROFESSIONAL', 'President Clinton': 'N/A', 'Mrs. Clinton': 'GENDERED', 'Madam Secretary': 'GENDERED', 'Hill': 'FIRST NAME', 'Senator Clinton': 'PROFESSIONAL', 'Hilary Clinton': 'FULL NAME'}"
      ]
     },
     "execution_count": 72,
     "metadata": {},
     "output_type": "execute_result"
    }
   ],
   "source": [
    "clinton_re_maps = {'Secretary Clinton': 'PROFESSIONAL', 'Hillary Clinton': \"FULL NAME\", 'Hillary': \"FIRST NAME\", 'Hillary Rodham Clinton': \"FULL NAME\", 'Clinton': \"LAST NAME\", 'Secretary Hillary Clinton': \"PROFESSIONAL\", 'President Clinton': \"N/A\", 'Mrs. Clinton': \"GENDERED\", 'Madam Secretary': \"GENDERED\", 'Hill': \"FIRST NAME\", 'Senator Clinton': \"PROFESSIONAL\", 'Hilary Clinton': \"FULL NAME\"}\n",
    "clinton_re_maps"
   ]
  },
  {
   "cell_type": "markdown",
   "metadata": {},
   "source": [
    "**Let's do the same for Donald Trump and map his REs.**"
   ]
  },
  {
   "cell_type": "code",
   "execution_count": 73,
   "metadata": {},
   "outputs": [
    {
     "data": {
      "text/plain": [
       "{'Donald Trump', 'President Trump', 'Mr. Donald Trump', 'Donald', 'Senator Trump', 'Mr. Trmup', 'Trump', 'Donald J. Trump', 'Businessman Donald Trump', 'Mr. Trump'}"
      ]
     },
     "execution_count": 73,
     "metadata": {},
     "output_type": "execute_result"
    }
   ],
   "source": [
    "master_REtrump = get_RE_for_label(master_df['Tree'], 'Donald Trump')\n",
    "set(master_REtrump)"
   ]
  },
  {
   "cell_type": "code",
   "execution_count": 75,
   "metadata": {},
   "outputs": [
    {
     "data": {
      "text/plain": [
       "{'Businessman Donald Trump': 2, 'Mr. Trump': 458, 'Donald Trump': 176, 'Donald': 252, 'Donald J. Trump': 6, 'Trump': 47, 'President Trump': 4, 'Mr. Trmup': 1, 'Mr. Donald Trump': 3, 'Senator Trump': 1}"
      ]
     },
     "execution_count": 75,
     "metadata": {},
     "output_type": "execute_result"
    }
   ],
   "source": [
    "master_REtrump_freq = {re: master_REtrump.count(re) for re in master_REtrump}\n",
    "master_REtrump_freq"
   ]
  },
  {
   "cell_type": "markdown",
   "metadata": {},
   "source": [
    "**That Senator Trump is weird because Donald Trump was never a senator. Let's see what's up with that.**"
   ]
  },
  {
   "cell_type": "code",
   "execution_count": 76,
   "metadata": {},
   "outputs": [
    {
     "data": {
      "text/plain": [
       "10"
      ]
     },
     "execution_count": 76,
     "metadata": {},
     "output_type": "execute_result"
    }
   ],
   "source": [
    "len(master_REtrump_freq)"
   ]
  },
  {
   "cell_type": "markdown",
   "metadata": {},
   "source": [
    "**The length of this dictionary is 10, but since one of these keys 'Mr. Trmup', is just a typo, we will say Donald Trump is only referred to in 9 different ways throughout this entire corpus.**"
   ]
  },
  {
   "cell_type": "code",
   "execution_count": null,
   "metadata": {
    "collapsed": true
   },
   "outputs": [],
   "source": [
    "trump_re_maps = {'Businessman Donald Trump': 2, 'Mr. Trump': 458, 'Donald Trump': 176, 'Donald': 252, 'Donald J. Trump': 6, 'Trump': 47, 'President Trump': 4, 'Mr. Trmup': 1, 'Mr. Donald Trump': 3, 'Senator Trump': 1}"
   ]
  },
  {
   "cell_type": "markdown",
   "metadata": {},
   "source": [
    "### Drawing a Conclusion\n",
    "**There is only one more RE for Clinton than there are for Trump. I expected there to be more variation in the ways speakers refer to Clinton because she has had many different titles over the course of her career (Senator, Secretary, First Lady), she has a maiden name, and there are two common titles to refer to married women (Ms. and Mrs.) as opposed to one title for men (Mr.). **"
   ]
  },
  {
   "cell_type": "markdown",
   "metadata": {},
   "source": [
    "**What does it mean to call someone by their professional title? Is this distribution in the way these candidates refer to other people different? Why would that be? What does that mean? In which debates were which forms of address used more frequently? In the entire dataframe, how is Clinton referred to by all people. How about Trump? How about Fiorina, the only other female candidate? How about male senators, governers, etc. This is interesting because like Trump, Fiorina has no political experience, so her title is simply Mrs. while his is Mr.**"
   ]
  },
  {
   "cell_type": "code",
   "execution_count": 55,
   "metadata": {
    "collapsed": true
   },
   "outputs": [],
   "source": [
    "#This function takes a data frame, and entity label, and a specific RE and returns all trees with that specific RE in it\n",
    "\n",
    "def get_trees_for(df, label, RE):\n",
    "    name = ''\n",
    "    REs = []\n",
    "    RE_trees = []\n",
    "    df2 = pd.DataFrame(columns=['Date', 'Debate Type', 'Speaker', 'Sents', 'Tree'])\n",
    "    row=0\n",
    "    for tree in df['Tree']:\n",
    "        for chunk in tree:\n",
    "            if hasattr(chunk, 'label'):\n",
    "                if chunk.label()==label:\n",
    "                    for leaf in chunk.leaves():\n",
    "                        name+=' '+str(leaf[0])\n",
    "                    name = name.strip()\n",
    "                    if name == RE:\n",
    "                        df2.loc[row]=(df.iloc[row][:])\n",
    "                    name = ''\n",
    "                else:\n",
    "                    name = ''\n",
    "        row +=1\n",
    "    return df2\n"
   ]
  },
  {
   "cell_type": "code",
   "execution_count": 56,
   "metadata": {},
   "outputs": [
    {
     "data": {
      "text/plain": [
       "{'Trump': 15, 'Cruz': 1, 'Ted': 29, 'Neil': 4, 'Nikki': 4, 'Jeb': 34, 'Barack Obama': 12, 'Donald': 2, 'President Obama': 26, 'Carl': 4, 'Marco': 16, 'Maria': 2, 'Ivanka': 3, 'Eric': 2, 'Don': 2, 'Hillary': 42, 'Hillary Clinton': 33, 'Chris': 18, 'Obama': 15, 'Putin': 26, 'Podesta': 1, 'Bernie Sanders': 10, 'John Podesta': 1, 'Assad': 21, 'Ronald Reagan': 11, 'Ben': 8, 'Bill Clinton': 2, 'President Clinton': 1, 'Michelle Obama': 2, 'Deborah Wasserman Schultz': 2, 'Anderson': 3, 'Captain Khan': 1, 'Abraham Lincoln': 3, 'Honest Abe': 2, 'Warren': 1, 'Donald Trump': 9, 'Clinton': 2, 'Gadhafi': 4, 'Kerry': 2, 'Scalia': 1, 'Dwight Eisenhower': 3, 'Mr. Trump': 6, 'Wolf': 2, 'Lindsey Graham': 2, 'Jeb Bush': 4, 'Governor Bush': 1, 'Mister': 1, 'Santorum': 1, 'Governor Huckabee': 1, 'Mitch McConnell': 1, 'Bush': 3, 'George Bush': 4, 'Chris Christie': 3, 'Ben Carson': 7, 'Ted Cruz': 3, 'Hey Ted': 1, 'Sheriff Joe Arpaio': 3, 'Mitt Romney': 5, 'Robin Hood': 2, 'Anderson Cooper': 2, 'Bill': 2, 'Saddam Hussein': 1, 'John Kerry': 2, 'Dr. Ben Carson': 1, 'Senator Rubio': 1, 'Tip': 2, 'Jake': 4, 'Sheriff Joe': 1, 'Jeff Sessions': 1, 'Senator Jeff Sessions': 1, 'Merkel': 1, 'David Duke': 1, 'Megyn': 3, 'Bret': 1, 'Lyin': 2, 'Snowden': 1, 'Sean': 2, 'Senator Marco Rubio': 1, 'Vladimir Putin': 1, \"Rosie O'Donnell\": 2, 'Rand Paul': 1, 'Dana': 2, 'Carly': 5, 'Hugh Hewitt': 1, 'Rand': 2, 'Rosa Parks': 1, 'Lester': 9, 'Secretary Clinton': 21, 'Kennedy': 1, 'Mayor Giuliani': 1, 'Mayor Bloomberg': 1, 'Wolf Blitzer': 1, 'Debbie Wasserman Schultz': 1, 'Neil Cavuto': 1, 'Sean Hannity': 7, 'Secretary Kerry': 1, 'Bibi Netanyahu': 1}"
      ]
     },
     "execution_count": 56,
     "metadata": {},
     "output_type": "execute_result"
    }
   ],
   "source": [
    "trump_re = get_RE_for_label(trump['Tree'], 'all')\n",
    "trump_re_freq = {re: trump_re.count(re) for re in trump_re}\n",
    "trump_re_freq"
   ]
  },
  {
   "cell_type": "markdown",
   "metadata": {},
   "source": [
    "**Interesting. It looks like Trump refers to himself as Mr. Trump 6 times. Let's see those instances in context.**"
   ]
  },
  {
   "cell_type": "code",
   "execution_count": 57,
   "metadata": {
    "collapsed": true
   },
   "outputs": [],
   "source": [
    "trump_mrtrump_trees = get_trees_for(trump, 'Donald Trump', 'Mr. Trump')"
   ]
  },
  {
   "cell_type": "code",
   "execution_count": 58,
   "metadata": {},
   "outputs": [
    {
     "data": {
      "text/html": [
       "<div>\n",
       "<style>\n",
       "    .dataframe thead tr:only-child th {\n",
       "        text-align: right;\n",
       "    }\n",
       "\n",
       "    .dataframe thead th {\n",
       "        text-align: left;\n",
       "    }\n",
       "\n",
       "    .dataframe tbody tr th {\n",
       "        vertical-align: top;\n",
       "    }\n",
       "</style>\n",
       "<table border=\"1\" class=\"dataframe\">\n",
       "  <thead>\n",
       "    <tr style=\"text-align: right;\">\n",
       "      <th></th>\n",
       "      <th>Date</th>\n",
       "      <th>Debate Type</th>\n",
       "      <th>Speaker</th>\n",
       "      <th>Sents</th>\n",
       "      <th>Tree</th>\n",
       "    </tr>\n",
       "  </thead>\n",
       "  <tbody>\n",
       "    <tr>\n",
       "      <th>1917</th>\n",
       "      <td>11-10-15</td>\n",
       "      <td>primary_rep</td>\n",
       "      <td>TRUMP</td>\n",
       "      <td>He said, \"You know, Mr. Trump?</td>\n",
       "      <td>[(He, PRP), (said, VBD), (,, ,), (``, ``), (Yo...</td>\n",
       "    </tr>\n",
       "    <tr>\n",
       "      <th>2150</th>\n",
       "      <td>12-15-15</td>\n",
       "      <td>primary_rep</td>\n",
       "      <td>TRUMP</td>\n",
       "      <td>I think it's very sad that CNN leads Jeb Bush...</td>\n",
       "      <td>[(I, PRP), (think, VBP), (it, PRP), ('s, VBZ),...</td>\n",
       "    </tr>\n",
       "    <tr>\n",
       "      <th>2152</th>\n",
       "      <td>12-15-15</td>\n",
       "      <td>primary_rep</td>\n",
       "      <td>TRUMP</td>\n",
       "      <td>And, frankly, I watched the first debate, and ...</td>\n",
       "      <td>[(And, CC), (,, ,), (frankly, RB), (,, ,), (I,...</td>\n",
       "    </tr>\n",
       "    <tr>\n",
       "      <th>2153</th>\n",
       "      <td>12-15-15</td>\n",
       "      <td>primary_rep</td>\n",
       "      <td>TRUMP</td>\n",
       "      <td>Mr. Trump\" — these poor guys — although, I mus...</td>\n",
       "      <td>[[(Mr., NNP), (Trump, NNP)], ('', ''), (—, IN)...</td>\n",
       "    </tr>\n",
       "    <tr>\n",
       "      <th>3247</th>\n",
       "      <td>2-25-16</td>\n",
       "      <td>primary_rep</td>\n",
       "      <td>TRUMP</td>\n",
       "      <td>Mr. Trump, you're doing a great job.</td>\n",
       "      <td>[[(Mr., NNP), (Trump, NNP)], (,, ,), (you, PRP...</td>\n",
       "    </tr>\n",
       "  </tbody>\n",
       "</table>\n",
       "</div>"
      ],
      "text/plain": [
       "          Date  Debate Type Speaker  \\\n",
       "1917  11-10-15  primary_rep   TRUMP   \n",
       "2150  12-15-15  primary_rep   TRUMP   \n",
       "2152  12-15-15  primary_rep   TRUMP   \n",
       "2153  12-15-15  primary_rep   TRUMP   \n",
       "3247   2-25-16  primary_rep   TRUMP   \n",
       "\n",
       "                                                  Sents  \\\n",
       "1917                     He said, \"You know, Mr. Trump?   \n",
       "2150   I think it's very sad that CNN leads Jeb Bush...   \n",
       "2152  And, frankly, I watched the first debate, and ...   \n",
       "2153  Mr. Trump\" — these poor guys — although, I mus...   \n",
       "3247               Mr. Trump, you're doing a great job.   \n",
       "\n",
       "                                                   Tree  \n",
       "1917  [(He, PRP), (said, VBD), (,, ,), (``, ``), (Yo...  \n",
       "2150  [(I, PRP), (think, VBP), (it, PRP), ('s, VBZ),...  \n",
       "2152  [(And, CC), (,, ,), (frankly, RB), (,, ,), (I,...  \n",
       "2153  [[(Mr., NNP), (Trump, NNP)], ('', ''), (—, IN)...  \n",
       "3247  [[(Mr., NNP), (Trump, NNP)], (,, ,), (you, PRP...  "
      ]
     },
     "execution_count": 58,
     "metadata": {},
     "output_type": "execute_result"
    }
   ],
   "source": [
    "trump_mrtrump_trees"
   ]
  },
  {
   "cell_type": "code",
   "execution_count": 59,
   "metadata": {},
   "outputs": [
    {
     "data": {
      "text/plain": [
       "'And, frankly, I watched the first debate, and the first long number of questions were, \"Mr. Trump said this, Mr. Trump said that.'"
      ]
     },
     "execution_count": 59,
     "metadata": {},
     "output_type": "execute_result"
    }
   ],
   "source": [
    "trump_mrtrump_trees.loc[2152]['Sents']"
   ]
  },
  {
   "cell_type": "code",
   "execution_count": 60,
   "metadata": {},
   "outputs": [
    {
     "data": {
      "text/plain": [
       "'Mr. Trump\" — these poor guys — although, I must tell you, Santorum, good guy.'"
      ]
     },
     "execution_count": 60,
     "metadata": {},
     "output_type": "execute_result"
    }
   ],
   "source": [
    "trump_mrtrump_trees.loc[2153]['Sents']"
   ]
  },
  {
   "cell_type": "code",
   "execution_count": 61,
   "metadata": {},
   "outputs": [
    {
     "data": {
      "image/png": "[encoded data removed]",
      "text/plain": [
       "Tree('TRUMP', [Tree('Donald Trump', [('Mr.', 'NNP'), ('Trump', 'NNP')]), (\"''\", \"''\"), ('—', 'IN'), ('these', 'DT'), ('poor', 'JJ'), ('guys', 'NNS'), ('—', 'NNP'), ('although', 'IN'), (',', ','), ('I', 'PRP'), ('must', 'MD'), ('tell', 'VB'), ('you', 'PRP'), (',', ','), Tree('Rick Santorum', [('Santorum', 'NNP')]), (',', ','), ('good', 'JJ'), ('guy', 'NN'), ('.', '.')])"
      ]
     },
     "execution_count": 61,
     "metadata": {},
     "output_type": "execute_result"
    }
   ],
   "source": [
    "trump_mrtrump_trees.loc[2153]['Tree']"
   ]
  },
  {
   "cell_type": "code",
   "execution_count": 62,
   "metadata": {},
   "outputs": [
    {
     "data": {
      "text/html": [
       "<div>\n",
       "<style>\n",
       "    .dataframe thead tr:only-child th {\n",
       "        text-align: right;\n",
       "    }\n",
       "\n",
       "    .dataframe thead th {\n",
       "        text-align: left;\n",
       "    }\n",
       "\n",
       "    .dataframe tbody tr th {\n",
       "        vertical-align: top;\n",
       "    }\n",
       "</style>\n",
       "<table border=\"1\" class=\"dataframe\">\n",
       "  <thead>\n",
       "    <tr style=\"text-align: right;\">\n",
       "      <th></th>\n",
       "      <th>Date</th>\n",
       "      <th>Debate Type</th>\n",
       "      <th>Speaker</th>\n",
       "      <th>Sents</th>\n",
       "      <th>Tree</th>\n",
       "    </tr>\n",
       "  </thead>\n",
       "  <tbody>\n",
       "    <tr>\n",
       "      <th>1204</th>\n",
       "      <td>10-9-16</td>\n",
       "      <td>general</td>\n",
       "      <td>TRUMP</td>\n",
       "      <td>But what President Clinton did, he was impeach...</td>\n",
       "      <td>[(But, CC), (what, WP), [(President, NNP), (Cl...</td>\n",
       "    </tr>\n",
       "  </tbody>\n",
       "</table>\n",
       "</div>"
      ],
      "text/plain": [
       "         Date Debate Type Speaker  \\\n",
       "1204  10-9-16     general   TRUMP   \n",
       "\n",
       "                                                  Sents  \\\n",
       "1204  But what President Clinton did, he was impeach...   \n",
       "\n",
       "                                                   Tree  \n",
       "1204  [(But, CC), (what, WP), [(President, NNP), (Cl...  "
      ]
     },
     "execution_count": 62,
     "metadata": {},
     "output_type": "execute_result"
    }
   ],
   "source": [
    "#Let's also look at that one instance where Trump says \"President Clinton\" to see what that is about.\n",
    "trump_presidentclinton_trees = get_trees_for(trump, 'Hillary Clinton', 'President Clinton')\n",
    "trump_presidentclinton_trees"
   ]
  },
  {
   "cell_type": "code",
   "execution_count": 63,
   "metadata": {},
   "outputs": [
    {
     "data": {
      "text/plain": [
       "{'Senator Sanders': 111, 'Lester': 8, 'Andrea': 1, 'Harry Truman': 2, 'President Obama': 91, \"Governor O'Malley\": 10, 'Lindsey Graham': 1, 'Secretary Kerry': 5, 'Assad': 22, 'Putin': 15, 'Hillary Clinton': 2, 'Chris': 14, 'George W.': 1, 'Bush': 12, 'Chris Cuomo': 1, 'Chairman': 1, 'Ronald Reagan': 3, 'Bill': 5, 'Abraham Lincoln': 2, 'Abraham': 1, 'Lincoln': 2, 'Anderson': 6, 'Senator Obama': 6, 'Osama': 2, 'Laden': 8, 'Gadhafi': 10, 'Senator Webb': 1, 'Bernie': 2, 'Clinton': 2, 'Barack Obama': 7, 'Donald': 80, 'George W. Bush': 10, 'Donald Trump': 23, 'Vladimir Putin': 2, 'Bernie Sanders': 3, 'Alicia Machado': 2, 'Mr.': 2, 'John McCain': 1, 'President Reagan': 3, 'Michelle Obama': 2, 'Captain Khan': 2, 'Martha': 7, 'George Washington': 1, 'President Lincoln': 2, 'Mr. Carter': 1, 'Trump': 4, 'Gaddafi': 2, 'Eric Garner': 1, 'Tamir Rice': 1, 'Michael Brown': 1, 'Trayvon Martin': 2, 'Bin Laden': 2, 'Hillary': 1, 'Martin': 2, 'Mr. Trump': 1, 'David': 3, 'Senator': 11, 'Mubarak': 1, 'Mrs. Obama': 2, 'Scott Walker': 2, 'Obama': 8, 'Saddam Hussein': 1, 'Nelson Mandela': 1, 'President Biden': 1, 'Chuck': 3, 'Rachel': 3, 'Ashraf Ghani': 1, 'Secretary Carter': 3, 'President Bush': 1, 'Nikki': 1, 'Don': 2, 'Sandra Bland': 1, 'Jorge': 4, 'David Duke': 1, 'Senator Warren': 1, 'President Clinton': 1, 'Gore': 1, 'Dana': 3, 'Governor Cuomo': 2, 'Qadafi': 2, 'Wolf': 2, 'Netanyahu': 2, 'Yasser Arafat': 1, 'Lester Holt': 1, 'John Kerry': 1, 'Miss Piggy': 1, 'Miss Housekeeping': 1}"
      ]
     },
     "execution_count": 63,
     "metadata": {},
     "output_type": "execute_result"
    }
   ],
   "source": [
    "clinton_re = get_RE_for_label(clinton['Tree'], 'all')\n",
    "clinton_re_freq = {re: clinton_re.count(re) for re in clinton_re}\n",
    "clinton_re_freq"
   ]
  },
  {
   "cell_type": "markdown",
   "metadata": {},
   "source": [
    "**It looks like Clinton might accidentally refer to Bernie Sanders as Secretary Sanders. Let's take a look.**"
   ]
  },
  {
   "cell_type": "code",
   "execution_count": 64,
   "metadata": {},
   "outputs": [
    {
     "data": {
      "text/html": [
       "<div>\n",
       "<style>\n",
       "    .dataframe thead tr:only-child th {\n",
       "        text-align: right;\n",
       "    }\n",
       "\n",
       "    .dataframe thead th {\n",
       "        text-align: left;\n",
       "    }\n",
       "\n",
       "    .dataframe tbody tr th {\n",
       "        vertical-align: top;\n",
       "    }\n",
       "</style>\n",
       "<table border=\"1\" class=\"dataframe\">\n",
       "  <thead>\n",
       "    <tr style=\"text-align: right;\">\n",
       "      <th></th>\n",
       "      <th>Date</th>\n",
       "      <th>Debate Type</th>\n",
       "      <th>Speaker</th>\n",
       "      <th>Sents</th>\n",
       "      <th>Tree</th>\n",
       "    </tr>\n",
       "  </thead>\n",
       "  <tbody>\n",
       "  </tbody>\n",
       "</table>\n",
       "</div>"
      ],
      "text/plain": [
       "Empty DataFrame\n",
       "Columns: [Date, Debate Type, Speaker, Sents, Tree]\n",
       "Index: []"
      ]
     },
     "execution_count": 64,
     "metadata": {},
     "output_type": "execute_result"
    }
   ],
   "source": [
    "clinton_secretaryclinton_trees = get_trees_for(clinton, 'Bernie Sanders', 'Secretary Sanders')\n",
    "clinton_secretaryclinton_trees"
   ]
  },
  {
   "cell_type": "code",
   "execution_count": 65,
   "metadata": {},
   "outputs": [
    {
     "data": {
      "text/html": [
       "<div>\n",
       "<style>\n",
       "    .dataframe thead tr:only-child th {\n",
       "        text-align: right;\n",
       "    }\n",
       "\n",
       "    .dataframe thead th {\n",
       "        text-align: left;\n",
       "    }\n",
       "\n",
       "    .dataframe tbody tr th {\n",
       "        vertical-align: top;\n",
       "    }\n",
       "</style>\n",
       "<table border=\"1\" class=\"dataframe\">\n",
       "  <thead>\n",
       "    <tr style=\"text-align: right;\">\n",
       "      <th></th>\n",
       "      <th>Date</th>\n",
       "      <th>Debate Type</th>\n",
       "      <th>Speaker</th>\n",
       "      <th>Sents</th>\n",
       "      <th>Tree</th>\n",
       "    </tr>\n",
       "  </thead>\n",
       "  <tbody>\n",
       "  </tbody>\n",
       "</table>\n",
       "</div>"
      ],
      "text/plain": [
       "Empty DataFrame\n",
       "Columns: [Date, Debate Type, Speaker, Sents, Tree]\n",
       "Index: []"
      ]
     },
     "execution_count": 65,
     "metadata": {},
     "output_type": "execute_result"
    }
   ],
   "source": [
    "clinton_secretaryclinton_trees"
   ]
  },
  {
   "cell_type": "code",
   "execution_count": null,
   "metadata": {
    "collapsed": true
   },
   "outputs": [],
   "source": []
  }
 ],
 "metadata": {
  "kernelspec": {
   "display_name": "Python 3",
   "language": "python",
   "name": "python3"
  },
  "language_info": {
   "codemirror_mode": {
    "name": "ipython",
    "version": 3
   },
   "file_extension": ".py",
   "mimetype": "text/x-python",
   "name": "python",
   "nbconvert_exporter": "python",
   "pygments_lexer": "ipython3",
   "version": "3.6.1"
  }
 },
 "nbformat": 4,
 "nbformat_minor": 2
}
