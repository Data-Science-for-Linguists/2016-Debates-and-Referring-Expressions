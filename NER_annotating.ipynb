{
 "cells": [
  {
   "cell_type": "code",
   "execution_count": 2,
   "metadata": {},
   "outputs": [
    {
     "name": "stdout",
     "output_type": "stream",
     "text": [
      "Pretty printing has been turned OFF\n"
     ]
    }
   ],
   "source": [
    "%pprint"
   ]
  },
  {
   "cell_type": "markdown",
   "metadata": {},
   "source": [
    "## 2016 Election Project \n",
    "\n",
    "This notebook is intended to document NER annotation of my data throughout this project. The data I am starting out with are transcripts of the presidential debates from the 2016 US Election- the 10 Democratic primary debates, the 12 Republican primary debates, and the debates for the general election between Hillary Clinton and Donald Trump. The transcripts were taken from UCSB's American Presidency Project. The citations for these transcripts can be found in the README."
   ]
  },
  {
   "cell_type": "code",
   "execution_count": 3,
   "metadata": {
    "collapsed": true
   },
   "outputs": [],
   "source": [
    "import nltk\n",
    "from nltk.corpus import PlaintextCorpusReader\n",
    "import pandas as pd\n",
    "import glob\n",
    "import os\n",
    "from collections import defaultdict\n",
    "import matplotlib.pyplot as plt\n",
    "import re"
   ]
  },
  {
   "cell_type": "markdown",
   "metadata": {},
   "source": [
    "**I'm going to create a mapping function that will take the sentence in each row of each data frame and perform nltk's chunking operation on it to get a tree with annoted NEs**"
   ]
  },
  {
   "cell_type": "code",
   "execution_count": 67,
   "metadata": {
    "collapsed": true
   },
   "outputs": [],
   "source": [
    "#Import the saved list of data frames I created in secondary_data_processing\n",
    "import pickle\n",
    "f = open('/Users/Paige/Documents/Data_Science/2016-Election-Project/data/Debates/csv/dataframes.p', 'rb')\n",
    "dataframes = pickle.load(f)\n",
    "f.close()"
   ]
  },
  {
   "cell_type": "code",
   "execution_count": 68,
   "metadata": {
    "collapsed": true
   },
   "outputs": [],
   "source": [
    "df1 = dataframes[0]"
   ]
  },
  {
   "cell_type": "code",
   "execution_count": 69,
   "metadata": {},
   "outputs": [
    {
     "data": {
      "text/html": [
       "<div>\n",
       "<style>\n",
       "    .dataframe thead tr:only-child th {\n",
       "        text-align: right;\n",
       "    }\n",
       "\n",
       "    .dataframe thead th {\n",
       "        text-align: left;\n",
       "    }\n",
       "\n",
       "    .dataframe tbody tr th {\n",
       "        vertical-align: top;\n",
       "    }\n",
       "</style>\n",
       "<table border=\"1\" class=\"dataframe\">\n",
       "  <thead>\n",
       "    <tr style=\"text-align: right;\">\n",
       "      <th></th>\n",
       "      <th>Date</th>\n",
       "      <th>Debate Type</th>\n",
       "      <th>Speaker</th>\n",
       "      <th>Sents</th>\n",
       "    </tr>\n",
       "  </thead>\n",
       "  <tbody>\n",
       "    <tr>\n",
       "      <th>2</th>\n",
       "      <td>1-14-16</td>\n",
       "      <td>primary_rep</td>\n",
       "      <td>CAVUTO</td>\n",
       "      <td>It is 9:00 p.m. here at the North Charleston ...</td>\n",
       "    </tr>\n",
       "    <tr>\n",
       "      <th>3</th>\n",
       "      <td>1-14-16</td>\n",
       "      <td>primary_rep</td>\n",
       "      <td>CAVUTO</td>\n",
       "      <td>Welcome to the sixth Republican presidential o...</td>\n",
       "    </tr>\n",
       "    <tr>\n",
       "      <th>4</th>\n",
       "      <td>1-14-16</td>\n",
       "      <td>primary_rep</td>\n",
       "      <td>CAVUTO</td>\n",
       "      <td>I'm Neil Cavuto, alongside my friend and co-mo...</td>\n",
       "    </tr>\n",
       "    <tr>\n",
       "      <th>5</th>\n",
       "      <td>1-14-16</td>\n",
       "      <td>primary_rep</td>\n",
       "      <td>BARTIROMO</td>\n",
       "      <td>Tonight we are working with Facebook to ask t...</td>\n",
       "    </tr>\n",
       "    <tr>\n",
       "      <th>6</th>\n",
       "      <td>1-14-16</td>\n",
       "      <td>primary_rep</td>\n",
       "      <td>BARTIROMO</td>\n",
       "      <td>And according to Facebook, the U.S. election h...</td>\n",
       "    </tr>\n",
       "  </tbody>\n",
       "</table>\n",
       "</div>"
      ],
      "text/plain": [
       "      Date  Debate Type    Speaker  \\\n",
       "2  1-14-16  primary_rep     CAVUTO   \n",
       "3  1-14-16  primary_rep     CAVUTO   \n",
       "4  1-14-16  primary_rep     CAVUTO   \n",
       "5  1-14-16  primary_rep  BARTIROMO   \n",
       "6  1-14-16  primary_rep  BARTIROMO   \n",
       "\n",
       "                                               Sents  \n",
       "2   It is 9:00 p.m. here at the North Charleston ...  \n",
       "3  Welcome to the sixth Republican presidential o...  \n",
       "4  I'm Neil Cavuto, alongside my friend and co-mo...  \n",
       "5   Tonight we are working with Facebook to ask t...  \n",
       "6  And according to Facebook, the U.S. election h...  "
      ]
     },
     "execution_count": 69,
     "metadata": {},
     "output_type": "execute_result"
    }
   ],
   "source": [
    "df1.head()"
   ]
  },
  {
   "cell_type": "code",
   "execution_count": 70,
   "metadata": {
    "collapsed": true
   },
   "outputs": [],
   "source": [
    "def get_tree(sent):\n",
    "    sents = nltk.sent_tokenize(sent)\n",
    "    words = [nltk.word_tokenize(sent) for sent in sents]\n",
    "    pos = [nltk.pos_tag(sent) for sent in words]\n",
    "    chunk = nltk.ne_chunk_sents(pos)\n",
    "    return list(chunk)"
   ]
  },
  {
   "cell_type": "code",
   "execution_count": 71,
   "metadata": {},
   "outputs": [
    {
     "data": {
      "text/html": [
       "<div>\n",
       "<style>\n",
       "    .dataframe thead tr:only-child th {\n",
       "        text-align: right;\n",
       "    }\n",
       "\n",
       "    .dataframe thead th {\n",
       "        text-align: left;\n",
       "    }\n",
       "\n",
       "    .dataframe tbody tr th {\n",
       "        vertical-align: top;\n",
       "    }\n",
       "</style>\n",
       "<table border=\"1\" class=\"dataframe\">\n",
       "  <thead>\n",
       "    <tr style=\"text-align: right;\">\n",
       "      <th></th>\n",
       "      <th>Date</th>\n",
       "      <th>Debate Type</th>\n",
       "      <th>Speaker</th>\n",
       "      <th>Sents</th>\n",
       "      <th>Tree</th>\n",
       "    </tr>\n",
       "  </thead>\n",
       "  <tbody>\n",
       "    <tr>\n",
       "      <th>2</th>\n",
       "      <td>1-14-16</td>\n",
       "      <td>primary_rep</td>\n",
       "      <td>CAVUTO</td>\n",
       "      <td>It is 9:00 p.m. here at the North Charleston ...</td>\n",
       "      <td>[[(It, PRP), (is, VBZ), (9:00, CD), (p.m., NN)...</td>\n",
       "    </tr>\n",
       "    <tr>\n",
       "      <th>3</th>\n",
       "      <td>1-14-16</td>\n",
       "      <td>primary_rep</td>\n",
       "      <td>CAVUTO</td>\n",
       "      <td>Welcome to the sixth Republican presidential o...</td>\n",
       "      <td>[[(Welcome, VB), (to, TO), (the, DT), (sixth, ...</td>\n",
       "    </tr>\n",
       "    <tr>\n",
       "      <th>4</th>\n",
       "      <td>1-14-16</td>\n",
       "      <td>primary_rep</td>\n",
       "      <td>CAVUTO</td>\n",
       "      <td>I'm Neil Cavuto, alongside my friend and co-mo...</td>\n",
       "      <td>[[(I, PRP), ('m, VBP), [('Neil', 'JJ'), ('Cavu...</td>\n",
       "    </tr>\n",
       "    <tr>\n",
       "      <th>5</th>\n",
       "      <td>1-14-16</td>\n",
       "      <td>primary_rep</td>\n",
       "      <td>BARTIROMO</td>\n",
       "      <td>Tonight we are working with Facebook to ask t...</td>\n",
       "      <td>[[(Tonight, NN), (we, PRP), (are, VBP), (worki...</td>\n",
       "    </tr>\n",
       "    <tr>\n",
       "      <th>6</th>\n",
       "      <td>1-14-16</td>\n",
       "      <td>primary_rep</td>\n",
       "      <td>BARTIROMO</td>\n",
       "      <td>And according to Facebook, the U.S. election h...</td>\n",
       "      <td>[[(And, CC), (according, VBG), (to, TO), [('Fa...</td>\n",
       "    </tr>\n",
       "  </tbody>\n",
       "</table>\n",
       "</div>"
      ],
      "text/plain": [
       "      Date  Debate Type    Speaker  \\\n",
       "2  1-14-16  primary_rep     CAVUTO   \n",
       "3  1-14-16  primary_rep     CAVUTO   \n",
       "4  1-14-16  primary_rep     CAVUTO   \n",
       "5  1-14-16  primary_rep  BARTIROMO   \n",
       "6  1-14-16  primary_rep  BARTIROMO   \n",
       "\n",
       "                                               Sents  \\\n",
       "2   It is 9:00 p.m. here at the North Charleston ...   \n",
       "3  Welcome to the sixth Republican presidential o...   \n",
       "4  I'm Neil Cavuto, alongside my friend and co-mo...   \n",
       "5   Tonight we are working with Facebook to ask t...   \n",
       "6  And according to Facebook, the U.S. election h...   \n",
       "\n",
       "                                                Tree  \n",
       "2  [[(It, PRP), (is, VBZ), (9:00, CD), (p.m., NN)...  \n",
       "3  [[(Welcome, VB), (to, TO), (the, DT), (sixth, ...  \n",
       "4  [[(I, PRP), ('m, VBP), [('Neil', 'JJ'), ('Cavu...  \n",
       "5  [[(Tonight, NN), (we, PRP), (are, VBP), (worki...  \n",
       "6  [[(And, CC), (according, VBG), (to, TO), [('Fa...  "
      ]
     },
     "execution_count": 71,
     "metadata": {},
     "output_type": "execute_result"
    }
   ],
   "source": [
    "df1['Tree']= df1.Sents.map(get_tree)\n",
    "df1.head()"
   ]
  },
  {
   "cell_type": "code",
   "execution_count": null,
   "metadata": {
    "collapsed": true
   },
   "outputs": [],
   "source": [
    "#It didn't get all of Secretary Clinton as the PERSON...just Clinton\n",
    "print(d1chunked_sents[25])"
   ]
  },
  {
   "cell_type": "code",
   "execution_count": null,
   "metadata": {
    "collapsed": true
   },
   "outputs": [],
   "source": [
    "for sent in d1chunked_sents[:50]:\n",
    "    for chunk in sent:\n",
    "        if hasattr(chunk, \"label\") and chunk.label() == \"NE\":\n",
    "            print(chunk)"
   ]
  },
  {
   "cell_type": "markdown",
   "metadata": {},
   "source": [
    "**This does a nice job of pulling out the NE's, but it doesn't tell us where they're located in the text unless you look at the trees...**"
   ]
  },
  {
   "cell_type": "code",
   "execution_count": null,
   "metadata": {
    "collapsed": true
   },
   "outputs": [],
   "source": [
    "dir(d1chunked_sents[0][0])"
   ]
  },
  {
   "cell_type": "code",
   "execution_count": null,
   "metadata": {
    "collapsed": true
   },
   "outputs": [],
   "source": [
    "d1chunked_sents[3]"
   ]
  },
  {
   "cell_type": "code",
   "execution_count": null,
   "metadata": {
    "collapsed": true
   },
   "outputs": [],
   "source": [
    "d1chunked_sents[3].set_label('HOLT')"
   ]
  },
  {
   "cell_type": "code",
   "execution_count": null,
   "metadata": {
    "collapsed": true
   },
   "outputs": [],
   "source": [
    "d1chunked_sents[3]"
   ]
  },
  {
   "cell_type": "markdown",
   "metadata": {},
   "source": [
    "**It's probably not smart to get rid of S as the head label... but maybe it would be helpful to change it to the speaker? There doesn't seem to be a way for me to link the NE's either.**"
   ]
  },
  {
   "cell_type": "code",
   "execution_count": null,
   "metadata": {
    "collapsed": true
   },
   "outputs": [],
   "source": [
    "#This section is with help from a datacamp tutorial\n",
    "#https://campus.datacamp.com/courses/natural-language-processing-fundamentals-in-python/named-entity-recognition?ex=3\n",
    "\n",
    "ner_categories = defaultdict(int)\n",
    "\n",
    "# Create the nested for loop\n",
    "for sent in d1chunked_sents:\n",
    "    for chunk in sent:\n",
    "        if hasattr(chunk, 'label'):\n",
    "            ner_categories[chunk.label()] += 1\n",
    "            \n",
    "# Create a list from the dictionary keys for the chart labels: labels\n",
    "labels = list(ner_categories.keys())\n",
    "\n",
    "# Create a list of the values: values\n",
    "values = [ner_categories.get(l) for l in labels]\n",
    "\n",
    "# Create the pie chart\n",
    "plt.pie(values, labels=labels, autopct='%1.1f%%', startangle=140)\n",
    "\n",
    "# Display the chart\n",
    "plt.show()"
   ]
  },
  {
   "cell_type": "code",
   "execution_count": null,
   "metadata": {
    "collapsed": true
   },
   "outputs": [],
   "source": [
    "people = []\n",
    "for sent in d1chunked_sents:\n",
    "    for chunk in sent:\n",
    "        if hasattr(chunk, 'label'):\n",
    "            if chunk.label() == 'PERSON':\n",
    "                people.append(chunk)"
   ]
  },
  {
   "cell_type": "code",
   "execution_count": null,
   "metadata": {
    "collapsed": true
   },
   "outputs": [],
   "source": [
    "gpe = []\n",
    "for sent in d1chunked_sents:\n",
    "    for chunk in sent:\n",
    "        if hasattr(chunk, 'label'):\n",
    "            if chunk.label() == 'GPE':\n",
    "                gpe.append(chunk)"
   ]
  },
  {
   "cell_type": "code",
   "execution_count": null,
   "metadata": {
    "collapsed": true
   },
   "outputs": [],
   "source": [
    "org = []\n",
    "for sent in d1chunked_sents:\n",
    "    for chunk in sent:\n",
    "        if hasattr(chunk, 'label'):\n",
    "            if chunk.label() == 'ORGANIZATION':\n",
    "                org.append(chunk)"
   ]
  },
  {
   "cell_type": "code",
   "execution_count": null,
   "metadata": {
    "collapsed": true
   },
   "outputs": [],
   "source": [
    "facility = []\n",
    "for sent in d1chunked_sents:\n",
    "    for chunk in sent:\n",
    "        if hasattr(chunk, 'label'):\n",
    "            if chunk.label() == 'FACILITY':\n",
    "                facility.append(chunk)"
   ]
  },
  {
   "cell_type": "code",
   "execution_count": null,
   "metadata": {
    "collapsed": true
   },
   "outputs": [],
   "source": [
    "len(people)"
   ]
  },
  {
   "cell_type": "code",
   "execution_count": null,
   "metadata": {
    "collapsed": true
   },
   "outputs": [],
   "source": [
    "len(gpe)"
   ]
  },
  {
   "cell_type": "code",
   "execution_count": null,
   "metadata": {
    "collapsed": true
   },
   "outputs": [],
   "source": [
    "len(org)"
   ]
  },
  {
   "cell_type": "code",
   "execution_count": null,
   "metadata": {
    "collapsed": true
   },
   "outputs": [],
   "source": [
    "len(facility)"
   ]
  },
  {
   "cell_type": "code",
   "execution_count": null,
   "metadata": {
    "collapsed": true
   },
   "outputs": [],
   "source": [
    "for x in facility:\n",
    "    print(x)"
   ]
  },
  {
   "cell_type": "code",
   "execution_count": null,
   "metadata": {
    "collapsed": true
   },
   "outputs": [],
   "source": [
    "for x in org:\n",
    "    print(x)"
   ]
  },
  {
   "cell_type": "code",
   "execution_count": null,
   "metadata": {
    "collapsed": true
   },
   "outputs": [],
   "source": [
    "people[1].leaves()[0][0]\n",
    "words = [leaf[0] for leaf in people[1].leaves()]\n",
    "words"
   ]
  },
  {
   "cell_type": "code",
   "execution_count": null,
   "metadata": {
    "collapsed": true
   },
   "outputs": [],
   "source": [
    "people_names = []\n",
    "name = ''\n",
    "for tree in people:\n",
    "    for leaf in tree.leaves():\n",
    "        name+=' '+str(leaf[0])\n",
    "    people_names.append(name.strip())\n",
    "    name = ''\n"
   ]
  },
  {
   "cell_type": "code",
   "execution_count": null,
   "metadata": {
    "collapsed": true
   },
   "outputs": [],
   "source": [
    "set(people_names)"
   ]
  },
  {
   "cell_type": "code",
   "execution_count": null,
   "metadata": {
    "collapsed": true
   },
   "outputs": [],
   "source": [
    "'Secretary' in people_names"
   ]
  },
  {
   "cell_type": "code",
   "execution_count": null,
   "metadata": {
    "collapsed": true
   },
   "outputs": [],
   "source": [
    "'Secretary Clinton' in debate1"
   ]
  },
  {
   "cell_type": "code",
   "execution_count": null,
   "metadata": {
    "collapsed": true
   },
   "outputs": [],
   "source": [
    "'Secretary Clinton' in people_names\n",
    "#In fact it looks like it never recognizes Secretary Clinton as a PERSON. Just 'Clinton'"
   ]
  }
 ],
 "metadata": {
  "kernelspec": {
   "display_name": "Python 3",
   "language": "python",
   "name": "python3"
  },
  "language_info": {
   "codemirror_mode": {
    "name": "ipython",
    "version": 3
   },
   "file_extension": ".py",
   "mimetype": "text/x-python",
   "name": "python",
   "nbconvert_exporter": "python",
   "pygments_lexer": "ipython3",
   "version": "3.6.1"
  }
 },
 "nbformat": 4,
 "nbformat_minor": 2
}
