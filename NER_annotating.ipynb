{
 "cells": [
  {
   "cell_type": "code",
   "execution_count": 1,
   "metadata": {},
   "outputs": [
    {
     "name": "stdout",
     "output_type": "stream",
     "text": [
      "Pretty printing has been turned OFF\n"
     ]
    }
   ],
   "source": [
    "%pprint"
   ]
  },
  {
   "cell_type": "markdown",
   "metadata": {},
   "source": [
    "## 2016 Election Project \n",
    "\n",
    "This notebook is intended to document my attempts at NER annotation of my data throughout this project. The data I am starting out with are transcripts of the presidential debates from the 2016 US Election between Hillary Clinton and Donald Trump. The transcripts were taken from UCSB's American Presidency Project:\n",
    "\n",
    "Presidential Candidates Debates: \"Presidential Debate at the University of Nevada in Las Vegas,\" October 19, 2016. Online by Gerhard Peters and John T. Woolley, The American Presidency Project. http://www.presidency.ucsb.edu/ws/?pid=119039.\n",
    "\n",
    "Presidential Candidates Debates: \"Presidential Debate at Washington University in St. Louis, Missouri,\" October 9, 2016. Online by Gerhard Peters and John T. Woolley, The American Presidency Project. http://www.presidency.ucsb.edu/ws/?pid=119038.\n",
    "\n",
    "Presidential Candidates Debates: \"Presidential Debate at Hofstra University in Hempstead, New York,\" September 26, 2016. Online by Gerhard Peters and John T. Woolley, The American Presidency Project. http://www.presidency.ucsb.edu/ws/?pid=118971.\n",
    "\n",
    "I will eventually use the primary debate transcripts as well."
   ]
  },
  {
   "cell_type": "code",
   "execution_count": 2,
   "metadata": {
    "collapsed": true
   },
   "outputs": [],
   "source": [
    "import nltk\n",
    "from nltk.corpus import PlaintextCorpusReader\n",
    "import pandas as pd\n",
    "import glob\n",
    "import os\n",
    "from collections import defaultdict\n",
    "import matplotlib.pyplot as plt"
   ]
  },
  {
   "cell_type": "code",
   "execution_count": 3,
   "metadata": {},
   "outputs": [
    {
     "data": {
      "text/plain": [
       "['10-19-16.txt', '10-9-16.txt', '9-26-16.txt']"
      ]
     },
     "execution_count": 3,
     "metadata": {},
     "output_type": "execute_result"
    }
   ],
   "source": [
    "os.chdir('/Users/Paige/Documents/Data_Science/2016-Election-Project/data/Debates/general')\n",
    "files = glob.glob(\"*.txt\")\n",
    "files"
   ]
  },
  {
   "cell_type": "code",
   "execution_count": 4,
   "metadata": {
    "collapsed": true
   },
   "outputs": [],
   "source": [
    "#I'm creating a list where each entry in the list is a transcript\n",
    "transcripts = []\n",
    "for f in files:\n",
    "    fi = open(f, 'r')\n",
    "    txt = fi.read()\n",
    "    fi.close\n",
    "    transcripts.append(txt)"
   ]
  },
  {
   "cell_type": "code",
   "execution_count": 5,
   "metadata": {},
   "outputs": [
    {
     "name": "stdout",
     "output_type": "stream",
     "text": [
      "PARTICIPANTS:\n",
      "Former Secretary of State Hillary Clinton (D) and\n",
      "Businessman Donald Trump (R)\n",
      "MODERATOR:\n",
      "Chris Wallace (Fox News)\n",
      "\n",
      "WALLACE: Good evening from the Thomas and Mack Center at the Universit\n"
     ]
    }
   ],
   "source": [
    "print(transcripts[0][:200])"
   ]
  },
  {
   "cell_type": "markdown",
   "metadata": {},
   "source": [
    "**Let's start out with one transcript and see what we can get working. I plan on trying NLTK's nltk.ne_chunk_sents() to do annotation. I don't know how well it will work for conversational data in this format, but I'll try it out because it's a simple place to start.**"
   ]
  },
  {
   "cell_type": "code",
   "execution_count": 6,
   "metadata": {},
   "outputs": [
    {
     "name": "stdout",
     "output_type": "stream",
     "text": [
      "PARTICIPANTS:\n",
      "Former Secretary of State Hillary Clinton (D) and\n",
      "Businessman Donald Trump (R)\n",
      "MODERATOR:\n",
      "Lester Holt (NBC News)\n",
      "\n",
      "HOLT: Good evening from Hofstra University in Hempstead, New York. I'm Lester Holt, anchor of \"NBC Nightly News.\" I want to welcome you to the first presidential debate.\n",
      "\n",
      "The participants tonight are Donald Trump and Hillary Clinton. This debate is sponsored by the Commission on Presidential Debates, a nonpartisan, nonprofit organization. The commission drafted tonight'\n"
     ]
    }
   ],
   "source": [
    "debate1 = transcripts[2]\n",
    "print(debate1[:500])"
   ]
  },
  {
   "cell_type": "code",
   "execution_count": 7,
   "metadata": {},
   "outputs": [
    {
     "data": {
      "text/plain": [
       "['PARTICIPANTS:\\nFormer Secretary of State Hillary Clinton (D) and\\nBusinessman Donald Trump (R)\\nMODERATOR:\\nLester Holt (NBC News)\\n\\nHOLT: Good evening from Hofstra University in Hempstead, New York.', 'I\\'m Lester Holt, anchor of \"NBC Nightly News.\"', 'I want to welcome you to the first presidential debate.', 'The participants tonight are Donald Trump and Hillary Clinton.', 'This debate is sponsored by the Commission on Presidential Debates, a nonpartisan, nonprofit organization.', \"The commission drafted tonight's format, and the rules have been agreed to by the campaigns.\"]"
      ]
     },
     "execution_count": 7,
     "metadata": {},
     "output_type": "execute_result"
    }
   ],
   "source": [
    "#Sentence tokenization\n",
    "d1sents = nltk.sent_tokenize(debate1)\n",
    "d1sents[:6]\n",
    "#For now, I'm not going to touch that top bit with the debate information and see what happens. It will most likely need cleaning up"
   ]
  },
  {
   "cell_type": "code",
   "execution_count": 8,
   "metadata": {},
   "outputs": [
    {
     "data": {
      "text/plain": [
       "'Beginning with you, Secretary Clinton, why are you a better choice than your opponent to create the kinds of jobs that will put more money into the pockets of American works?'"
      ]
     },
     "execution_count": 8,
     "metadata": {},
     "output_type": "execute_result"
    }
   ],
   "source": [
    "d1sents[25]"
   ]
  },
  {
   "cell_type": "code",
   "execution_count": 9,
   "metadata": {},
   "outputs": [
    {
     "data": {
      "text/plain": [
       "[['PARTICIPANTS', ':', 'Former', 'Secretary', 'of', 'State', 'Hillary', 'Clinton', '(', 'D', ')', 'and', 'Businessman', 'Donald', 'Trump', '(', 'R', ')', 'MODERATOR', ':', 'Lester', 'Holt', '(', 'NBC', 'News', ')', 'HOLT', ':', 'Good', 'evening', 'from', 'Hofstra', 'University', 'in', 'Hempstead', ',', 'New', 'York', '.'], ['I', \"'m\", 'Lester', 'Holt', ',', 'anchor', 'of', '``', 'NBC', 'Nightly', 'News', '.', \"''\"], ['I', 'want', 'to', 'welcome', 'you', 'to', 'the', 'first', 'presidential', 'debate', '.']]"
      ]
     },
     "execution_count": 9,
     "metadata": {},
     "output_type": "execute_result"
    }
   ],
   "source": [
    "#Word tokenization in each sentence\n",
    "d1toks_sents = [nltk.word_tokenize(sent) for sent in d1sents]\n",
    "d1toks_sents[0:3]"
   ]
  },
  {
   "cell_type": "code",
   "execution_count": 10,
   "metadata": {},
   "outputs": [
    {
     "data": {
      "text/plain": [
       "[('PARTICIPANTS', 'NNS'), (':', ':'), ('Former', 'NNP'), ('Secretary', 'NNP'), ('of', 'IN'), ('State', 'NNP'), ('Hillary', 'NNP'), ('Clinton', 'NNP'), ('(', '('), ('D', 'NNP'), (')', ')'), ('and', 'CC'), ('Businessman', 'NNP'), ('Donald', 'NNP'), ('Trump', 'NNP'), ('(', '('), ('R', 'NNP'), (')', ')'), ('MODERATOR', 'NN'), (':', ':'), ('Lester', 'NNP'), ('Holt', 'NNP'), ('(', '('), ('NBC', 'NNP'), ('News', 'NNP'), (')', ')'), ('HOLT', 'NN'), (':', ':'), ('Good', 'JJ'), ('evening', 'NN'), ('from', 'IN'), ('Hofstra', 'NNP'), ('University', 'NNP'), ('in', 'IN'), ('Hempstead', 'NNP'), (',', ','), ('New', 'NNP'), ('York', 'NNP'), ('.', '.')]"
      ]
     },
     "execution_count": 10,
     "metadata": {},
     "output_type": "execute_result"
    }
   ],
   "source": [
    "#POS tagging for each sentence\n",
    "d1pos_sents = [nltk.pos_tag(sent) for sent in d1toks_sents]\n",
    "d1pos_sents[0]"
   ]
  },
  {
   "cell_type": "code",
   "execution_count": 11,
   "metadata": {},
   "outputs": [
    {
     "data": {
      "text/plain": [
       "[('I', 'PRP'), (\"'m\", 'VBP'), ('Lester', 'JJ'), ('Holt', 'NNP'), (',', ','), ('anchor', 'NN'), ('of', 'IN'), ('``', '``'), ('NBC', 'NNP'), ('Nightly', 'NNP'), ('News', 'NNP'), ('.', '.'), (\"''\", \"''\")]"
      ]
     },
     "execution_count": 11,
     "metadata": {},
     "output_type": "execute_result"
    }
   ],
   "source": [
    "d1pos_sents[1]"
   ]
  },
  {
   "cell_type": "code",
   "execution_count": 12,
   "metadata": {},
   "outputs": [
    {
     "data": {
      "text/plain": [
       "[('This', 'DT'), ('debate', 'NN'), ('is', 'VBZ'), ('sponsored', 'VBN'), ('by', 'IN'), ('the', 'DT'), ('Commission', 'NNP'), ('on', 'IN'), ('Presidential', 'NNP'), ('Debates', 'NNP'), (',', ','), ('a', 'DT'), ('nonpartisan', 'JJ'), (',', ','), ('nonprofit', 'JJ'), ('organization', 'NN'), ('.', '.')]"
      ]
     },
     "execution_count": 12,
     "metadata": {},
     "output_type": "execute_result"
    }
   ],
   "source": [
    "d1pos_sents[4]"
   ]
  },
  {
   "cell_type": "code",
   "execution_count": 13,
   "metadata": {
    "collapsed": true
   },
   "outputs": [],
   "source": [
    "#Named Entity Chunking\n",
    "d1chunked_sents = nltk.ne_chunk_sents(d1pos_sents)"
   ]
  },
  {
   "cell_type": "code",
   "execution_count": 14,
   "metadata": {},
   "outputs": [
    {
     "data": {
      "image/png": "[encoded data removed]",
      "text/plain": [
       "Tree('S', [('I', 'PRP'), (\"'m\", 'VBP'), Tree('PERSON', [('Lester', 'JJ'), ('Holt', 'NNP')]), (',', ','), ('anchor', 'NN'), ('of', 'IN'), ('``', '``'), ('NBC', 'NNP'), ('Nightly', 'NNP'), ('News', 'NNP'), ('.', '.'), (\"''\", \"''\")])"
      ]
     },
     "execution_count": 14,
     "metadata": {},
     "output_type": "execute_result"
    }
   ],
   "source": [
    "d1chunked_sents = list(d1chunked_sents)\n",
    "d1chunked_sents[1]"
   ]
  },
  {
   "cell_type": "code",
   "execution_count": 15,
   "metadata": {},
   "outputs": [
    {
     "name": "stdout",
     "output_type": "stream",
     "text": [
      "(S\n",
      "  Beginning/VBG\n",
      "  with/IN\n",
      "  you/PRP\n",
      "  ,/,\n",
      "  Secretary/NNP\n",
      "  (PERSON Clinton/NNP)\n",
      "  ,/,\n",
      "  why/WRB\n",
      "  are/VBP\n",
      "  you/PRP\n",
      "  a/DT\n",
      "  better/JJR\n",
      "  choice/NN\n",
      "  than/IN\n",
      "  your/PRP$\n",
      "  opponent/NN\n",
      "  to/TO\n",
      "  create/VB\n",
      "  the/DT\n",
      "  kinds/NNS\n",
      "  of/IN\n",
      "  jobs/NNS\n",
      "  that/WDT\n",
      "  will/MD\n",
      "  put/VB\n",
      "  more/JJR\n",
      "  money/NN\n",
      "  into/IN\n",
      "  the/DT\n",
      "  pockets/NNS\n",
      "  of/IN\n",
      "  (GPE American/NNP)\n",
      "  works/NNS\n",
      "  ?/.)\n"
     ]
    }
   ],
   "source": [
    "#It didn't get all of Secretary Clinton as the PERSON...just Clinton\n",
    "print(d1chunked_sents[25])"
   ]
  },
  {
   "cell_type": "code",
   "execution_count": 16,
   "metadata": {
    "collapsed": true
   },
   "outputs": [],
   "source": [
    "for sent in d1chunked_sents[:50]:\n",
    "    for chunk in sent:\n",
    "        if hasattr(chunk, \"label\") and chunk.label() == \"NE\":\n",
    "            print(chunk)"
   ]
  },
  {
   "cell_type": "markdown",
   "metadata": {},
   "source": [
    "**This does a nice job of pulling out the NE's, but it doesn't tell us where they're located in the text unless you look at the trees...**"
   ]
  },
  {
   "cell_type": "code",
   "execution_count": 17,
   "metadata": {},
   "outputs": [
    {
     "data": {
      "text/plain": [
       "['__add__', '__class__', '__contains__', '__delattr__', '__dir__', '__doc__', '__eq__', '__format__', '__ge__', '__getattribute__', '__getitem__', '__getnewargs__', '__gt__', '__hash__', '__init__', '__init_subclass__', '__iter__', '__le__', '__len__', '__lt__', '__mul__', '__ne__', '__new__', '__reduce__', '__reduce_ex__', '__repr__', '__rmul__', '__setattr__', '__sizeof__', '__str__', '__subclasshook__', 'count', 'index']"
      ]
     },
     "execution_count": 17,
     "metadata": {},
     "output_type": "execute_result"
    }
   ],
   "source": [
    "dir(d1chunked_sents[0][0])"
   ]
  },
  {
   "cell_type": "code",
   "execution_count": 18,
   "metadata": {},
   "outputs": [
    {
     "data": {
      "image/png": "[encoded data removed]",
      "text/plain": [
       "Tree('S', [('The', 'DT'), ('participants', 'NNS'), ('tonight', 'WDT'), ('are', 'VBP'), Tree('PERSON', [('Donald', 'NNP'), ('Trump', 'NNP')]), ('and', 'CC'), Tree('PERSON', [('Hillary', 'NNP'), ('Clinton', 'NNP')]), ('.', '.')])"
      ]
     },
     "execution_count": 18,
     "metadata": {},
     "output_type": "execute_result"
    }
   ],
   "source": [
    "d1chunked_sents[3]"
   ]
  },
  {
   "cell_type": "code",
   "execution_count": 19,
   "metadata": {
    "collapsed": true
   },
   "outputs": [],
   "source": [
    "d1chunked_sents[3].set_label('HOLT')"
   ]
  },
  {
   "cell_type": "code",
   "execution_count": 20,
   "metadata": {},
   "outputs": [
    {
     "data": {
      "image/png": "[encoded data removed]",
      "text/plain": [
       "Tree('HOLT', [('The', 'DT'), ('participants', 'NNS'), ('tonight', 'WDT'), ('are', 'VBP'), Tree('PERSON', [('Donald', 'NNP'), ('Trump', 'NNP')]), ('and', 'CC'), Tree('PERSON', [('Hillary', 'NNP'), ('Clinton', 'NNP')]), ('.', '.')])"
      ]
     },
     "execution_count": 20,
     "metadata": {},
     "output_type": "execute_result"
    }
   ],
   "source": [
    "d1chunked_sents[3]"
   ]
  },
  {
   "cell_type": "markdown",
   "metadata": {},
   "source": [
    "**It's probably not smart to get rid of S as the head label... but maybe it would be helpful to change it to the speaker? There doesn't seem to be a way for me to link the NE's either.**"
   ]
  },
  {
   "cell_type": "code",
   "execution_count": 21,
   "metadata": {},
   "outputs": [
    {
     "data": {
      "image/png": "[encoded data removed]",
      "text/plain": [
       "<matplotlib.figure.Figure object at 0x119e5f9b0>"
      ]
     },
     "metadata": {},
     "output_type": "display_data"
    }
   ],
   "source": [
    "#This section is with help from a datacamp tutorial\n",
    "#https://campus.datacamp.com/courses/natural-language-processing-fundamentals-in-python/named-entity-recognition?ex=3\n",
    "\n",
    "ner_categories = defaultdict(int)\n",
    "\n",
    "# Create the nested for loop\n",
    "for sent in d1chunked_sents:\n",
    "    for chunk in sent:\n",
    "        if hasattr(chunk, 'label'):\n",
    "            ner_categories[chunk.label()] += 1\n",
    "            \n",
    "# Create a list from the dictionary keys for the chart labels: labels\n",
    "labels = list(ner_categories.keys())\n",
    "\n",
    "# Create a list of the values: values\n",
    "values = [ner_categories.get(l) for l in labels]\n",
    "\n",
    "# Create the pie chart\n",
    "plt.pie(values, labels=labels, autopct='%1.1f%%', startangle=140)\n",
    "\n",
    "# Display the chart\n",
    "plt.show()"
   ]
  },
  {
   "cell_type": "code",
   "execution_count": 22,
   "metadata": {
    "collapsed": true
   },
   "outputs": [],
   "source": [
    "people = []\n",
    "for sent in d1chunked_sents:\n",
    "    for chunk in sent:\n",
    "        if hasattr(chunk, 'label'):\n",
    "            if chunk.label() == 'PERSON':\n",
    "                people.append(chunk)"
   ]
  },
  {
   "cell_type": "code",
   "execution_count": 23,
   "metadata": {
    "collapsed": true
   },
   "outputs": [],
   "source": [
    "gpe = []\n",
    "for sent in d1chunked_sents:\n",
    "    for chunk in sent:\n",
    "        if hasattr(chunk, 'label'):\n",
    "            if chunk.label() == 'GPE':\n",
    "                gpe.append(chunk)"
   ]
  },
  {
   "cell_type": "code",
   "execution_count": 24,
   "metadata": {
    "collapsed": true
   },
   "outputs": [],
   "source": [
    "org = []\n",
    "for sent in d1chunked_sents:\n",
    "    for chunk in sent:\n",
    "        if hasattr(chunk, 'label'):\n",
    "            if chunk.label() == 'ORGANIZATION':\n",
    "                org.append(chunk)"
   ]
  },
  {
   "cell_type": "code",
   "execution_count": 25,
   "metadata": {
    "collapsed": true
   },
   "outputs": [],
   "source": [
    "facility = []\n",
    "for sent in d1chunked_sents:\n",
    "    for chunk in sent:\n",
    "        if hasattr(chunk, 'label'):\n",
    "            if chunk.label() == 'FACILITY':\n",
    "                facility.append(chunk)"
   ]
  },
  {
   "cell_type": "code",
   "execution_count": 26,
   "metadata": {},
   "outputs": [
    {
     "data": {
      "text/plain": [
       "291"
      ]
     },
     "execution_count": 26,
     "metadata": {},
     "output_type": "execute_result"
    }
   ],
   "source": [
    "len(people)"
   ]
  },
  {
   "cell_type": "code",
   "execution_count": 27,
   "metadata": {},
   "outputs": [
    {
     "data": {
      "text/plain": [
       "307"
      ]
     },
     "execution_count": 27,
     "metadata": {},
     "output_type": "execute_result"
    }
   ],
   "source": [
    "len(gpe)"
   ]
  },
  {
   "cell_type": "code",
   "execution_count": 28,
   "metadata": {},
   "outputs": [
    {
     "data": {
      "text/plain": [
       "105"
      ]
     },
     "execution_count": 28,
     "metadata": {},
     "output_type": "execute_result"
    }
   ],
   "source": [
    "len(org)"
   ]
  },
  {
   "cell_type": "code",
   "execution_count": 29,
   "metadata": {},
   "outputs": [
    {
     "data": {
      "text/plain": [
       "9"
      ]
     },
     "execution_count": 29,
     "metadata": {},
     "output_type": "execute_result"
    }
   ],
   "source": [
    "len(facility)"
   ]
  },
  {
   "cell_type": "code",
   "execution_count": 30,
   "metadata": {},
   "outputs": [
    {
     "name": "stdout",
     "output_type": "stream",
     "text": [
      "(FACILITY Wall/NNP Street/NNP)\n",
      "(FACILITY Wall/NNP Street/NNP)\n",
      "(FACILITY White/NNP House/NNP)\n",
      "(FACILITY Fifth/NNP Amendment/NNP)\n",
      "(FACILITY Kennedy/NNP)\n",
      "(FACILITY Pennsylvania/NNP Avenue/NNP)\n",
      "(FACILITY White/NNP House/NNP)\n",
      "(FACILITY Pennsylvania/NNP Avenue/NNP)\n",
      "(FACILITY Wall/NNP Street/NNP Journal/NNP)\n"
     ]
    }
   ],
   "source": [
    "for x in facility:\n",
    "    print(x)"
   ]
  },
  {
   "cell_type": "code",
   "execution_count": 31,
   "metadata": {},
   "outputs": [
    {
     "name": "stdout",
     "output_type": "stream",
     "text": [
      "(ORGANIZATION State/NNP)\n",
      "(ORGANIZATION NBC/NNP News/NNP)\n",
      "(ORGANIZATION Hofstra/NNP University/NNP)\n",
      "(ORGANIZATION Commission/NNP)\n",
      "(ORGANIZATION Democratic/JJ)\n",
      "(ORGANIZATION Republican/NNP)\n",
      "(ORGANIZATION Carrier/NNP)\n",
      "(ORGANIZATION VAT/NNP)\n",
      "(ORGANIZATION NAFTA/NNP)\n",
      "(ORGANIZATION Great/NNP Recession/NNP)\n",
      "(ORGANIZATION OK/NNP)\n",
      "(ORGANIZATION Obama/NNP)\n",
      "(ORGANIZATION Michigan/NNP)\n",
      "(ORGANIZATION Ohio/NNP)\n",
      "(ORGANIZATION NAFTA/NNP)\n",
      "(ORGANIZATION NAFTA/NNP)\n",
      "(ORGANIZATION Senate/NNP)\n",
      "(ORGANIZATION CAFTA/NNP)\n",
      "(ORGANIZATION NAFTA/NNP)\n",
      "(ORGANIZATION NAFTA/NNP)\n",
      "(ORGANIZATION NAFTA/NNP)\n",
      "(ORGANIZATION ISIS/NNP)\n",
      "(ORGANIZATION ISIS/NNP)\n",
      "(ORGANIZATION General/NNP Douglas/NNP)\n",
      "(ORGANIZATION MacArthur/NNP)\n",
      "(ORGANIZATION ISIS/NNP)\n",
      "(ORGANIZATION ISIS/NNP)\n",
      "(ORGANIZATION Democrats/NNPS)\n",
      "(ORGANIZATION Trump/NNP)\n",
      "(ORGANIZATION Great/NNP Depression/NNP)\n",
      "(ORGANIZATION Fed/NNP)\n",
      "(ORGANIZATION Fed/NNP)\n",
      "(ORGANIZATION Fed/NNP)\n",
      "(ORGANIZATION Fed/NNP)\n",
      "(ORGANIZATION IRS/NNP)\n",
      "(ORGANIZATION IRS/NNP)\n",
      "(ORGANIZATION IRS/NNP)\n",
      "(ORGANIZATION Fifth/NNP)\n",
      "(ORGANIZATION LaGuardia/NNP)\n",
      "(ORGANIZATION LAX/NNP)\n",
      "(ORGANIZATION Old/NNP Post/NNP)\n",
      "(ORGANIZATION Trump/NNP International/NNP)\n",
      "(ORGANIZATION Fraternal/NNP Order/NNP)\n",
      "(ORGANIZATION African-/NNP Americans/NNPS)\n",
      "(ORGANIZATION NRA/NNP)\n",
      "(ORGANIZATION Second/JJ Amendment/NNP)\n",
      "(ORGANIZATION Democrat/NNP)\n",
      "(ORGANIZATION Blumenthal/NNP)\n",
      "(ORGANIZATION CNN/NNP)\n",
      "(ORGANIZATION McClatchy/NNP)\n",
      "(ORGANIZATION McClatchy/NNP)\n",
      "(ORGANIZATION ISIS/NNP)\n",
      "(ORGANIZATION CNN/NNP)\n",
      "(ORGANIZATION Justice/NNP Department/NNP)\n",
      "(ORGANIZATION Justice/NNP Department/NNP)\n",
      "(ORGANIZATION Democratic/JJ National/NNP Convention/NN)\n",
      "(ORGANIZATION Democratic/JJ National/NNP Committee/NNP)\n",
      "(ORGANIZATION ICE/NNP)\n",
      "(ORGANIZATION ICE/NNP)\n",
      "(ORGANIZATION DNC/NNP)\n",
      "(ORGANIZATION OK/NNP)\n",
      "(ORGANIZATION DNC/NNP)\n",
      "(ORGANIZATION DNC/NNP)\n",
      "(ORGANIZATION ISIS/NNP)\n",
      "(ORGANIZATION ISIS/NNP)\n",
      "(ORGANIZATION ISIS/NNP)\n",
      "(ORGANIZATION ISIS/NNP)\n",
      "(ORGANIZATION ISIS/NNP)\n",
      "(ORGANIZATION ISIS/NNP)\n",
      "(ORGANIZATION ISIS/NNP)\n",
      "(ORGANIZATION ISIS/NNP)\n",
      "(ORGANIZATION ISIS/NNP)\n",
      "(ORGANIZATION ISIS/NNP)\n",
      "(ORGANIZATION ISIS/NNP)\n",
      "(ORGANIZATION ISIS/NNP)\n",
      "(ORGANIZATION NATO/NNP)\n",
      "(ORGANIZATION Muslim/NNP)\n",
      "(ORGANIZATION Muslim/NNP)\n",
      "(ORGANIZATION American/JJ Muslim/NNP)\n",
      "(ORGANIZATION NATO/NNP)\n",
      "(ORGANIZATION NATO/NNP)\n",
      "(ORGANIZATION NATO/NNP)\n",
      "(ORGANIZATION NATO/NNP)\n",
      "(ORGANIZATION NATO/NNP)\n",
      "(ORGANIZATION NATO/NNP)\n",
      "(ORGANIZATION NATO/NNP)\n",
      "(ORGANIZATION NATO/NNP)\n",
      "(ORGANIZATION NATO/NNP)\n",
      "(ORGANIZATION NATO/NNP)\n",
      "(ORGANIZATION ISIS/NNP)\n",
      "(ORGANIZATION ISIS/NNP)\n",
      "(ORGANIZATION ISIS/NNP)\n",
      "(ORGANIZATION Sean/NNP Hannity/NNP)\n",
      "(ORGANIZATION NATO/NNP)\n",
      "(ORGANIZATION NATO/NNP)\n",
      "(ORGANIZATION NATO/NNP)\n",
      "(ORGANIZATION Bush/NNP)\n",
      "(ORGANIZATION Senate/NNP)\n",
      "(ORGANIZATION Democrats/NNPS)\n",
      "(ORGANIZATION ISIS/NNP)\n",
      "(ORGANIZATION ISIS/NNP)\n",
      "(ORGANIZATION Washington/NNP University/NNP)\n",
      "(ORGANIZATION University/NNP)\n",
      "(ORGANIZATION Longwood/NNP University/NNP)\n",
      "(ORGANIZATION Hofstra/NNP University/NNP)\n"
     ]
    }
   ],
   "source": [
    "for x in org:\n",
    "    print(x)"
   ]
  },
  {
   "cell_type": "code",
   "execution_count": 32,
   "metadata": {},
   "outputs": [
    {
     "data": {
      "text/plain": [
       "['Businessman', 'Donald', 'Trump']"
      ]
     },
     "execution_count": 32,
     "metadata": {},
     "output_type": "execute_result"
    }
   ],
   "source": [
    "people[1].leaves()[0][0]\n",
    "words = [leaf[0] for leaf in people[1].leaves()]\n",
    "words"
   ]
  },
  {
   "cell_type": "code",
   "execution_count": 33,
   "metadata": {},
   "outputs": [],
   "source": [
    "people_names = []\n",
    "name = ''\n",
    "for tree in people:\n",
    "    for leaf in tree.leaves():\n",
    "        name+=' '+str(leaf[0])\n",
    "    people_names.append(name.strip())\n",
    "    name = ''\n"
   ]
  },
  {
   "cell_type": "code",
   "execution_count": 34,
   "metadata": {},
   "outputs": [
    {
     "data": {
      "text/plain": [
       "{'Blumenthal', 'Bernie Sanders', 'Muslims', 'Donald J. Trump', 'Sean', 'Miss Housekeeping', 'Detroit', 'Howard Stern', 'Trump', 'Putin', 'Sean Hannity', 'Lester Holt', 'Incomes', 'Neil Cavuto', 'Hillary Clinton', 'Nevada Las Vegas', 'Lester', 'George W. Bush', 'Hannity', 'Clinton', 'Miss Piggy', 'Patti Doyle', 'Charlotte', 'Alicia Machado', 'Hillary', \"Rosie O'Donnell\", 'Bibi Netanyahu', 'Barack Obama', 'Ronald Reagan', 'CLINTON', 'Rahami', 'Mr. Trump', 'Wolf Blitzer', 'Michigan', 'Michelle Obama', 'Fox', 'Kerry', 'Patti Solis Doyle', 'Border Patrol', 'Debbie Wasserman Schultz', 'it—he', 'Vladimir Putin', 'Madison Avenue', 'Ferguson', 'John Kerry', 'Arab', 'Mr.', 'Obama', 'Donald', 'Mayor Bloomberg', 'Qatar', 'Businessman Donald Trump', 'Sidney', 'Ohio', 'Al Qaida', 'Mayor Giuliani', 'Donald Trump'}"
      ]
     },
     "execution_count": 34,
     "metadata": {},
     "output_type": "execute_result"
    }
   ],
   "source": [
    "set(people_names)"
   ]
  },
  {
   "cell_type": "code",
   "execution_count": 35,
   "metadata": {},
   "outputs": [
    {
     "data": {
      "text/plain": [
       "False"
      ]
     },
     "execution_count": 35,
     "metadata": {},
     "output_type": "execute_result"
    }
   ],
   "source": [
    "'Secretary' in people_names"
   ]
  },
  {
   "cell_type": "code",
   "execution_count": 36,
   "metadata": {},
   "outputs": [
    {
     "data": {
      "text/plain": [
       "True"
      ]
     },
     "execution_count": 36,
     "metadata": {},
     "output_type": "execute_result"
    }
   ],
   "source": [
    "'Secretary Clinton' in debate1"
   ]
  },
  {
   "cell_type": "code",
   "execution_count": 37,
   "metadata": {},
   "outputs": [
    {
     "data": {
      "text/plain": [
       "False"
      ]
     },
     "execution_count": 37,
     "metadata": {},
     "output_type": "execute_result"
    }
   ],
   "source": [
    "'Secretary Clinton' in people_names\n",
    "#In fact it looks like it never recognizes Secretary Clinton as a PERSON. Just 'Clinton'"
   ]
  },
  {
   "cell_type": "markdown",
   "metadata": {},
   "source": [
    "### Trying SpaCy"
   ]
  },
  {
   "cell_type": "code",
   "execution_count": 39,
   "metadata": {},
   "outputs": [],
   "source": [
    "import spacy"
   ]
  },
  {
   "cell_type": "code",
   "execution_count": 41,
   "metadata": {},
   "outputs": [],
   "source": [
    "nlp = spacy.load('en')"
   ]
  },
  {
   "cell_type": "code",
   "execution_count": 42,
   "metadata": {
    "collapsed": true
   },
   "outputs": [],
   "source": [
    "doc = nlp(debate1)"
   ]
  },
  {
   "cell_type": "code",
   "execution_count": 51,
   "metadata": {},
   "outputs": [
    {
     "data": {
      "text/plain": [
       "1088"
      ]
     },
     "execution_count": 51,
     "metadata": {},
     "output_type": "execute_result"
    }
   ],
   "source": [
    "len(doc.ents)"
   ]
  },
  {
   "cell_type": "code",
   "execution_count": 46,
   "metadata": {},
   "outputs": [
    {
     "name": "stdout",
     "output_type": "stream",
     "text": [
      "State ORG\n",
      "Hillary Clinton PERSON\n",
      "Donald Trump PERSON\n",
      "Lester Holt PERSON\n",
      "NBC News ORG\n",
      "evening TIME\n",
      "Hofstra University ORG\n",
      "Hempstead GPE\n",
      "New York GPE\n",
      "Lester Holt PERSON\n",
      "NBC Nightly News WORK_OF_ART\n",
      "first ORDINAL\n",
      "\n",
      "\n",
      " FAC\n",
      "tonight TIME\n",
      "Donald Trump PERSON\n",
      "Hillary Clinton PERSON\n",
      "the Commission on Presidential Debates ORG\n",
      "tonight TIME\n",
      "six CARDINAL\n",
      "each 15 minutes TIME\n",
      "three CARDINAL\n",
      "tonight TIME\n",
      "America GPE\n",
      "America GPE\n",
      "two minutes TIME\n",
      "the end of the segment DATE\n",
      "Democratic NORP\n",
      "the United States GPE\n",
      "Hillary Clinton PERSON\n",
      "Republican NORP\n",
      "the United States GPE\n",
      "Donald J. Trump PERSON\n",
      "CLINTON ORG\n",
      "Donald PERSON\n",
      "tonight TIME\n",
      "two CARDINAL\n",
      "evening TIME\n",
      "American NORP\n",
      "Achieving Prosperity WORK_OF_ART\n",
      "two CARDINAL\n",
      "America GPE\n",
      "today DATE\n",
      "six straight years DATE\n",
      "nearly half CARDINAL\n",
      "Americans NORP\n",
      "Clinton PERSON\n",
      "American NORP\n",
      "CLINTON GPE\n",
      "Lester PERSON\n",
      "Hofstra ORG\n"
     ]
    }
   ],
   "source": [
    "for ent in doc.ents[:50]:\n",
    "    print(ent.text, ent.label_)"
   ]
  },
  {
   "cell_type": "code",
   "execution_count": 52,
   "metadata": {},
   "outputs": [
    {
     "data": {
      "text/plain": [
       "['__class__', '__delattr__', '__dir__', '__doc__', '__eq__', '__format__', '__ge__', '__getattribute__', '__getitem__', '__gt__', '__hash__', '__init__', '__init_subclass__', '__iter__', '__le__', '__len__', '__lt__', '__ne__', '__new__', '__pyx_vtable__', '__reduce__', '__reduce_ex__', '__repr__', '__setattr__', '__sizeof__', '__str__', '__subclasshook__', '_recalculate_indices', '_vector', '_vector_norm', 'doc', 'end', 'end_char', 'ent_id', 'ent_id_', 'has_vector', 'label', 'label_', 'lefts', 'lemma_', 'lower_', 'merge', 'noun_chunks', 'orth_', 'rights', 'root', 'sent', 'sentiment', 'similarity', 'start', 'start_char', 'string', 'subtree', 'text', 'text_with_ws', 'upper_', 'vector', 'vector_norm']"
      ]
     },
     "execution_count": 52,
     "metadata": {},
     "output_type": "execute_result"
    }
   ],
   "source": [
    "dir(doc.ents[0])"
   ]
  },
  {
   "cell_type": "code",
   "execution_count": 58,
   "metadata": {},
   "outputs": [
    {
     "data": {
      "text/plain": [
       "State"
      ]
     },
     "execution_count": 58,
     "metadata": {},
     "output_type": "execute_result"
    }
   ],
   "source": [
    "doc.ents[0]"
   ]
  },
  {
   "cell_type": "code",
   "execution_count": 59,
   "metadata": {},
   "outputs": [
    {
     "data": {
      "text/plain": [
       "39"
      ]
     },
     "execution_count": 59,
     "metadata": {},
     "output_type": "execute_result"
    }
   ],
   "source": [
    "doc.ents[0].end_char"
   ]
  },
  {
   "cell_type": "code",
   "execution_count": 60,
   "metadata": {},
   "outputs": [
    {
     "data": {
      "text/plain": [
       "0"
      ]
     },
     "execution_count": 60,
     "metadata": {},
     "output_type": "execute_result"
    }
   ],
   "source": [
    "doc.ents[0].ent_id"
   ]
  },
  {
   "cell_type": "code",
   "execution_count": 62,
   "metadata": {},
   "outputs": [
    {
     "data": {
      "text/plain": [
       "'ORG'"
      ]
     },
     "execution_count": 62,
     "metadata": {},
     "output_type": "execute_result"
    }
   ],
   "source": [
    "doc.ents[0].label_"
   ]
  },
  {
   "cell_type": "code",
   "execution_count": 63,
   "metadata": {},
   "outputs": [
    {
     "data": {
      "text/plain": [
       "'state'"
      ]
     },
     "execution_count": 63,
     "metadata": {},
     "output_type": "execute_result"
    }
   ],
   "source": [
    "doc.ents[0].lemma_"
   ]
  },
  {
   "cell_type": "code",
   "execution_count": 65,
   "metadata": {},
   "outputs": [
    {
     "data": {
      "text/plain": [
       "[State]"
      ]
     },
     "execution_count": 65,
     "metadata": {},
     "output_type": "execute_result"
    }
   ],
   "source": [
    "list(doc.ents[0].subtree)"
   ]
  },
  {
   "cell_type": "raw",
   "metadata": {},
   "source": [
    "<div class=\"entities\">I will ask you that question first, Secretary <mark data-entity=\"person\">Clinton</mark>.</div>"
   ]
  },
  {
   "cell_type": "raw",
   "metadata": {},
   "source": []
  }
 ],
 "metadata": {
  "kernelspec": {
   "display_name": "Python 3",
   "language": "python",
   "name": "python3"
  },
  "language_info": {
   "codemirror_mode": {
    "name": "ipython",
    "version": 3
   },
   "file_extension": ".py",
   "mimetype": "text/x-python",
   "name": "python",
   "nbconvert_exporter": "python",
   "pygments_lexer": "ipython3",
   "version": "3.6.1"
  }
 },
 "nbformat": 4,
 "nbformat_minor": 2
}
