{
 "cells": [
  {
   "cell_type": "code",
   "execution_count": 1,
   "metadata": {},
   "outputs": [
    {
     "name": "stdout",
     "output_type": "stream",
     "text": [
      "Pretty printing has been turned OFF\n"
     ]
    }
   ],
   "source": [
    "%pprint"
   ]
  },
  {
   "cell_type": "markdown",
   "metadata": {},
   "source": [
    "## 2016 Election Project \n",
    "\n",
    "This notebook is intended to document my attempts at NER annotation of my data throughout this project. The data I am starting out with are transcripts of the presidential debates from the 2016 US Election between Hillary Clinton and Donald Trump. The transcripts were taken from UCSB's American Presidency Project:\n",
    "\n",
    "Presidential Candidates Debates: \"Presidential Debate at the University of Nevada in Las Vegas,\" October 19, 2016. Online by Gerhard Peters and John T. Woolley, The American Presidency Project. http://www.presidency.ucsb.edu/ws/?pid=119039.\n",
    "\n",
    "Presidential Candidates Debates: \"Presidential Debate at Washington University in St. Louis, Missouri,\" October 9, 2016. Online by Gerhard Peters and John T. Woolley, The American Presidency Project. http://www.presidency.ucsb.edu/ws/?pid=119038.\n",
    "\n",
    "Presidential Candidates Debates: \"Presidential Debate at Hofstra University in Hempstead, New York,\" September 26, 2016. Online by Gerhard Peters and John T. Woolley, The American Presidency Project. http://www.presidency.ucsb.edu/ws/?pid=118971.\n",
    "\n",
    "I will eventually use the primary debate transcripts as well."
   ]
  },
  {
   "cell_type": "code",
   "execution_count": 2,
   "metadata": {
    "collapsed": true
   },
   "outputs": [],
   "source": [
    "import nltk\n",
    "from nltk.corpus import PlaintextCorpusReader\n",
    "import pandas as pd\n",
    "import glob\n",
    "import os"
   ]
  },
  {
   "cell_type": "code",
   "execution_count": 3,
   "metadata": {},
   "outputs": [
    {
     "data": {
      "text/plain": [
       "['10-19-16.txt', '10-9-16.txt', '9-26-16.txt']"
      ]
     },
     "execution_count": 3,
     "metadata": {},
     "output_type": "execute_result"
    }
   ],
   "source": [
    "os.chdir('/Users/Paige/Documents/Data_Science/2016-Election-Project/data/Debates')\n",
    "files = glob.glob(\"*.txt\")\n",
    "files"
   ]
  },
  {
   "cell_type": "code",
   "execution_count": 4,
   "metadata": {
    "collapsed": true
   },
   "outputs": [],
   "source": [
    "#I'm creating a list where each entry in the list is a transcript\n",
    "transcripts = []\n",
    "for f in files:\n",
    "    fi = open(f, 'r')\n",
    "    txt = fi.read()\n",
    "    fi.close\n",
    "    transcripts.append(txt)"
   ]
  },
  {
   "cell_type": "code",
   "execution_count": 5,
   "metadata": {},
   "outputs": [
    {
     "name": "stdout",
     "output_type": "stream",
     "text": [
      "PARTICIPANTS:\n",
      "Former Secretary of State Hillary Clinton (D) and\n",
      "Businessman Donald Trump (R)\n",
      "MODERATOR:\n",
      "Chris Wallace (Fox News)\n",
      "\n",
      "WALLACE: Good evening from the Thomas and Mack Center at the Universit\n"
     ]
    }
   ],
   "source": [
    "print(transcripts[0][:200])"
   ]
  },
  {
   "cell_type": "markdown",
   "metadata": {},
   "source": [
    "**Let's start out with one transcript and see what we can get working. I plan on trying NLTK's nltk.ne_chunk_sents() to do annotation. I don't know how well it will work for conversational data in this format, but I'll try it out because it's a simple place to start.**"
   ]
  },
  {
   "cell_type": "code",
   "execution_count": 6,
   "metadata": {},
   "outputs": [
    {
     "name": "stdout",
     "output_type": "stream",
     "text": [
      "PARTICIPANTS:\n",
      "Former Secretary of State Hillary Clinton (D) and\n",
      "Businessman Donald Trump (R)\n",
      "MODERATOR:\n",
      "Lester Holt (NBC News)\n",
      "\n",
      "HOLT: Good evening from Hofstra University in Hempstead, New York. I'm Lester Holt, anchor of \"NBC Nightly News.\" I want to welcome you to the first presidential debate.\n",
      "\n",
      "The participants tonight are Donald Trump and Hillary Clinton. This debate is sponsored by the Commission on Presidential Debates, a nonpartisan, nonprofit organization. The commission drafted tonight'\n"
     ]
    }
   ],
   "source": [
    "debate1 = transcripts[2]\n",
    "print(debate1[:500])"
   ]
  },
  {
   "cell_type": "code",
   "execution_count": 7,
   "metadata": {},
   "outputs": [
    {
     "data": {
      "text/plain": [
       "['PARTICIPANTS:\\nFormer Secretary of State Hillary Clinton (D) and\\nBusinessman Donald Trump (R)\\nMODERATOR:\\nLester Holt (NBC News)\\n\\nHOLT: Good evening from Hofstra University in Hempstead, New York.', 'I\\'m Lester Holt, anchor of \"NBC Nightly News.\"', 'I want to welcome you to the first presidential debate.', 'The participants tonight are Donald Trump and Hillary Clinton.', 'This debate is sponsored by the Commission on Presidential Debates, a nonpartisan, nonprofit organization.', \"The commission drafted tonight's format, and the rules have been agreed to by the campaigns.\"]"
      ]
     },
     "execution_count": 7,
     "metadata": {},
     "output_type": "execute_result"
    }
   ],
   "source": [
    "#Sentence tokenization\n",
    "d1sents = nltk.sent_tokenize(debate1)\n",
    "d1sents[:6]\n",
    "#For now, I'm not going to touch that top bit with the debate information and see what happens. It will most likely need cleaning up"
   ]
  },
  {
   "cell_type": "code",
   "execution_count": 10,
   "metadata": {},
   "outputs": [
    {
     "data": {
      "text/plain": [
       "[['PARTICIPANTS', ':', 'Former', 'Secretary', 'of', 'State', 'Hillary', 'Clinton', '(', 'D', ')', 'and', 'Businessman', 'Donald', 'Trump', '(', 'R', ')', 'MODERATOR', ':', 'Lester', 'Holt', '(', 'NBC', 'News', ')', 'HOLT', ':', 'Good', 'evening', 'from', 'Hofstra', 'University', 'in', 'Hempstead', ',', 'New', 'York', '.'], ['I', \"'m\", 'Lester', 'Holt', ',', 'anchor', 'of', '``', 'NBC', 'Nightly', 'News', '.', \"''\"], ['I', 'want', 'to', 'welcome', 'you', 'to', 'the', 'first', 'presidential', 'debate', '.']]"
      ]
     },
     "execution_count": 10,
     "metadata": {},
     "output_type": "execute_result"
    }
   ],
   "source": [
    "#Word tokenization in each sentence\n",
    "d1toks_sents = [nltk.word_tokenize(sent) for sent in d1sents]\n",
    "d1toks_sents[0:3]"
   ]
  },
  {
   "cell_type": "code",
   "execution_count": 12,
   "metadata": {},
   "outputs": [
    {
     "data": {
      "text/plain": [
       "[('PARTICIPANTS', 'NNS'), (':', ':'), ('Former', 'NNP'), ('Secretary', 'NNP'), ('of', 'IN'), ('State', 'NNP'), ('Hillary', 'NNP'), ('Clinton', 'NNP'), ('(', '('), ('D', 'NNP'), (')', ')'), ('and', 'CC'), ('Businessman', 'NNP'), ('Donald', 'NNP'), ('Trump', 'NNP'), ('(', '('), ('R', 'NNP'), (')', ')'), ('MODERATOR', 'NN'), (':', ':'), ('Lester', 'NNP'), ('Holt', 'NNP'), ('(', '('), ('NBC', 'NNP'), ('News', 'NNP'), (')', ')'), ('HOLT', 'NN'), (':', ':'), ('Good', 'JJ'), ('evening', 'NN'), ('from', 'IN'), ('Hofstra', 'NNP'), ('University', 'NNP'), ('in', 'IN'), ('Hempstead', 'NNP'), (',', ','), ('New', 'NNP'), ('York', 'NNP'), ('.', '.')]"
      ]
     },
     "execution_count": 12,
     "metadata": {},
     "output_type": "execute_result"
    }
   ],
   "source": [
    "#POS tagging for each sentence\n",
    "d1pos_sents = [nltk.pos_tag(sent) for sent in d1toks_sents]\n",
    "d1pos_sents[0]"
   ]
  },
  {
   "cell_type": "code",
   "execution_count": 14,
   "metadata": {},
   "outputs": [
    {
     "data": {
      "text/plain": [
       "[('I', 'PRP'), (\"'m\", 'VBP'), ('Lester', 'JJ'), ('Holt', 'NNP'), (',', ','), ('anchor', 'NN'), ('of', 'IN'), ('``', '``'), ('NBC', 'NNP'), ('Nightly', 'NNP'), ('News', 'NNP'), ('.', '.'), (\"''\", \"''\")]"
      ]
     },
     "execution_count": 14,
     "metadata": {},
     "output_type": "execute_result"
    }
   ],
   "source": [
    "d1pos_sents[1]"
   ]
  },
  {
   "cell_type": "code",
   "execution_count": 15,
   "metadata": {},
   "outputs": [
    {
     "data": {
      "text/plain": [
       "[('This', 'DT'), ('debate', 'NN'), ('is', 'VBZ'), ('sponsored', 'VBN'), ('by', 'IN'), ('the', 'DT'), ('Commission', 'NNP'), ('on', 'IN'), ('Presidential', 'NNP'), ('Debates', 'NNP'), (',', ','), ('a', 'DT'), ('nonpartisan', 'JJ'), (',', ','), ('nonprofit', 'JJ'), ('organization', 'NN'), ('.', '.')]"
      ]
     },
     "execution_count": 15,
     "metadata": {},
     "output_type": "execute_result"
    }
   ],
   "source": [
    "d1pos_sents[4]"
   ]
  },
  {
   "cell_type": "code",
   "execution_count": 61,
   "metadata": {
    "collapsed": true
   },
   "outputs": [],
   "source": [
    "#Named Entity Chunking\n",
    "d1chunked_sents = nltk.ne_chunk_sents(d1pos_sents, binary=True)"
   ]
  },
  {
   "cell_type": "code",
   "execution_count": 62,
   "metadata": {},
   "outputs": [
    {
     "data": {
      "image/png": "[encoded data removed]",
      "text/plain": [
       "Tree('S', [('I', 'PRP'), (\"'m\", 'VBP'), Tree('NE', [('Lester', 'JJ'), ('Holt', 'NNP')]), (',', ','), ('anchor', 'NN'), ('of', 'IN'), ('``', '``'), ('NBC', 'NNP'), ('Nightly', 'NNP'), ('News', 'NNP'), ('.', '.'), (\"''\", \"''\")])"
      ]
     },
     "execution_count": 62,
     "metadata": {},
     "output_type": "execute_result"
    }
   ],
   "source": [
    "d1chunked_sents = list(d1chunked_sents)\n",
    "d1chunked_sents[1]"
   ]
  },
  {
   "cell_type": "code",
   "execution_count": 63,
   "metadata": {},
   "outputs": [
    {
     "name": "stdout",
     "output_type": "stream",
     "text": [
      "(NE State/NNP)\n",
      "(NE Clinton/NNP)\n",
      "(NE Businessman/NNP Donald/NNP Trump/NNP)\n",
      "(NE NBC/NNP News/NNP)\n",
      "(NE Hofstra/NNP University/NNP)\n",
      "(NE Hempstead/NNP)\n",
      "(NE New/NNP York/NNP)\n",
      "(NE Lester/JJ Holt/NNP)\n",
      "(NE Donald/NNP Trump/NNP)\n",
      "(NE Hillary/NNP Clinton/NNP)\n",
      "(NE America/NNP)\n",
      "(NE America/NNP)\n",
      "(NE United/NNP States/NNPS)\n",
      "(NE Hillary/NNP Clinton/NNP)\n",
      "(NE Republican/NNP)\n",
      "(NE United/NNP States/NNPS)\n",
      "(NE Donald/NNP J./NNP Trump/NNP)\n",
      "(NE CLINTON/NNP)\n",
      "(NE Donald/NNP)\n",
      "(NE American/JJ)\n",
      "(NE America/NNP)\n",
      "(NE Clinton/NNP)\n",
      "(NE American/NNP)\n",
      "(NE CLINTON/NN)\n",
      "(NE Lester/NNP)\n",
      "(NE Hofstra/NNP)\n",
      "(NE Donald/NNP Trump/NNP)\n",
      "(NE HOLT/NN)\n",
      "(NE Clinton/NNP)\n",
      "(NE Mr./NNP Trump/NNP)\n"
     ]
    }
   ],
   "source": [
    "for sent in d1chunked_sents[:50]:\n",
    "    for chunk in sent:\n",
    "        if hasattr(chunk, \"label\") and chunk.label() == \"NE\":\n",
    "            print(chunk)"
   ]
  },
  {
   "cell_type": "markdown",
   "metadata": {},
   "source": [
    "**This does a nice job of pulling out the NE's, but it doesn't tell us where they're located in the text unless you look at the trees...**"
   ]
  },
  {
   "cell_type": "code",
   "execution_count": 64,
   "metadata": {},
   "outputs": [
    {
     "data": {
      "text/plain": [
       "['__add__', '__class__', '__contains__', '__delattr__', '__dir__', '__doc__', '__eq__', '__format__', '__ge__', '__getattribute__', '__getitem__', '__getnewargs__', '__gt__', '__hash__', '__init__', '__init_subclass__', '__iter__', '__le__', '__len__', '__lt__', '__mul__', '__ne__', '__new__', '__reduce__', '__reduce_ex__', '__repr__', '__rmul__', '__setattr__', '__sizeof__', '__str__', '__subclasshook__', 'count', 'index']"
      ]
     },
     "execution_count": 64,
     "metadata": {},
     "output_type": "execute_result"
    }
   ],
   "source": [
    "dir(d1chunked_sents[0][0])"
   ]
  },
  {
   "cell_type": "code",
   "execution_count": 69,
   "metadata": {},
   "outputs": [
    {
     "data": {
      "image/png": "[encoded data removed]",
      "text/plain": [
       "Tree('S', [('The', 'DT'), ('participants', 'NNS'), ('tonight', 'WDT'), ('are', 'VBP'), Tree('NE', [('Donald', 'NNP'), ('Trump', 'NNP')]), ('and', 'CC'), Tree('NE', [('Hillary', 'NNP'), ('Clinton', 'NNP')]), ('.', '.')])"
      ]
     },
     "execution_count": 69,
     "metadata": {},
     "output_type": "execute_result"
    }
   ],
   "source": [
    "d1chunked_sents[3]"
   ]
  },
  {
   "cell_type": "code",
   "execution_count": 75,
   "metadata": {},
   "outputs": [],
   "source": [
    "d1chunked_sents[3].set_label('HOLT')"
   ]
  },
  {
   "cell_type": "code",
   "execution_count": 76,
   "metadata": {},
   "outputs": [
    {
     "data": {
      "image/png": "[encoded data removed]",
      "text/plain": [
       "Tree('HOLT', [('The', 'DT'), ('participants', 'NNS'), ('tonight', 'WDT'), ('are', 'VBP'), Tree('NE', [('Donald', 'NNP'), ('Trump', 'NNP')]), ('and', 'CC'), Tree('NE', [('Hillary', 'NNP'), ('Clinton', 'NNP')]), ('.', '.')])"
      ]
     },
     "execution_count": 76,
     "metadata": {},
     "output_type": "execute_result"
    }
   ],
   "source": [
    "d1chunked_sents[3]"
   ]
  },
  {
   "cell_type": "markdown",
   "metadata": {},
   "source": [
    "**It's probably not smart to get rid of S as the head label... but maybe it would be helpful to change it to the speaker? There doesn't seem to be a way for me to link the NE's either.**"
   ]
  },
  {
   "cell_type": "code",
   "execution_count": null,
   "metadata": {
    "collapsed": true
   },
   "outputs": [],
   "source": []
  }
 ],
 "metadata": {
  "kernelspec": {
   "display_name": "Python 3",
   "language": "python",
   "name": "python3"
  },
  "language_info": {
   "codemirror_mode": {
    "name": "ipython",
    "version": 3
   },
   "file_extension": ".py",
   "mimetype": "text/x-python",
   "name": "python",
   "nbconvert_exporter": "python",
   "pygments_lexer": "ipython3",
   "version": "3.6.1"
  }
 },
 "nbformat": 4,
 "nbformat_minor": 2
}
