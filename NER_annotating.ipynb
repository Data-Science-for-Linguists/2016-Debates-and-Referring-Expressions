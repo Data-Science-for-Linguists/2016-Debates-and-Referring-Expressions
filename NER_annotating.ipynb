{
 "cells": [
  {
   "cell_type": "code",
   "execution_count": 1,
   "metadata": {},
   "outputs": [
    {
     "name": "stdout",
     "output_type": "stream",
     "text": [
      "Pretty printing has been turned OFF\n"
     ]
    }
   ],
   "source": [
    "%pprint"
   ]
  },
  {
   "cell_type": "markdown",
   "metadata": {},
   "source": [
    "## 2016 Election Project \n",
    "### Part 2 of Processing Pipeline\n",
    "\n",
    "This notebook is intended to document NER annotation of my data throughout this project. The data I am starting out with are transcripts of the presidential debates from the 2016 US Election- the 10 Democratic primary debates, the 12 Republican primary debates, and the debates for the general election between Hillary Clinton and Donald Trump. The transcripts were taken from UCSB's American Presidency Project. The citations for these transcripts can be found in the README."
   ]
  },
  {
   "cell_type": "code",
   "execution_count": 2,
   "metadata": {
    "collapsed": true
   },
   "outputs": [],
   "source": [
    "import nltk\n",
    "from nltk.corpus import PlaintextCorpusReader\n",
    "import pandas as pd\n",
    "import glob\n",
    "import os\n",
    "from collections import defaultdict\n",
    "import matplotlib.pyplot as plt\n",
    "import re"
   ]
  },
  {
   "cell_type": "markdown",
   "metadata": {},
   "source": [
    "**I'm going to create a mapping function that will take the sentence in each row of each data frame and perform nltk's chunking operation on it to get a tree with annoted NEs**"
   ]
  },
  {
   "cell_type": "code",
   "execution_count": 3,
   "metadata": {
    "collapsed": true
   },
   "outputs": [],
   "source": [
    "#Import the saved list of data frames I created in secondary_data_processing\n",
    "import pickle\n",
    "f = open('/Users/Paige/Documents/Data_Science/dataframes.p', 'rb')\n",
    "dataframes = pickle.load(f)\n",
    "f.close()"
   ]
  },
  {
   "cell_type": "code",
   "execution_count": 4,
   "metadata": {
    "collapsed": true
   },
   "outputs": [],
   "source": [
    "def get_tree(sent):\n",
    "    sents = nltk.sent_tokenize(sent)\n",
    "    words = [nltk.word_tokenize(sent) for sent in sents]\n",
    "    pos = [nltk.pos_tag(sent) for sent in words]\n",
    "    chunk = nltk.ne_chunk_sents(pos)\n",
    "    return list(chunk)"
   ]
  },
  {
   "cell_type": "code",
   "execution_count": 5,
   "metadata": {
    "collapsed": true
   },
   "outputs": [],
   "source": [
    "master_df = pd.concat(dataframes)"
   ]
  },
  {
   "cell_type": "code",
   "execution_count": 6,
   "metadata": {
    "scrolled": true
   },
   "outputs": [
    {
     "data": {
      "text/html": [
       "<div>\n",
       "<style>\n",
       "    .dataframe thead tr:only-child th {\n",
       "        text-align: right;\n",
       "    }\n",
       "\n",
       "    .dataframe thead th {\n",
       "        text-align: left;\n",
       "    }\n",
       "\n",
       "    .dataframe tbody tr th {\n",
       "        vertical-align: top;\n",
       "    }\n",
       "</style>\n",
       "<table border=\"1\" class=\"dataframe\">\n",
       "  <thead>\n",
       "    <tr style=\"text-align: right;\">\n",
       "      <th></th>\n",
       "      <th>Date</th>\n",
       "      <th>Debate Type</th>\n",
       "      <th>Speaker</th>\n",
       "      <th>Sents</th>\n",
       "    </tr>\n",
       "  </thead>\n",
       "  <tbody>\n",
       "    <tr>\n",
       "      <th>2</th>\n",
       "      <td>1-14-16</td>\n",
       "      <td>primary_rep</td>\n",
       "      <td>CAVUTO</td>\n",
       "      <td>It is 9:00 p.m. here at the North Charleston ...</td>\n",
       "    </tr>\n",
       "    <tr>\n",
       "      <th>3</th>\n",
       "      <td>1-14-16</td>\n",
       "      <td>primary_rep</td>\n",
       "      <td>CAVUTO</td>\n",
       "      <td>Welcome to the sixth Republican presidential o...</td>\n",
       "    </tr>\n",
       "    <tr>\n",
       "      <th>4</th>\n",
       "      <td>1-14-16</td>\n",
       "      <td>primary_rep</td>\n",
       "      <td>CAVUTO</td>\n",
       "      <td>I'm Neil Cavuto, alongside my friend and co-mo...</td>\n",
       "    </tr>\n",
       "    <tr>\n",
       "      <th>5</th>\n",
       "      <td>1-14-16</td>\n",
       "      <td>primary_rep</td>\n",
       "      <td>BARTIROMO</td>\n",
       "      <td>Tonight we are working with Facebook to ask t...</td>\n",
       "    </tr>\n",
       "    <tr>\n",
       "      <th>6</th>\n",
       "      <td>1-14-16</td>\n",
       "      <td>primary_rep</td>\n",
       "      <td>BARTIROMO</td>\n",
       "      <td>And according to Facebook, the U.S. election h...</td>\n",
       "    </tr>\n",
       "  </tbody>\n",
       "</table>\n",
       "</div>"
      ],
      "text/plain": [
       "      Date  Debate Type    Speaker  \\\n",
       "2  1-14-16  primary_rep     CAVUTO   \n",
       "3  1-14-16  primary_rep     CAVUTO   \n",
       "4  1-14-16  primary_rep     CAVUTO   \n",
       "5  1-14-16  primary_rep  BARTIROMO   \n",
       "6  1-14-16  primary_rep  BARTIROMO   \n",
       "\n",
       "                                               Sents  \n",
       "2   It is 9:00 p.m. here at the North Charleston ...  \n",
       "3  Welcome to the sixth Republican presidential o...  \n",
       "4  I'm Neil Cavuto, alongside my friend and co-mo...  \n",
       "5   Tonight we are working with Facebook to ask t...  \n",
       "6  And according to Facebook, the U.S. election h...  "
      ]
     },
     "execution_count": 6,
     "metadata": {},
     "output_type": "execute_result"
    }
   ],
   "source": [
    "master_df.head()"
   ]
  },
  {
   "cell_type": "code",
   "execution_count": 7,
   "metadata": {},
   "outputs": [
    {
     "data": {
      "text/html": [
       "<div>\n",
       "<style>\n",
       "    .dataframe thead tr:only-child th {\n",
       "        text-align: right;\n",
       "    }\n",
       "\n",
       "    .dataframe thead th {\n",
       "        text-align: left;\n",
       "    }\n",
       "\n",
       "    .dataframe tbody tr th {\n",
       "        vertical-align: top;\n",
       "    }\n",
       "</style>\n",
       "<table border=\"1\" class=\"dataframe\">\n",
       "  <thead>\n",
       "    <tr style=\"text-align: right;\">\n",
       "      <th></th>\n",
       "      <th>Date</th>\n",
       "      <th>Debate Type</th>\n",
       "      <th>Speaker</th>\n",
       "      <th>Sents</th>\n",
       "    </tr>\n",
       "  </thead>\n",
       "  <tbody>\n",
       "    <tr>\n",
       "      <th>1382</th>\n",
       "      <td>9-26-16</td>\n",
       "      <td>general</td>\n",
       "      <td>HOLT</td>\n",
       "      <td>The conversation will continue.</td>\n",
       "    </tr>\n",
       "    <tr>\n",
       "      <th>1383</th>\n",
       "      <td>9-26-16</td>\n",
       "      <td>general</td>\n",
       "      <td>HOLT</td>\n",
       "      <td>A reminder.</td>\n",
       "    </tr>\n",
       "    <tr>\n",
       "      <th>1384</th>\n",
       "      <td>9-26-16</td>\n",
       "      <td>general</td>\n",
       "      <td>HOLT</td>\n",
       "      <td>The vice presidential debate is scheduled for ...</td>\n",
       "    </tr>\n",
       "    <tr>\n",
       "      <th>1385</th>\n",
       "      <td>9-26-16</td>\n",
       "      <td>general</td>\n",
       "      <td>HOLT</td>\n",
       "      <td>My thanks to Hillary Clinton and to Donald Tru...</td>\n",
       "    </tr>\n",
       "    <tr>\n",
       "      <th>1386</th>\n",
       "      <td>9-26-16</td>\n",
       "      <td>general</td>\n",
       "      <td>HOLT</td>\n",
       "      <td>Good night, everyone.</td>\n",
       "    </tr>\n",
       "  </tbody>\n",
       "</table>\n",
       "</div>"
      ],
      "text/plain": [
       "         Date Debate Type Speaker  \\\n",
       "1382  9-26-16     general    HOLT   \n",
       "1383  9-26-16     general    HOLT   \n",
       "1384  9-26-16     general    HOLT   \n",
       "1385  9-26-16     general    HOLT   \n",
       "1386  9-26-16     general    HOLT   \n",
       "\n",
       "                                                  Sents  \n",
       "1382                    The conversation will continue.  \n",
       "1383                                        A reminder.  \n",
       "1384  The vice presidential debate is scheduled for ...  \n",
       "1385  My thanks to Hillary Clinton and to Donald Tru...  \n",
       "1386                              Good night, everyone.  "
      ]
     },
     "execution_count": 7,
     "metadata": {},
     "output_type": "execute_result"
    }
   ],
   "source": [
    "master_df.tail()"
   ]
  },
  {
   "cell_type": "code",
   "execution_count": 8,
   "metadata": {
    "collapsed": true
   },
   "outputs": [],
   "source": [
    "master_df['Tree']=master_df.Sents.map(get_tree)"
   ]
  },
  {
   "cell_type": "code",
   "execution_count": 9,
   "metadata": {},
   "outputs": [
    {
     "data": {
      "text/html": [
       "<div>\n",
       "<style>\n",
       "    .dataframe thead tr:only-child th {\n",
       "        text-align: right;\n",
       "    }\n",
       "\n",
       "    .dataframe thead th {\n",
       "        text-align: left;\n",
       "    }\n",
       "\n",
       "    .dataframe tbody tr th {\n",
       "        vertical-align: top;\n",
       "    }\n",
       "</style>\n",
       "<table border=\"1\" class=\"dataframe\">\n",
       "  <thead>\n",
       "    <tr style=\"text-align: right;\">\n",
       "      <th></th>\n",
       "      <th>Date</th>\n",
       "      <th>Debate Type</th>\n",
       "      <th>Speaker</th>\n",
       "      <th>Sents</th>\n",
       "      <th>Tree</th>\n",
       "    </tr>\n",
       "  </thead>\n",
       "  <tbody>\n",
       "    <tr>\n",
       "      <th>2</th>\n",
       "      <td>1-14-16</td>\n",
       "      <td>primary_rep</td>\n",
       "      <td>CAVUTO</td>\n",
       "      <td>It is 9:00 p.m. here at the North Charleston ...</td>\n",
       "      <td>[[(It, PRP), (is, VBZ), (9:00, CD), (p.m., NN)...</td>\n",
       "    </tr>\n",
       "    <tr>\n",
       "      <th>3</th>\n",
       "      <td>1-14-16</td>\n",
       "      <td>primary_rep</td>\n",
       "      <td>CAVUTO</td>\n",
       "      <td>Welcome to the sixth Republican presidential o...</td>\n",
       "      <td>[[(Welcome, VB), (to, TO), (the, DT), (sixth, ...</td>\n",
       "    </tr>\n",
       "    <tr>\n",
       "      <th>4</th>\n",
       "      <td>1-14-16</td>\n",
       "      <td>primary_rep</td>\n",
       "      <td>CAVUTO</td>\n",
       "      <td>I'm Neil Cavuto, alongside my friend and co-mo...</td>\n",
       "      <td>[[(I, PRP), ('m, VBP), [('Neil', 'JJ'), ('Cavu...</td>\n",
       "    </tr>\n",
       "    <tr>\n",
       "      <th>5</th>\n",
       "      <td>1-14-16</td>\n",
       "      <td>primary_rep</td>\n",
       "      <td>BARTIROMO</td>\n",
       "      <td>Tonight we are working with Facebook to ask t...</td>\n",
       "      <td>[[(Tonight, NN), (we, PRP), (are, VBP), (worki...</td>\n",
       "    </tr>\n",
       "    <tr>\n",
       "      <th>6</th>\n",
       "      <td>1-14-16</td>\n",
       "      <td>primary_rep</td>\n",
       "      <td>BARTIROMO</td>\n",
       "      <td>And according to Facebook, the U.S. election h...</td>\n",
       "      <td>[[(And, CC), (according, VBG), (to, TO), [('Fa...</td>\n",
       "    </tr>\n",
       "  </tbody>\n",
       "</table>\n",
       "</div>"
      ],
      "text/plain": [
       "      Date  Debate Type    Speaker  \\\n",
       "2  1-14-16  primary_rep     CAVUTO   \n",
       "3  1-14-16  primary_rep     CAVUTO   \n",
       "4  1-14-16  primary_rep     CAVUTO   \n",
       "5  1-14-16  primary_rep  BARTIROMO   \n",
       "6  1-14-16  primary_rep  BARTIROMO   \n",
       "\n",
       "                                               Sents  \\\n",
       "2   It is 9:00 p.m. here at the North Charleston ...   \n",
       "3  Welcome to the sixth Republican presidential o...   \n",
       "4  I'm Neil Cavuto, alongside my friend and co-mo...   \n",
       "5   Tonight we are working with Facebook to ask t...   \n",
       "6  And according to Facebook, the U.S. election h...   \n",
       "\n",
       "                                                Tree  \n",
       "2  [[(It, PRP), (is, VBZ), (9:00, CD), (p.m., NN)...  \n",
       "3  [[(Welcome, VB), (to, TO), (the, DT), (sixth, ...  \n",
       "4  [[(I, PRP), ('m, VBP), [('Neil', 'JJ'), ('Cavu...  \n",
       "5  [[(Tonight, NN), (we, PRP), (are, VBP), (worki...  \n",
       "6  [[(And, CC), (according, VBG), (to, TO), [('Fa...  "
      ]
     },
     "execution_count": 9,
     "metadata": {},
     "output_type": "execute_result"
    }
   ],
   "source": [
    "master_df.head()"
   ]
  },
  {
   "cell_type": "markdown",
   "metadata": {},
   "source": [
    "**I've created an NER tree! Notice that nltk's chunker pulled out Neil Cavuto and Maria Bartiromo as people. Now I want to change the S label at the top of the tree to represent who said this utterence using the information in the Speaker column.**"
   ]
  },
  {
   "cell_type": "code",
   "execution_count": 10,
   "metadata": {},
   "outputs": [
    {
     "data": {
      "image/png": "[encoded data removed]",
      "text/plain": [
       "Tree('S', [('I', 'PRP'), (\"'m\", 'VBP'), Tree('PERSON', [('Neil', 'JJ'), ('Cavuto', 'NNP')]), (',', ','), ('alongside', 'IN'), ('my', 'PRP$'), ('friend', 'NN'), ('and', 'CC'), ('co-moderator', 'NN'), Tree('PERSON', [('Maria', 'NNP'), ('Bartiromo', 'NNP')]), ('.', '.')])"
      ]
     },
     "execution_count": 10,
     "metadata": {},
     "output_type": "execute_result"
    }
   ],
   "source": [
    "master_df.iloc[2][-1][0]"
   ]
  },
  {
   "cell_type": "code",
   "execution_count": 11,
   "metadata": {
    "collapsed": true
   },
   "outputs": [],
   "source": [
    "#Using mapping involving 2 columns. Use the Speaker column to modify the Tree column.\n",
    "for row in range(0, len(master_df)):\n",
    "    master_df.iloc[row][-1][0].set_label(master_df.iloc[row][2])"
   ]
  },
  {
   "cell_type": "code",
   "execution_count": 12,
   "metadata": {},
   "outputs": [
    {
     "data": {
      "image/png": "[encoded data removed]",
      "text/plain": [
       "Tree('CAVUTO', [('I', 'PRP'), (\"'m\", 'VBP'), Tree('PERSON', [('Neil', 'JJ'), ('Cavuto', 'NNP')]), (',', ','), ('alongside', 'IN'), ('my', 'PRP$'), ('friend', 'NN'), ('and', 'CC'), ('co-moderator', 'NN'), Tree('PERSON', [('Maria', 'NNP'), ('Bartiromo', 'NNP')]), ('.', '.')])"
      ]
     },
     "execution_count": 12,
     "metadata": {},
     "output_type": "execute_result"
    }
   ],
   "source": [
    "master_df.iloc[2]['Tree'][0]"
   ]
  },
  {
   "cell_type": "code",
   "execution_count": 13,
   "metadata": {},
   "outputs": [
    {
     "data": {
      "text/plain": [
       "'CAVUTO'"
      ]
     },
     "execution_count": 13,
     "metadata": {},
     "output_type": "execute_result"
    }
   ],
   "source": [
    "master_df.iloc[2]['Speaker']"
   ]
  },
  {
   "cell_type": "code",
   "execution_count": 14,
   "metadata": {},
   "outputs": [
    {
     "data": {
      "image/png": "[encoded data removed]",
      "text/plain": [
       "Tree('CAVUTO', [Tree('PERSON', [('Businessman', 'NNP')]), Tree('PERSON', [('Donald', 'NNP'), ('Trump', 'NNP')]), ('.', '.')])"
      ]
     },
     "execution_count": 14,
     "metadata": {},
     "output_type": "execute_result"
    }
   ],
   "source": [
    "#Uh oh. The good news is the chunker got Trump's title- Businessman. The bad news is it's separated from the rest of his name. I'll have to fix that.\n",
    "master_df.iloc[8]['Tree'][0]"
   ]
  },
  {
   "cell_type": "code",
   "execution_count": 15,
   "metadata": {},
   "outputs": [
    {
     "data": {
      "text/plain": [
       "'CAVUTO'"
      ]
     },
     "execution_count": 15,
     "metadata": {},
     "output_type": "execute_result"
    }
   ],
   "source": [
    "master_df.iloc[8]['Speaker']"
   ]
  },
  {
   "cell_type": "code",
   "execution_count": 16,
   "metadata": {},
   "outputs": [
    {
     "data": {
      "image/png": "[encoded data removed]",
      "text/plain": [
       "Tree('HOLT', [Tree('PERSON', [('Please', 'NNP')]), ('welcome', 'VBD'), ('Secretary', 'NNP'), Tree('PERSON', [('Hillary', 'NNP'), ('Clinton', 'NNP')]), (',', ','), Tree('PERSON', [('Senator', 'NNP'), ('Bernie', 'NNP'), ('Sanders', 'NNP')]), ('and', 'CC'), ('Governor', 'NNP'), Tree('PERSON', [('Martin', 'NNP'), (\"O'Malley\", 'NNP')]), ('.', '.')])"
      ]
     },
     "execution_count": 16,
     "metadata": {},
     "output_type": "execute_result"
    }
   ],
   "source": [
    "#Again, it got Hillary Clinton and Martin O'Malley, but missed Secretary and Governor, but it DID get Senator Bernie Sanders\n",
    "master_df.iloc[1603]['Tree'][0]"
   ]
  },
  {
   "cell_type": "code",
   "execution_count": 17,
   "metadata": {},
   "outputs": [
    {
     "data": {
      "text/plain": [
       "'HOLT'"
      ]
     },
     "execution_count": 17,
     "metadata": {},
     "output_type": "execute_result"
    }
   ],
   "source": [
    "master_df.iloc[1603]['Speaker']"
   ]
  },
  {
   "cell_type": "code",
   "execution_count": 18,
   "metadata": {},
   "outputs": [
    {
     "data": {
      "image/png": "[encoded data removed]",
      "text/plain": [
       "<matplotlib.figure.Figure object at 0x102edaf60>"
      ]
     },
     "metadata": {},
     "output_type": "display_data"
    }
   ],
   "source": [
    "#This section is with help from a datacamp tutorial\n",
    "#https://campus.datacamp.com/courses/natural-language-processing-fundamentals-in-python/named-entity-recognition?ex=3\n",
    "\n",
    "ner_categories = defaultdict(int)\n",
    "\n",
    "# Create the nested for loop\n",
    "for tree_list in master_df['Tree']:\n",
    "    for tree in tree_list:\n",
    "        for chunk in tree:\n",
    "            if hasattr(chunk, 'label'):\n",
    "                ner_categories[chunk.label()] += 1\n",
    "            \n",
    "# Create a list from the dictionary keys for the chart labels: labels\n",
    "labels = list(ner_categories.keys())\n",
    "\n",
    "# Create a list of the values: values\n",
    "values = [ner_categories.get(l) for l in labels]\n",
    "\n",
    "# Create the pie chart\n",
    "plt.pie(values, labels=labels, autopct='%1.1f%%', startangle=140)\n",
    "\n",
    "# Display the chart\n",
    "plt.show()"
   ]
  },
  {
   "cell_type": "code",
   "execution_count": 19,
   "metadata": {
    "collapsed": true
   },
   "outputs": [],
   "source": [
    "people = []\n",
    "for tree_list in master_df['Tree']:\n",
    "    for tree in tree_list:\n",
    "        for chunk in tree:\n",
    "            if hasattr(chunk, 'label'):\n",
    "                if chunk.label() == 'PERSON':\n",
    "                    people.append(chunk)"
   ]
  },
  {
   "cell_type": "code",
   "execution_count": 20,
   "metadata": {},
   "outputs": [
    {
     "data": {
      "image/png": "[encoded data removed]",
      "text/plain": [
       "Tree('PERSON', [('Neil', 'JJ'), ('Cavuto', 'NNP')])"
      ]
     },
     "execution_count": 20,
     "metadata": {},
     "output_type": "execute_result"
    }
   ],
   "source": [
    "people[1]"
   ]
  },
  {
   "cell_type": "code",
   "execution_count": 21,
   "metadata": {},
   "outputs": [
    {
     "data": {
      "text/plain": [
       "['Neil', 'Cavuto']"
      ]
     },
     "execution_count": 21,
     "metadata": {},
     "output_type": "execute_result"
    }
   ],
   "source": [
    "people[1].leaves()[0][0]\n",
    "words = [leaf[0] for leaf in people[1].leaves()]\n",
    "words"
   ]
  },
  {
   "cell_type": "code",
   "execution_count": 22,
   "metadata": {
    "collapsed": true
   },
   "outputs": [],
   "source": [
    "people_names = []\n",
    "name = ''\n",
    "for tree in people:\n",
    "    for leaf in tree.leaves():\n",
    "        name+=' '+str(leaf[0])\n",
    "    people_names.append(name.strip())\n",
    "    name = ''\n"
   ]
  },
  {
   "cell_type": "code",
   "execution_count": 23,
   "metadata": {},
   "outputs": [
    {
     "data": {
      "text/plain": [
       "{'English', 'Lake Erie', 'John Quincy Adams', 'Garfunkel', 'Bibi Netanyahu', 'Gerry Ohde', 'James Dobson', 'Scott Walker', 'Matter', 'George Bush', 'Rachel', 'Enrique', 'Kim Davis', 'Illinois', 'Lincoln', 'Muslim Brotherhood', 'Senator Gillibrand', 'Gabby', 'Aleppo', 'George Patton', 'Senator Paul', 'Salvador Allende', 'Veterans', 'John Kasich', 'Lady Justice', 'Tamir Rice', 'Lucent', 'Hawley', 'Arab Middle East', 'Sidney', 'Goldman', 'Douglas', 'Karl Rove', 'Moines Register', 'Enough', 'Robert Rubin', 'Dontre Hamilton', 'Howard Dean', 'Verify', 'Mr. Mcgee', 'Jeffrey Sonnenfeld', 'Marijuana', 'Spencer Maass', 'Lockerbie', 'Dan Tuohy', 'Mr. Carson', 'Paul Wellstone', 'Rice', 'Chaznea', 'Social Security', 'Barat', 'Paul Ryan', 'Gore', 'Abe Fortas', 'William F. Buckley', 'Megan', 'Vladimir Putin', 'Rick', 'Nixon', 'Vladimir', 'Steve King', 'Carla Hernandez', 'Mayor Regalado', 'Google', 'Eric', 'Kim Jong-un', 'Kim Jung Un', 'Muhammad Ali', 'Hank', 'Senator Sessions', 'Hillary Rodham', 'Abigail', 'Alexander Hamilton', 'Benjamin Franklin', 'Charleston', 'Kennedy Airport', 'Ramadi', 'Peyton Manning', 'Mark Watson', 'Salem Radio Network', 'Carson', 'Sunni', 'Lehman', 'Drake University', 'Megyn', 'Kirsten Gillibrand', 'Anna Bettis', 'Welfare Reform Bill', 'Annie Oakley', 'Bermuda', 'Collison', 'Jenna', 'Caroline', 'Border', 'Larry Tribe', 'Jonathan Gruber', 'Herbert Hoover', 'Veto Corleone', 'Race', 'Super', 'Scalia', 'March Madness', 'Abbas', 'Marco Rubio', 'Hotline Went', 'Susan Rice', 'Karl Becker', 'Benghazi', 'Apple CEO Tim Cook', 'Marques Brownlee', 'James Carter', 'Senator John McCain', 'Richard Nixon', 'Franklin Delano Roosevelt', 'Michael Hayden', 'Harkin', 'Panetta', 'Buffett Rule', 'Espanol', 'Maria Celeste', 'Ronald Reagan', 'Michael Brown', 'Bush', 'Christmas Eve', 'Senator Domenici', 'Islamophobia', 'Senator Obama', 'Carrier Corporation', 'Mary Katharine Ham', 'Energy Committees', 'Remington', 'Great Recession', 'George Washington', 'Palm Beach', 'Morgan Hintz', 'Christmas', 'Charlie Crist', 'Foley', 'Qatar', 'Suicide', 'Korea', 'Abdullah II', 'Kim Jong Un', 'Howard Stern', 'Bryn Mickle', 'Alan', 'John Kennedy', 'Kasich', 'Errol Lewis', 'Hang', 'Tanisha Motron', 'Wisconsin Governor Scott Walker', 'Gator', 'Care Act', 'Puerto Rico', 'Far', 'Might', 'Clinton Campaign', 'Carol Fox', 'Furious', 'Peace', 'Madeline', 'Brian Carlson', 'Super PAC', 'Prince Sihanouk', 'Kansas', 'Michael Novak', 'Bob Graham', \"Governor O'Malley\", 'Lady Liberty', 'Sachs', 'Senator Ted Cruz', 'Affordable', 'Global Entry', 'Ambassador Stevens', 'Ronald', 'Senator Clinton', 'Congressman Jim Clyburn', 'Reagan Rule', 'Education', 'Fox Pentagon', 'Social', 'El Salvador', 'Renea', 'Martha', 'Haiti', 'Pop', 'Kurdish Peshmerga', 'Romney', 'Mr. McCarthy', 'Larry Kudlow', 'Nancy Cordes', 'Neurosurgeon', 'Tax Reform', 'Harry Reid', 'Senator Sanders', 'Chelsea', 'Tim Cook', 'Election', 'Madam Secretary', 'Maria', 'Abraham', 'Rosa Parks', 'Damascus', 'Kamatsu', 'Fox News Debate', 'John', 'Kissinger', 'Air Force', 'Ohio Governor', 'Guantanamo Bay', 'Connecticut', 'John Harwood', 'Thirty', 'Terrorism', 'Harold Hamrie', 'Russ Feingold', 'Timothy Dolan', 'Veterans Affairs', 'Ebola', 'Mike Lee', 'Karen', 'Harry Truman', 'Mr. Bush', 'Mother Theresa', 'Snowden', 'Arabs', 'Senator Webb', 'Sheriff Joe', 'Mattis', 'Mr. America', 'Al', 'Sirius XM', 'Bill Clinton', 'Great Depression', 'Franchesca Ramsey', 'Florida Governor Jeb Bush', 'Pope Francis', 'Reagan Love', 'Samantha Power', 'Rush Limbaugh', 'Human Services', 'Ted', 'Sandra Bland', 'People', 'Sonia Sotomayor', 'Putin', 'Senator Sanders—30', 'Disease Control', 'Joy Lassen', 'Drake', 'Arthur', 'Woodrow Wilson', 'Karpowicz', 'Qaida', 'Sebastian de', 'Africa', 'Detroit', 'Ivanka', 'Florida Governor', 'Ashraf Ghani', 'Mason Dixon Line', 'Trump Entertainment Resorts', 'Sorry', 'Abigail Kopf', 'George Romney', 'Barack Obama', 'Stephen', 'Operation Desert Storm', 'Byron Dorgan', 'Sandy', 'Eric Holder', 'Incomes', 'Businesswoman', 'Flint Waterworks', 'Mayor Giuliani', 'African American', 'Larry O', 'Captain Khan', 'Taylor Force', 'Clinton', 'Moines', 'Anwar', 'Street', 'Hamas', 'Tata', 'Cheney', 'Shia', 'Hank Paulson', 'Mr. Baker', 'John Boehner', 'Hilary Clinton', 'Kathy', 'Katharine', 'George Soros', 'Tom Perkins', 'Denver', 'Arnie Duncan', 'David Clark', 'Jewish', 'Fannie Mae', 'Nancy Reagan', 'Eight Bill', 'Center', 'Vegas', 'Nabisco', 'Calvin Coolidge', 'Mossadegh', 'Muslim', 'Mark Levin', 'Jack', 'Guatemala', 'Deborah', 'Pol Pot', 'Mitt', 'Alzheimer', 'Medicaid', 'Twitter', 'Missouri', 'Fox', 'Minute Men', 'Disabilities Act', 'Atlantic', 'Hewlett Packard', 'Airbus', 'Moammar Gadhafi', 'Jordan', 'Treason', 'Mr. Mcghee', 'Jeb', 'Kate', 'Jeb Bush', 'Speaker Paul Ryan', 'Wendy Sherman', 'Samuel Alito', 'Raul Castro', 'Adams', 'Simon', 'Ours', 'Neil Levesque', 'Imani', 'Hopkins Hospital', 'Miriam', 'Barney Frank', 'Becky Quick', 'Freddie Mac', 'Bin Laden', 'Parade', 'Crime', 'Patrice', 'Kevin', 'Lester Holt', 'Hasan', 'Roberts', 'Ken', 'Zika', 'Hugh', 'Hurricane Sandy', 'Wayne Lapierre', 'Regan', 'Dianne Feinstein', 'Kimberly Strassel', 'Billionaires', 'Tim Russert', 'Kuwait', 'Morgan Stanley', 'Florida', 'San Francisco', 'Paula', 'Freedom Fund', 'Heidi', 'Monroe Doctrine', 'Herbert Walker Bush', 'Trump University', 'Henry Kissinger', 'Herbert', 'Trump Steaks', 'Kimberley Strassel', 'Beyond', 'Lyndon Johnson', 'Cuomo', 'Mr. Trmup', 'Super PACs', 'Catherine', 'Mr. Perkins', 'Texas Senator Ted Cruz', 'Khamenei', 'Megyn Kelly', 'Jeff Flake', 'Tom Harkin', 'Iowa Caucus', 'Dwight D. Eisenhower', 'Bernardino', 'Clint', 'Eight', 'Rick Santelli', 'Bob Gates', 'Ready', 'Nebraska', 'Jorge Ramos', 'Governor Martin', 'Juan', 'Rite Aid', 'Felix', 'Harley', 'Kim Jong-Un', 'Mr. Carter', 'Shultz', 'Market Basket', 'Teddy Roosevelt', 'Sidney Blumenthal', 'Bretton Woods', 'Mine', 'Wisconsin', 'Sheriff', 'Pataki', 'Daniel', 'Don', 'Arab Spring', 'Does', 'Moammar', 'Gorbah Hamed', 'Jim Crow', 'Charlotte', 'Paul Volcker', 'Huckabee', 'Island', 'Jersey', 'Lawrence Tribe', 'Europe', 'George Herbert Walker Bush', 'Wall Street', 'Juan Carlos Lopez', 'Facebook', 'Rumsfeld', 'Bill', 'Saddam', 'Madame', 'Brady Bill', 'David Petraeus', 'Patty Murray', 'Gun Owners', 'Arnold', 'Wesley Cato', 'Qaeda', 'Parenthood', 'Miss Piggy', 'Nidal', 'Daniel Ortega', 'James Livingston', 'James Bergdahl', 'Al Gore', 'Lucia', 'Elliot Spitzer', 'Johns Hopkins Hospital', 'Obama', 'Kevin Cooney', 'Jews', 'Gerard Baker', 'Sabina Loving', 'Caesar', 'Robert Gates', 'Bergdahl', 'Miami Florida', 'Sandy Hook', 'Hugh Hewitt', 'Pew Report', 'Tip', 'Louis Fortuno', 'Reconstruction', 'George Shultz', 'Arab', 'Jorge', 'Budget Committee', 'Keane', 'Iowa', 'Candy Crush', 'Madeleine Albright', 'Mary Katherine', 'Bernie Madolf', 'Maria Elena Salinas', 'Deana Carter', 'Michelle Obama', 'Sandy Hook Elementary School', 'Senator Barbara Boxer', 'Dennis Rodman', 'Times', 'al-Sisi', 'Juan Carlos', 'Miami', 'Wolf', 'Mom', 'Antonin Scalia', 'Steven Spielberg', 'Jane', 'Jack Kemp', 'Brett', 'Milwaukee Public Radio', 'Fidel Castro', 'Jersey Governor Chris Christie', 'Latino', 'Sarah', 'Donald', 'Bernie Sanders', 'Ray Kelly', 'Sweden', 'Baby Boomers', 'Marines', 'Dana', 'Roosevelt', 'Gaddafi', \"Katie O'Malley\", 'Milwaukee Public Television', 'Flint', 'Vermont Verizon', 'Alexis', 'it—he', 'Ken Bone', 'Senator Elizabeth Warren', 'Michigan', 'Colin Powell', 'Nikki', 'Bushes', 'Lady', 'Network', 'Harvard', 'Moammar Qadafi', 'John Roberts', 'Chuck', 'Marco', 'Stevens', 'Johns', 'Omran', 'Malley', 'Josh', 'Lloyd Austin', 'Mr. Putin', 'David Mcghee', 'Yuma', 'Milwaukee', 'Speaker Boehner', 'Kurds', 'Hawaii', 'Kelly Ayotte', 'Pew Research', 'Moines Committee', 'John Deere', 'Caesars', 'Hillary', 'Atlantic City', 'Dinan', 'Miller', 'Carly Fiorina', 'Nabela Noor', 'Latin America', 'Crimea', 'Arlington', 'Great Beer', 'Hannah', 'Mary Right Adelman', 'Hannity', 'Duck Hunter', 'Ted Kennedy', 'Sinjar', 'Graham', 'Senator Lindsey Graham', 'Florida State', 'Oxycontin', 'Gwen', 'Academy', 'JohnKasich.com', 'Stephen Dinan', 'Carla', 'Buzzfeed', 'Mary', 'Haley', 'Hobby Lobby', 'Henry Ford', 'Did', 'Andrea', 'Medvedev', 'Seventh Avenue', 'Errol Louis', 'Border Patrol', 'Been', 'Bret', 'Judy', 'Harvard Law', 'Nelson Mandela', 'Mark Zuckerburg', 'Timothy McVeigh', 'James Comey', 'Senator', 'Dick Goodson', 'Becky', 'Abigail Adams', 'Dylann Roof', 'Cruz', 'Hoover', 'Mr. Cruz', 'Jobs', 'Warren Buffet', 'Liberman', 'Blumenthal', 'Chris Christie', 'Taylor Gipple', 'Farheen Hakeem', 'Elizabeth Warren', 'Core', 'Bob Jones', 'Ginger', 'Buffett', 'Robert Andrews', 'Joey', 'Warren', 'Maria Celesta Arrasas', 'Fast', 'Ukraine', 'Veterans Administration', 'Colin', 'Hampshire', 'Roe', 'Eric Garner', 'James Foleys', 'Shaheen', 'Freddie Gray', 'Katie', 'Joe', 'Martha Raddatz', 'Walter Scott', 'Francis', 'Jim Cramer', 'El Chapo', 'Rhode', 'Thirty Seconds', 'Trust', 'Medicine', 'Dabiq', 'Carrie', 'Wade', 'Dolores Huerta', 'Martin Luther', 'Lonnie Phillips', 'Honest Abe', 'Sidney Blumenthal—he', 'Milwaukee County Sheriff', 'Fisher House', 'Waver', 'Vermont Bernie Sanders', 'George W.', 'Mark', \"Martin O'Malley\", 'Chase Norton', 'Semator', 'Denise Ghattas', 'Palm Beach County', 'Marco Rubio.com', 'Dwight Eisenhower', 'Economics', 'Georgia Tech', 'Morsi', 'Arizona', 'Ted Cruz', 'Regalado', 'Lyin', 'Dulce Candy', 'Senator Graham', 'Mr. Cooney', 'And', 'Bobby Jindal', 'Mubarak', 'Holder', 'Nancy Pelosi', 'Dad', 'Senator McCain', 'Benjamin Netanyahu', 'Boko Haram', 'Ferguson', 'Diane Foley', 'Mikki Wade', 'Black', 'Iowans Kevin Cooney', 'Chad', 'Gaza', 'Anna', 'Hispanics', 'Roe V. Wade', 'Louis', 'Nouri', 'Albany', 'Senator Bernie Sanders', 'Alexis Kulash', 'Uncle Joe', 'Fred Astaire', 'Guantanamo', 'Carrier', 'Walker', 'Mr. Donald Trump', 'Ben', 'Terrorism Task Force', 'Sarah Bellaire', 'Govenor Christie', 'Deborah Wasserman Schultz', 'Verizon', 'Stay', 'Senator Jeff Sessions', 'Carl', 'Paul', 'Dulce', 'Barbara', 'Amazon', 'Pope', 'Josh McElveen', 'Larry Summers', 'Mary Katharine', 'Jefferson', 'Margaret Thatcher', 'Davis', 'Krispy Kremes', 'Mikhail Gorbachev', 'Water', 'Madison Avenue', 'Hillary Clinton', 'Kurdish', 'Anderson', 'Andrew Cuomo', 'Josh Jacob', 'Chairman', 'Santorum', 'Donald Rumsfeld', 'Fox News', 'Monopoly', 'Al Qaida', 'Michael Bloomberg', 'Please', 'Hey Ted', 'Dewayne', 'Barry Goldwater', 'Art Laffer', 'Mike Ludig', 'Senator Barack Obama', 'Patti Solis Doyle', 'Tom', 'God', 'Donald Trump Iraq', 'Teddy', 'Kudlow', 'King Abdullah', 'Vermont', 'Steaks', 'Oreos', 'Heller', 'Wired', 'Fox Business Network', 'Kathie', 'Karen Tumulty', 'Ron Wyden', 'Claudia Looze', 'David', 'Key West', 'Fiorina', 'Yazidis', 'Abraham Lincoln', 'Islam', 'Americans', 'Pfizer', 'Immelt', 'Blue Shield', 'Daily News', 'Clay Road Baptist Church', 'Maureen', 'James', 'Dana Bush', 'Nina Turner', 'Mr.', 'Johnny', 'Jana Linderman', 'Wolf Blitzer', 'Churchill', 'Citizens United', 'Madam', 'Mitt Romney', 'John Gambling', 'Alright', 'Joe Biden', 'Rhode Island', 'Benjamin Foladore', 'Gadhafi', 'Raul Grijalva', 'Senator Rubio', 'Lou Dobbs', 'Paul Krugman', 'Carlos', 'Kerry', 'Kelly', 'Angel', 'Main Street', 'Celeste Arrarás', 'Are', 'Search', 'Alan Greenspan', 'Arab Muslim', 'David Duke', 'Mary Katherine Ham', 'Chris', 'Jimmy Carter', 'Fed', 'Christie', 'Wal Mart', 'Egypt', 'Donald Trump', 'H1B', 'Hussein', 'Had', 'Keith Ellison', 'Donald Sussman', 'Frank', 'Hardly', 'John McCain', 'Darnell Ishmel', 'Stalin', 'Webb', 'Valley', 'Miss Housekeeping', 'Randy', 'Florida Senator Marco Rubio', 'Soros', 'Merrick Gaarland', 'True Heart', 'Mayor Bloomberg', 'Trojan Horse', 'Afghan', 'Jeanette', 'Flynn', 'Lindsey Graham', 'Article IV', 'Mary Pat', 'Navy', 'Costco', 'Jim Clyburn', 'Kentucky', 'Enrique Cevedo', 'Hill', 'Beth', 'Steve', 'Assad', 'Latino Elected Officials', 'Carl Quintanilla', 'Myriam', 'Nicaragua', 'Denmark', 'Mike Huckabee', 'Businessman', 'Louisiana Governor Bobby Jindal', 'San Bernardino', 'Sabina', 'Tomas Regalado', 'Ask', 'John Kerry', 'Ohio', 'Jesus', 'Governor Christie', 'Forbes', 'Ken Karpowicz', 'Doug', 'Gary', 'Cardinal', 'Quick', 'Vietnam', 'Make', 'Delaware', 'Hewitt', 'Imagine', 'Vicente Fox', 'Abdullah', 'Senator Marco Rubio', 'Emily', 'Earth', 'Carter', 'Tricare', 'Senator Sander', 'John Dickerson', 'Well', 'Saddam Hussein', 'Castro', 'Chris Wallace', 'Neil', 'Netanyahu', 'Chris Stevens', 'Mister', 'Ashton Carter', 'Mark Zuckerberg', 'Moines NAACP', 'Jim', 'Larry', 'Debbie Wasserman Schultz', 'Clinton Foundation', 'David Souter', 'Salem Radio', 'Selective Service', 'Tim', 'Powell', 'Barbara Bush', 'Don Lemon', 'Francisco', 'Libya', 'Jim Webb', 'Apple', 'George W. Bush', 'Jeff', 'Ron', 'Nancy', 'Jerry', 'Kentucky Senator Rand Paul', 'Diane', 'Chris Cuomo', 'Nikki Haley', 'Obamacare', 'Tara', 'Kimberley', 'Warren Buffett', 'Clara Barton', 'Rand Paul', 'Demoin', 'Major Garrett', 'Podesta', 'Avenue Q', 'Jackson', 'Gerald Ford', 'Carl Icon', 'Sunnis', 'Terry Branstad', 'America', 'Las Vegas', 'Title X', 'Doctor', 'Corps', \"Tip O'Neill\", 'Bruce Springsteen', 'Dana Bash', 'Marine', 'Maggie Hassan', 'Kathie Obradovich', 'Mr. Rubio', 'Fellow', 'Ike', 'Brett Baier', 'John Mccain', 'Kim Strassel', 'Article II', 'Mr. Average', 'Sallie Mae', 'Tonight', 'Raqqa', 'Silicon Valley', 'Latinos', 'Winston Churchill', 'Sean Hannity', 'George', 'Chuck Hagel', 'Rubio', 'Carolina', 'Democrats', 'Blasio', 'Mike Luttig', 'Lucia Aquiette', 'Mr. Assad', 'Welcome', 'Errol', 'Texas Senator', 'Bill Pryor', 'Joshua Dansby', 'Bashar Assad', 'Alex Chalgren', 'Sean', 'Connor', 'Kenya', 'Quicken Loans Arena', 'York', 'Baltimore', 'Rosa DeLauro', 'Hitler', 'Sanders', 'Jim Comey', 'Paulson', 'Joseph', 'Jake', 'Ron Paul', 'Make America Great Again', 'Edith Jones', 'Title', 'William Rehnquist', 'Rahami', 'Pelosi', 'John Podesta', 'Cuba', 'Hosni Mubarak', 'Erin', 'Jeanne Shaheen', 'Right', 'Zach', 'George Mitchell', 'Dick Cheney', 'Ben Bernanke', 'Biden', 'Ronald Regan', 'Morsy', 'Sharon Epperson', 'Rick Snyder', 'Donald J. Trump', 'John Pietricone', 'Laden', 'Disney', \"Rosie O'Donnell\", 'Muslims', 'Robin Hood', 'Nevada', 'Labor Committee', 'Floridians', 'York Times', 'Alicia Machado', 'Kennedy', 'Jeff Sessions', 'Mr. Trump', 'Maria Bartiromo', 'Jeff Miller', 'Mr. T', 'Warner Cable News', 'Rand', 'John Adams', 'Speaker', 'Patti Doyle', 'La Raza', 'Puerto Ricans', 'Sumaira', 'Eastern Europe', 'Peyton', 'Bernie', 'Schumer', 'Grace', 'Texas', 'Barack', 'Hillarycare', 'Trump', 'Hispanic', 'Planned Parenthood', 'Trayvon Martin', 'ISIS', 'Albright', 'Saint Peter', 'Horton', 'Qadafi', 'Marine Corps', 'Ayla Brown', 'Tom DeLay', 'Kashif', 'Charlie', 'Which', 'Martin', 'Don Rumsfeld', 'Mike', 'Merkel', 'Susan B. Anthony', 'George McGovern', 'Appeals', 'William', 'Kim', 'Helen Bader Concert Hall', 'Carly', 'Richard Haass', 'Edward', 'Rodham Clinton', 'Fox Theater', 'Trump Collection', 'Christians', 'Listen', 'Blue Cross', 'Ron Edwards', 'Jesus Christ', 'Tehran', 'Elena Deets', 'Neil Cavuto', 'Okay', 'Yasser Arafat', 'Climate', 'Reagan', 'Mitch McConnell', 'Jake Tapper', 'Soleimani', 'Nevada Las Vegas', 'Alan Krueger', 'Nabela', 'Hey', 'Lester', 'Dan Conick', 'Fifth', 'Osama', 'Anderson Cooper', 'Frank Delano Roosevelt', 'Medicare', 'Bret Baier', 'Barak Obama America', 'Abigal Adams', 'Gerry', 'Trump Vodka', 'Andrea Mitchell', 'Bernanke', 'Ashley Tofil', 'Frederick Douglas', 'Ryan Tannehill', 'Seth', 'Bashar', 'James Foley', 'Florida Senator', 'Bill Corfield', 'Sunni Arabs', 'Gowdy', 'Senator Cruz', 'Bowling Green', 'Johnson Controls', 'Reaganesque', 'Arabia', 'Strawman Situation', 'Everybody', 'Edward Snowden', 'Ben Carson', 'Chuck Schumer', 'Gateway', 'Sheriff Joe Arpaio', 'Joe Arpaio', 'Nazism', 'Sir', 'Mannatech', 'Muammar Gaddafi', 'Vietnam Vets'}"
      ]
     },
     "execution_count": 23,
     "metadata": {},
     "output_type": "execute_result"
    }
   ],
   "source": [
    "names = set(people_names)\n",
    "names"
   ]
  },
  {
   "cell_type": "code",
   "execution_count": 24,
   "metadata": {},
   "outputs": [
    {
     "data": {
      "text/plain": [
       "1135"
      ]
     },
     "execution_count": 24,
     "metadata": {},
     "output_type": "execute_result"
    }
   ],
   "source": [
    "len(names)"
   ]
  },
  {
   "cell_type": "code",
   "execution_count": 25,
   "metadata": {},
   "outputs": [
    {
     "data": {
      "text/plain": [
       "True"
      ]
     },
     "execution_count": 25,
     "metadata": {},
     "output_type": "execute_result"
    }
   ],
   "source": [
    "'Senator' in names"
   ]
  },
  {
   "cell_type": "code",
   "execution_count": 26,
   "metadata": {},
   "outputs": [
    {
     "data": {
      "text/plain": [
       "False"
      ]
     },
     "execution_count": 26,
     "metadata": {},
     "output_type": "execute_result"
    }
   ],
   "source": [
    "'Governor' in names"
   ]
  },
  {
   "cell_type": "code",
   "execution_count": 27,
   "metadata": {},
   "outputs": [
    {
     "data": {
      "text/plain": [
       "True"
      ]
     },
     "execution_count": 27,
     "metadata": {},
     "output_type": "execute_result"
    }
   ],
   "source": [
    "'Mr.' in names"
   ]
  },
  {
   "cell_type": "code",
   "execution_count": 28,
   "metadata": {},
   "outputs": [
    {
     "data": {
      "text/plain": [
       "False"
      ]
     },
     "execution_count": 28,
     "metadata": {},
     "output_type": "execute_result"
    }
   ],
   "source": [
    "'Mrs.' in names"
   ]
  },
  {
   "cell_type": "code",
   "execution_count": 29,
   "metadata": {},
   "outputs": [
    {
     "data": {
      "text/plain": [
       "False"
      ]
     },
     "execution_count": 29,
     "metadata": {},
     "output_type": "execute_result"
    }
   ],
   "source": [
    "'Miss' in names"
   ]
  },
  {
   "cell_type": "code",
   "execution_count": 30,
   "metadata": {},
   "outputs": [
    {
     "data": {
      "text/plain": [
       "True"
      ]
     },
     "execution_count": 30,
     "metadata": {},
     "output_type": "execute_result"
    }
   ],
   "source": [
    "'Doctor' in names"
   ]
  },
  {
   "cell_type": "code",
   "execution_count": 31,
   "metadata": {},
   "outputs": [
    {
     "data": {
      "text/plain": [
       "False"
      ]
     },
     "execution_count": 31,
     "metadata": {},
     "output_type": "execute_result"
    }
   ],
   "source": [
    "'President' in names"
   ]
  },
  {
   "cell_type": "markdown",
   "metadata": {},
   "source": [
    "**I'm going to go through all of these tags by hand, and link them to who they are referring to. I will create a dictionary in a small additional script that creates a dictionary of NEs. The expression that was used will be the key, and the person it refers to will be the value. I think copying and pasting this set and deleting things that obviously are not people by hand first will speed things up.**"
   ]
  },
  {
   "cell_type": "code",
   "execution_count": 32,
   "metadata": {
    "collapsed": true
   },
   "outputs": [],
   "source": [
    "#f = open('/Users/Paige/Documents/Data_Science/names.txt', 'w')\n",
    "#for name in names:\n",
    "#    f.write(str(name)+'\\n')\n",
    "#f.close()"
   ]
  },
  {
   "cell_type": "markdown",
   "metadata": {},
   "source": [
    "**I'm going to read in the text file I made and turn it into the dictionary described above. In this linked.txt file, I removed everyone except for the most relevant people including leaders of countries, all of the candidates, all of the moderators, and people involved in the events discussed during the debate. If the chunker only pulled out a title like 'Madame', I linked it to the value TITLE and can map it more appropriately later on. Other \"names\" like Lady Liberty and Mr. Average were mapped to NICKNAME unless I knew right away who was being referred to. This will also be fixed later.**"
   ]
  },
  {
   "cell_type": "code",
   "execution_count": 33,
   "metadata": {
    "collapsed": true
   },
   "outputs": [],
   "source": [
    "with open('/Users/Paige/Documents/Data_Science/2016-Election-Project/data/Lists/linked.txt') as f:\n",
    "    name_link = f.readlines()"
   ]
  },
  {
   "cell_type": "code",
   "execution_count": 34,
   "metadata": {},
   "outputs": [
    {
     "data": {
      "text/plain": [
       "334"
      ]
     },
     "execution_count": 34,
     "metadata": {},
     "output_type": "execute_result"
    }
   ],
   "source": [
    "#I considered 334 of the 1135 found NE's to be relevant to the debates.\n",
    "len(name_link)"
   ]
  },
  {
   "cell_type": "code",
   "execution_count": 35,
   "metadata": {},
   "outputs": [
    {
     "data": {
      "text/plain": [
       "['Sean Hannity;Sean Hannity\\n', 'Jake Tapper;Jake Tapper\\n', 'Florida Senator;Marco Rubio\\n', 'Hill;Hillary Clinton\\n', 'Hey Ted;Ted Cruz\\n', 'Bibi Netanyahu;Benjamin Netanyahu\\n', 'Madame;TITLE\\n', 'Mr. Cruz;Ted Cruz\\n', 'Bret;Bret Baier\\n', 'John Quincy Adams;John Quincy Adams\\n', 'Yasser Arafat;Yasser Arafat\\n', 'Rubio;Marco Rubio\\n', 'Bobby Jindal;Bobby Jindal\\n', 'Andrea;Andrea Mitchell\\n', 'Ohio Governor;John Kasich\\n', 'Deborah Wasserman Schultz;Deborah Wasserman Schultz\\n', 'Ted Cruz;Ted Cruz\\n', 'Barak Obama America;Barack Obama\\n', 'Jim;Jim Webb\\n', 'Shultz;Deborah Wasserman Schultz\\n']"
      ]
     },
     "execution_count": 35,
     "metadata": {},
     "output_type": "execute_result"
    }
   ],
   "source": [
    "name_link[:20]"
   ]
  },
  {
   "cell_type": "code",
   "execution_count": 36,
   "metadata": {},
   "outputs": [
    {
     "data": {
      "text/plain": [
       "[['Barbara Bush', 'Barbara Bush'], ['Lyndon Johnson', 'Lyndon Johnson'], ['Semator', 'TITLE'], ['Martin', \"Martin O'Malley\"], ['Senator Webb', 'Jim Webb'], ['Lester', 'Lester Holt'], ['David', 'David Muir'], ['Walker', 'Scott Walker'], ['Louisiana Governor Bobby Jindal', 'Bobby Jindal'], ['John Podesta', 'John Podesta'], ['Mr. America', 'NICKNAME'], ['Dana Bash', 'Dana Bash'], ['Brett', 'Bret Baier'], ['Veto Corleone', 'NICKNAME'], ['Fidel Castro', 'Fidel Castro'], ['Ted', 'Ted Cruz'], ['Abraham Lincoln', 'Abraham Lincoln'], ['Biden', 'Joe Biden'], ['Sheriff', 'TITLE'], ['Speaker Paul Ryan', 'Paul Ryan']]"
      ]
     },
     "execution_count": 36,
     "metadata": {},
     "output_type": "execute_result"
    }
   ],
   "source": [
    "links = [x.strip().split(';') for x in name_link]\n",
    "links[30:50]"
   ]
  },
  {
   "cell_type": "code",
   "execution_count": 37,
   "metadata": {
    "collapsed": true
   },
   "outputs": [],
   "source": [
    "link_dict = {x[0]:x[1] for x in links}"
   ]
  },
  {
   "cell_type": "code",
   "execution_count": 38,
   "metadata": {},
   "outputs": [
    {
     "data": {
      "text/plain": [
       "{'John Quincy Adams', 'Abdullah', 'Scott Walker', 'John Boehner', 'Adolf Hitler', 'George Bush', 'Nelson Mandela', 'Mark Zuckerburg', 'Saddam Hussein', 'Nancy Reagan', 'James Comey', 'Kim Davis', 'Michael Flynn', 'Abigail Adams', 'Dylann Roof', 'Calvin Coolidge', 'Omran Daqneesh', 'Chris Wallace', 'John Kasich', 'Chris Christie', 'Tamir Rice', 'Elizabeth Warren', 'Joseph Stalin', 'Chelsea Clinton', 'Barbara Bush', 'Don Lemon', 'Jim Webb', 'Jeb Bush', 'George W. Bush', 'Eric Garner', 'Paul Ryan', 'Theodore Roosevelt', 'Freddie Gray', 'Martha Raddatz', 'Chris Cuomo', 'Nikki Haley', 'George H. W. Bush', 'Vladimir Putin', 'Lester Holt', 'Bashar al-Assad', 'Rand Paul', 'Major Garrett', \"Martin O'Malley\", 'Dwight Eisenhower', 'Rudy Giuliani', 'Angela Merkel', \"Tip O'Neill\", 'Ted Cruz', 'Dana Bash', 'Alexander Hamilton', 'Benjamin Franklin', 'Ivanka Trump', 'Benjamin Netanyahu', 'Bobby Jindal', 'Nancy Pelosi', 'Lincoln Chafee', 'Kimberley Strassel', 'Lyndon Johnson', 'TITLE', 'Winston Churchill', 'Sean Hannity', 'Megyn Kelly', 'Merrick Garland', 'Jorge Ramos', 'Marco Rubio', 'Chuck Todd', 'Deborah Wasserman Schultz', 'Osama bin Laden', 'James Carter', 'Ron Paul', 'Richard Nixon', 'Ronald Reagan', 'NICKNAME', 'Michael Brown', 'John Podesta', 'Franklin D. Roosevelt', 'Hosni Mubarak', 'Hillary Clinton', 'Andrew Cuomo', 'George Washington', 'Humayun Khan', 'Kim Jong Un', 'Michael Bloomberg', 'John Kennedy', \"Rosie O'Donnell\", 'Alicia Machado', 'Jeff Sessions', 'Al Gore', 'Maria Bartiromo', 'John Adams', 'Joseph Mattis', 'Hugh Hewitt', 'Senator Clinton', 'Abraham Lincoln', 'Abdel Fattah el-Sisi', 'Maria Elena Salinas', 'Wolf Blitzer', 'Michelle Obama', 'Trayvon Martin', 'Mitt Romney', 'Antonin Scalia', 'Joe Biden', 'Rosa Parks', 'Fidel Castro', 'Bernie Sanders', \"Katie O'Malley\", 'David Duke', 'Harry Truman', 'Ken Bone', 'Maria Celeste Arraras', 'Donald Trump', 'Neil Cavuto', 'Bill Clinton', 'Pope Francis', 'John McCain', 'Rush Limbaugh', 'Yasser Arafat', 'Mitch McConnell', 'Jake Tapper', 'Sandra Bland', 'Sonia Sotomayor', 'Eric Trump', 'Anderson Cooper', 'Bret Baier', 'Woodrow Wilson', 'Lindsey Graham', 'Andrea Mitchell', 'Frederick Douglas', 'Carly Fiorina', 'Carl Quintanilla', 'David Muir', 'Ashraf Ghani', 'Mike Huckabee', 'Rick Santorum', 'Edward Snowden', 'Barack Obama', 'John Kerry', 'Ben Carson', 'Thomas Jefferson', 'Rachel Maddow', 'Joe Arpaio', 'Chuck Schumer', 'Muammar Gaddafi'}"
      ]
     },
     "execution_count": 38,
     "metadata": {},
     "output_type": "execute_result"
    }
   ],
   "source": [
    "#This is the set of all of the relevant people who were referred to in the debates.\n",
    "set(link_dict.values())"
   ]
  },
  {
   "cell_type": "code",
   "execution_count": 39,
   "metadata": {},
   "outputs": [
    {
     "data": {
      "text/plain": [
       "['Sean Hannity', 'Jake Tapper', 'Florida Senator', 'Hill', 'Hey Ted', 'Bibi Netanyahu', 'Madame', 'Mr. Cruz', 'Bret', 'John Quincy Adams', 'Yasser Arafat', 'Rubio', 'Bobby Jindal', 'Andrea', 'Ohio Governor', 'Deborah Wasserman Schultz', 'Ted Cruz', 'Barak Obama America', 'Jim', 'Shultz', 'Fiorina', 'Mayor Giuliani', 'Miss Piggy', 'Snowden', 'Malley', 'Martha', 'Dana', 'Hillary Rodham', 'John Mccain', 'Senator Lindsey Graham', 'Barbara Bush', 'Lyndon Johnson', 'Semator', 'Martin', 'Senator Webb', 'Lester', 'David', 'Walker', 'Louisiana Governor Bobby Jindal', 'John Podesta']"
      ]
     },
     "execution_count": 39,
     "metadata": {},
     "output_type": "execute_result"
    }
   ],
   "source": [
    "#Here are some of the ways those people were referred to.\n",
    "list(link_dict.keys())[:40]"
   ]
  },
  {
   "cell_type": "code",
   "execution_count": 40,
   "metadata": {},
   "outputs": [
    {
     "data": {
      "text/plain": [
       "'John Kasich'"
      ]
     },
     "execution_count": 40,
     "metadata": {},
     "output_type": "execute_result"
    }
   ],
   "source": [
    "link_dict['Ohio Governor']"
   ]
  },
  {
   "cell_type": "code",
   "execution_count": 41,
   "metadata": {},
   "outputs": [
    {
     "data": {
      "text/plain": [
       "'Andrea Mitchell'"
      ]
     },
     "execution_count": 41,
     "metadata": {},
     "output_type": "execute_result"
    }
   ],
   "source": [
    "link_dict['Andrea']"
   ]
  },
  {
   "cell_type": "code",
   "execution_count": 42,
   "metadata": {},
   "outputs": [
    {
     "data": {
      "text/plain": [
       "'Jim Webb'"
      ]
     },
     "execution_count": 42,
     "metadata": {},
     "output_type": "execute_result"
    }
   ],
   "source": [
    "link_dict['Senator Webb']"
   ]
  },
  {
   "cell_type": "markdown",
   "metadata": {},
   "source": [
    "**Now I need to use this dictionary to label all of the named entities in my NER trees with who the NE is referring to instead of PERSON**"
   ]
  },
  {
   "cell_type": "code",
   "execution_count": 43,
   "metadata": {},
   "outputs": [],
   "source": [
    "def name_linking(trees):\n",
    "    name = ''\n",
    "    for tree in trees:\n",
    "        for chunk in tree:\n",
    "            if hasattr(chunk, 'label'):\n",
    "                if chunk.label() == 'PERSON':\n",
    "                    for leaf in chunk.leaves():\n",
    "                        name+=' '+str(leaf[0])\n",
    "                        if name.strip() in link_dict.keys():\n",
    "                            name = name.strip()\n",
    "                            chunk.set_label(link_dict[name])\n",
    "                            name = ''\n",
    "    return tree"
   ]
  },
  {
   "cell_type": "code",
   "execution_count": 44,
   "metadata": {},
   "outputs": [],
   "source": [
    "master_df['Tree'] = master_df.Tree.map(name_linking)"
   ]
  },
  {
   "cell_type": "code",
   "execution_count": 45,
   "metadata": {},
   "outputs": [
    {
     "data": {
      "text/html": [
       "<div>\n",
       "<style>\n",
       "    .dataframe thead tr:only-child th {\n",
       "        text-align: right;\n",
       "    }\n",
       "\n",
       "    .dataframe thead th {\n",
       "        text-align: left;\n",
       "    }\n",
       "\n",
       "    .dataframe tbody tr th {\n",
       "        vertical-align: top;\n",
       "    }\n",
       "</style>\n",
       "<table border=\"1\" class=\"dataframe\">\n",
       "  <thead>\n",
       "    <tr style=\"text-align: right;\">\n",
       "      <th></th>\n",
       "      <th>Date</th>\n",
       "      <th>Debate Type</th>\n",
       "      <th>Speaker</th>\n",
       "      <th>Sents</th>\n",
       "      <th>Tree</th>\n",
       "    </tr>\n",
       "  </thead>\n",
       "  <tbody>\n",
       "    <tr>\n",
       "      <th>2</th>\n",
       "      <td>1-14-16</td>\n",
       "      <td>primary_rep</td>\n",
       "      <td>CAVUTO</td>\n",
       "      <td>It is 9:00 p.m. here at the North Charleston ...</td>\n",
       "      <td>[(It, PRP), (is, VBZ), (9:00, CD), (p.m., NN),...</td>\n",
       "    </tr>\n",
       "    <tr>\n",
       "      <th>3</th>\n",
       "      <td>1-14-16</td>\n",
       "      <td>primary_rep</td>\n",
       "      <td>CAVUTO</td>\n",
       "      <td>Welcome to the sixth Republican presidential o...</td>\n",
       "      <td>[(Welcome, VB), (to, TO), (the, DT), (sixth, J...</td>\n",
       "    </tr>\n",
       "    <tr>\n",
       "      <th>4</th>\n",
       "      <td>1-14-16</td>\n",
       "      <td>primary_rep</td>\n",
       "      <td>CAVUTO</td>\n",
       "      <td>I'm Neil Cavuto, alongside my friend and co-mo...</td>\n",
       "      <td>[(I, PRP), ('m, VBP), [(Neil, JJ), (Cavuto, NN...</td>\n",
       "    </tr>\n",
       "    <tr>\n",
       "      <th>5</th>\n",
       "      <td>1-14-16</td>\n",
       "      <td>primary_rep</td>\n",
       "      <td>BARTIROMO</td>\n",
       "      <td>Tonight we are working with Facebook to ask t...</td>\n",
       "      <td>[(Tonight, NN), (we, PRP), (are, VBP), (workin...</td>\n",
       "    </tr>\n",
       "    <tr>\n",
       "      <th>6</th>\n",
       "      <td>1-14-16</td>\n",
       "      <td>primary_rep</td>\n",
       "      <td>BARTIROMO</td>\n",
       "      <td>And according to Facebook, the U.S. election h...</td>\n",
       "      <td>[(And, CC), (according, VBG), (to, TO), [(Face...</td>\n",
       "    </tr>\n",
       "  </tbody>\n",
       "</table>\n",
       "</div>"
      ],
      "text/plain": [
       "      Date  Debate Type    Speaker  \\\n",
       "2  1-14-16  primary_rep     CAVUTO   \n",
       "3  1-14-16  primary_rep     CAVUTO   \n",
       "4  1-14-16  primary_rep     CAVUTO   \n",
       "5  1-14-16  primary_rep  BARTIROMO   \n",
       "6  1-14-16  primary_rep  BARTIROMO   \n",
       "\n",
       "                                               Sents  \\\n",
       "2   It is 9:00 p.m. here at the North Charleston ...   \n",
       "3  Welcome to the sixth Republican presidential o...   \n",
       "4  I'm Neil Cavuto, alongside my friend and co-mo...   \n",
       "5   Tonight we are working with Facebook to ask t...   \n",
       "6  And according to Facebook, the U.S. election h...   \n",
       "\n",
       "                                                Tree  \n",
       "2  [(It, PRP), (is, VBZ), (9:00, CD), (p.m., NN),...  \n",
       "3  [(Welcome, VB), (to, TO), (the, DT), (sixth, J...  \n",
       "4  [(I, PRP), ('m, VBP), [(Neil, JJ), (Cavuto, NN...  \n",
       "5  [(Tonight, NN), (we, PRP), (are, VBP), (workin...  \n",
       "6  [(And, CC), (according, VBG), (to, TO), [(Face...  "
      ]
     },
     "execution_count": 45,
     "metadata": {},
     "output_type": "execute_result"
    }
   ],
   "source": [
    "master_df.head()"
   ]
  },
  {
   "cell_type": "code",
   "execution_count": 46,
   "metadata": {},
   "outputs": [
    {
     "data": {
      "image/png": "[encoded data removed]",
      "text/plain": [
       "Tree('CAVUTO', [Tree('Donald Trump', [('Businessman', 'NNP')]), Tree('Donald Trump', [('Donald', 'NNP'), ('Trump', 'NNP')]), ('.', '.')])"
      ]
     },
     "execution_count": 46,
     "metadata": {},
     "output_type": "execute_result"
    }
   ],
   "source": [
    "master_df.iloc[8][-1]"
   ]
  },
  {
   "cell_type": "markdown",
   "metadata": {},
   "source": [
    "**Below is some basic analysis that I can do at this point! Here are the counts for each time a particular person was referrenced from high to low.**"
   ]
  },
  {
   "cell_type": "code",
   "execution_count": 47,
   "metadata": {},
   "outputs": [
    {
     "name": "stdout",
     "output_type": "stream",
     "text": [
      "Hillary Clinton 1093\n",
      "Donald Trump 679\n",
      "Barack Obama 471\n",
      "TITLE 308\n",
      "Bernie Sanders 211\n",
      "Jeb Bush 201\n",
      "Ben Carson 179\n",
      "Marco Rubio 172\n",
      "John Kasich 163\n",
      "Ronald Reagan 124\n",
      "Rand Paul 103\n",
      "Ted Cruz 102\n",
      "Vladimir Putin 99\n",
      "Bashar al-Assad 97\n",
      "Anderson Cooper 64\n",
      "Chris Christie 51\n",
      "David Muir 48\n",
      "Dana Bash 46\n",
      "John Kerry 42\n",
      "Wolf Blitzer 41\n",
      "Martha Raddatz 38\n",
      "Carly Fiorina 35\n",
      "Lester Holt 32\n",
      "Muammar Gaddafi 32\n",
      "Megyn Kelly 29\n",
      "Mitt Romney 25\n",
      "Saddam Hussein 24\n",
      "Bret Baier 20\n",
      "Martin O'Malley 18\n",
      "Bill Clinton 18\n",
      "Maria Celeste Arraras 17\n",
      "Andrea Mitchell 17\n",
      "John Kennedy 15\n",
      "Edward Snowden 14\n",
      "Jim Webb 14\n",
      "Osama bin Laden 14\n",
      "Antonin Scalia 14\n",
      "Joe Biden 12\n",
      "Jeff Sessions 12\n",
      "John McCain 11\n",
      "Nancy Pelosi 11\n",
      "Don Lemon 11\n",
      "Kim Jong Un 10\n",
      "George Bush 9\n",
      "Chuck Schumer 9\n",
      "Scott Walker 9\n",
      "Benjamin Netanyahu 9\n",
      "James Carter 8\n",
      "Lindsey Graham 8\n",
      "Rick Santorum 8\n",
      "Elizabeth Warren 8\n",
      "Hugh Hewitt 8\n",
      "Jake Tapper 8\n",
      "Nikki Haley 7\n",
      "Theodore Roosevelt 7\n",
      "Mike Huckabee 7\n",
      "Lincoln Chafee 7\n",
      "Harry Truman 6\n",
      "Sean Hannity 6\n",
      "Eric Trump 5\n",
      "Chuck Todd 5\n",
      "John Adams 5\n",
      "Ivanka Trump 4\n",
      "James Comey 4\n",
      "Alicia Machado 4\n",
      "Michelle Obama 4\n",
      "Deborah Wasserman Schultz 4\n",
      "Winston Churchill 4\n",
      "Hosni Mubarak 4\n",
      "NICKNAME 4\n",
      "Jorge Ramos 4\n",
      "Fidel Castro 4\n",
      "Neil Cavuto 3\n",
      "Franklin D. Roosevelt 3\n",
      "Chris Cuomo 3\n",
      "Abraham Lincoln 3\n",
      "Kim Davis 3\n",
      "Humayun Khan 3\n",
      "Dwight Eisenhower 3\n",
      "Kimberley Strassel 3\n",
      "Mitch McConnell 3\n",
      "Tip O'Neill 3\n",
      "Chelsea Clinton 3\n",
      "Rosie O'Donnell 3\n",
      "Rosa Parks 3\n",
      "Sonia Sotomayor 2\n",
      "Tamir Rice 2\n",
      "George W. Bush 2\n",
      "Ron Paul 2\n",
      "Sandra Bland 2\n",
      "Pope Francis 2\n",
      "Barbara Bush 2\n",
      "John Podesta 2\n",
      "Katie O'Malley 2\n",
      "Major Garrett 2\n",
      "Al Gore 2\n",
      "George H. W. Bush 2\n",
      "Michael Bloomberg 2\n",
      "Rachel Maddow 2\n",
      "Richard Nixon 2\n",
      "Abigail Adams 2\n",
      "Bobby Jindal 1\n",
      "Dylann Roof 1\n",
      "Frederick Douglas 1\n",
      "Benjamin Franklin 1\n",
      "Woodrow Wilson 1\n",
      "John Quincy Adams 1\n",
      "Carl Quintanilla 1\n",
      "Mark Zuckerburg 1\n",
      "Omran Daqneesh 1\n",
      "Ken Bone 1\n",
      "Andrew Cuomo 1\n",
      "Calvin Coolidge 1\n",
      "John Boehner 1\n",
      "Joseph Mattis 1\n",
      "Abdullah 1\n",
      "Nelson Mandela 1\n",
      "Ashraf Ghani 1\n",
      "Angela Merkel 1\n",
      "Trayvon Martin 1\n",
      "Adolf Hitler 1\n",
      "Yasser Arafat 1\n",
      "Lyndon Johnson 1\n",
      "Thomas Jefferson 1\n",
      "Rudy Giuliani 1\n"
     ]
    }
   ],
   "source": [
    "ner_categories = defaultdict(int)\n",
    "\n",
    "# Create the nested for loop\n",
    "for tree in master_df['Tree']:\n",
    "    for chunk in tree:\n",
    "        if hasattr(chunk, 'label') and chunk.label() not in ['GPE', 'ORGANIZATION', 'PERSON', 'LOCATION', 'GSP', 'FACILITY' ]:\n",
    "            ner_categories[chunk.label()] += 1\n",
    "\n",
    "for category in sorted(ner_categories, key=ner_categories.get, reverse=True):\n",
    "    print(category, ner_categories[category])"
   ]
  },
  {
   "cell_type": "markdown",
   "metadata": {},
   "source": [
    "**Here is a distribution across the candidates that remained in the race until the last primary debate.**"
   ]
  },
  {
   "cell_type": "code",
   "execution_count": 48,
   "metadata": {},
   "outputs": [
    {
     "data": {
      "image/png": "[encoded data removed]",
      "text/plain": [
       "<matplotlib.figure.Figure object at 0x119e4ceb8>"
      ]
     },
     "metadata": {},
     "output_type": "display_data"
    }
   ],
   "source": [
    "#This section is with help from a datacamp tutorial\n",
    "#https://campus.datacamp.com/courses/natural-language-processing-fundamentals-in-python/named-entity-recognition?ex=3\n",
    "\n",
    "ner_categories = defaultdict(int)\n",
    "\n",
    "# Create the nested for loop\n",
    "for tree in master_df['Tree']:\n",
    "    for chunk in tree:\n",
    "        if hasattr(chunk, 'label'):\n",
    "            if chunk.label() in ['Hillary Clinton', 'Donald Trump', 'Bernie Sanders', 'Ted Cruz', 'Marco Rubio', 'John Kasich']:\n",
    "                ner_categories[chunk.label()] += 1\n",
    "            \n",
    "# Create a list from the dictionary keys for the chart labels: labels\n",
    "labels = list(ner_categories.keys())\n",
    "\n",
    "# Create a list of the values: values\n",
    "values = [ner_categories.get(l) for l in labels]\n",
    "\n",
    "# Create the pie chart\n",
    "plt.pie(values, labels=labels, autopct='%1.1f%%', startangle=140)\n",
    "\n",
    "# Display the chart\n",
    "plt.show()"
   ]
  },
  {
   "cell_type": "markdown",
   "metadata": {},
   "source": [
    "**Next Steps: I still need to fix up some of the tagging to include titles and maybe go through the ORGANIZATION and LOCATION tags to see if some people were mistakenly tagged as such. Then I need to begin my analysis and see if there is a difference in the way females and males are referred to.**"
   ]
  }
 ],
 "metadata": {
  "kernelspec": {
   "display_name": "Python 3",
   "language": "python",
   "name": "python3"
  },
  "language_info": {
   "codemirror_mode": {
    "name": "ipython",
    "version": 3
   },
   "file_extension": ".py",
   "mimetype": "text/x-python",
   "name": "python",
   "nbconvert_exporter": "python",
   "pygments_lexer": "ipython3",
   "version": "3.6.1"
  }
 },
 "nbformat": 4,
 "nbformat_minor": 2
}
