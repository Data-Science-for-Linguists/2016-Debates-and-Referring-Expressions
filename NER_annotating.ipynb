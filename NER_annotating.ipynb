{
 "cells": [
  {
   "cell_type": "markdown",
   "metadata": {},
   "source": [
    "## 2016 Election Project \n",
    "\n",
    "This notebook is intended to document my attempts at NER annotation of my data throughout this project. The data I am starting out with are transcripts of the presidential debates from the 2016 US Election between Hillary Clinton and Donald Trump. The transcripts were taken from UCSB's American Presidency Project:\n",
    "\n",
    "Presidential Candidates Debates: \"Presidential Debate at the University of Nevada in Las Vegas,\" October 19, 2016. Online by Gerhard Peters and John T. Woolley, The American Presidency Project. http://www.presidency.ucsb.edu/ws/?pid=119039.\n",
    "\n",
    "Presidential Candidates Debates: \"Presidential Debate at Washington University in St. Louis, Missouri,\" October 9, 2016. Online by Gerhard Peters and John T. Woolley, The American Presidency Project. http://www.presidency.ucsb.edu/ws/?pid=119038.\n",
    "\n",
    "Presidential Candidates Debates: \"Presidential Debate at Hofstra University in Hempstead, New York,\" September 26, 2016. Online by Gerhard Peters and John T. Woolley, The American Presidency Project. http://www.presidency.ucsb.edu/ws/?pid=118971.\n",
    "\n",
    "I will eventually use the primary debate transcripts as"
   ]
  }
 ],
 "metadata": {
  "kernelspec": {
   "display_name": "Python 3",
   "language": "python",
   "name": "python3"
  },
  "language_info": {
   "codemirror_mode": {
    "name": "ipython",
    "version": 3
   },
   "file_extension": ".py",
   "mimetype": "text/x-python",
   "name": "python",
   "nbconvert_exporter": "python",
   "pygments_lexer": "ipython3",
   "version": "3.6.1"
  }
 },
 "nbformat": 4,
 "nbformat_minor": 2
}
