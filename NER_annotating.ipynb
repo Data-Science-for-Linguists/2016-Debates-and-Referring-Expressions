{
 "cells": [
  {
   "cell_type": "code",
   "execution_count": 1,
   "metadata": {},
   "outputs": [
    {
     "name": "stdout",
     "output_type": "stream",
     "text": [
      "Pretty printing has been turned OFF\n"
     ]
    }
   ],
   "source": [
    "%pprint"
   ]
  },
  {
   "cell_type": "markdown",
   "metadata": {},
   "source": [
    "## 2016 Election Project \n",
    "### Part 2 of Processing Pipeline\n",
    "\n",
    "This notebook is intended to document NER annotation of my data throughout this project. The data I am starting out with are transcripts of the presidential debates from the 2016 US Election- the 10 Democratic primary debates, the 12 Republican primary debates, and the debates for the general election between Hillary Clinton and Donald Trump. The transcripts were taken from UCSB's American Presidency Project. The citations for these transcripts can be found in the README."
   ]
  },
  {
   "cell_type": "code",
   "execution_count": 2,
   "metadata": {
    "collapsed": true
   },
   "outputs": [],
   "source": [
    "import nltk\n",
    "from nltk.corpus import PlaintextCorpusReader\n",
    "import pandas as pd\n",
    "import glob\n",
    "import os\n",
    "from collections import defaultdict\n",
    "import matplotlib.pyplot as plt\n",
    "import re"
   ]
  },
  {
   "cell_type": "markdown",
   "metadata": {},
   "source": [
    "**I'm going to create a mapping function that will take the sentence in each row of each data frame and perform nltk's chunking operation on it to get a tree with annoted NEs**"
   ]
  },
  {
   "cell_type": "code",
   "execution_count": 3,
   "metadata": {
    "collapsed": true
   },
   "outputs": [],
   "source": [
    "#Import the saved list of data frames I created in secondary_data_processing\n",
    "import pickle\n",
    "f = open('/Users/Paige/Documents/Data_Science/dataframes.p', 'rb')\n",
    "dataframes = pickle.load(f)\n",
    "f.close()"
   ]
  },
  {
   "cell_type": "code",
   "execution_count": 4,
   "metadata": {
    "collapsed": true
   },
   "outputs": [],
   "source": [
    "def get_tree(sent):\n",
    "    sents = nltk.sent_tokenize(sent)\n",
    "    words = [nltk.word_tokenize(sent) for sent in sents]\n",
    "    pos = [nltk.pos_tag(sent) for sent in words]\n",
    "    chunk = nltk.ne_chunk_sents(pos)\n",
    "    return list(chunk)"
   ]
  },
  {
   "cell_type": "code",
   "execution_count": 5,
   "metadata": {},
   "outputs": [],
   "source": [
    "master_df = pd.concat(dataframes)"
   ]
  },
  {
   "cell_type": "code",
   "execution_count": 6,
   "metadata": {},
   "outputs": [
    {
     "data": {
      "text/html": [
       "<div>\n",
       "<style>\n",
       "    .dataframe thead tr:only-child th {\n",
       "        text-align: right;\n",
       "    }\n",
       "\n",
       "    .dataframe thead th {\n",
       "        text-align: left;\n",
       "    }\n",
       "\n",
       "    .dataframe tbody tr th {\n",
       "        vertical-align: top;\n",
       "    }\n",
       "</style>\n",
       "<table border=\"1\" class=\"dataframe\">\n",
       "  <thead>\n",
       "    <tr style=\"text-align: right;\">\n",
       "      <th></th>\n",
       "      <th>Date</th>\n",
       "      <th>Debate Type</th>\n",
       "      <th>Speaker</th>\n",
       "      <th>Sents</th>\n",
       "    </tr>\n",
       "  </thead>\n",
       "  <tbody>\n",
       "    <tr>\n",
       "      <th>2</th>\n",
       "      <td>1-14-16</td>\n",
       "      <td>primary_rep</td>\n",
       "      <td>CAVUTO</td>\n",
       "      <td>It is 9:00 p.m. here at the North Charleston ...</td>\n",
       "    </tr>\n",
       "    <tr>\n",
       "      <th>3</th>\n",
       "      <td>1-14-16</td>\n",
       "      <td>primary_rep</td>\n",
       "      <td>CAVUTO</td>\n",
       "      <td>Welcome to the sixth Republican presidential o...</td>\n",
       "    </tr>\n",
       "    <tr>\n",
       "      <th>4</th>\n",
       "      <td>1-14-16</td>\n",
       "      <td>primary_rep</td>\n",
       "      <td>CAVUTO</td>\n",
       "      <td>I'm Neil Cavuto, alongside my friend and co-mo...</td>\n",
       "    </tr>\n",
       "    <tr>\n",
       "      <th>5</th>\n",
       "      <td>1-14-16</td>\n",
       "      <td>primary_rep</td>\n",
       "      <td>BARTIROMO</td>\n",
       "      <td>Tonight we are working with Facebook to ask t...</td>\n",
       "    </tr>\n",
       "    <tr>\n",
       "      <th>6</th>\n",
       "      <td>1-14-16</td>\n",
       "      <td>primary_rep</td>\n",
       "      <td>BARTIROMO</td>\n",
       "      <td>And according to Facebook, the U.S. election h...</td>\n",
       "    </tr>\n",
       "  </tbody>\n",
       "</table>\n",
       "</div>"
      ],
      "text/plain": [
       "      Date  Debate Type    Speaker  \\\n",
       "2  1-14-16  primary_rep     CAVUTO   \n",
       "3  1-14-16  primary_rep     CAVUTO   \n",
       "4  1-14-16  primary_rep     CAVUTO   \n",
       "5  1-14-16  primary_rep  BARTIROMO   \n",
       "6  1-14-16  primary_rep  BARTIROMO   \n",
       "\n",
       "                                               Sents  \n",
       "2   It is 9:00 p.m. here at the North Charleston ...  \n",
       "3  Welcome to the sixth Republican presidential o...  \n",
       "4  I'm Neil Cavuto, alongside my friend and co-mo...  \n",
       "5   Tonight we are working with Facebook to ask t...  \n",
       "6  And according to Facebook, the U.S. election h...  "
      ]
     },
     "execution_count": 6,
     "metadata": {},
     "output_type": "execute_result"
    }
   ],
   "source": [
    "master_df.head()"
   ]
  },
  {
   "cell_type": "code",
   "execution_count": 7,
   "metadata": {},
   "outputs": [
    {
     "data": {
      "text/html": [
       "<div>\n",
       "<style>\n",
       "    .dataframe thead tr:only-child th {\n",
       "        text-align: right;\n",
       "    }\n",
       "\n",
       "    .dataframe thead th {\n",
       "        text-align: left;\n",
       "    }\n",
       "\n",
       "    .dataframe tbody tr th {\n",
       "        vertical-align: top;\n",
       "    }\n",
       "</style>\n",
       "<table border=\"1\" class=\"dataframe\">\n",
       "  <thead>\n",
       "    <tr style=\"text-align: right;\">\n",
       "      <th></th>\n",
       "      <th>Date</th>\n",
       "      <th>Debate Type</th>\n",
       "      <th>Speaker</th>\n",
       "      <th>Sents</th>\n",
       "    </tr>\n",
       "  </thead>\n",
       "  <tbody>\n",
       "    <tr>\n",
       "      <th>1382</th>\n",
       "      <td>9-26-16</td>\n",
       "      <td>general</td>\n",
       "      <td>HOLT</td>\n",
       "      <td>The conversation will continue.</td>\n",
       "    </tr>\n",
       "    <tr>\n",
       "      <th>1383</th>\n",
       "      <td>9-26-16</td>\n",
       "      <td>general</td>\n",
       "      <td>HOLT</td>\n",
       "      <td>A reminder.</td>\n",
       "    </tr>\n",
       "    <tr>\n",
       "      <th>1384</th>\n",
       "      <td>9-26-16</td>\n",
       "      <td>general</td>\n",
       "      <td>HOLT</td>\n",
       "      <td>The vice presidential debate is scheduled for ...</td>\n",
       "    </tr>\n",
       "    <tr>\n",
       "      <th>1385</th>\n",
       "      <td>9-26-16</td>\n",
       "      <td>general</td>\n",
       "      <td>HOLT</td>\n",
       "      <td>My thanks to Hillary Clinton and to Donald Tru...</td>\n",
       "    </tr>\n",
       "    <tr>\n",
       "      <th>1386</th>\n",
       "      <td>9-26-16</td>\n",
       "      <td>general</td>\n",
       "      <td>HOLT</td>\n",
       "      <td>Good night, everyone.</td>\n",
       "    </tr>\n",
       "  </tbody>\n",
       "</table>\n",
       "</div>"
      ],
      "text/plain": [
       "         Date Debate Type Speaker  \\\n",
       "1382  9-26-16     general    HOLT   \n",
       "1383  9-26-16     general    HOLT   \n",
       "1384  9-26-16     general    HOLT   \n",
       "1385  9-26-16     general    HOLT   \n",
       "1386  9-26-16     general    HOLT   \n",
       "\n",
       "                                                  Sents  \n",
       "1382                    The conversation will continue.  \n",
       "1383                                        A reminder.  \n",
       "1384  The vice presidential debate is scheduled for ...  \n",
       "1385  My thanks to Hillary Clinton and to Donald Tru...  \n",
       "1386                              Good night, everyone.  "
      ]
     },
     "execution_count": 7,
     "metadata": {},
     "output_type": "execute_result"
    }
   ],
   "source": [
    "master_df.tail()"
   ]
  },
  {
   "cell_type": "code",
   "execution_count": 8,
   "metadata": {},
   "outputs": [],
   "source": [
    "master_df['Tree']=master_df.Sents.map(get_tree)"
   ]
  },
  {
   "cell_type": "code",
   "execution_count": 10,
   "metadata": {},
   "outputs": [
    {
     "data": {
      "text/html": [
       "<div>\n",
       "<style>\n",
       "    .dataframe thead tr:only-child th {\n",
       "        text-align: right;\n",
       "    }\n",
       "\n",
       "    .dataframe thead th {\n",
       "        text-align: left;\n",
       "    }\n",
       "\n",
       "    .dataframe tbody tr th {\n",
       "        vertical-align: top;\n",
       "    }\n",
       "</style>\n",
       "<table border=\"1\" class=\"dataframe\">\n",
       "  <thead>\n",
       "    <tr style=\"text-align: right;\">\n",
       "      <th></th>\n",
       "      <th>Date</th>\n",
       "      <th>Debate Type</th>\n",
       "      <th>Speaker</th>\n",
       "      <th>Sents</th>\n",
       "      <th>Tree</th>\n",
       "    </tr>\n",
       "  </thead>\n",
       "  <tbody>\n",
       "    <tr>\n",
       "      <th>2</th>\n",
       "      <td>1-14-16</td>\n",
       "      <td>primary_rep</td>\n",
       "      <td>CAVUTO</td>\n",
       "      <td>It is 9:00 p.m. here at the North Charleston ...</td>\n",
       "      <td>[[(It, PRP), (is, VBZ), (9:00, CD), (p.m., NN)...</td>\n",
       "    </tr>\n",
       "    <tr>\n",
       "      <th>3</th>\n",
       "      <td>1-14-16</td>\n",
       "      <td>primary_rep</td>\n",
       "      <td>CAVUTO</td>\n",
       "      <td>Welcome to the sixth Republican presidential o...</td>\n",
       "      <td>[[(Welcome, VB), (to, TO), (the, DT), (sixth, ...</td>\n",
       "    </tr>\n",
       "    <tr>\n",
       "      <th>4</th>\n",
       "      <td>1-14-16</td>\n",
       "      <td>primary_rep</td>\n",
       "      <td>CAVUTO</td>\n",
       "      <td>I'm Neil Cavuto, alongside my friend and co-mo...</td>\n",
       "      <td>[[(I, PRP), ('m, VBP), [('Neil', 'JJ'), ('Cavu...</td>\n",
       "    </tr>\n",
       "    <tr>\n",
       "      <th>5</th>\n",
       "      <td>1-14-16</td>\n",
       "      <td>primary_rep</td>\n",
       "      <td>BARTIROMO</td>\n",
       "      <td>Tonight we are working with Facebook to ask t...</td>\n",
       "      <td>[[(Tonight, NN), (we, PRP), (are, VBP), (worki...</td>\n",
       "    </tr>\n",
       "    <tr>\n",
       "      <th>6</th>\n",
       "      <td>1-14-16</td>\n",
       "      <td>primary_rep</td>\n",
       "      <td>BARTIROMO</td>\n",
       "      <td>And according to Facebook, the U.S. election h...</td>\n",
       "      <td>[[(And, CC), (according, VBG), (to, TO), [('Fa...</td>\n",
       "    </tr>\n",
       "  </tbody>\n",
       "</table>\n",
       "</div>"
      ],
      "text/plain": [
       "      Date  Debate Type    Speaker  \\\n",
       "2  1-14-16  primary_rep     CAVUTO   \n",
       "3  1-14-16  primary_rep     CAVUTO   \n",
       "4  1-14-16  primary_rep     CAVUTO   \n",
       "5  1-14-16  primary_rep  BARTIROMO   \n",
       "6  1-14-16  primary_rep  BARTIROMO   \n",
       "\n",
       "                                               Sents  \\\n",
       "2   It is 9:00 p.m. here at the North Charleston ...   \n",
       "3  Welcome to the sixth Republican presidential o...   \n",
       "4  I'm Neil Cavuto, alongside my friend and co-mo...   \n",
       "5   Tonight we are working with Facebook to ask t...   \n",
       "6  And according to Facebook, the U.S. election h...   \n",
       "\n",
       "                                                Tree  \n",
       "2  [[(It, PRP), (is, VBZ), (9:00, CD), (p.m., NN)...  \n",
       "3  [[(Welcome, VB), (to, TO), (the, DT), (sixth, ...  \n",
       "4  [[(I, PRP), ('m, VBP), [('Neil', 'JJ'), ('Cavu...  \n",
       "5  [[(Tonight, NN), (we, PRP), (are, VBP), (worki...  \n",
       "6  [[(And, CC), (according, VBG), (to, TO), [('Fa...  "
      ]
     },
     "execution_count": 10,
     "metadata": {},
     "output_type": "execute_result"
    }
   ],
   "source": [
    "master_df.head()"
   ]
  },
  {
   "cell_type": "markdown",
   "metadata": {},
   "source": [
    "**I've created an NER tree! Notice that nltk's chunker pulled out Neil Cavuto and Maria Bartiromo as people. Now I want to change the S label at the top of the tree to represent who said this utterence using the information in the Speaker column.**"
   ]
  },
  {
   "cell_type": "code",
   "execution_count": 15,
   "metadata": {},
   "outputs": [
    {
     "data": {
      "image/png": "[encoded data removed]",
      "text/plain": [
       "Tree('S', [('I', 'PRP'), (\"'m\", 'VBP'), Tree('PERSON', [('Neil', 'JJ'), ('Cavuto', 'NNP')]), (',', ','), ('alongside', 'IN'), ('my', 'PRP$'), ('friend', 'NN'), ('and', 'CC'), ('co-moderator', 'NN'), Tree('PERSON', [('Maria', 'NNP'), ('Bartiromo', 'NNP')]), ('.', '.')])"
      ]
     },
     "execution_count": 15,
     "metadata": {},
     "output_type": "execute_result"
    }
   ],
   "source": [
    "master_df.iloc[2][-1][0]"
   ]
  },
  {
   "cell_type": "code",
   "execution_count": 22,
   "metadata": {},
   "outputs": [],
   "source": [
    "#Using mapping involving 2 columns. Use the Speaker column to modify the Tree column.\n",
    "for row in range(0, len(master_df)):\n",
    "    master_df.iloc[row][-1][0].set_label(master_df.iloc[row][2])"
   ]
  },
  {
   "cell_type": "code",
   "execution_count": 23,
   "metadata": {},
   "outputs": [
    {
     "data": {
      "image/png": "[encoded data removed]",
      "text/plain": [
       "Tree('CAVUTO', [('I', 'PRP'), (\"'m\", 'VBP'), Tree('PERSON', [('Neil', 'JJ'), ('Cavuto', 'NNP')]), (',', ','), ('alongside', 'IN'), ('my', 'PRP$'), ('friend', 'NN'), ('and', 'CC'), ('co-moderator', 'NN'), Tree('PERSON', [('Maria', 'NNP'), ('Bartiromo', 'NNP')]), ('.', '.')])"
      ]
     },
     "execution_count": 23,
     "metadata": {},
     "output_type": "execute_result"
    }
   ],
   "source": [
    "master_df.iloc[2]['Tree'][0]"
   ]
  },
  {
   "cell_type": "code",
   "execution_count": 24,
   "metadata": {},
   "outputs": [
    {
     "data": {
      "text/plain": [
       "'CAVUTO'"
      ]
     },
     "execution_count": 24,
     "metadata": {},
     "output_type": "execute_result"
    }
   ],
   "source": [
    "master_df.iloc[2]['Speaker']"
   ]
  },
  {
   "cell_type": "code",
   "execution_count": 34,
   "metadata": {},
   "outputs": [
    {
     "data": {
      "image/png": "[encoded data removed]",
      "text/plain": [
       "Tree('CAVUTO', [Tree('PERSON', [('Businessman', 'NNP')]), Tree('PERSON', [('Donald', 'NNP'), ('Trump', 'NNP')]), ('.', '.')])"
      ]
     },
     "execution_count": 34,
     "metadata": {},
     "output_type": "execute_result"
    }
   ],
   "source": [
    "#Uh oh. The good news is the chunker got Trump's title- Businessman. The bad news is it's separated from the rest of his name. I'll have to fix that.\n",
    "master_df.iloc[8]['Tree'][0]"
   ]
  },
  {
   "cell_type": "code",
   "execution_count": 33,
   "metadata": {},
   "outputs": [
    {
     "data": {
      "text/plain": [
       "'CAVUTO'"
      ]
     },
     "execution_count": 33,
     "metadata": {},
     "output_type": "execute_result"
    }
   ],
   "source": [
    "master_df.iloc[8]['Speaker']"
   ]
  },
  {
   "cell_type": "code",
   "execution_count": 61,
   "metadata": {},
   "outputs": [
    {
     "data": {
      "image/png": "[encoded data removed]",
      "text/plain": [
       "Tree('HOLT', [Tree('PERSON', [('Please', 'NNP')]), ('welcome', 'VBD'), ('Secretary', 'NNP'), Tree('PERSON', [('Hillary', 'NNP'), ('Clinton', 'NNP')]), (',', ','), Tree('PERSON', [('Senator', 'NNP'), ('Bernie', 'NNP'), ('Sanders', 'NNP')]), ('and', 'CC'), ('Governor', 'NNP'), Tree('PERSON', [('Martin', 'NNP'), (\"O'Malley\", 'NNP')]), ('.', '.')])"
      ]
     },
     "execution_count": 61,
     "metadata": {},
     "output_type": "execute_result"
    }
   ],
   "source": [
    "#Again, it got Hillary Clinton and Martin O'Malley, but missed Secretary and Governor, but it DID get Senator Bernie Sanders\n",
    "master_df.iloc[1603]['Tree'][0]"
   ]
  },
  {
   "cell_type": "code",
   "execution_count": 62,
   "metadata": {},
   "outputs": [
    {
     "data": {
      "text/plain": [
       "'HOLT'"
      ]
     },
     "execution_count": 62,
     "metadata": {},
     "output_type": "execute_result"
    }
   ],
   "source": [
    "master_df.iloc[1603]['Speaker']"
   ]
  },
  {
   "cell_type": "code",
   "execution_count": 64,
   "metadata": {},
   "outputs": [
    {
     "data": {
      "image/png": "[encoded data removed]",
      "text/plain": [
       "<matplotlib.figure.Figure object at 0x1216aa4e0>"
      ]
     },
     "metadata": {},
     "output_type": "display_data"
    }
   ],
   "source": [
    "#This section is with help from a datacamp tutorial\n",
    "#https://campus.datacamp.com/courses/natural-language-processing-fundamentals-in-python/named-entity-recognition?ex=3\n",
    "\n",
    "ner_categories = defaultdict(int)\n",
    "\n",
    "# Create the nested for loop\n",
    "for tree_list in master_df['Tree']:\n",
    "    for tree in tree_list:\n",
    "        for chunk in tree:\n",
    "            if hasattr(chunk, 'label'):\n",
    "                ner_categories[chunk.label()] += 1\n",
    "            \n",
    "# Create a list from the dictionary keys for the chart labels: labels\n",
    "labels = list(ner_categories.keys())\n",
    "\n",
    "# Create a list of the values: values\n",
    "values = [ner_categories.get(l) for l in labels]\n",
    "\n",
    "# Create the pie chart\n",
    "plt.pie(values, labels=labels, autopct='%1.1f%%', startangle=140)\n",
    "\n",
    "# Display the chart\n",
    "plt.show()"
   ]
  },
  {
   "cell_type": "code",
   "execution_count": 67,
   "metadata": {
    "collapsed": true
   },
   "outputs": [],
   "source": [
    "people = []\n",
    "for tree_list in master_df['Tree']:\n",
    "    for tree in tree_list:\n",
    "        for chunk in tree:\n",
    "            if hasattr(chunk, 'label'):\n",
    "                if chunk.label() == 'PERSON':\n",
    "                    people.append(chunk)"
   ]
  },
  {
   "cell_type": "code",
   "execution_count": 75,
   "metadata": {},
   "outputs": [
    {
     "data": {
      "image/png": "[encoded data removed]",
      "text/plain": [
       "Tree('PERSON', [('Neil', 'JJ'), ('Cavuto', 'NNP')])"
      ]
     },
     "execution_count": 75,
     "metadata": {},
     "output_type": "execute_result"
    }
   ],
   "source": [
    "people[1]"
   ]
  },
  {
   "cell_type": "code",
   "execution_count": 74,
   "metadata": {},
   "outputs": [
    {
     "data": {
      "text/plain": [
       "['Neil', 'Cavuto']"
      ]
     },
     "execution_count": 74,
     "metadata": {},
     "output_type": "execute_result"
    }
   ],
   "source": [
    "people[1].leaves()[0][0]\n",
    "words = [leaf[0] for leaf in people[1].leaves()]\n",
    "words"
   ]
  },
  {
   "cell_type": "code",
   "execution_count": 76,
   "metadata": {
    "collapsed": true
   },
   "outputs": [],
   "source": [
    "people_names = []\n",
    "name = ''\n",
    "for tree in people:\n",
    "    for leaf in tree.leaves():\n",
    "        name+=' '+str(leaf[0])\n",
    "    people_names.append(name.strip())\n",
    "    name = ''\n"
   ]
  },
  {
   "cell_type": "code",
   "execution_count": 78,
   "metadata": {},
   "outputs": [
    {
     "data": {
      "text/plain": [
       "{'Sean Hannity', 'Make', 'Raul Castro', 'Center', 'Howard Dean', 'Jake Tapper', 'Florida Senator', 'Hill', 'Hey Ted', 'Bob Jones', 'Bibi Netanyahu', 'Madame', 'Mr. Mcgee', 'Avenue Q', 'Mr. Cruz', 'Bret', 'Bob Graham', 'John Deere', 'Mark Levin', 'Milwaukee Public Television', 'Annie Oakley', 'Tom Harkin', 'Had', 'Dulce', 'Morgan Stanley', 'John Quincy Adams', 'Yasser Arafat', 'Title', 'Nabela Noor', 'Rubio', 'Bobby Jindal', 'Mine', 'Beyond', 'Trust', 'Google', 'Sabina', 'Lucia', 'Shaheen', 'Francisco', 'George Shultz', 'Juan Carlos Lopez', 'Super PACs', 'Gorbah Hamed', 'Andrea', 'Budget Committee', 'Enrique Cevedo', 'Monopoly', 'Make America Great Again', 'Social Security', 'Arnold', 'Lehman', 'Carla', 'Charlie', 'Ohio Governor', 'Pew Report', 'Kathy', 'John Harwood', 'Vietnam', 'Deborah Wasserman Schultz', 'Ted Cruz', 'Barak Obama America', 'Everybody', 'Brian Carlson', 'Jim', 'George', 'Rick Snyder', 'Fox Business Network', 'Moines Register', 'Wired', 'Mossadegh', 'Shultz', 'Catherine', 'Hoover', 'Fiorina', 'Enough', 'Jenna', 'Mayor Giuliani', 'Verify', 'Miss Piggy', 'Farheen Hakeem', 'Snowden', 'Suicide', 'Horton', 'Rhode Island', 'Malley', 'Amazon', 'Rick Santelli', 'Marijuana', 'Martha', 'Article II', 'Gowdy', 'Listen', 'Connor', 'Monroe Doctrine', 'Louis', 'Lonnie Phillips', 'Sunni Arabs', 'Trump Entertainment Resorts', 'Wesley Cato', 'Heidi', 'Marques Brownlee', 'Billionaires', 'Joy Lassen', 'Great Depression', 'Dana', 'Douglas', 'Steve King', 'Twitter', 'Jeanne Shaheen', 'Baltimore', 'Kirsten Gillibrand', 'Trump Vodka', 'Steaks', 'Hillary Rodham', 'John Mccain', 'Eight Bill', 'Mary', 'Fannie Mae', 'Collison', 'Senator Lindsey Graham', 'Barbara Bush', 'Fox Pentagon', 'Anna Bettis', 'Arizona', 'Lyndon Johnson', 'Semator', 'Art Laffer', 'Martin', 'Senator Webb', 'Heller', 'Economics', 'Lester', 'David', 'Walker', 'Louisiana Governor Bobby Jindal', 'Super', 'John Podesta', 'Mary Katharine Ham', 'Mr. America', 'Erin', 'Tim', 'Dana Bash', 'Abdullah II', 'Brett', 'Veto Corleone', 'Kurdish Peshmerga', 'Gerald Ford', 'Iowa Caucus', 'Election', 'Chad', 'Ayla Brown', 'Joshua Dansby', 'David Mcghee', 'Fidel Castro', 'Buffett', 'Bernie Madolf', 'H1B', 'Ted', 'Abraham Lincoln', 'Oxycontin', 'Kelly', 'Biden', 'Carol Fox', 'Sheriff', 'Khamenei', 'Ray Kelly', 'Becky Quick', 'Speaker Paul Ryan', 'Nouri', 'Bob Gates', 'Selective Service', 'James Foleys', 'Kerry', 'Obamacare', 'Apple CEO Tim Cook', \"Katie O'Malley\", 'Michelle Obama', 'Barry Goldwater', 'Ashley Tofil', 'Chase Norton', 'Bill Clinton', 'Mr. McCarthy', 'Ours', 'Maria Bartiromo', 'Mr. Putin', 'Tom', 'Qaeda', 'Moammar Gadhafi', 'Latinos', 'James Dobson', 'Eight', 'Seth', 'Kelly Ayotte', 'Omran', 'Tara', 'Medicaid', 'Right', 'Larry Tribe', 'Jeffrey Sonnenfeld', 'Hewitt', 'Pataki', 'Edward', 'Alicia Machado', 'Captain Khan', 'Wolf', 'George Romney', 'Trump', 'Operation Desert Storm', 'Bin Laden', 'Joe Arpaio', 'Soleimani', 'Christians', 'William Rehnquist', 'Rahami', 'Miller', 'Thirty', 'Jane', 'Alan Krueger', 'Pope Francis', 'Treason', 'Maria Celesta Arrasas', 'Rand Paul', 'Davis', 'Bermuda', 'Neurosurgeon', 'Carrie', 'Kurdish', 'Andrew Cuomo', 'George Washington', 'African American', 'Alzheimer', 'Arab Muslim', 'Elliot Spitzer', 'Benghazi', 'Ron Paul', 'Medicine', 'Kentucky Senator Rand Paul', 'Arlington', 'Jim Webb', 'Daily News', 'Kudlow', 'Deana Carter', 'Border Patrol', 'Facebook', 'Ronald Regan', 'Benjamin Foladore', 'Islamophobia', 'Arabia', 'Taylor Force', 'Waver', 'Oreos', 'Governor Martin', 'Tax Reform', 'Hobby Lobby', 'Immelt', 'Hang', 'San Francisco', 'Gerard Baker', 'Bill Corfield', 'Johnson Controls', 'Buzzfeed', 'America', 'George W. Bush', 'Key West', 'Sonia Sotomayor', 'Kennedy Airport', 'Harley', 'Seventh Avenue', 'Reagan Rule', 'Hewlett Packard', 'Ebola', 'Sebastian de', 'Neil', 'Margaret Thatcher', 'Quick', 'Brady Bill', 'Kasich', 'Pfizer', 'Rick', 'Krispy Kremes', 'Education', 'Nixon', 'Madeline', 'Eric Holder', 'Megyn', 'Mom', 'Imani', 'Chris', 'John Gambling', 'Sachs', 'Bashar', 'Kim', 'Mary Right Adelman', 'Nancy Cordes', 'Lady Justice', 'Salvador Allende', 'Teddy Roosevelt', 'Terrorism', 'Lady Liberty', 'Elena Deets', 'Moammar', 'Steve', 'Furious', 'Martha Raddatz', 'Hank Paulson', 'Pelosi', 'Espanol', 'Arthur', 'Missouri', 'Iowans Kevin Cooney', 'Cardinal', 'Mary Pat', 'Abraham', 'Brett Baier', 'Jeanette', 'Panetta', 'Johns Hopkins Hospital', 'Charleston', 'Maria Celeste', 'Milwaukee', 'Latino', 'Flynn', 'Antonin Scalia', 'James', 'Reagan', 'Paul Krugman', 'George Patton', 'Barat', 'Boko Haram', 'English', 'Rumsfeld', 'Paulson', 'Disabilities Act', 'Caesar', 'Harry Truman', 'Great Beer', 'Chris Stevens', 'Emily', 'Affordable', 'Cuba', 'Chuck', 'Karen', 'George Mitchell', 'Ken', 'Muhammad Ali', 'Chairman', 'Albright', 'Stalin', 'Fox', 'Tim Cook', 'Freddie Gray', 'Qadafi', 'Fellow', 'Mother Theresa', 'Ready', 'Chelsea', 'Muslim Brotherhood', 'Jobs', 'Ask', 'Imagine', 'Muslims', 'Mike', 'Carly', 'Dan Conick', 'Lyin', 'Major Garrett', 'El Chapo', 'Jesus Christ', 'Sanders', 'Pol Pot', 'Senator Sanders—30', 'Laden', 'Garfunkel', 'Network', 'Jorge', 'Bret Baier', 'Been', 'John Kasich', 'Ashraf Ghani', 'Salem Radio Network', 'Kate', 'Stephen', 'Black', 'George Soros', 'Scott Walker', 'Miami Florida', 'Colin', 'Tim Russert', 'Becky', 'Quicken Loans Arena', 'Juan Carlos', 'Trayvon Martin', 'Eric', 'Frank Delano Roosevelt', 'Adams', 'Randy', 'Gabby', 'Hey', 'Care Act', 'Chris Christie', 'Jeb Bush', 'Detroit', 'Florida Governor Jeb Bush', 'Donald', 'Shia', 'George W.', \"Governor O'Malley\", 'Buffett Rule', 'al-Sisi', 'Ferguson', 'Winston Churchill', 'Regan', 'Drake', 'Scalia', 'Joe Biden', 'Vietnam Vets', 'John Pietricone', 'Alexander Hamilton', 'Bernie Sanders', 'Puerto Ricans', 'Baby Boomers', 'Howard Stern', 'Kim Jong Un', 'Senator Ted Cruz', 'Marco', 'Doctor', 'Fifth', 'Businessman', 'Karl Becker', 'Elizabeth Warren', 'Donald Trump', 'Rosa Parks', 'David Clark', 'Robert Rubin', 'Saint Peter', 'Jackson', 'Hannity', 'Veterans', 'Steven Spielberg', 'Caroline', 'Nikki Haley', 'Fred Astaire', 'Sorry', 'Chaznea', 'Andrea Mitchell', 'Renea', 'Al Gore', 'Clinton Campaign', 'Nancy Reagan', 'Freddie Mac', 'Abigail Adams', 'Senator', 'Navy', 'Senator Clinton', 'John McCain', 'Bashar Assad', 'Trump University', 'Jim Comey', 'Mark Zuckerburg', 'Ron Edwards', 'Jim Cramer', 'Mike Lee', 'Jeb', 'Speaker Boehner', 'Joe', 'Clay Road Baptist Church', 'Wayne Lapierre', 'Uncle Joe', 'Megan', 'Doug', 'Franchesca Ramsey', 'Chuck Hagel', 'Puerto Rico', 'Senator Barack Obama', 'Nabisco', 'Gateway', 'Senator Paul', 'Robert Gates', 'York', 'Kimberley', 'Well', 'Susan B. Anthony', 'Keane', 'Moines', 'Anwar', 'George Herbert Walker Bush', 'Mike Huckabee', 'Beth', 'Jack Kemp', 'Lindsey Graham', 'Dylann Roof', 'David Souter', 'Kim Jung Un', 'Guantanamo Bay', 'Veterans Affairs', 'Arab Spring', 'John Roberts', 'Yazidis', 'Madam Secretary', 'Vermont Verizon', 'Edith Jones', 'Valley', 'Senator Elizabeth Warren', 'Lloyd Austin', 'Jake', 'Webb', 'Tehran', 'Jim Crow', 'Global Entry', 'Teddy', 'Jack', 'Frank', 'Vladimir', 'Joey', 'Anna', 'Gadhafi', 'Samuel Alito', 'Mr. Trump', 'James Carter', 'Maggie Hassan', 'Roosevelt', 'Rush Limbaugh', 'Jews', 'Benjamin Netanyahu', 'James Bergdahl', 'Walter Scott', 'Paul', 'Hillary', 'Senator Marco Rubio', 'Osama', 'Roberts', 'Diane', 'King Abdullah', 'Drake University', 'Stevens', 'Reconstruction', 'Dad', 'Hispanic', 'Byron Dorgan', 'Dick Goodson', 'Megyn Kelly', 'Kim Davis', 'Texas Senator Ted Cruz', 'Romney', 'Enrique', 'Strawman Situation', 'Congressman Jim Clyburn', 'Wisconsin Governor Scott Walker', 'Donald J. Trump', 'Moines Committee', 'Mr. Bush', 'Maria', 'Richard Haass', 'Businesswoman', 'Remington', 'Moines NAACP', 'David Petraeus', 'Patti Doyle', 'Paul Volcker', 'Roe', 'Albany', 'Lucia Aquiette', 'Ivanka', 'Crimea', 'Michael Brown', 'Mannatech', 'Islam', 'Florida Governor', 'Jeff', 'Madison Avenue', 'Illinois', 'John Kennedy', 'Flint', 'Carlos', 'Abdullah', 'Haley', 'Welfare Reform Bill', 'Podesta', 'Madam', 'Egypt', 'Blue Cross', 'Christie', 'Alan Greenspan', 'Sallie Mae', 'Rice', 'San Bernardino', 'Vermont', 'Democrats', 'Vegas', 'Sinjar', 'Sandy', 'Lester Holt', 'Jersey Governor Chris Christie', 'Gerry Ohde', 'Okay', 'Sheriff Joe', 'Trump Steaks', 'Lake Erie', 'Flint Waterworks', 'Lou Dobbs', 'Ginger', 'Sarah Bellaire', 'Maureen', 'Patty Murray', 'Al Qaida', 'Denmark', 'Far', 'Iowa', 'Churchill', 'Airbus', 'Herbert Walker Bush', 'Dan Tuohy', 'Florida Senator Marco Rubio', \"Martin O'Malley\", 'Keith Ellison', 'Fox Theater', 'Mr. T', 'Bernanke', 'Arab Middle East', 'Academy', 'Earth', 'Street', 'Mike Luttig', 'Welcome', 'Donald Rumsfeld', 'Kuwait', 'Carter', 'Charlotte', 'Mr. Average', 'Ron', 'Milwaukee Public Radio', 'George McGovern', 'Fed', 'Forbes', 'Kim Strassel', 'Bowling Green', 'Huckabee', 'Robin Hood', 'Mr. Baker', 'Blue Shield', 'Karen Tumulty', 'Lawrence Tribe', 'York Times', 'Al', 'Anderson', 'Candy Crush', 'Ashton Carter', 'Peyton', 'Russ Feingold', 'Title X', 'Anderson Cooper', 'Haiti', 'Rite Aid', 'Saddam Hussein', 'Rhode', 'Mark Watson', 'Medvedev', 'Costco', 'Social', 'Zach', 'Harry Reid', 'Sweden', 'Hasan', 'Korea', \"Tip O'Neill\", 'Arnie Duncan', 'Larry O', 'Chuck Schumer', 'Kamatsu', 'Marine', 'Atlantic', 'Errol Lewis', 'Katie', 'Super PAC', 'Franklin Delano Roosevelt', 'Senator Gillibrand', 'Mason Dixon Line', 'Salem Radio', 'Nicaragua', 'Cuomo', 'Jordan', 'Did', 'Tata', 'Florida', 'Jim Clyburn', 'Carl Quintanilla', 'Soros', 'Errol', 'Liberman', 'Dianne Feinstein', 'Parenthood', 'it—he', 'Fox News Debate', 'Jersey', 'ISIS', 'Francis', 'Great Recession', 'Bruce Springsteen', 'Kevin', 'Kashif', 'Human Services', 'Alexis', 'Mister', 'Robert Andrews', 'Ben Carson', 'Senator Obama', 'Mikki Wade', 'Terrorism Task Force', 'Henry Ford', 'Dabiq', 'Cheney', 'Graham', 'Minute Men', 'Tomas Regalado', 'Ike', 'Does', 'Jonathan Gruber', 'Milwaukee County Sheriff', 'Bernie', 'Tom Perkins', 'Larry Kudlow', 'Kimberley Strassel', 'Ben', 'Senator McCain', 'Wendy Sherman', 'Hank', 'Lincoln', 'Mr. Trmup', 'Verizon', 'Larry', 'Marines', 'Josh McElveen', 'Abigal Adams', 'Carolina', 'Jefferson', 'Saddam', 'Ken Bone', 'Ronald', 'Larry Summers', 'Morsi', 'Sunnis', 'Disney', 'Gaza', 'Debbie Wasserman Schultz', 'Mr. Donald Trump', 'Martin Luther', 'Georgia Tech', 'Bergdahl', 'Bill Pryor', 'Which', 'Rand', 'Roe V. Wade', 'Netanyahu', 'Nevada', 'Sirius XM', 'Sharon Epperson', 'Mitt', 'Diane Foley', 'Nebraska', 'Damascus', 'Alexis Kulash', 'God', 'Wolf Blitzer', 'Dwight Eisenhower', 'Assad', 'Gary', 'El Salvador', 'Charlie Crist', 'Clinton Foundation', 'Darnell Ishmel', 'Susan Rice', 'Tonight', 'Alright', 'March Madness', 'Mubarak', 'Labor Committee', 'Palm Beach County', 'Clara Barton', 'Hamas', 'Pope', 'Ken Karpowicz', 'Water', 'Bill', 'Kim Jong-un', 'Josh', 'William F. Buckley', 'And', 'Hawley', 'John Boehner', 'Core', 'Senator Rubio', 'Don Rumsfeld', 'Bretton Woods', 'Senator Domenici', 'Christmas', 'Abbas', 'Might', 'Senator Barbara Boxer', 'Sarah', 'Dulce Candy', 'Josh Jacob', 'Hawaii', 'Barack Obama', 'Denver', 'Harkin', 'Harvard Law', 'Deborah', 'Rosa DeLauro', 'Abigail Kopf', 'Disease Control', 'Sidney', 'Mattis', 'Abe Fortas', 'Fisher House', 'Hampshire', 'Paul Wellstone', 'Mikhail Gorbachev', 'Chris Wallace', 'Connecticut', 'Europe', 'Citizens United', 'Sumaira', 'Barack', 'Mike Ludig', 'Joseph', 'Please', 'Raqqa', 'Donald Sussman', 'Mr. Rubio', 'Sean', 'Sunni', 'Ohio', 'Calvin Coolidge', 'Kennedy', 'Tanisha Motron', 'Tom DeLay', 'Bush', 'Jerry', 'John Dickerson', 'Alan', 'Obama', 'Kathie Obradovich', 'Crime', 'Qaida', 'Kim Jong-Un', 'Mr.', 'Hugh Hewitt', 'Senator Graham', 'Angel', 'Qatar', 'Mary Katherine Ham', 'Rodham Clinton', 'Nelson Mandela', 'Carson', 'Juan', 'Pop', 'Abigail', 'James Comey', 'Samantha Power', 'Patti Solis Doyle', 'Ben Bernanke', 'Govenor Christie', 'Hosni Mubarak', 'People', 'Ryan Tannehill', 'Hugh', 'Duck Hunter', 'Don Lemon', 'Neil Levesque', 'Katharine', 'Kansas', 'Louis Fortuno', 'Woodrow Wilson', 'Pew Research', 'Simon', 'Miami', 'Sir', 'Bernardino', 'Michael Novak', 'Veterans Administration', 'Africa', 'Jeff Flake', 'Guantanamo', 'Jewish', 'Nazism', 'Hillary Clinton', 'Jeff Miller', 'Dennis Rodman', 'Mitch McConnell', 'Trump Collection', 'Wall Street', 'Jana Linderman', 'Ted Kennedy', 'Senator Sander', 'Atlantic City', 'Times', 'Mayor Regalado', 'James Foley', 'Gator', 'Wal Mart', 'Karl Rove', 'Arabs', 'Mitt Romney', 'Wade', 'Prince Sihanouk', 'Vermont Bernie Sanders', 'Lady', 'Guatemala', 'Jesus', 'Nikki', 'Taylor Gipple', 'Stay', 'Raul Grijalva', 'Michael Bloomberg', 'Are', 'Planned Parenthood', 'Timothy Dolan', 'Herbert Hoover', 'Mary Katherine', 'William', 'Hillarycare', 'Patrice', 'Madeleine Albright', 'Muslim', 'Latino Elected Officials', 'Hurricane Sandy', 'Latin America', 'Warren Buffett', 'Errol Louis', 'Silicon Valley', 'Carl Icon', 'Apple', 'Hispanics', 'Afghan', 'Mayor Bloomberg', 'Kenya', 'Henry Kissinger', 'Kimberly Strassel', 'Lucent', 'Grace', 'Sheriff Joe Arpaio', 'Santorum', 'Moammar Qadafi', 'Freedom Fund', 'Celeste Arrarás', 'JohnKasich.com', 'Johns', 'Arab', 'Myriam', 'Felix', 'Trojan Horse', 'Christmas Eve', 'La Raza', 'Warren Buffet', 'Sidney Blumenthal', 'Nancy', 'Carl', 'Barbara', 'Marco Rubio', 'Dolores Huerta', 'Delaware', 'Kevin Cooney', 'Clint', 'Hopkins Hospital', 'Lockerbie', 'Vladimir Putin', 'Sidney Blumenthal—he', 'Mr. Mcghee', 'Medicare', 'Goldman', 'Texas', 'Holder', 'Governor Christie', 'Cruz', 'Nina Turner', 'Miss Housekeeping', 'Ramadi', 'Fast', 'Gwen', 'Sandra Bland', 'Karpowicz', 'Jorge Ramos', 'Mary Katharine', 'Mr. Assad', 'Tamir Rice', 'Donald Trump Iraq', 'Clinton', 'Ronald Reagan', 'Judy', 'Powell', 'Colin Powell', 'Marco Rubio.com', 'Senator Jeff Sessions', 'Hardly', 'Merkel', 'Hannah', 'Nancy Pelosi', 'Mark', 'Peace', 'Climate', 'Tip', 'Dewayne', 'Palm Beach', 'Blasio', 'Island', 'Senator John McCain', 'Yuma', 'Senator Sessions', 'Neil Cavuto', 'Morgan Hintz', 'Speaker', 'Hitler', 'Article IV', 'Mr. Carter', 'Market Basket', 'Warner Cable News', 'Kentucky', 'James Livingston', 'Barney Frank', 'Eric Garner', 'Carly Fiorina', 'Herbert', 'Miriam', 'Caesars', 'Harold Hamrie', 'Carrier', 'Mark Zuckerberg', 'Spencer Maass', 'Carrier Corporation', 'Putin', 'Border', 'Ron Wyden', 'Fox News', 'Honest Abe', 'Americans', 'Timothy McVeigh', 'Wisconsin', 'Reaganesque', 'Chris Cuomo', 'Gerry', 'John Kerry', 'Air Force', 'Senator Cruz', 'Hussein', 'Nevada Las Vegas', 'Michael Hayden', 'Incomes', 'John', 'Frederick Douglas', 'Warren', 'Ambassador Stevens', 'Claudia Looze', 'George Bush', 'Stephen Dinan', 'Richard Nixon', 'Blumenthal', 'Main Street', 'Dontre Hamilton', 'Regalado', 'Zika', 'Helen Bader Concert Hall', 'Maria Elena Salinas', 'Sandy Hook', 'Corps', 'Edward Snowden', 'Paul Ryan', 'Gaddafi', 'Aleppo', 'Jeff Sessions', 'Dana Bush', 'Dwight D. Eisenhower', 'Schumer', 'Race', 'Eastern Europe', 'Carla Hernandez', 'Energy Committees', 'Parade', 'Castro', 'Alex Chalgren', 'Las Vegas', 'Search', 'Terry Branstad', 'Reagan Love', 'Peyton Manning', 'Thirty Seconds', 'Don', 'Daniel', 'Mr. Cooney', 'Sabina Loving', 'Gun Owners', 'Mr. Perkins', 'Appeals', 'Morsy', 'Paula', 'Merrick Gaarland', 'Bushes', 'Dick Cheney', 'Hilary Clinton', 'Harvard', 'Rachel', 'Ukraine', 'Denise Ghattas', 'Jimmy Carter', 'Tricare', 'John Adams', 'David Duke', 'Daniel Ortega', 'Marine Corps', 'Sandy Hook Elementary School', 'Matter', 'Benjamin Franklin', 'Senator Sanders', 'Michigan', 'Mr. Carson', 'Gore', 'Muammar Gaddafi', 'Foley', 'Kissinger', 'Vicente Fox', 'Bryn Mickle', 'Libya', 'Texas Senator', 'Hotline Went', 'Dinan', 'Florida State', 'Kathie', 'Senator Bernie Sanders', \"Rosie O'Donnell\", 'Nidal', 'Demoin', 'Kurds', 'Floridians', 'Nabela', 'True Heart', 'Johnny'}"
      ]
     },
     "execution_count": 78,
     "metadata": {},
     "output_type": "execute_result"
    }
   ],
   "source": [
    "names = set(people_names)\n",
    "names"
   ]
  },
  {
   "cell_type": "code",
   "execution_count": 92,
   "metadata": {},
   "outputs": [
    {
     "data": {
      "text/plain": [
       "1135"
      ]
     },
     "execution_count": 92,
     "metadata": {},
     "output_type": "execute_result"
    }
   ],
   "source": [
    "len(names)"
   ]
  },
  {
   "cell_type": "code",
   "execution_count": 82,
   "metadata": {},
   "outputs": [
    {
     "data": {
      "text/plain": [
       "True"
      ]
     },
     "execution_count": 82,
     "metadata": {},
     "output_type": "execute_result"
    }
   ],
   "source": [
    "'Senator' in names"
   ]
  },
  {
   "cell_type": "code",
   "execution_count": 83,
   "metadata": {},
   "outputs": [
    {
     "data": {
      "text/plain": [
       "False"
      ]
     },
     "execution_count": 83,
     "metadata": {},
     "output_type": "execute_result"
    }
   ],
   "source": [
    "'Governor' in names"
   ]
  },
  {
   "cell_type": "code",
   "execution_count": 84,
   "metadata": {},
   "outputs": [
    {
     "data": {
      "text/plain": [
       "True"
      ]
     },
     "execution_count": 84,
     "metadata": {},
     "output_type": "execute_result"
    }
   ],
   "source": [
    "'Mr.' in names"
   ]
  },
  {
   "cell_type": "code",
   "execution_count": 85,
   "metadata": {},
   "outputs": [
    {
     "data": {
      "text/plain": [
       "False"
      ]
     },
     "execution_count": 85,
     "metadata": {},
     "output_type": "execute_result"
    }
   ],
   "source": [
    "'Mrs.' in names"
   ]
  },
  {
   "cell_type": "code",
   "execution_count": 86,
   "metadata": {},
   "outputs": [
    {
     "data": {
      "text/plain": [
       "False"
      ]
     },
     "execution_count": 86,
     "metadata": {},
     "output_type": "execute_result"
    }
   ],
   "source": [
    "'Miss' in names"
   ]
  },
  {
   "cell_type": "code",
   "execution_count": 87,
   "metadata": {},
   "outputs": [
    {
     "data": {
      "text/plain": [
       "True"
      ]
     },
     "execution_count": 87,
     "metadata": {},
     "output_type": "execute_result"
    }
   ],
   "source": [
    "'Doctor' in names"
   ]
  },
  {
   "cell_type": "code",
   "execution_count": 88,
   "metadata": {},
   "outputs": [
    {
     "data": {
      "text/plain": [
       "False"
      ]
     },
     "execution_count": 88,
     "metadata": {},
     "output_type": "execute_result"
    }
   ],
   "source": [
    "'President' in names"
   ]
  },
  {
   "cell_type": "markdown",
   "metadata": {},
   "source": [
    "**I'm going to go through all of these tags by hand, and link them to who they are referring to. I will create a dictionary in a small additional script that creates a dictionary of NEs. The expression that was used will be the key, and the person it refers to will be the value. I think copying and pasting this set and deleting things that obviously are not people by hand first will speed things up.**"
   ]
  },
  {
   "cell_type": "code",
   "execution_count": 93,
   "metadata": {},
   "outputs": [],
   "source": [
    "f = open('/Users/Paige/Documents/Data_Science/names.txt', 'w')\n",
    "for name in names:\n",
    "    f.write(str(name)+'\\n')\n",
    "f.close()"
   ]
  },
  {
   "cell_type": "code",
   "execution_count": null,
   "metadata": {
    "collapsed": true
   },
   "outputs": [],
   "source": []
  }
 ],
 "metadata": {
  "kernelspec": {
   "display_name": "Python 3",
   "language": "python",
   "name": "python3"
  },
  "language_info": {
   "codemirror_mode": {
    "name": "ipython",
    "version": 3
   },
   "file_extension": ".py",
   "mimetype": "text/x-python",
   "name": "python",
   "nbconvert_exporter": "python",
   "pygments_lexer": "ipython3",
   "version": "3.6.1"
  }
 },
 "nbformat": 4,
 "nbformat_minor": 2
}
