{
 "cells": [
  {
   "cell_type": "code",
   "execution_count": 1,
   "metadata": {},
   "outputs": [
    {
     "name": "stdout",
     "output_type": "stream",
     "text": [
      "Pretty printing has been turned OFF\n"
     ]
    }
   ],
   "source": [
    "%pprint"
   ]
  },
  {
   "cell_type": "markdown",
   "metadata": {},
   "source": [
    "## 2016 Election Project \n",
    "\n",
    "This notebook is intended to document NER annotation of my data throughout this project. The data I am starting out with are transcripts of the presidential debates from the 2016 US Election- the 10 Democratic primary debates, the 12 Republican primary debates, and the debates for the general election between Hillary Clinton and Donald Trump. The transcripts were taken from UCSB's American Presidency Project. The citations for these transcripts can be found in the README."
   ]
  },
  {
   "cell_type": "code",
   "execution_count": 2,
   "metadata": {
    "collapsed": true
   },
   "outputs": [],
   "source": [
    "import nltk\n",
    "from nltk.corpus import PlaintextCorpusReader\n",
    "import pandas as pd\n",
    "import glob\n",
    "import os\n",
    "from collections import defaultdict\n",
    "import matplotlib.pyplot as plt\n",
    "import re"
   ]
  },
  {
   "cell_type": "markdown",
   "metadata": {},
   "source": [
    "**First, this data needs to be cleaned up to remove SPEAKER: labels. Even though the participant and moderator information at the top include important entities, I'm want to remove it in order to have the tokenized sentences match my preexisting dataframes. Because the number of participants and moderators varies for each transcript, I manually created new files in the removed folder in transcripts/ with these portions removed. That is what I'll be processing.**"
   ]
  },
  {
   "cell_type": "code",
   "execution_count": 3,
   "metadata": {},
   "outputs": [
    {
     "data": {
      "text/plain": [
       "['1-14-16_rep_removed.txt', '1-17-16_dem_removed.txt', '1-25-16_dem_removed.txt', '1-28-16_rep_removed.txt', '10-13-15_dem_removed.txt', '10-19-16_removed.txt', '10-28-15_rep_removed.txt', '10-9-16_removed.txt', '11-10-15_rep_removed.txt', '11-14-15_dem_removed.txt', '12-15-15_rep_removed.txt', '12-19-15_dem_removed.txt', '2-11-16_dem_removed.txt', '2-13-16_rep_removed.txt', '2-25-16_rep_removed.txt', '2-4-16_dem_removed.txt', '2-6-16_rep_removed.txt', '3-10-16_rep_removed.txt', '3-3-16_rep_removed.txt', '3-6-16_dem_removed.txt', '3-9-16_dem_removed.txt', '4-14-16_dem_removed.txt', '8-6-15_rep_removed.txt', '9-16-15_rep_removed.txt', '9-26-16_removed.txt']"
      ]
     },
     "execution_count": 3,
     "metadata": {},
     "output_type": "execute_result"
    }
   ],
   "source": [
    "os.chdir('/Users/Paige/Documents/Data_Science/2016-Election-Project/data/Debates/transcripts/removed/')\n",
    "files = glob.glob(\"*.txt\")\n",
    "files"
   ]
  },
  {
   "cell_type": "code",
   "execution_count": 4,
   "metadata": {
    "collapsed": true
   },
   "outputs": [],
   "source": [
    "#I'm creating a list where each entry in the list is a transcript\n",
    "transcripts = []\n",
    "for f in files:\n",
    "    fi = open(f, 'r')\n",
    "    txt = fi.read()\n",
    "    fi.close\n",
    "    transcripts.append(txt)"
   ]
  },
  {
   "cell_type": "code",
   "execution_count": 5,
   "metadata": {},
   "outputs": [
    {
     "name": "stdout",
     "output_type": "stream",
     "text": [
      "CAVUTO: It is 9:00 p.m. here at the North Charleston Coliseum and Performing Arts Center in South Carolina. Welcome to the sixth Republican presidential of the 2016 campaign, here on the Fox Business \n"
     ]
    }
   ],
   "source": [
    "print(transcripts[0][:200])"
   ]
  },
  {
   "cell_type": "markdown",
   "metadata": {},
   "source": [
    "**Let's start out with one transcript and see what we can get working. I plan on trying NLTK's nltk.ne_chunk_sents() to do annotation. I don't know how well it will work for conversational data in this format, but I'll try it out because it's a simple place to start.**"
   ]
  },
  {
   "cell_type": "code",
   "execution_count": 196,
   "metadata": {},
   "outputs": [
    {
     "name": "stdout",
     "output_type": "stream",
     "text": [
      "CUOMO: All right. We are live at Drake University in Des Moines, Iowa, to hear from the Democratic presidential candidates and the people who matter most in this election, the voters.\n",
      "\n",
      "Welcome to our viewers in the United States and around the world, and, of course, here in Iowa, where we're being seen on our CNN affiliates across the state.\n",
      "\n",
      "We also want to welcome our servicemen and -women who are watching on the American Forces Network around the world, and to our listeners on the Westwood On\n"
     ]
    }
   ],
   "source": [
    "debate1 = transcripts[2]\n",
    "print(debate1[:500])"
   ]
  },
  {
   "cell_type": "code",
   "execution_count": 239,
   "metadata": {},
   "outputs": [
    {
     "name": "stdout",
     "output_type": "stream",
     "text": [
      " It is 9:00 p.m. here at the North Charleston Coliseum and Performing Arts Center in South Carolina. Welcome to the sixth Republican presidential of the 2016 campaign, here on the Fox Business Network. I'm Neil Cavuto, alongside my friend and co-moderator Maria Bartiromo.\n",
      "\n",
      " Tonight we are working with Facebook to ask the candidates the questions voters want answered. And according to Facebook, the U.S. election has dominated the global conversation, with 131 million people talking about the 2016\n"
     ]
    }
   ],
   "source": [
    "removed_labels = []\n",
    "\n",
    "for txt in transcripts:\n",
    "    #Take care of all other speakers, labels\n",
    "    txt = re.sub(r\"([A-Z]+):\", r\"\", txt)\n",
    "    #This is to fix the /n/n[applause] problem, when there is a new speaker after the applause\n",
    "    txt = re.sub(r\"(]\\n\\n )\", r\"]. \", txt)\n",
    "    removed_labels.append(txt)\n",
    "print(removed_labels[0][:500])"
   ]
  },
  {
   "cell_type": "code",
   "execution_count": 240,
   "metadata": {
    "collapsed": true
   },
   "outputs": [],
   "source": [
    "#removed_labels = []\n",
    "#removed_labels.extend(transcripts)"
   ]
  },
  {
   "cell_type": "code",
   "execution_count": 243,
   "metadata": {},
   "outputs": [
    {
     "data": {
      "text/plain": [
       "[' It is 9:00 p.m. here at the North Charleston Coliseum and Performing Arts Center in South Carolina.',\n",
       " 'Welcome to the sixth Republican presidential of the 2016 campaign, here on the Fox Business Network.',\n",
       " \"I'm Neil Cavuto, alongside my friend and co-moderator Maria Bartiromo.\",\n",
       " 'Tonight we are working with Facebook to ask the candidates the questions voters want answered.',\n",
       " 'And according to Facebook, the U.S. election has dominated the global conversation, with 131 million people talking about the 2016 race.',\n",
       " 'That makes it the number one issue talked about on Facebook last year worldwide.',\n",
       " 'Now, the seven candidates on the stage tonight were selected based on their standing in six national polls, as well as polls in the early-voting states of Iowa and New Hampshire, those standings determining the position on the stage of the candidates tonight.',\n",
       " 'And here they are.',\n",
       " 'Businessman Donald Trump.',\n",
       " '[applause]\\n\\nTexas senator Ted Cruz.',\n",
       " '[applause]\\n\\nFlorida senator Marco Rubio.',\n",
       " '[applause]\\n\\nNeurosurgeon Ben Carson.',\n",
       " '[applause]\\n\\nNew Jersey governor Chris Christie.',\n",
       " '[applause]\\n\\nFormer Florida governor Jeb Bush.',\n",
       " 'And Ohio governor John Kasich.',\n",
       " '[applause].',\n",
       " \"Tonight's rules are simple: up to 90 seconds for each answer, one minute for each follow-up response.\",\n",
       " \"And if a candidate goes over the allotted time, you'll hear this.\",\n",
       " \"[bell rings] So let's get started.\",\n",
       " 'Candidates, jobs and growth — two of the biggest issues facing the country right now.']"
      ]
     },
     "execution_count": 243,
     "metadata": {},
     "output_type": "execute_result"
    }
   ],
   "source": [
    "#Sentence tokenization\n",
    "sents = [nltk.sent_tokenize(transcript) for transcript in removed_labels]\n",
    "#Those [applause]\\n\\n might cause problems later. I will have to check on those.\n",
    "sents[0][:20]"
   ]
  },
  {
   "cell_type": "code",
   "execution_count": 244,
   "metadata": {},
   "outputs": [
    {
     "data": {
      "text/plain": [
       "' It is 9:00 p.m. here at the North Charleston Coliseum and Performing Arts Center in South Carolina.'"
      ]
     },
     "execution_count": 244,
     "metadata": {},
     "output_type": "execute_result"
    }
   ],
   "source": [
    "sents[0][0]"
   ]
  },
  {
   "cell_type": "code",
   "execution_count": 245,
   "metadata": {},
   "outputs": [
    {
     "data": {
      "text/html": [
       "<div>\n",
       "<style>\n",
       "    .dataframe thead tr:only-child th {\n",
       "        text-align: right;\n",
       "    }\n",
       "\n",
       "    .dataframe thead th {\n",
       "        text-align: left;\n",
       "    }\n",
       "\n",
       "    .dataframe tbody tr th {\n",
       "        vertical-align: top;\n",
       "    }\n",
       "</style>\n",
       "<table border=\"1\" class=\"dataframe\">\n",
       "  <thead>\n",
       "    <tr style=\"text-align: right;\">\n",
       "      <th></th>\n",
       "      <th>Date</th>\n",
       "      <th>Debate Type</th>\n",
       "      <th>Speaker</th>\n",
       "      <th>Sents</th>\n",
       "    </tr>\n",
       "  </thead>\n",
       "  <tbody>\n",
       "    <tr>\n",
       "      <th>2</th>\n",
       "      <td>1-14-16</td>\n",
       "      <td>primary_rep</td>\n",
       "      <td>CAVUTO</td>\n",
       "      <td>It is 9:00 p.m. here at the North Charleston ...</td>\n",
       "    </tr>\n",
       "    <tr>\n",
       "      <th>3</th>\n",
       "      <td>1-14-16</td>\n",
       "      <td>primary_rep</td>\n",
       "      <td>CAVUTO</td>\n",
       "      <td>Welcome to the sixth Republican presidential o...</td>\n",
       "    </tr>\n",
       "    <tr>\n",
       "      <th>4</th>\n",
       "      <td>1-14-16</td>\n",
       "      <td>primary_rep</td>\n",
       "      <td>CAVUTO</td>\n",
       "      <td>I'm Neil Cavuto, alongside my friend and co-mo...</td>\n",
       "    </tr>\n",
       "    <tr>\n",
       "      <th>5</th>\n",
       "      <td>1-14-16</td>\n",
       "      <td>primary_rep</td>\n",
       "      <td>BARTIROMO</td>\n",
       "      <td>Tonight we are working with Facebook to ask t...</td>\n",
       "    </tr>\n",
       "    <tr>\n",
       "      <th>6</th>\n",
       "      <td>1-14-16</td>\n",
       "      <td>primary_rep</td>\n",
       "      <td>BARTIROMO</td>\n",
       "      <td>And according to Facebook, the U.S. election h...</td>\n",
       "    </tr>\n",
       "    <tr>\n",
       "      <th>7</th>\n",
       "      <td>1-14-16</td>\n",
       "      <td>primary_rep</td>\n",
       "      <td>BARTIROMO</td>\n",
       "      <td>That makes it the number one issue talked abou...</td>\n",
       "    </tr>\n",
       "    <tr>\n",
       "      <th>8</th>\n",
       "      <td>1-14-16</td>\n",
       "      <td>primary_rep</td>\n",
       "      <td>CAVUTO</td>\n",
       "      <td>Now, the seven candidates on the stage tonigh...</td>\n",
       "    </tr>\n",
       "    <tr>\n",
       "      <th>9</th>\n",
       "      <td>1-14-16</td>\n",
       "      <td>primary_rep</td>\n",
       "      <td>CAVUTO</td>\n",
       "      <td>And here they are.</td>\n",
       "    </tr>\n",
       "    <tr>\n",
       "      <th>10</th>\n",
       "      <td>1-14-16</td>\n",
       "      <td>primary_rep</td>\n",
       "      <td>CAVUTO</td>\n",
       "      <td>Businessman Donald Trump.</td>\n",
       "    </tr>\n",
       "    <tr>\n",
       "      <th>11</th>\n",
       "      <td>1-14-16</td>\n",
       "      <td>primary_rep</td>\n",
       "      <td>CAVUTO</td>\n",
       "      <td>[applause]\\n\\nTexas senator Ted Cruz.</td>\n",
       "    </tr>\n",
       "    <tr>\n",
       "      <th>12</th>\n",
       "      <td>1-14-16</td>\n",
       "      <td>primary_rep</td>\n",
       "      <td>CAVUTO</td>\n",
       "      <td>[applause]\\n\\nFlorida senator Marco Rubio.</td>\n",
       "    </tr>\n",
       "    <tr>\n",
       "      <th>13</th>\n",
       "      <td>1-14-16</td>\n",
       "      <td>primary_rep</td>\n",
       "      <td>CAVUTO</td>\n",
       "      <td>[applause]\\n\\nNeurosurgeon Ben Carson.</td>\n",
       "    </tr>\n",
       "    <tr>\n",
       "      <th>14</th>\n",
       "      <td>1-14-16</td>\n",
       "      <td>primary_rep</td>\n",
       "      <td>CAVUTO</td>\n",
       "      <td>[applause]\\n\\nNew Jersey governor Chris Christie.</td>\n",
       "    </tr>\n",
       "    <tr>\n",
       "      <th>15</th>\n",
       "      <td>1-14-16</td>\n",
       "      <td>primary_rep</td>\n",
       "      <td>CAVUTO</td>\n",
       "      <td>[applause]\\n\\nFormer Florida governor Jeb Bush.</td>\n",
       "    </tr>\n",
       "    <tr>\n",
       "      <th>16</th>\n",
       "      <td>1-14-16</td>\n",
       "      <td>primary_rep</td>\n",
       "      <td>CAVUTO</td>\n",
       "      <td>And Ohio governor John Kasich.</td>\n",
       "    </tr>\n",
       "    <tr>\n",
       "      <th>17</th>\n",
       "      <td>1-14-16</td>\n",
       "      <td>primary_rep</td>\n",
       "      <td>CAVUTO</td>\n",
       "      <td>[applause]</td>\n",
       "    </tr>\n",
       "    <tr>\n",
       "      <th>18</th>\n",
       "      <td>1-14-16</td>\n",
       "      <td>primary_rep</td>\n",
       "      <td>BARTIROMO</td>\n",
       "      <td>Tonight's rules are simple: up to 90 seconds ...</td>\n",
       "    </tr>\n",
       "    <tr>\n",
       "      <th>19</th>\n",
       "      <td>1-14-16</td>\n",
       "      <td>primary_rep</td>\n",
       "      <td>BARTIROMO</td>\n",
       "      <td>And if a candidate goes over the allotted time...</td>\n",
       "    </tr>\n",
       "    <tr>\n",
       "      <th>20</th>\n",
       "      <td>1-14-16</td>\n",
       "      <td>primary_rep</td>\n",
       "      <td>BARTIROMO</td>\n",
       "      <td>[bell rings] So let's get started.</td>\n",
       "    </tr>\n",
       "    <tr>\n",
       "      <th>21</th>\n",
       "      <td>1-14-16</td>\n",
       "      <td>primary_rep</td>\n",
       "      <td>BARTIROMO</td>\n",
       "      <td>Candidates, jobs and growth — two of the bigge...</td>\n",
       "    </tr>\n",
       "  </tbody>\n",
       "</table>\n",
       "</div>"
      ],
      "text/plain": [
       "       Date  Debate Type    Speaker  \\\n",
       "2   1-14-16  primary_rep     CAVUTO   \n",
       "3   1-14-16  primary_rep     CAVUTO   \n",
       "4   1-14-16  primary_rep     CAVUTO   \n",
       "5   1-14-16  primary_rep  BARTIROMO   \n",
       "6   1-14-16  primary_rep  BARTIROMO   \n",
       "7   1-14-16  primary_rep  BARTIROMO   \n",
       "8   1-14-16  primary_rep     CAVUTO   \n",
       "9   1-14-16  primary_rep     CAVUTO   \n",
       "10  1-14-16  primary_rep     CAVUTO   \n",
       "11  1-14-16  primary_rep     CAVUTO   \n",
       "12  1-14-16  primary_rep     CAVUTO   \n",
       "13  1-14-16  primary_rep     CAVUTO   \n",
       "14  1-14-16  primary_rep     CAVUTO   \n",
       "15  1-14-16  primary_rep     CAVUTO   \n",
       "16  1-14-16  primary_rep     CAVUTO   \n",
       "17  1-14-16  primary_rep     CAVUTO   \n",
       "18  1-14-16  primary_rep  BARTIROMO   \n",
       "19  1-14-16  primary_rep  BARTIROMO   \n",
       "20  1-14-16  primary_rep  BARTIROMO   \n",
       "21  1-14-16  primary_rep  BARTIROMO   \n",
       "\n",
       "                                                Sents  \n",
       "2    It is 9:00 p.m. here at the North Charleston ...  \n",
       "3   Welcome to the sixth Republican presidential o...  \n",
       "4   I'm Neil Cavuto, alongside my friend and co-mo...  \n",
       "5    Tonight we are working with Facebook to ask t...  \n",
       "6   And according to Facebook, the U.S. election h...  \n",
       "7   That makes it the number one issue talked abou...  \n",
       "8    Now, the seven candidates on the stage tonigh...  \n",
       "9                                  And here they are.  \n",
       "10                          Businessman Donald Trump.  \n",
       "11              [applause]\\n\\nTexas senator Ted Cruz.  \n",
       "12         [applause]\\n\\nFlorida senator Marco Rubio.  \n",
       "13             [applause]\\n\\nNeurosurgeon Ben Carson.  \n",
       "14  [applause]\\n\\nNew Jersey governor Chris Christie.  \n",
       "15    [applause]\\n\\nFormer Florida governor Jeb Bush.  \n",
       "16                     And Ohio governor John Kasich.  \n",
       "17                                         [applause]  \n",
       "18   Tonight's rules are simple: up to 90 seconds ...  \n",
       "19  And if a candidate goes over the allotted time...  \n",
       "20                 [bell rings] So let's get started.  \n",
       "21  Candidates, jobs and growth — two of the bigge...  "
      ]
     },
     "execution_count": 245,
     "metadata": {},
     "output_type": "execute_result"
    }
   ],
   "source": [
    "dataframes[0].head(20)"
   ]
  },
  {
   "cell_type": "code",
   "execution_count": 246,
   "metadata": {},
   "outputs": [
    {
     "data": {
      "text/plain": [
       "[['It',\n",
       "  'is',\n",
       "  '9:00',\n",
       "  'p.m.',\n",
       "  'here',\n",
       "  'at',\n",
       "  'the',\n",
       "  'North',\n",
       "  'Charleston',\n",
       "  'Coliseum',\n",
       "  'and',\n",
       "  'Performing',\n",
       "  'Arts',\n",
       "  'Center',\n",
       "  'in',\n",
       "  'South',\n",
       "  'Carolina',\n",
       "  '.'],\n",
       " ['Welcome',\n",
       "  'to',\n",
       "  'the',\n",
       "  'sixth',\n",
       "  'Republican',\n",
       "  'presidential',\n",
       "  'of',\n",
       "  'the',\n",
       "  '2016',\n",
       "  'campaign',\n",
       "  ',',\n",
       "  'here',\n",
       "  'on',\n",
       "  'the',\n",
       "  'Fox',\n",
       "  'Business',\n",
       "  'Network',\n",
       "  '.'],\n",
       " ['I',\n",
       "  \"'m\",\n",
       "  'Neil',\n",
       "  'Cavuto',\n",
       "  ',',\n",
       "  'alongside',\n",
       "  'my',\n",
       "  'friend',\n",
       "  'and',\n",
       "  'co-moderator',\n",
       "  'Maria',\n",
       "  'Bartiromo',\n",
       "  '.'],\n",
       " ['Tonight',\n",
       "  'we',\n",
       "  'are',\n",
       "  'working',\n",
       "  'with',\n",
       "  'Facebook',\n",
       "  'to',\n",
       "  'ask',\n",
       "  'the',\n",
       "  'candidates',\n",
       "  'the',\n",
       "  'questions',\n",
       "  'voters',\n",
       "  'want',\n",
       "  'answered',\n",
       "  '.'],\n",
       " ['And',\n",
       "  'according',\n",
       "  'to',\n",
       "  'Facebook',\n",
       "  ',',\n",
       "  'the',\n",
       "  'U.S.',\n",
       "  'election',\n",
       "  'has',\n",
       "  'dominated',\n",
       "  'the',\n",
       "  'global',\n",
       "  'conversation',\n",
       "  ',',\n",
       "  'with',\n",
       "  '131',\n",
       "  'million',\n",
       "  'people',\n",
       "  'talking',\n",
       "  'about',\n",
       "  'the',\n",
       "  '2016',\n",
       "  'race',\n",
       "  '.']]"
      ]
     },
     "execution_count": 246,
     "metadata": {},
     "output_type": "execute_result"
    }
   ],
   "source": [
    "#Word tokenization in each sentence\n",
    "sent_toks = []\n",
    "transcript_toks = []\n",
    "\n",
    "for transcript in sents:\n",
    "    for sent in transcript:\n",
    "        transcript_toks.append(nltk.word_tokenize(sent))\n",
    "    sent_toks.append(transcript_toks)\n",
    "    transcript_toks = []\n",
    "\n",
    "sent_toks[0][:5]"
   ]
  },
  {
   "cell_type": "code",
   "execution_count": 247,
   "metadata": {},
   "outputs": [
    {
     "data": {
      "text/plain": [
       "[('It', 'PRP'),\n",
       " ('is', 'VBZ'),\n",
       " ('9:00', 'CD'),\n",
       " ('p.m.', 'NN'),\n",
       " ('here', 'RB'),\n",
       " ('at', 'IN'),\n",
       " ('the', 'DT'),\n",
       " ('North', 'NNP'),\n",
       " ('Charleston', 'NNP'),\n",
       " ('Coliseum', 'NNP'),\n",
       " ('and', 'CC'),\n",
       " ('Performing', 'NNP'),\n",
       " ('Arts', 'NNP'),\n",
       " ('Center', 'NNP'),\n",
       " ('in', 'IN'),\n",
       " ('South', 'NNP'),\n",
       " ('Carolina', 'NNP'),\n",
       " ('.', '.')]"
      ]
     },
     "execution_count": 247,
     "metadata": {},
     "output_type": "execute_result"
    }
   ],
   "source": [
    "nltk.pos_tag(sent_toks[0][0])"
   ]
  },
  {
   "cell_type": "code",
   "execution_count": 250,
   "metadata": {},
   "outputs": [],
   "source": [
    "#POS tagging for each sentence\n",
    "sent_pos = []\n",
    "transcript_pos = []\n",
    "\n",
    "for transcript in sent_toks:\n",
    "    for sent in transcript:\n",
    "        transcript_pos.append(nltk.pos_tag(sent))\n",
    "    sent_pos.append(transcript_pos)\n",
    "    transcript_pos = []"
   ]
  },
  {
   "cell_type": "code",
   "execution_count": 251,
   "metadata": {},
   "outputs": [
    {
     "data": {
      "text/plain": [
       "1576"
      ]
     },
     "execution_count": 251,
     "metadata": {},
     "output_type": "execute_result"
    }
   ],
   "source": [
    "len(sent_pos[0])"
   ]
  },
  {
   "cell_type": "code",
   "execution_count": 148,
   "metadata": {},
   "outputs": [],
   "source": [
    "#Named Entity Chunking\n",
    "transcripts_NER = []\n",
    "for transcript in sent_pos:\n",
    "    transcripts_NER.append(nltk.ne_chunk_sents(transcript))\n"
   ]
  },
  {
   "cell_type": "code",
   "execution_count": 149,
   "metadata": {},
   "outputs": [],
   "source": [
    "first = list(transcripts_NER[0])"
   ]
  },
  {
   "cell_type": "code",
   "execution_count": 150,
   "metadata": {},
   "outputs": [
    {
     "data": {
      "image/png": "[encoded data removed]",
      "text/plain": [
       "Tree('S', [('It', 'PRP'), ('is', 'VBZ'), ('9:00', 'CD'), ('p.m.', 'NN'), ('here', 'RB'), ('at', 'IN'), ('the', 'DT'), Tree('LOCATION', [('North', 'NNP'), ('Charleston', 'NNP'), ('Coliseum', 'NNP')]), ('and', 'CC'), ('Performing', 'NNP'), ('Arts', 'NNP'), ('Center', 'NNP'), ('in', 'IN'), Tree('GPE', [('South', 'NNP'), ('Carolina', 'NNP')]), ('.', '.')])"
      ]
     },
     "execution_count": 150,
     "metadata": {},
     "output_type": "execute_result"
    }
   ],
   "source": [
    "first[0]"
   ]
  },
  {
   "cell_type": "code",
   "execution_count": 151,
   "metadata": {},
   "outputs": [
    {
     "data": {
      "text/plain": [
       "1507"
      ]
     },
     "execution_count": 151,
     "metadata": {},
     "output_type": "execute_result"
    }
   ],
   "source": [
    "len(first)"
   ]
  },
  {
   "cell_type": "code",
   "execution_count": 88,
   "metadata": {},
   "outputs": [],
   "source": [
    "import pickle\n",
    "f = open('/Users/Paige/Documents/Data_Science/2016-Election-Project/data/Debates/csv/dataframes.p', 'rb')\n",
    "dataframes = pickle.load(f)\n",
    "f.close()"
   ]
  },
  {
   "cell_type": "code",
   "execution_count": 141,
   "metadata": {},
   "outputs": [
    {
     "data": {
      "text/plain": [
       "1597"
      ]
     },
     "execution_count": 141,
     "metadata": {},
     "output_type": "execute_result"
    }
   ],
   "source": [
    "len(dataframes[0])"
   ]
  },
  {
   "cell_type": "code",
   "execution_count": 95,
   "metadata": {},
   "outputs": [
    {
     "name": "stdout",
     "output_type": "stream",
     "text": [
      "All right.\n"
     ]
    },
    {
     "data": {
      "image/png": "[encoded data removed]",
      "text/plain": [
       "Tree('S', [('My', 'PRP$'), ('thanks', 'NNS'), ('to', 'TO'), Tree('PERSON', [('Hillary', 'NNP'), ('Clinton', 'NNP')]), ('and', 'CC'), ('to', 'TO'), Tree('PERSON', [('Donald', 'NNP'), ('Trump', 'NNP')]), ('and', 'CC'), ('to', 'TO'), Tree('ORGANIZATION', [('Hofstra', 'NNP'), ('University', 'NNP')]), ('for', 'IN'), ('hosting', 'VBG'), ('us', 'PRP'), ('tonight', 'NN'), ('.', '.')])"
      ]
     },
     "execution_count": 95,
     "metadata": {},
     "output_type": "execute_result"
    }
   ],
   "source": [
    "print(dataframes[0].iloc[-3][-1])\n",
    "chunked_d1_list[-2]"
   ]
  },
  {
   "cell_type": "code",
   "execution_count": 78,
   "metadata": {},
   "outputs": [],
   "source": []
  },
  {
   "cell_type": "code",
   "execution_count": 80,
   "metadata": {},
   "outputs": [
    {
     "data": {
      "text/html": [
       "<div>\n",
       "<style>\n",
       "    .dataframe thead tr:only-child th {\n",
       "        text-align: right;\n",
       "    }\n",
       "\n",
       "    .dataframe thead th {\n",
       "        text-align: left;\n",
       "    }\n",
       "\n",
       "    .dataframe tbody tr th {\n",
       "        vertical-align: top;\n",
       "    }\n",
       "</style>\n",
       "<table border=\"1\" class=\"dataframe\">\n",
       "  <thead>\n",
       "    <tr style=\"text-align: right;\">\n",
       "      <th></th>\n",
       "      <th>Date</th>\n",
       "      <th>Debate Type</th>\n",
       "      <th>Speaker</th>\n",
       "      <th>Sents</th>\n",
       "      <th>Trees</th>\n",
       "    </tr>\n",
       "  </thead>\n",
       "  <tbody>\n",
       "    <tr>\n",
       "      <th>2</th>\n",
       "      <td>1-14-16</td>\n",
       "      <td>primary_rep</td>\n",
       "      <td>CAVUTO</td>\n",
       "      <td>It is 9:00 p.m. here at the North Charleston ...</td>\n",
       "      <td>&lt;generator object ParserI.parse_sents.&lt;locals&gt;...</td>\n",
       "    </tr>\n",
       "    <tr>\n",
       "      <th>3</th>\n",
       "      <td>1-14-16</td>\n",
       "      <td>primary_rep</td>\n",
       "      <td>CAVUTO</td>\n",
       "      <td>Welcome to the sixth Republican presidential o...</td>\n",
       "      <td>&lt;generator object ParserI.parse_sents.&lt;locals&gt;...</td>\n",
       "    </tr>\n",
       "    <tr>\n",
       "      <th>4</th>\n",
       "      <td>1-14-16</td>\n",
       "      <td>primary_rep</td>\n",
       "      <td>CAVUTO</td>\n",
       "      <td>I'm Neil Cavuto, alongside my friend and co-mo...</td>\n",
       "      <td>&lt;generator object ParserI.parse_sents.&lt;locals&gt;...</td>\n",
       "    </tr>\n",
       "    <tr>\n",
       "      <th>5</th>\n",
       "      <td>1-14-16</td>\n",
       "      <td>primary_rep</td>\n",
       "      <td>BARTIROMO</td>\n",
       "      <td>Tonight we are working with Facebook to ask t...</td>\n",
       "      <td>&lt;generator object ParserI.parse_sents.&lt;locals&gt;...</td>\n",
       "    </tr>\n",
       "    <tr>\n",
       "      <th>6</th>\n",
       "      <td>1-14-16</td>\n",
       "      <td>primary_rep</td>\n",
       "      <td>BARTIROMO</td>\n",
       "      <td>And according to Facebook, the U.S. election h...</td>\n",
       "      <td>&lt;generator object ParserI.parse_sents.&lt;locals&gt;...</td>\n",
       "    </tr>\n",
       "  </tbody>\n",
       "</table>\n",
       "</div>"
      ],
      "text/plain": [
       "      Date  Debate Type    Speaker  \\\n",
       "2  1-14-16  primary_rep     CAVUTO   \n",
       "3  1-14-16  primary_rep     CAVUTO   \n",
       "4  1-14-16  primary_rep     CAVUTO   \n",
       "5  1-14-16  primary_rep  BARTIROMO   \n",
       "6  1-14-16  primary_rep  BARTIROMO   \n",
       "\n",
       "                                               Sents  \\\n",
       "2   It is 9:00 p.m. here at the North Charleston ...   \n",
       "3  Welcome to the sixth Republican presidential o...   \n",
       "4  I'm Neil Cavuto, alongside my friend and co-mo...   \n",
       "5   Tonight we are working with Facebook to ask t...   \n",
       "6  And according to Facebook, the U.S. election h...   \n",
       "\n",
       "                                               Trees  \n",
       "2  <generator object ParserI.parse_sents.<locals>...  \n",
       "3  <generator object ParserI.parse_sents.<locals>...  \n",
       "4  <generator object ParserI.parse_sents.<locals>...  \n",
       "5  <generator object ParserI.parse_sents.<locals>...  \n",
       "6  <generator object ParserI.parse_sents.<locals>...  "
      ]
     },
     "execution_count": 80,
     "metadata": {},
     "output_type": "execute_result"
    }
   ],
   "source": [
    "dataframes[0].head()"
   ]
  },
  {
   "cell_type": "code",
   "execution_count": 40,
   "metadata": {},
   "outputs": [
    {
     "ename": "ValueError",
     "evalue": "Length of values does not match length of index",
     "output_type": "error",
     "traceback": [
      "\u001b[0;31m---------------------------------------------------------------------------\u001b[0m",
      "\u001b[0;31mValueError\u001b[0m                                Traceback (most recent call last)",
      "\u001b[0;32m<ipython-input-40-cf68303b38aa>\u001b[0m in \u001b[0;36m<module>\u001b[0;34m()\u001b[0m\n\u001b[0;32m----> 1\u001b[0;31m \u001b[0mdataframes\u001b[0m\u001b[0;34m[\u001b[0m\u001b[0;36m0\u001b[0m\u001b[0;34m]\u001b[0m\u001b[0;34m[\u001b[0m\u001b[0;34m'Trees'\u001b[0m\u001b[0;34m]\u001b[0m \u001b[0;34m=\u001b[0m \u001b[0mtranscripts_NER\u001b[0m\u001b[0;34m[\u001b[0m\u001b[0;36m0\u001b[0m\u001b[0;34m]\u001b[0m\u001b[0;34m\u001b[0m\u001b[0m\n\u001b[0m",
      "\u001b[0;32m/anaconda/lib/python3.6/site-packages/pandas/core/frame.py\u001b[0m in \u001b[0;36m__setitem__\u001b[0;34m(self, key, value)\u001b[0m\n\u001b[1;32m   2427\u001b[0m         \u001b[0;32melse\u001b[0m\u001b[0;34m:\u001b[0m\u001b[0;34m\u001b[0m\u001b[0m\n\u001b[1;32m   2428\u001b[0m             \u001b[0;31m# set column\u001b[0m\u001b[0;34m\u001b[0m\u001b[0;34m\u001b[0m\u001b[0m\n\u001b[0;32m-> 2429\u001b[0;31m             \u001b[0mself\u001b[0m\u001b[0;34m.\u001b[0m\u001b[0m_set_item\u001b[0m\u001b[0;34m(\u001b[0m\u001b[0mkey\u001b[0m\u001b[0;34m,\u001b[0m \u001b[0mvalue\u001b[0m\u001b[0;34m)\u001b[0m\u001b[0;34m\u001b[0m\u001b[0m\n\u001b[0m\u001b[1;32m   2430\u001b[0m \u001b[0;34m\u001b[0m\u001b[0m\n\u001b[1;32m   2431\u001b[0m     \u001b[0;32mdef\u001b[0m \u001b[0m_setitem_slice\u001b[0m\u001b[0;34m(\u001b[0m\u001b[0mself\u001b[0m\u001b[0;34m,\u001b[0m \u001b[0mkey\u001b[0m\u001b[0;34m,\u001b[0m \u001b[0mvalue\u001b[0m\u001b[0;34m)\u001b[0m\u001b[0;34m:\u001b[0m\u001b[0;34m\u001b[0m\u001b[0m\n",
      "\u001b[0;32m/anaconda/lib/python3.6/site-packages/pandas/core/frame.py\u001b[0m in \u001b[0;36m_set_item\u001b[0;34m(self, key, value)\u001b[0m\n\u001b[1;32m   2493\u001b[0m \u001b[0;34m\u001b[0m\u001b[0m\n\u001b[1;32m   2494\u001b[0m         \u001b[0mself\u001b[0m\u001b[0;34m.\u001b[0m\u001b[0m_ensure_valid_index\u001b[0m\u001b[0;34m(\u001b[0m\u001b[0mvalue\u001b[0m\u001b[0;34m)\u001b[0m\u001b[0;34m\u001b[0m\u001b[0m\n\u001b[0;32m-> 2495\u001b[0;31m         \u001b[0mvalue\u001b[0m \u001b[0;34m=\u001b[0m \u001b[0mself\u001b[0m\u001b[0;34m.\u001b[0m\u001b[0m_sanitize_column\u001b[0m\u001b[0;34m(\u001b[0m\u001b[0mkey\u001b[0m\u001b[0;34m,\u001b[0m \u001b[0mvalue\u001b[0m\u001b[0;34m)\u001b[0m\u001b[0;34m\u001b[0m\u001b[0m\n\u001b[0m\u001b[1;32m   2496\u001b[0m         \u001b[0mNDFrame\u001b[0m\u001b[0;34m.\u001b[0m\u001b[0m_set_item\u001b[0m\u001b[0;34m(\u001b[0m\u001b[0mself\u001b[0m\u001b[0;34m,\u001b[0m \u001b[0mkey\u001b[0m\u001b[0;34m,\u001b[0m \u001b[0mvalue\u001b[0m\u001b[0;34m)\u001b[0m\u001b[0;34m\u001b[0m\u001b[0m\n\u001b[1;32m   2497\u001b[0m \u001b[0;34m\u001b[0m\u001b[0m\n",
      "\u001b[0;32m/anaconda/lib/python3.6/site-packages/pandas/core/frame.py\u001b[0m in \u001b[0;36m_sanitize_column\u001b[0;34m(self, key, value, broadcast)\u001b[0m\n\u001b[1;32m   2664\u001b[0m \u001b[0;34m\u001b[0m\u001b[0m\n\u001b[1;32m   2665\u001b[0m             \u001b[0;31m# turn me into an ndarray\u001b[0m\u001b[0;34m\u001b[0m\u001b[0;34m\u001b[0m\u001b[0m\n\u001b[0;32m-> 2666\u001b[0;31m             \u001b[0mvalue\u001b[0m \u001b[0;34m=\u001b[0m \u001b[0m_sanitize_index\u001b[0m\u001b[0;34m(\u001b[0m\u001b[0mvalue\u001b[0m\u001b[0;34m,\u001b[0m \u001b[0mself\u001b[0m\u001b[0;34m.\u001b[0m\u001b[0mindex\u001b[0m\u001b[0;34m,\u001b[0m \u001b[0mcopy\u001b[0m\u001b[0;34m=\u001b[0m\u001b[0;32mFalse\u001b[0m\u001b[0;34m)\u001b[0m\u001b[0;34m\u001b[0m\u001b[0m\n\u001b[0m\u001b[1;32m   2667\u001b[0m             \u001b[0;32mif\u001b[0m \u001b[0;32mnot\u001b[0m \u001b[0misinstance\u001b[0m\u001b[0;34m(\u001b[0m\u001b[0mvalue\u001b[0m\u001b[0;34m,\u001b[0m \u001b[0;34m(\u001b[0m\u001b[0mnp\u001b[0m\u001b[0;34m.\u001b[0m\u001b[0mndarray\u001b[0m\u001b[0;34m,\u001b[0m \u001b[0mIndex\u001b[0m\u001b[0;34m)\u001b[0m\u001b[0;34m)\u001b[0m\u001b[0;34m:\u001b[0m\u001b[0;34m\u001b[0m\u001b[0m\n\u001b[1;32m   2668\u001b[0m                 \u001b[0;32mif\u001b[0m \u001b[0misinstance\u001b[0m\u001b[0;34m(\u001b[0m\u001b[0mvalue\u001b[0m\u001b[0;34m,\u001b[0m \u001b[0mlist\u001b[0m\u001b[0;34m)\u001b[0m \u001b[0;32mand\u001b[0m \u001b[0mlen\u001b[0m\u001b[0;34m(\u001b[0m\u001b[0mvalue\u001b[0m\u001b[0;34m)\u001b[0m \u001b[0;34m>\u001b[0m \u001b[0;36m0\u001b[0m\u001b[0;34m:\u001b[0m\u001b[0;34m\u001b[0m\u001b[0m\n",
      "\u001b[0;32m/anaconda/lib/python3.6/site-packages/pandas/core/series.py\u001b[0m in \u001b[0;36m_sanitize_index\u001b[0;34m(data, index, copy)\u001b[0m\n\u001b[1;32m   2877\u001b[0m \u001b[0;34m\u001b[0m\u001b[0m\n\u001b[1;32m   2878\u001b[0m     \u001b[0;32mif\u001b[0m \u001b[0mlen\u001b[0m\u001b[0;34m(\u001b[0m\u001b[0mdata\u001b[0m\u001b[0;34m)\u001b[0m \u001b[0;34m!=\u001b[0m \u001b[0mlen\u001b[0m\u001b[0;34m(\u001b[0m\u001b[0mindex\u001b[0m\u001b[0;34m)\u001b[0m\u001b[0;34m:\u001b[0m\u001b[0;34m\u001b[0m\u001b[0m\n\u001b[0;32m-> 2879\u001b[0;31m         \u001b[0;32mraise\u001b[0m \u001b[0mValueError\u001b[0m\u001b[0;34m(\u001b[0m\u001b[0;34m'Length of values does not match length of '\u001b[0m \u001b[0;34m'index'\u001b[0m\u001b[0;34m)\u001b[0m\u001b[0;34m\u001b[0m\u001b[0m\n\u001b[0m\u001b[1;32m   2880\u001b[0m \u001b[0;34m\u001b[0m\u001b[0m\n\u001b[1;32m   2881\u001b[0m     \u001b[0;32mif\u001b[0m \u001b[0misinstance\u001b[0m\u001b[0;34m(\u001b[0m\u001b[0mdata\u001b[0m\u001b[0;34m,\u001b[0m \u001b[0mPeriodIndex\u001b[0m\u001b[0;34m)\u001b[0m\u001b[0;34m:\u001b[0m\u001b[0;34m\u001b[0m\u001b[0m\n",
      "\u001b[0;31mValueError\u001b[0m: Length of values does not match length of index"
     ]
    }
   ],
   "source": [
    "dataframes[0]['Trees'] = transcripts_NER[0]"
   ]
  },
  {
   "cell_type": "code",
   "execution_count": 14,
   "metadata": {},
   "outputs": [
    {
     "ename": "NameError",
     "evalue": "name 'd1chunked_sents' is not defined",
     "output_type": "error",
     "traceback": [
      "\u001b[0;31m---------------------------------------------------------------------------\u001b[0m",
      "\u001b[0;31mNameError\u001b[0m                                 Traceback (most recent call last)",
      "\u001b[0;32m<ipython-input-14-c06ba5b27cfc>\u001b[0m in \u001b[0;36m<module>\u001b[0;34m()\u001b[0m\n\u001b[0;32m----> 1\u001b[0;31m \u001b[0md1chunked_sents\u001b[0m \u001b[0;34m=\u001b[0m \u001b[0mlist\u001b[0m\u001b[0;34m(\u001b[0m\u001b[0md1chunked_sents\u001b[0m\u001b[0;34m)\u001b[0m\u001b[0;34m\u001b[0m\u001b[0m\n\u001b[0m\u001b[1;32m      2\u001b[0m \u001b[0md1chunked_sents\u001b[0m\u001b[0;34m[\u001b[0m\u001b[0;36m1\u001b[0m\u001b[0;34m]\u001b[0m\u001b[0;34m\u001b[0m\u001b[0m\n",
      "\u001b[0;31mNameError\u001b[0m: name 'd1chunked_sents' is not defined"
     ]
    }
   ],
   "source": [
    "d1chunked_sents = list(d1chunked_sents)\n",
    "d1chunked_sents[1]"
   ]
  },
  {
   "cell_type": "code",
   "execution_count": null,
   "metadata": {},
   "outputs": [],
   "source": [
    "#It didn't get all of Secretary Clinton as the PERSON...just Clinton\n",
    "print(d1chunked_sents[25])"
   ]
  },
  {
   "cell_type": "code",
   "execution_count": null,
   "metadata": {
    "collapsed": true
   },
   "outputs": [],
   "source": [
    "for sent in d1chunked_sents[:50]:\n",
    "    for chunk in sent:\n",
    "        if hasattr(chunk, \"label\") and chunk.label() == \"NE\":\n",
    "            print(chunk)"
   ]
  },
  {
   "cell_type": "markdown",
   "metadata": {},
   "source": [
    "**This does a nice job of pulling out the NE's, but it doesn't tell us where they're located in the text unless you look at the trees...**"
   ]
  },
  {
   "cell_type": "code",
   "execution_count": null,
   "metadata": {},
   "outputs": [],
   "source": [
    "dir(d1chunked_sents[0][0])"
   ]
  },
  {
   "cell_type": "code",
   "execution_count": null,
   "metadata": {},
   "outputs": [],
   "source": [
    "d1chunked_sents[3]"
   ]
  },
  {
   "cell_type": "code",
   "execution_count": null,
   "metadata": {
    "collapsed": true
   },
   "outputs": [],
   "source": [
    "d1chunked_sents[3].set_label('HOLT')"
   ]
  },
  {
   "cell_type": "code",
   "execution_count": null,
   "metadata": {},
   "outputs": [],
   "source": [
    "d1chunked_sents[3]"
   ]
  },
  {
   "cell_type": "markdown",
   "metadata": {},
   "source": [
    "**It's probably not smart to get rid of S as the head label... but maybe it would be helpful to change it to the speaker? There doesn't seem to be a way for me to link the NE's either.**"
   ]
  },
  {
   "cell_type": "code",
   "execution_count": null,
   "metadata": {},
   "outputs": [],
   "source": [
    "#This section is with help from a datacamp tutorial\n",
    "#https://campus.datacamp.com/courses/natural-language-processing-fundamentals-in-python/named-entity-recognition?ex=3\n",
    "\n",
    "ner_categories = defaultdict(int)\n",
    "\n",
    "# Create the nested for loop\n",
    "for sent in d1chunked_sents:\n",
    "    for chunk in sent:\n",
    "        if hasattr(chunk, 'label'):\n",
    "            ner_categories[chunk.label()] += 1\n",
    "            \n",
    "# Create a list from the dictionary keys for the chart labels: labels\n",
    "labels = list(ner_categories.keys())\n",
    "\n",
    "# Create a list of the values: values\n",
    "values = [ner_categories.get(l) for l in labels]\n",
    "\n",
    "# Create the pie chart\n",
    "plt.pie(values, labels=labels, autopct='%1.1f%%', startangle=140)\n",
    "\n",
    "# Display the chart\n",
    "plt.show()"
   ]
  },
  {
   "cell_type": "code",
   "execution_count": null,
   "metadata": {
    "collapsed": true
   },
   "outputs": [],
   "source": [
    "people = []\n",
    "for sent in d1chunked_sents:\n",
    "    for chunk in sent:\n",
    "        if hasattr(chunk, 'label'):\n",
    "            if chunk.label() == 'PERSON':\n",
    "                people.append(chunk)"
   ]
  },
  {
   "cell_type": "code",
   "execution_count": null,
   "metadata": {
    "collapsed": true
   },
   "outputs": [],
   "source": [
    "gpe = []\n",
    "for sent in d1chunked_sents:\n",
    "    for chunk in sent:\n",
    "        if hasattr(chunk, 'label'):\n",
    "            if chunk.label() == 'GPE':\n",
    "                gpe.append(chunk)"
   ]
  },
  {
   "cell_type": "code",
   "execution_count": null,
   "metadata": {
    "collapsed": true
   },
   "outputs": [],
   "source": [
    "org = []\n",
    "for sent in d1chunked_sents:\n",
    "    for chunk in sent:\n",
    "        if hasattr(chunk, 'label'):\n",
    "            if chunk.label() == 'ORGANIZATION':\n",
    "                org.append(chunk)"
   ]
  },
  {
   "cell_type": "code",
   "execution_count": null,
   "metadata": {
    "collapsed": true
   },
   "outputs": [],
   "source": [
    "facility = []\n",
    "for sent in d1chunked_sents:\n",
    "    for chunk in sent:\n",
    "        if hasattr(chunk, 'label'):\n",
    "            if chunk.label() == 'FACILITY':\n",
    "                facility.append(chunk)"
   ]
  },
  {
   "cell_type": "code",
   "execution_count": null,
   "metadata": {},
   "outputs": [],
   "source": [
    "len(people)"
   ]
  },
  {
   "cell_type": "code",
   "execution_count": null,
   "metadata": {},
   "outputs": [],
   "source": [
    "len(gpe)"
   ]
  },
  {
   "cell_type": "code",
   "execution_count": null,
   "metadata": {},
   "outputs": [],
   "source": [
    "len(org)"
   ]
  },
  {
   "cell_type": "code",
   "execution_count": null,
   "metadata": {},
   "outputs": [],
   "source": [
    "len(facility)"
   ]
  },
  {
   "cell_type": "code",
   "execution_count": null,
   "metadata": {},
   "outputs": [],
   "source": [
    "for x in facility:\n",
    "    print(x)"
   ]
  },
  {
   "cell_type": "code",
   "execution_count": null,
   "metadata": {},
   "outputs": [],
   "source": [
    "for x in org:\n",
    "    print(x)"
   ]
  },
  {
   "cell_type": "code",
   "execution_count": null,
   "metadata": {},
   "outputs": [],
   "source": [
    "people[1].leaves()[0][0]\n",
    "words = [leaf[0] for leaf in people[1].leaves()]\n",
    "words"
   ]
  },
  {
   "cell_type": "code",
   "execution_count": null,
   "metadata": {
    "collapsed": true
   },
   "outputs": [],
   "source": [
    "people_names = []\n",
    "name = ''\n",
    "for tree in people:\n",
    "    for leaf in tree.leaves():\n",
    "        name+=' '+str(leaf[0])\n",
    "    people_names.append(name.strip())\n",
    "    name = ''\n"
   ]
  },
  {
   "cell_type": "code",
   "execution_count": null,
   "metadata": {},
   "outputs": [],
   "source": [
    "set(people_names)"
   ]
  },
  {
   "cell_type": "code",
   "execution_count": null,
   "metadata": {},
   "outputs": [],
   "source": [
    "'Secretary' in people_names"
   ]
  },
  {
   "cell_type": "code",
   "execution_count": null,
   "metadata": {},
   "outputs": [],
   "source": [
    "'Secretary Clinton' in debate1"
   ]
  },
  {
   "cell_type": "code",
   "execution_count": null,
   "metadata": {},
   "outputs": [],
   "source": [
    "'Secretary Clinton' in people_names\n",
    "#In fact it looks like it never recognizes Secretary Clinton as a PERSON. Just 'Clinton'"
   ]
  },
  {
   "cell_type": "markdown",
   "metadata": {},
   "source": [
    "### Trying SpaCy"
   ]
  },
  {
   "cell_type": "code",
   "execution_count": null,
   "metadata": {
    "collapsed": true
   },
   "outputs": [],
   "source": [
    "import spacy"
   ]
  },
  {
   "cell_type": "code",
   "execution_count": null,
   "metadata": {
    "collapsed": true
   },
   "outputs": [],
   "source": [
    "nlp = spacy.load('en')"
   ]
  },
  {
   "cell_type": "code",
   "execution_count": null,
   "metadata": {
    "collapsed": true
   },
   "outputs": [],
   "source": [
    "doc = nlp(debate1)"
   ]
  },
  {
   "cell_type": "code",
   "execution_count": null,
   "metadata": {},
   "outputs": [],
   "source": [
    "len(doc.ents)"
   ]
  },
  {
   "cell_type": "code",
   "execution_count": null,
   "metadata": {},
   "outputs": [],
   "source": [
    "for ent in doc.ents[:50]:\n",
    "    print(ent.text, ent.label_)"
   ]
  },
  {
   "cell_type": "code",
   "execution_count": null,
   "metadata": {},
   "outputs": [],
   "source": [
    "dir(doc.ents[0])"
   ]
  },
  {
   "cell_type": "code",
   "execution_count": null,
   "metadata": {},
   "outputs": [],
   "source": [
    "doc.ents[0]"
   ]
  },
  {
   "cell_type": "code",
   "execution_count": null,
   "metadata": {},
   "outputs": [],
   "source": [
    "doc.ents[0].end_char"
   ]
  },
  {
   "cell_type": "code",
   "execution_count": null,
   "metadata": {},
   "outputs": [],
   "source": [
    "doc.ents[0].ent_id"
   ]
  },
  {
   "cell_type": "code",
   "execution_count": null,
   "metadata": {},
   "outputs": [],
   "source": [
    "doc.ents[0].label_"
   ]
  },
  {
   "cell_type": "code",
   "execution_count": null,
   "metadata": {},
   "outputs": [],
   "source": [
    "doc.ents[0].lemma_"
   ]
  },
  {
   "cell_type": "code",
   "execution_count": null,
   "metadata": {},
   "outputs": [],
   "source": [
    "list(doc.ents[0].subtree)"
   ]
  },
  {
   "cell_type": "raw",
   "metadata": {},
   "source": [
    "<div class=\"entities\">I will ask you that question first, Secretary <mark data-entity=\"person\">Clinton</mark>.</div>"
   ]
  },
  {
   "cell_type": "raw",
   "metadata": {},
   "source": []
  }
 ],
 "metadata": {
  "kernelspec": {
   "display_name": "Python 3",
   "language": "python",
   "name": "python3"
  },
  "language_info": {
   "codemirror_mode": {
    "name": "ipython",
    "version": 3
   },
   "file_extension": ".py",
   "mimetype": "text/x-python",
   "name": "python",
   "nbconvert_exporter": "python",
   "pygments_lexer": "ipython3",
   "version": "3.6.1"
  }
 },
 "nbformat": 4,
 "nbformat_minor": 2
}
