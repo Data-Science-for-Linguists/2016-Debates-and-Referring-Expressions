{
 "cells": [
  {
   "cell_type": "code",
   "execution_count": 1,
   "metadata": {},
   "outputs": [
    {
     "name": "stdout",
     "output_type": "stream",
     "text": [
      "Pretty printing has been turned OFF\n"
     ]
    }
   ],
   "source": [
    "%pprint"
   ]
  },
  {
   "cell_type": "markdown",
   "metadata": {},
   "source": [
    "## 2016 Election Project \n",
    "### Part 2 of Processing Pipeline\n",
    "\n",
    "This notebook is intended to document NER annotation of my data throughout this project. The data I am starting out with are transcripts of the presidential debates from the 2016 US Election- the 10 Democratic primary debates, the 12 Republican primary debates, and the debates for the general election between Hillary Clinton and Donald Trump. The transcripts were taken from UCSB's American Presidency Project. The citations for these transcripts can be found in the README."
   ]
  },
  {
   "cell_type": "code",
   "execution_count": 2,
   "metadata": {
    "collapsed": true
   },
   "outputs": [],
   "source": [
    "import nltk\n",
    "from nltk.corpus import PlaintextCorpusReader\n",
    "import pandas as pd\n",
    "import glob\n",
    "import os\n",
    "from collections import defaultdict\n",
    "import matplotlib.pyplot as plt\n",
    "import re"
   ]
  },
  {
   "cell_type": "markdown",
   "metadata": {},
   "source": [
    "**I'm going to create a mapping function that will take the sentence in each row of each data frame and perform nltk's chunking operation on it to get a tree with annoted NEs**"
   ]
  },
  {
   "cell_type": "code",
   "execution_count": 3,
   "metadata": {
    "collapsed": true
   },
   "outputs": [],
   "source": [
    "#Import the saved list of data frames I created in secondary_data_processing\n",
    "import pickle\n",
    "f = open('/Users/Paige/Documents/Data_Science/dataframes_list.p', 'rb')\n",
    "dataframes = pickle.load(f)\n",
    "f.close()"
   ]
  },
  {
   "cell_type": "code",
   "execution_count": 4,
   "metadata": {
    "collapsed": true
   },
   "outputs": [],
   "source": [
    "def get_tree(sent):\n",
    "    sents = nltk.sent_tokenize(sent)\n",
    "    words = [nltk.word_tokenize(sent) for sent in sents]\n",
    "    pos = [nltk.pos_tag(sent) for sent in words]\n",
    "    chunk = nltk.ne_chunk_sents(pos)\n",
    "    return list(chunk)[0]"
   ]
  },
  {
   "cell_type": "code",
   "execution_count": 5,
   "metadata": {
    "collapsed": true
   },
   "outputs": [],
   "source": [
    "master_df = pd.concat(dataframes)"
   ]
  },
  {
   "cell_type": "code",
   "execution_count": 6,
   "metadata": {
    "collapsed": true
   },
   "outputs": [],
   "source": [
    "master_df = master_df.reset_index(drop=True)"
   ]
  },
  {
   "cell_type": "code",
   "execution_count": 7,
   "metadata": {
    "scrolled": true
   },
   "outputs": [
    {
     "data": {
      "text/html": [
       "<div>\n",
       "<style>\n",
       "    .dataframe thead tr:only-child th {\n",
       "        text-align: right;\n",
       "    }\n",
       "\n",
       "    .dataframe thead th {\n",
       "        text-align: left;\n",
       "    }\n",
       "\n",
       "    .dataframe tbody tr th {\n",
       "        vertical-align: top;\n",
       "    }\n",
       "</style>\n",
       "<table border=\"1\" class=\"dataframe\">\n",
       "  <thead>\n",
       "    <tr style=\"text-align: right;\">\n",
       "      <th></th>\n",
       "      <th>Date</th>\n",
       "      <th>Debate Type</th>\n",
       "      <th>Speaker</th>\n",
       "      <th>Sents</th>\n",
       "    </tr>\n",
       "  </thead>\n",
       "  <tbody>\n",
       "    <tr>\n",
       "      <th>0</th>\n",
       "      <td>1-14-16</td>\n",
       "      <td>primary_rep</td>\n",
       "      <td>CAVUTO</td>\n",
       "      <td>It is 9:00 p.m. here at the North Charleston ...</td>\n",
       "    </tr>\n",
       "    <tr>\n",
       "      <th>1</th>\n",
       "      <td>1-14-16</td>\n",
       "      <td>primary_rep</td>\n",
       "      <td>CAVUTO</td>\n",
       "      <td>Welcome to the sixth Republican presidential o...</td>\n",
       "    </tr>\n",
       "    <tr>\n",
       "      <th>2</th>\n",
       "      <td>1-14-16</td>\n",
       "      <td>primary_rep</td>\n",
       "      <td>CAVUTO</td>\n",
       "      <td>I'm Neil Cavuto, alongside my friend and co-mo...</td>\n",
       "    </tr>\n",
       "    <tr>\n",
       "      <th>3</th>\n",
       "      <td>1-14-16</td>\n",
       "      <td>primary_rep</td>\n",
       "      <td>BARTIROMO</td>\n",
       "      <td>Tonight we are working with Facebook to ask t...</td>\n",
       "    </tr>\n",
       "    <tr>\n",
       "      <th>4</th>\n",
       "      <td>1-14-16</td>\n",
       "      <td>primary_rep</td>\n",
       "      <td>BARTIROMO</td>\n",
       "      <td>And according to Facebook, the U.S. election h...</td>\n",
       "    </tr>\n",
       "  </tbody>\n",
       "</table>\n",
       "</div>"
      ],
      "text/plain": [
       "      Date  Debate Type    Speaker  \\\n",
       "0  1-14-16  primary_rep     CAVUTO   \n",
       "1  1-14-16  primary_rep     CAVUTO   \n",
       "2  1-14-16  primary_rep     CAVUTO   \n",
       "3  1-14-16  primary_rep  BARTIROMO   \n",
       "4  1-14-16  primary_rep  BARTIROMO   \n",
       "\n",
       "                                               Sents  \n",
       "0   It is 9:00 p.m. here at the North Charleston ...  \n",
       "1  Welcome to the sixth Republican presidential o...  \n",
       "2  I'm Neil Cavuto, alongside my friend and co-mo...  \n",
       "3   Tonight we are working with Facebook to ask t...  \n",
       "4  And according to Facebook, the U.S. election h...  "
      ]
     },
     "execution_count": 7,
     "metadata": {},
     "output_type": "execute_result"
    }
   ],
   "source": [
    "master_df.head()"
   ]
  },
  {
   "cell_type": "code",
   "execution_count": 8,
   "metadata": {},
   "outputs": [
    {
     "data": {
      "text/html": [
       "<div>\n",
       "<style>\n",
       "    .dataframe thead tr:only-child th {\n",
       "        text-align: right;\n",
       "    }\n",
       "\n",
       "    .dataframe thead th {\n",
       "        text-align: left;\n",
       "    }\n",
       "\n",
       "    .dataframe tbody tr th {\n",
       "        vertical-align: top;\n",
       "    }\n",
       "</style>\n",
       "<table border=\"1\" class=\"dataframe\">\n",
       "  <thead>\n",
       "    <tr style=\"text-align: right;\">\n",
       "      <th></th>\n",
       "      <th>Date</th>\n",
       "      <th>Debate Type</th>\n",
       "      <th>Speaker</th>\n",
       "      <th>Sents</th>\n",
       "    </tr>\n",
       "  </thead>\n",
       "  <tbody>\n",
       "    <tr>\n",
       "      <th>37053</th>\n",
       "      <td>9-26-16</td>\n",
       "      <td>general</td>\n",
       "      <td>HOLT</td>\n",
       "      <td>The conversation will continue.</td>\n",
       "    </tr>\n",
       "    <tr>\n",
       "      <th>37054</th>\n",
       "      <td>9-26-16</td>\n",
       "      <td>general</td>\n",
       "      <td>HOLT</td>\n",
       "      <td>A reminder.</td>\n",
       "    </tr>\n",
       "    <tr>\n",
       "      <th>37055</th>\n",
       "      <td>9-26-16</td>\n",
       "      <td>general</td>\n",
       "      <td>HOLT</td>\n",
       "      <td>The vice presidential debate is scheduled for ...</td>\n",
       "    </tr>\n",
       "    <tr>\n",
       "      <th>37056</th>\n",
       "      <td>9-26-16</td>\n",
       "      <td>general</td>\n",
       "      <td>HOLT</td>\n",
       "      <td>My thanks to Hillary Clinton and to Donald Tru...</td>\n",
       "    </tr>\n",
       "    <tr>\n",
       "      <th>37057</th>\n",
       "      <td>9-26-16</td>\n",
       "      <td>general</td>\n",
       "      <td>HOLT</td>\n",
       "      <td>Good night, everyone.</td>\n",
       "    </tr>\n",
       "  </tbody>\n",
       "</table>\n",
       "</div>"
      ],
      "text/plain": [
       "          Date Debate Type Speaker  \\\n",
       "37053  9-26-16     general    HOLT   \n",
       "37054  9-26-16     general    HOLT   \n",
       "37055  9-26-16     general    HOLT   \n",
       "37056  9-26-16     general    HOLT   \n",
       "37057  9-26-16     general    HOLT   \n",
       "\n",
       "                                                   Sents  \n",
       "37053                    The conversation will continue.  \n",
       "37054                                        A reminder.  \n",
       "37055  The vice presidential debate is scheduled for ...  \n",
       "37056  My thanks to Hillary Clinton and to Donald Tru...  \n",
       "37057                              Good night, everyone.  "
      ]
     },
     "execution_count": 8,
     "metadata": {},
     "output_type": "execute_result"
    }
   ],
   "source": [
    "master_df.tail()"
   ]
  },
  {
   "cell_type": "code",
   "execution_count": 9,
   "metadata": {
    "collapsed": true
   },
   "outputs": [],
   "source": [
    "master_df['Tree']=master_df.Sents.map(get_tree)"
   ]
  },
  {
   "cell_type": "code",
   "execution_count": 10,
   "metadata": {},
   "outputs": [
    {
     "data": {
      "text/html": [
       "<div>\n",
       "<style>\n",
       "    .dataframe thead tr:only-child th {\n",
       "        text-align: right;\n",
       "    }\n",
       "\n",
       "    .dataframe thead th {\n",
       "        text-align: left;\n",
       "    }\n",
       "\n",
       "    .dataframe tbody tr th {\n",
       "        vertical-align: top;\n",
       "    }\n",
       "</style>\n",
       "<table border=\"1\" class=\"dataframe\">\n",
       "  <thead>\n",
       "    <tr style=\"text-align: right;\">\n",
       "      <th></th>\n",
       "      <th>Date</th>\n",
       "      <th>Debate Type</th>\n",
       "      <th>Speaker</th>\n",
       "      <th>Sents</th>\n",
       "      <th>Tree</th>\n",
       "    </tr>\n",
       "  </thead>\n",
       "  <tbody>\n",
       "    <tr>\n",
       "      <th>0</th>\n",
       "      <td>1-14-16</td>\n",
       "      <td>primary_rep</td>\n",
       "      <td>CAVUTO</td>\n",
       "      <td>It is 9:00 p.m. here at the North Charleston ...</td>\n",
       "      <td>[(It, PRP), (is, VBZ), (9:00, CD), (p.m., NN),...</td>\n",
       "    </tr>\n",
       "    <tr>\n",
       "      <th>1</th>\n",
       "      <td>1-14-16</td>\n",
       "      <td>primary_rep</td>\n",
       "      <td>CAVUTO</td>\n",
       "      <td>Welcome to the sixth Republican presidential o...</td>\n",
       "      <td>[(Welcome, VB), (to, TO), (the, DT), (sixth, J...</td>\n",
       "    </tr>\n",
       "    <tr>\n",
       "      <th>2</th>\n",
       "      <td>1-14-16</td>\n",
       "      <td>primary_rep</td>\n",
       "      <td>CAVUTO</td>\n",
       "      <td>I'm Neil Cavuto, alongside my friend and co-mo...</td>\n",
       "      <td>[(I, PRP), ('m, VBP), [(Neil, JJ), (Cavuto, NN...</td>\n",
       "    </tr>\n",
       "    <tr>\n",
       "      <th>3</th>\n",
       "      <td>1-14-16</td>\n",
       "      <td>primary_rep</td>\n",
       "      <td>BARTIROMO</td>\n",
       "      <td>Tonight we are working with Facebook to ask t...</td>\n",
       "      <td>[(Tonight, NN), (we, PRP), (are, VBP), (workin...</td>\n",
       "    </tr>\n",
       "    <tr>\n",
       "      <th>4</th>\n",
       "      <td>1-14-16</td>\n",
       "      <td>primary_rep</td>\n",
       "      <td>BARTIROMO</td>\n",
       "      <td>And according to Facebook, the U.S. election h...</td>\n",
       "      <td>[(And, CC), (according, VBG), (to, TO), [(Face...</td>\n",
       "    </tr>\n",
       "  </tbody>\n",
       "</table>\n",
       "</div>"
      ],
      "text/plain": [
       "      Date  Debate Type    Speaker  \\\n",
       "0  1-14-16  primary_rep     CAVUTO   \n",
       "1  1-14-16  primary_rep     CAVUTO   \n",
       "2  1-14-16  primary_rep     CAVUTO   \n",
       "3  1-14-16  primary_rep  BARTIROMO   \n",
       "4  1-14-16  primary_rep  BARTIROMO   \n",
       "\n",
       "                                               Sents  \\\n",
       "0   It is 9:00 p.m. here at the North Charleston ...   \n",
       "1  Welcome to the sixth Republican presidential o...   \n",
       "2  I'm Neil Cavuto, alongside my friend and co-mo...   \n",
       "3   Tonight we are working with Facebook to ask t...   \n",
       "4  And according to Facebook, the U.S. election h...   \n",
       "\n",
       "                                                Tree  \n",
       "0  [(It, PRP), (is, VBZ), (9:00, CD), (p.m., NN),...  \n",
       "1  [(Welcome, VB), (to, TO), (the, DT), (sixth, J...  \n",
       "2  [(I, PRP), ('m, VBP), [(Neil, JJ), (Cavuto, NN...  \n",
       "3  [(Tonight, NN), (we, PRP), (are, VBP), (workin...  \n",
       "4  [(And, CC), (according, VBG), (to, TO), [(Face...  "
      ]
     },
     "execution_count": 10,
     "metadata": {},
     "output_type": "execute_result"
    }
   ],
   "source": [
    "master_df.head()"
   ]
  },
  {
   "cell_type": "markdown",
   "metadata": {},
   "source": [
    "**I've created an NER tree! Notice that nltk's chunker pulled out Neil Cavuto and Maria Bartiromo as people. Now I want to change the S label at the top of the tree to represent who said this utterence using the information in the Speaker column.**"
   ]
  },
  {
   "cell_type": "code",
   "execution_count": 11,
   "metadata": {},
   "outputs": [
    {
     "data": {
      "image/png": "[encoded data removed]",
      "text/plain": [
       "Tree('S', [('I', 'PRP'), (\"'m\", 'VBP'), Tree('PERSON', [('Neil', 'JJ'), ('Cavuto', 'NNP')]), (',', ','), ('alongside', 'IN'), ('my', 'PRP$'), ('friend', 'NN'), ('and', 'CC'), ('co-moderator', 'NN'), Tree('PERSON', [('Maria', 'NNP'), ('Bartiromo', 'NNP')]), ('.', '.')])"
      ]
     },
     "execution_count": 11,
     "metadata": {},
     "output_type": "execute_result"
    }
   ],
   "source": [
    "master_df.iloc[2][-1]"
   ]
  },
  {
   "cell_type": "code",
   "execution_count": 12,
   "metadata": {},
   "outputs": [],
   "source": [
    "#Using mapping involving 2 columns. Use the Speaker column to modify the Tree column.\n",
    "for row in range(0, len(master_df)):\n",
    "    master_df.iloc[row][-1].set_label(master_df.iloc[row][2])"
   ]
  },
  {
   "cell_type": "code",
   "execution_count": 13,
   "metadata": {},
   "outputs": [
    {
     "data": {
      "image/png": "[encoded data removed]",
      "text/plain": [
       "Tree('CAVUTO', [('I', 'PRP'), (\"'m\", 'VBP'), Tree('PERSON', [('Neil', 'JJ'), ('Cavuto', 'NNP')]), (',', ','), ('alongside', 'IN'), ('my', 'PRP$'), ('friend', 'NN'), ('and', 'CC'), ('co-moderator', 'NN'), Tree('PERSON', [('Maria', 'NNP'), ('Bartiromo', 'NNP')]), ('.', '.')])"
      ]
     },
     "execution_count": 13,
     "metadata": {},
     "output_type": "execute_result"
    }
   ],
   "source": [
    "master_df.iloc[2]['Tree']"
   ]
  },
  {
   "cell_type": "code",
   "execution_count": 14,
   "metadata": {},
   "outputs": [
    {
     "data": {
      "text/plain": [
       "'CAVUTO'"
      ]
     },
     "execution_count": 14,
     "metadata": {},
     "output_type": "execute_result"
    }
   ],
   "source": [
    "master_df.iloc[2]['Speaker']"
   ]
  },
  {
   "cell_type": "code",
   "execution_count": 15,
   "metadata": {},
   "outputs": [
    {
     "data": {
      "image/png": "[encoded data removed]",
      "text/plain": [
       "Tree('CAVUTO', [Tree('PERSON', [('Businessman', 'NNP')]), Tree('PERSON', [('Donald', 'NNP'), ('Trump', 'NNP')]), ('.', '.')])"
      ]
     },
     "execution_count": 15,
     "metadata": {},
     "output_type": "execute_result"
    }
   ],
   "source": [
    "#Uh oh. The good news is the chunker got Trump's title- Businessman. The bad news is it's separated from the rest of his name. I'll have to fix that.\n",
    "master_df.iloc[8]['Tree']"
   ]
  },
  {
   "cell_type": "code",
   "execution_count": 16,
   "metadata": {},
   "outputs": [
    {
     "data": {
      "text/plain": [
       "'CAVUTO'"
      ]
     },
     "execution_count": 16,
     "metadata": {},
     "output_type": "execute_result"
    }
   ],
   "source": [
    "master_df.iloc[8]['Speaker']"
   ]
  },
  {
   "cell_type": "code",
   "execution_count": 17,
   "metadata": {},
   "outputs": [
    {
     "data": {
      "image/png": "[encoded data removed]",
      "text/plain": [
       "Tree('HOLT', [Tree('PERSON', [('Please', 'NNP')]), ('welcome', 'VBD'), ('Secretary', 'NNP'), Tree('PERSON', [('Hillary', 'NNP'), ('Clinton', 'NNP')]), (',', ','), Tree('PERSON', [('Senator', 'NNP'), ('Bernie', 'NNP'), ('Sanders', 'NNP')]), ('and', 'CC'), ('Governor', 'NNP'), Tree('PERSON', [('Martin', 'NNP'), (\"O'Malley\", 'NNP')]), ('.', '.')])"
      ]
     },
     "execution_count": 17,
     "metadata": {},
     "output_type": "execute_result"
    }
   ],
   "source": [
    "#Again, it got Hillary Clinton and Martin O'Malley, but missed Secretary and Governor, but it DID get Senator Bernie Sanders\n",
    "master_df.iloc[1603]['Tree']"
   ]
  },
  {
   "cell_type": "code",
   "execution_count": 18,
   "metadata": {},
   "outputs": [
    {
     "data": {
      "text/plain": [
       "'HOLT'"
      ]
     },
     "execution_count": 18,
     "metadata": {},
     "output_type": "execute_result"
    }
   ],
   "source": [
    "master_df.iloc[1603]['Speaker']"
   ]
  },
  {
   "cell_type": "code",
   "execution_count": 19,
   "metadata": {},
   "outputs": [
    {
     "data": {
      "image/png": "[encoded data removed]",
      "text/plain": [
       "<matplotlib.figure.Figure object at 0x108480940>"
      ]
     },
     "metadata": {},
     "output_type": "display_data"
    }
   ],
   "source": [
    "#This section is with help from a datacamp tutorial\n",
    "#https://campus.datacamp.com/courses/natural-language-processing-fundamentals-in-python/named-entity-recognition?ex=3\n",
    "\n",
    "ner_categories = defaultdict(int)\n",
    "\n",
    "# Create the nested for loop\n",
    "for tree in master_df['Tree']:\n",
    "    for chunk in tree:\n",
    "        if hasattr(chunk, 'label'):\n",
    "            ner_categories[chunk.label()] += 1\n",
    "            \n",
    "# Create a list from the dictionary keys for the chart labels: labels\n",
    "labels = list(ner_categories.keys())\n",
    "\n",
    "# Create a list of the values: values\n",
    "values = [ner_categories.get(l) for l in labels]\n",
    "\n",
    "# Create the pie chart\n",
    "plt.pie(values, labels=labels, autopct='%1.1f%%', startangle=140)\n",
    "\n",
    "# Display the chart\n",
    "plt.show()"
   ]
  },
  {
   "cell_type": "code",
   "execution_count": 20,
   "metadata": {
    "collapsed": true
   },
   "outputs": [],
   "source": [
    "people = []\n",
    "for tree in master_df['Tree']:\n",
    "    for chunk in tree:\n",
    "        if hasattr(chunk, 'label'):\n",
    "            if chunk.label() == 'PERSON':\n",
    "                people.append(chunk)"
   ]
  },
  {
   "cell_type": "code",
   "execution_count": 21,
   "metadata": {},
   "outputs": [
    {
     "data": {
      "image/png": "[encoded data removed]",
      "text/plain": [
       "Tree('PERSON', [('Neil', 'JJ'), ('Cavuto', 'NNP')])"
      ]
     },
     "execution_count": 21,
     "metadata": {},
     "output_type": "execute_result"
    }
   ],
   "source": [
    "people[1]"
   ]
  },
  {
   "cell_type": "code",
   "execution_count": 22,
   "metadata": {},
   "outputs": [
    {
     "data": {
      "text/plain": [
       "['Neil', 'Cavuto']"
      ]
     },
     "execution_count": 22,
     "metadata": {},
     "output_type": "execute_result"
    }
   ],
   "source": [
    "people[1].leaves()[0][0]\n",
    "words = [leaf[0] for leaf in people[1].leaves()]\n",
    "words"
   ]
  },
  {
   "cell_type": "code",
   "execution_count": 23,
   "metadata": {
    "collapsed": true
   },
   "outputs": [],
   "source": [
    "people_names = []\n",
    "name = ''\n",
    "for tree in people:\n",
    "    for leaf in tree.leaves():\n",
    "        name+=' '+str(leaf[0])\n",
    "    people_names.append(name.strip())\n",
    "    name = ''\n"
   ]
  },
  {
   "cell_type": "code",
   "execution_count": 24,
   "metadata": {},
   "outputs": [
    {
     "data": {
      "text/plain": [
       "['Errol', 'Palm Beach', 'Blasio', 'Kentucky', 'Connor', 'Gore', 'Alan Greenspan', 'Search', 'Barbara Bush', 'Does', 'Eastern Europe', 'Mr. Cruz', 'Maggie Hassan', 'Harry Reid', 'Medvedev', 'John Dickerson', 'Horton', 'Kimberley Strassel', 'Seventh Avenue', 'Jim Comey', 'Carla', 'Elizabeth Warren', 'Merrick Gaarland', 'Chuck Schumer', 'Harley', 'James', 'Kansas', 'Arabs', 'Hewlett Packard', 'Mr. Putin', 'Michael Bloomberg', 'Powell', 'Dad', 'Sheriff Joe', 'John Mccain', 'Shia', 'Abigail Adams', 'Snowden', 'Martha Raddatz', 'Juan Carlos', 'Ohio Governor', 'Wal Mart', 'Wisconsin Governor Scott Walker', 'Bashar Assad', 'Bill', 'Errol Louis', 'Santorum', 'Tim Russert', 'Rick', 'Walter Scott', 'Gaza', 'Dan Conick', 'Mike', 'Congressman Jim Clyburn', 'Dulce Candy', 'Hussein', 'Morsi', 'Hugh', 'Harry Truman', 'Assad', 'Nebraska', 'Lyndon Johnson', 'Iowans Kevin Cooney', 'Rick Santelli', 'Rubio', 'Katie', 'Dontre Hamilton', 'Henry Kissinger', 'Jesus Christ', 'Mr. Mcghee', 'Connecticut', 'Reagan', 'Miami', 'Gator', 'Henry Ford', 'Karen Tumulty', 'Drake University', 'Great Recession', 'Senator Jeff Sessions', 'Alright', 'Ask', 'Zach', 'Kennedy', 'Stalin', 'Senator Barbara Boxer', 'Richard Nixon', 'Harvard', 'Clinton Campaign', 'Delaware', 'Trojan Horse', 'John Pietricone', 'Brett Baier', 'Jesus', 'Qatar', 'William Rehnquist', 'Peyton Manning', 'Minute Men', 'Donald Trump', 'Senator Elizabeth Warren', 'Florida Senator Marco Rubio']"
      ]
     },
     "execution_count": 24,
     "metadata": {},
     "output_type": "execute_result"
    }
   ],
   "source": [
    "names = set(people_names)\n",
    "list(names)[100:200]"
   ]
  },
  {
   "cell_type": "code",
   "execution_count": 25,
   "metadata": {},
   "outputs": [
    {
     "data": {
      "text/plain": [
       "1133"
      ]
     },
     "execution_count": 25,
     "metadata": {},
     "output_type": "execute_result"
    }
   ],
   "source": [
    "len(names)"
   ]
  },
  {
   "cell_type": "markdown",
   "metadata": {},
   "source": [
    "**Notice we're missing a good amount of titles in this list.**"
   ]
  },
  {
   "cell_type": "code",
   "execution_count": 26,
   "metadata": {},
   "outputs": [
    {
     "data": {
      "text/plain": [
       "True"
      ]
     },
     "execution_count": 26,
     "metadata": {},
     "output_type": "execute_result"
    }
   ],
   "source": [
    "'Senator' in names"
   ]
  },
  {
   "cell_type": "code",
   "execution_count": 27,
   "metadata": {},
   "outputs": [
    {
     "data": {
      "text/plain": [
       "False"
      ]
     },
     "execution_count": 27,
     "metadata": {},
     "output_type": "execute_result"
    }
   ],
   "source": [
    "'Governor' in names"
   ]
  },
  {
   "cell_type": "code",
   "execution_count": 28,
   "metadata": {},
   "outputs": [
    {
     "data": {
      "text/plain": [
       "True"
      ]
     },
     "execution_count": 28,
     "metadata": {},
     "output_type": "execute_result"
    }
   ],
   "source": [
    "'Mr.' in names"
   ]
  },
  {
   "cell_type": "code",
   "execution_count": 29,
   "metadata": {},
   "outputs": [
    {
     "data": {
      "text/plain": [
       "False"
      ]
     },
     "execution_count": 29,
     "metadata": {},
     "output_type": "execute_result"
    }
   ],
   "source": [
    "'Mrs.' in names"
   ]
  },
  {
   "cell_type": "code",
   "execution_count": 30,
   "metadata": {},
   "outputs": [
    {
     "data": {
      "text/plain": [
       "False"
      ]
     },
     "execution_count": 30,
     "metadata": {},
     "output_type": "execute_result"
    }
   ],
   "source": [
    "'Miss' in names"
   ]
  },
  {
   "cell_type": "code",
   "execution_count": 31,
   "metadata": {},
   "outputs": [
    {
     "data": {
      "text/plain": [
       "True"
      ]
     },
     "execution_count": 31,
     "metadata": {},
     "output_type": "execute_result"
    }
   ],
   "source": [
    "'Doctor' in names"
   ]
  },
  {
   "cell_type": "code",
   "execution_count": 32,
   "metadata": {},
   "outputs": [
    {
     "data": {
      "text/plain": [
       "False"
      ]
     },
     "execution_count": 32,
     "metadata": {},
     "output_type": "execute_result"
    }
   ],
   "source": [
    "'President' in names"
   ]
  },
  {
   "cell_type": "code",
   "execution_count": 33,
   "metadata": {},
   "outputs": [
    {
     "data": {
      "text/plain": [
       "False"
      ]
     },
     "execution_count": 33,
     "metadata": {},
     "output_type": "execute_result"
    }
   ],
   "source": [
    "'Secretary' in names"
   ]
  },
  {
   "cell_type": "code",
   "execution_count": 34,
   "metadata": {},
   "outputs": [
    {
     "data": {
      "text/plain": [
       "True"
      ]
     },
     "execution_count": 34,
     "metadata": {},
     "output_type": "execute_result"
    }
   ],
   "source": [
    "'Sir' in names"
   ]
  },
  {
   "cell_type": "code",
   "execution_count": 35,
   "metadata": {},
   "outputs": [
    {
     "data": {
      "text/plain": [
       "True"
      ]
     },
     "execution_count": 35,
     "metadata": {},
     "output_type": "execute_result"
    }
   ],
   "source": [
    "'Madame' in names"
   ]
  },
  {
   "cell_type": "markdown",
   "metadata": {},
   "source": [
    "**I'm going to go through all of these tags by hand, and link them to who they are referring to. I will create a dictionary of NEs. The expression that was used will be the key, and the person it refers to will be the value. I think copying and pasting this set and deleting things that obviously are not people by hand first will speed things up.**"
   ]
  },
  {
   "cell_type": "code",
   "execution_count": 36,
   "metadata": {
    "collapsed": true
   },
   "outputs": [],
   "source": [
    "#f = open('/Users/Paige/Documents/Data_Science/names.txt', 'w')\n",
    "#for name in names:\n",
    "#    f.write(str(name)+'\\n')\n",
    "#f.close()"
   ]
  },
  {
   "cell_type": "markdown",
   "metadata": {},
   "source": [
    "**I'm going to read in the text file I made and turn it into the dictionary described above. In this linked.txt file, I removed everyone except for the most relevant people including leaders of countries, all of the candidates, all of the moderators, and people involved in the events discussed during the debate. If the chunker only pulled out a title like 'Madame', it was tagged as TITLE to be resolved later. If the title was a part of the chunk, obviously it was included and mapped to whoever it referred to. Titles that clearly could only refer to one of the relevant people, like Secretary, were mapped to their respective entity. Other \"names\" like Lady Liberty and Mr. Average were mapped to NICKNAME unless I knew right away who was being referred to.**"
   ]
  },
  {
   "cell_type": "code",
   "execution_count": 37,
   "metadata": {
    "collapsed": true
   },
   "outputs": [],
   "source": [
    "with open('/Users/Paige/Documents/Data_Science/2016-Election-Project/data/Lists/linked.txt') as f:\n",
    "    name_link = f.readlines()"
   ]
  },
  {
   "cell_type": "code",
   "execution_count": 38,
   "metadata": {},
   "outputs": [
    {
     "data": {
      "text/plain": [
       "384"
      ]
     },
     "execution_count": 38,
     "metadata": {},
     "output_type": "execute_result"
    }
   ],
   "source": [
    "#I considered 384 NEs to be relevant to the debates.\n",
    "len(name_link)"
   ]
  },
  {
   "cell_type": "code",
   "execution_count": 39,
   "metadata": {},
   "outputs": [
    {
     "data": {
      "text/plain": [
       "['Sean Hannity;Sean Hannity\\n', 'Sean;Sean Hannity\\n', 'Hannity;Sean Hannity\\n', 'Jake Tapper;Jake Tapper\\n', 'Tapper;Jake Tapper\\n', 'Jake;Jake Tapper\\n', 'Florida Senator;Marco Rubio\\n', 'Hill;Hillary Clinton\\n', 'Hey Ted;Ted Cruz\\n', 'Bibi Netanyahu;Benjamin Netanyahu\\n', 'Mr. Cruz;Ted Cruz\\n', 'Ted;Ted Cruz\\n', 'Cruz;Ted Cruz\\n', 'Bret;Bret Baier\\n', 'Baier;Bret Baier\\n', 'John Quincy Adams;John Quincy Adams\\n', 'Yasser Arafat;Yasser Arafat\\n', 'Rubio;Marco Rubio\\n', 'Marco;Marco Rubio\\n', 'Bobby Jindal;Bobby Jindal\\n']"
      ]
     },
     "execution_count": 39,
     "metadata": {},
     "output_type": "execute_result"
    }
   ],
   "source": [
    "name_link[:20]"
   ]
  },
  {
   "cell_type": "code",
   "execution_count": 40,
   "metadata": {},
   "outputs": [
    {
     "data": {
      "text/plain": [
       "[['Mayor Giuliani', 'Rudy Giuliani'], ['Giuliani', 'Rudy Giuliani'], ['Rudy', 'Rudy Giuliani'], ['Miss Piggy', 'Alicia Machado'], ['Snowden', 'Edward Snowden'], ['Malley', \"Martin O'Malley\"], [\"O'Malley\", \"Martin O'Malley\"], ['Martin', \"Martin O'Malley\"], ['Martha', 'Martha Raddatz'], ['Raddatz', 'Martha Raddatz'], ['Dana', 'Dana Bash'], ['Hillary Rodham', 'Hillary Clinton'], ['John Mccain', 'John McCain'], ['McCain', 'John McCain'], ['Senator Lindsey Graham', 'Lindsey Graham'], ['Lindsey', 'Lindsey Graham'], ['Graham', 'Lindsey Graham'], ['Barbara Bush', 'Barbara Bush'], ['Lyndon Johnson', 'Lyndon Johnson'], ['Martin', \"Martin O'Malley\"]]"
      ]
     },
     "execution_count": 40,
     "metadata": {},
     "output_type": "execute_result"
    }
   ],
   "source": [
    "links = [x.strip().split(';') for x in name_link]\n",
    "links[30:50]"
   ]
  },
  {
   "cell_type": "code",
   "execution_count": 41,
   "metadata": {
    "collapsed": true
   },
   "outputs": [],
   "source": [
    "link_dict = {x[0]:x[1] for x in links}"
   ]
  },
  {
   "cell_type": "code",
   "execution_count": 42,
   "metadata": {},
   "outputs": [
    {
     "data": {
      "text/plain": [
       "{'Kim Jong-Un', 'Jorge Ramos', 'Major Garrett', 'Muammar Gaddafi', 'George W. Bush', 'Antonin Scalia', 'Franklin D. Roosevelt', 'John Kennedy', 'Barack Obama', \"Katie O'Malley\", 'Merrick Garland', 'James Comey', 'John Boehner', 'Pope Francis', 'Carly Fiorina', 'Mitch McConnell', 'Nancy Pelosi', 'Winston Churchill', 'Jake Tapper', 'Joe Arpaio', 'Andrew Cuomo', 'Chris Christie', 'Calvin Coolidge', 'Don Lemon', 'Chris Wallace', 'Saddam Hussein', \"Martin O'Malley\", 'Trayvon Martin', 'Benjamin Netanyahu', 'Edward Snowden', 'Joseph Stalin', 'John Podesta', 'Mark Zuckerburg', 'Maria Celeste Arraras', 'Rachel Maddow', 'Ronald Reagan', 'Bashar al-Assad', 'Hosni Mubarak', 'Frederick Douglas', 'Ben Carson', 'Alicia Machado', 'Rosa Parks', 'Barbara Bush', 'Dylann Roof', 'Osama bin Laden', 'Anderson Cooper', 'Kimberley Strassel', 'Megyn Kelly', 'Sandra Bland', 'Tamir Rice', 'Elizabeth Warren', 'Chuck Schumer', 'Sean Hannity', 'Michael Bloomberg', 'Adolf Hitler', 'Ted Cruz', 'Abigail Adams', 'Al Gore', 'Angela Merkel', 'Lincoln Chafee', 'Martha Raddatz', 'Lindsey Graham', 'Hugh Hewitt', 'Marco Rubio', 'Wolf Blitzer', 'Chelsea Clinton', 'Kim Jong Un', 'Paul Ryan', 'Harry Truman', 'Lyndon Johnson', 'Ivanka Trump', 'Dana Bash', 'Chris Cuomo', 'TITLE', 'Eric Trump', 'NICKNAME', 'John Kasich', 'Andrea Mitchell', 'Bobby Jindal', 'Lester Holt', 'David Muir', 'Omran Daqneesh', 'Michael Flynn', 'Bret Baier', 'John McCain', 'Richard Nixon', 'Freddie Gray', 'Woodrow Wilson', \"Rosie O'Donnell\", 'Jeff Sessions', 'Donald Trump', \"Tip O'Neill\", 'Maria Bartiromo', 'Carl Quintanilla', 'Vladimir Putin', 'Mitt Romney', 'Sonia Sotomayor', 'Humayun Khan', 'Kim Davis', 'Scott Walker', 'Yasser Arafat', 'George H. W. Bush', 'Mike Huckabee', 'Michael Brown', 'Ashraf Ghani', 'Bill Clinton', 'Joe Biden', 'John Adams', 'Eric Garner', 'Maria Elena Salinas', 'James Carter', 'Ken Bone', 'Dwight Eisenhower', 'Rudy Giuliani', 'Alexander Hamilton', 'Rush Limbaugh', 'George Washington', 'Chuck Todd', 'John Kerry', 'Abdullah', 'Rand Paul', 'Rick Santorum', 'Nancy Reagan', 'Jeb Bush', 'Deborah Wasserman Schultz', 'Hillary Clinton', 'Abraham Lincoln', 'Nikki Haley', 'Joseph Mattis', 'Neil Cavuto', 'Benjamin Franklin', 'Theodore Roosevelt', 'Michelle Obama', 'David Duke', 'Nelson Mandela', 'Senator Clinton', 'Fidel Castro', 'Abdel Fattah el-Sisi', 'Thomas Jefferson', 'Bernie Sanders', 'Jim Webb', 'George Bush', 'John Quincy Adams'}"
      ]
     },
     "execution_count": 42,
     "metadata": {},
     "output_type": "execute_result"
    }
   ],
   "source": [
    "#This is the set of all of the relevant people who were referred to in the debates.\n",
    "set(link_dict.values())"
   ]
  },
  {
   "cell_type": "code",
   "execution_count": 43,
   "metadata": {},
   "outputs": [
    {
     "data": {
      "text/plain": [
       "['Sean Hannity', 'Sean', 'Hannity', 'Jake Tapper', 'Tapper', 'Jake', 'Florida Senator', 'Hill', 'Hey Ted', 'Bibi Netanyahu', 'Mr. Cruz', 'Ted', 'Cruz', 'Bret', 'Baier', 'John Quincy Adams', 'Yasser Arafat', 'Rubio', 'Marco', 'Bobby Jindal', 'Andrea', 'Ohio Governor', 'Deborah Wasserman Schultz', 'Ted Cruz', 'Barak Obama America', 'Jim', 'Webb', 'Shultz', 'Fiorina', 'Carly', 'Mayor Giuliani', 'Giuliani', 'Rudy', 'Miss Piggy', 'Snowden', 'Malley', \"O'Malley\", 'Martin', 'Martha', 'Raddatz']"
      ]
     },
     "execution_count": 43,
     "metadata": {},
     "output_type": "execute_result"
    }
   ],
   "source": [
    "#Here are some of the ways those people were referred to.\n",
    "list(link_dict.keys())[:40]"
   ]
  },
  {
   "cell_type": "code",
   "execution_count": 44,
   "metadata": {},
   "outputs": [
    {
     "data": {
      "text/plain": [
       "'John Kasich'"
      ]
     },
     "execution_count": 44,
     "metadata": {},
     "output_type": "execute_result"
    }
   ],
   "source": [
    "link_dict['Ohio Governor']"
   ]
  },
  {
   "cell_type": "code",
   "execution_count": 45,
   "metadata": {},
   "outputs": [
    {
     "data": {
      "text/plain": [
       "'TITLE'"
      ]
     },
     "execution_count": 45,
     "metadata": {},
     "output_type": "execute_result"
    }
   ],
   "source": [
    "link_dict['Senator']"
   ]
  },
  {
   "cell_type": "code",
   "execution_count": 46,
   "metadata": {},
   "outputs": [
    {
     "data": {
      "text/plain": [
       "'Andrea Mitchell'"
      ]
     },
     "execution_count": 46,
     "metadata": {},
     "output_type": "execute_result"
    }
   ],
   "source": [
    "link_dict['Andrea']"
   ]
  },
  {
   "cell_type": "code",
   "execution_count": 47,
   "metadata": {},
   "outputs": [
    {
     "data": {
      "text/plain": [
       "'Jim Webb'"
      ]
     },
     "execution_count": 47,
     "metadata": {},
     "output_type": "execute_result"
    }
   ],
   "source": [
    "link_dict['Senator Webb']"
   ]
  },
  {
   "cell_type": "code",
   "execution_count": 48,
   "metadata": {},
   "outputs": [
    {
     "data": {
      "text/plain": [
       "'Hillary Clinton'"
      ]
     },
     "execution_count": 48,
     "metadata": {},
     "output_type": "execute_result"
    }
   ],
   "source": [
    "link_dict['Hilary Clinton']"
   ]
  },
  {
   "cell_type": "code",
   "execution_count": 49,
   "metadata": {},
   "outputs": [
    {
     "data": {
      "text/plain": [
       "'Hillary Clinton'"
      ]
     },
     "execution_count": 49,
     "metadata": {},
     "output_type": "execute_result"
    }
   ],
   "source": [
    "link_dict['Hillary Clinton']"
   ]
  },
  {
   "cell_type": "code",
   "execution_count": 50,
   "metadata": {},
   "outputs": [
    {
     "data": {
      "text/plain": [
       "'Bernie Sanders'"
      ]
     },
     "execution_count": 50,
     "metadata": {},
     "output_type": "execute_result"
    }
   ],
   "source": [
    "link_dict['Senator Bernie Sanders']"
   ]
  },
  {
   "cell_type": "code",
   "execution_count": 51,
   "metadata": {},
   "outputs": [
    {
     "data": {
      "text/plain": [
       "'Chris Christie'"
      ]
     },
     "execution_count": 51,
     "metadata": {},
     "output_type": "execute_result"
    }
   ],
   "source": [
    "link_dict['Christie']"
   ]
  },
  {
   "cell_type": "code",
   "execution_count": 52,
   "metadata": {},
   "outputs": [
    {
     "data": {
      "text/plain": [
       "'Donald Trump'"
      ]
     },
     "execution_count": 52,
     "metadata": {},
     "output_type": "execute_result"
    }
   ],
   "source": [
    "link_dict['Mr. Trump']"
   ]
  },
  {
   "cell_type": "code",
   "execution_count": 53,
   "metadata": {},
   "outputs": [
    {
     "data": {
      "text/plain": [
       "('Senator', 'NNP')"
      ]
     },
     "execution_count": 53,
     "metadata": {},
     "output_type": "execute_result"
    }
   ],
   "source": [
    "master_df.loc[8421]['Tree'][0]"
   ]
  },
  {
   "cell_type": "markdown",
   "metadata": {},
   "source": [
    "**I also want to find REs that were just completely missed by the chunker. To tag RE's that were completely missed, I am first going to go through and look for relevant last names. I will tag those as the respective person. Then, I am going to run the process that I did above, pulling in titles and first names into the new subtree I just created.**"
   ]
  },
  {
   "cell_type": "code",
   "execution_count": 54,
   "metadata": {},
   "outputs": [
    {
     "data": {
      "text/plain": [
       "{'Ryan', 'Jong-Un', 'Carter', 'Khan', 'Schumer', 'Davis', 'Un', 'Washington', 'Ramos', 'Garner', 'Bloomberg', 'Brown', 'Comey', 'Paul', 'Baier', 'Ghani', 'Zuckerburg', 'Garrett', 'McConnell', 'al-Assad', 'Duke', 'Haley', 'Schultz', 'Carson', 'Cavuto', 'Clinton', 'Laden', 'Trump', 'Quintanilla', 'Francis', 'Gaddafi', 'Parks', 'Merkel', 'Chafee', 'Rice', 'Graham', 'Sessions', \"O'Donnell\", 'Wallace', 'Raddatz', 'Hannity', 'Mitchell', 'Gore', 'Johnson', 'Churchill', 'Romney', 'Coolidge', 'Gray', 'Hamilton', 'Jindal', 'Snowden', 'Scalia', 'Webb', 'Roosevelt', 'Bush', 'Muir', 'Santorum', 'Roof', 'Cruz', 'Garland', 'Flynn', 'Eisenhower', 'Tapper', 'Bash', 'Hussein', 'Machado', 'Limbaugh', 'Maddow', 'Mandela', 'Lincoln', 'Fiorina', 'Castro', 'Rubio', 'Daqneesh', 'McCain', 'Wilson', 'TITLE', 'NICKNAME', 'Reagan', 'Holt', 'Martin', 'Kennedy', 'Stalin', 'Warren', 'Sotomayor', 'Bone', 'Obama', 'Pelosi', 'Jefferson', 'Blitzer', 'Giuliani', 'Putin', \"O'Neill\", 'Nixon', 'Lemon', 'Hewitt', 'Netanyahu', 'Bartiromo', 'Strassel', 'Salinas', 'Boehner', 'Franklin', 'Arpaio', 'Douglas', 'Mattis', 'Biden', 'Cuomo', 'Hitler', 'Adams', 'Abdullah', 'Todd', 'Huckabee', 'Bland', 'Mubarak', 'Kasich', 'Kerry', 'Cooper', 'Kelly', 'Christie', 'Podesta', 'Walker', 'Arraras', 'Truman', 'el-Sisi', 'Sanders', \"O'Malley\", 'Arafat'}"
      ]
     },
     "execution_count": 54,
     "metadata": {},
     "output_type": "execute_result"
    }
   ],
   "source": [
    "last_names = list(set(link_dict.values()))\n",
    "last_names = [x.split() for x in last_names]\n",
    "#Since all of the relevant people only have a two token name except for one of the moderators, Maria Celeste Arraras, and\n",
    "#Debbie Wasserman Shultz, I'm just going to look for a single token, the last name.\n",
    "last_names = [x[-1] for x in last_names]\n",
    "last_names = set(last_names)\n",
    "last_names"
   ]
  },
  {
   "cell_type": "code",
   "execution_count": 55,
   "metadata": {},
   "outputs": [
    {
     "data": {
      "image/png": "[encoded data removed]",
      "text/plain": [
       "Tree('QUINTANILLA', [('Senator', 'NNP'), ('Cruz', 'NNP'), ('?', '.')])"
      ]
     },
     "execution_count": 55,
     "metadata": {},
     "output_type": "execute_result"
    }
   ],
   "source": [
    "master_df.loc[8421]['Tree']"
   ]
  },
  {
   "cell_type": "code",
   "execution_count": 56,
   "metadata": {},
   "outputs": [],
   "source": [
    "#This loop looks for REs that should have been tagged as stand alone REs, but were missed\n",
    "for tree in master_df['Tree']:\n",
    "    for t in tree:\n",
    "        if type(t) == tuple:\n",
    "            if t[0] in last_names:\n",
    "                tree[tree.index(t)] = nltk.tree.Tree('PERSON', [t])"
   ]
  },
  {
   "cell_type": "code",
   "execution_count": 57,
   "metadata": {},
   "outputs": [
    {
     "data": {
      "image/png": "[encoded data removed]",
      "text/plain": [
       "Tree('QUINTANILLA', [('Senator', 'NNP'), Tree('PERSON', [('Cruz', 'NNP')]), ('?', '.')])"
      ]
     },
     "execution_count": 57,
     "metadata": {},
     "output_type": "execute_result"
    }
   ],
   "source": [
    "master_df.loc[8421]['Tree']"
   ]
  },
  {
   "cell_type": "markdown",
   "metadata": {},
   "source": [
    "**Now I need to use this dictionary to label all of the named entities in my NER trees with who the NE is referring to instead of just PERSON or GPE, etc.**"
   ]
  },
  {
   "cell_type": "code",
   "execution_count": 58,
   "metadata": {
    "collapsed": true
   },
   "outputs": [],
   "source": [
    "def name_linking(tree):\n",
    "    name = ''\n",
    "    for chunk in tree:\n",
    "        #Look for relevent names with ANY label. Maybe \"Hillary Clinton\" was mistakenly tagged as a GPE\n",
    "        if hasattr(chunk, 'label'):\n",
    "            for leaf in chunk.leaves():\n",
    "                name+=' '+str(leaf[0])\n",
    "                if name.strip() in link_dict.keys():\n",
    "                    name = name.strip()\n",
    "                    chunk.set_label(link_dict[name])\n",
    "                    name = ''\n",
    "                else:\n",
    "                    name = ''\n",
    "    return tree"
   ]
  },
  {
   "cell_type": "code",
   "execution_count": 59,
   "metadata": {
    "collapsed": true
   },
   "outputs": [],
   "source": [
    "master_df['Tree'] = master_df.Tree.map(name_linking)"
   ]
  },
  {
   "cell_type": "code",
   "execution_count": 60,
   "metadata": {},
   "outputs": [
    {
     "data": {
      "text/html": [
       "<div>\n",
       "<style>\n",
       "    .dataframe thead tr:only-child th {\n",
       "        text-align: right;\n",
       "    }\n",
       "\n",
       "    .dataframe thead th {\n",
       "        text-align: left;\n",
       "    }\n",
       "\n",
       "    .dataframe tbody tr th {\n",
       "        vertical-align: top;\n",
       "    }\n",
       "</style>\n",
       "<table border=\"1\" class=\"dataframe\">\n",
       "  <thead>\n",
       "    <tr style=\"text-align: right;\">\n",
       "      <th></th>\n",
       "      <th>Date</th>\n",
       "      <th>Debate Type</th>\n",
       "      <th>Speaker</th>\n",
       "      <th>Sents</th>\n",
       "      <th>Tree</th>\n",
       "    </tr>\n",
       "  </thead>\n",
       "  <tbody>\n",
       "    <tr>\n",
       "      <th>0</th>\n",
       "      <td>1-14-16</td>\n",
       "      <td>primary_rep</td>\n",
       "      <td>CAVUTO</td>\n",
       "      <td>It is 9:00 p.m. here at the North Charleston ...</td>\n",
       "      <td>[(It, PRP), (is, VBZ), (9:00, CD), (p.m., NN),...</td>\n",
       "    </tr>\n",
       "    <tr>\n",
       "      <th>1</th>\n",
       "      <td>1-14-16</td>\n",
       "      <td>primary_rep</td>\n",
       "      <td>CAVUTO</td>\n",
       "      <td>Welcome to the sixth Republican presidential o...</td>\n",
       "      <td>[(Welcome, VB), (to, TO), (the, DT), (sixth, J...</td>\n",
       "    </tr>\n",
       "    <tr>\n",
       "      <th>2</th>\n",
       "      <td>1-14-16</td>\n",
       "      <td>primary_rep</td>\n",
       "      <td>CAVUTO</td>\n",
       "      <td>I'm Neil Cavuto, alongside my friend and co-mo...</td>\n",
       "      <td>[(I, PRP), ('m, VBP), [(Neil, JJ), (Cavuto, NN...</td>\n",
       "    </tr>\n",
       "    <tr>\n",
       "      <th>3</th>\n",
       "      <td>1-14-16</td>\n",
       "      <td>primary_rep</td>\n",
       "      <td>BARTIROMO</td>\n",
       "      <td>Tonight we are working with Facebook to ask t...</td>\n",
       "      <td>[(Tonight, NN), (we, PRP), (are, VBP), (workin...</td>\n",
       "    </tr>\n",
       "    <tr>\n",
       "      <th>4</th>\n",
       "      <td>1-14-16</td>\n",
       "      <td>primary_rep</td>\n",
       "      <td>BARTIROMO</td>\n",
       "      <td>And according to Facebook, the U.S. election h...</td>\n",
       "      <td>[(And, CC), (according, VBG), (to, TO), [(Face...</td>\n",
       "    </tr>\n",
       "  </tbody>\n",
       "</table>\n",
       "</div>"
      ],
      "text/plain": [
       "      Date  Debate Type    Speaker  \\\n",
       "0  1-14-16  primary_rep     CAVUTO   \n",
       "1  1-14-16  primary_rep     CAVUTO   \n",
       "2  1-14-16  primary_rep     CAVUTO   \n",
       "3  1-14-16  primary_rep  BARTIROMO   \n",
       "4  1-14-16  primary_rep  BARTIROMO   \n",
       "\n",
       "                                               Sents  \\\n",
       "0   It is 9:00 p.m. here at the North Charleston ...   \n",
       "1  Welcome to the sixth Republican presidential o...   \n",
       "2  I'm Neil Cavuto, alongside my friend and co-mo...   \n",
       "3   Tonight we are working with Facebook to ask t...   \n",
       "4  And according to Facebook, the U.S. election h...   \n",
       "\n",
       "                                                Tree  \n",
       "0  [(It, PRP), (is, VBZ), (9:00, CD), (p.m., NN),...  \n",
       "1  [(Welcome, VB), (to, TO), (the, DT), (sixth, J...  \n",
       "2  [(I, PRP), ('m, VBP), [(Neil, JJ), (Cavuto, NN...  \n",
       "3  [(Tonight, NN), (we, PRP), (are, VBP), (workin...  \n",
       "4  [(And, CC), (according, VBG), (to, TO), [(Face...  "
      ]
     },
     "execution_count": 60,
     "metadata": {},
     "output_type": "execute_result"
    }
   ],
   "source": [
    "master_df.head()"
   ]
  },
  {
   "cell_type": "code",
   "execution_count": 61,
   "metadata": {},
   "outputs": [
    {
     "data": {
      "image/png": "[encoded data removed]",
      "text/plain": [
       "Tree('QUINTANILLA', [('Senator', 'NNP'), Tree('Ted Cruz', [('Cruz', 'NNP')]), ('?', '.')])"
      ]
     },
     "execution_count": 61,
     "metadata": {},
     "output_type": "execute_result"
    }
   ],
   "source": [
    "master_df.loc[8421]['Tree']"
   ]
  },
  {
   "cell_type": "code",
   "execution_count": 62,
   "metadata": {},
   "outputs": [
    {
     "data": {
      "image/png": "[encoded data removed]",
      "text/plain": [
       "Tree('QUINTANILLA', [('Governor', 'NNP'), Tree('Chris Christie', [('Christie', 'NNP')]), ('?', '.')])"
      ]
     },
     "execution_count": 62,
     "metadata": {},
     "output_type": "execute_result"
    }
   ],
   "source": [
    "master_df.loc[8430]['Tree']"
   ]
  },
  {
   "cell_type": "code",
   "execution_count": 63,
   "metadata": {},
   "outputs": [
    {
     "data": {
      "image/png": "[encoded data removed]",
      "text/plain": [
       "Tree('CAVUTO', [Tree('Donald Trump', [('Businessman', 'NNP')]), Tree('Donald Trump', [('Donald', 'NNP'), ('Trump', 'NNP')]), ('.', '.')])"
      ]
     },
     "execution_count": 63,
     "metadata": {},
     "output_type": "execute_result"
    }
   ],
   "source": [
    "master_df.iloc[8][-1]"
   ]
  },
  {
   "cell_type": "code",
   "execution_count": 64,
   "metadata": {},
   "outputs": [
    {
     "data": {
      "image/png": "[encoded data removed]",
      "text/plain": [
       "Tree('CAVUTO', [('[', 'NN'), ('applause', 'NN'), (']', 'NNP'), ('Texas', 'NNP'), ('senator', 'NN'), Tree('Ted Cruz', [('Ted', 'NNP'), ('Cruz', 'NNP')]), ('.', '.')])"
      ]
     },
     "execution_count": 64,
     "metadata": {},
     "output_type": "execute_result"
    }
   ],
   "source": [
    "master_df.iloc[9][-1]"
   ]
  },
  {
   "cell_type": "code",
   "execution_count": 65,
   "metadata": {},
   "outputs": [
    {
     "data": {
      "image/png": "[encoded data removed]",
      "text/plain": [
       "Tree('BARTIROMO', [('Governor', 'NNP'), Tree('John Kasich', [('John', 'NNP'), ('Kasich', 'NNP')]), (',', ','), ('we', 'PRP'), ('begin', 'VBP'), ('with', 'IN'), ('you', 'PRP'), ('.', '.')])"
      ]
     },
     "execution_count": 65,
     "metadata": {},
     "output_type": "execute_result"
    }
   ],
   "source": [
    "master_df.iloc[1509][-1]"
   ]
  },
  {
   "cell_type": "code",
   "execution_count": 66,
   "metadata": {},
   "outputs": [
    {
     "data": {
      "image/png": "[encoded data removed]",
      "text/plain": [
       "Tree('HOLT', [Tree('PERSON', [('Please', 'NNP')]), ('welcome', 'VBD'), ('Secretary', 'NNP'), Tree('Hillary Clinton', [('Hillary', 'NNP'), ('Clinton', 'NNP')]), (',', ','), Tree('Bernie Sanders', [('Senator', 'NNP'), ('Bernie', 'NNP'), ('Sanders', 'NNP')]), ('and', 'CC'), ('Governor', 'NNP'), Tree(\"Martin O'Malley\", [('Martin', 'NNP'), (\"O'Malley\", 'NNP')]), ('.', '.')])"
      ]
     },
     "execution_count": 66,
     "metadata": {},
     "output_type": "execute_result"
    }
   ],
   "source": [
    "master_df.iloc[1603][-1]"
   ]
  },
  {
   "cell_type": "code",
   "execution_count": 67,
   "metadata": {},
   "outputs": [
    {
     "data": {
      "image/png": "[encoded data removed]",
      "text/plain": [
       "Tree('SANDERS', [('You', 'PRP'), (\"'re\", 'VBP'), ('right', 'JJ'), ('.', '.')])"
      ]
     },
     "execution_count": 67,
     "metadata": {},
     "output_type": "execute_result"
    }
   ],
   "source": [
    "master_df.iloc[2203][-1]"
   ]
  },
  {
   "cell_type": "markdown",
   "metadata": {},
   "source": [
    "**Next, I'm going to fix up some of the tagging to include titles and any first names that might have been missed. NLTK's RE chunker is supposed to remove titles like Mr., Senator, Mrs., etc. and those are the very things I'm looking for! Luckily, it doesn't always do this well, so some of those titles are included in the tagged trees already, but I'm going to go through and try to add back the missing titles. First, I'm going to create a list of titles and first names. Then, I'm going to cycle through all of the trees that refer to people, look at the word preceeding the tagged chunk, and if that world is a title, I'm going to pull it into the tagged chunk.**"
   ]
  },
  {
   "cell_type": "code",
   "execution_count": 68,
   "metadata": {
    "collapsed": true
   },
   "outputs": [],
   "source": [
    "#Here, I'm creating a list of first names of all of the relevant people in the corpora so I can pull these first names\n",
    "#into the correct label if they were mistakenly left untagged.\n",
    "\n",
    "first_names = list(set(link_dict.values()))\n",
    "first_names = [x.split() for x in first_names]\n",
    "first_names = [x[0] for x in first_names]\n",
    "first_names = set(first_names)"
   ]
  },
  {
   "cell_type": "code",
   "execution_count": 69,
   "metadata": {},
   "outputs": [
    {
     "data": {
      "text/plain": [
       "['Mr.', 'Mister', 'Lady', 'Speaker', 'Mrs.', 'Miss', 'Madame', 'Sir', 'President', 'Senator', 'Governor', 'Secretary', 'Congressman', 'Dr.', 'Doctor', 'Sheriff', 'Chairman', 'Chris', 'Theodore', 'Ted', 'Rand', 'Michelle', 'Chelsea', 'Kim', 'Bret', 'Paul', 'Lindsey', 'Tamir', 'Scott', 'Yasser', 'Ken', 'Rush', 'Freddie', 'Alicia', 'Anderson', 'Donald', 'Martha', 'Ashraf', 'Jeb', 'Abdel', 'Nikki', 'Barack', 'Carly', 'Jake', 'George', 'Alexander', 'Neil', 'Rachel', 'Tip', 'Michael', 'Winston', 'Abigail', 'Vladimir', 'Jorge', 'Joseph', 'Osama', 'Lyndon', 'Trayvon', 'Mark', 'David', 'Hosni', 'Dylann', 'Dwight', 'Humayun', 'John', 'James', 'Mitt', 'Andrea', 'Major', 'Elizabeth', 'Andrew', 'Bill', 'Rick', 'Harry', 'Bernie', 'Edward', 'Angela', 'Kimberley', 'Mike', 'Al', 'Joe', 'Hugh', 'Muammar', 'Lincoln', 'Ben', 'Woodrow', 'Carl', 'Katie', 'TITLE', 'NICKNAME', 'Chuck', 'Martin', 'Deborah', 'Eric', 'Thomas', 'Sonia', 'Nelson', 'Ronald', 'Rosa', 'Calvin', 'Wolf', 'Mitch', 'Adolf', 'Jeff', 'Abraham', 'Merrick', 'Hillary', 'Franklin', 'Dana', 'Marco', 'Maria', 'Antonin', 'Sean', 'Pope', 'Bashar', 'Nancy', 'Senator', 'Abdullah', 'Lester', 'Fidel', 'Saddam', 'Rudy', 'Omran', 'Benjamin', 'Richard', 'Don', 'Jim', 'Barbara', 'Megyn', 'Frederick', 'Rosie', 'Sandra', 'Bobby', 'Ivanka']"
      ]
     },
     "execution_count": 69,
     "metadata": {},
     "output_type": "execute_result"
    }
   ],
   "source": [
    "titles = ['Mr.', 'Mister', 'Lady', 'Speaker', 'Mrs.', 'Miss', 'Madame', 'Sir', 'President', 'Senator', 'Governor', 'Secretary', 'Congressman', 'Dr.', 'Doctor', 'Sheriff', 'Chairman']\n",
    "\n",
    "titles.extend(first_names)\n",
    "#The following is a list of ways you can refer to a person that might not be followed by a name. I'm going to look for any\n",
    "#of these that were missed as well.\n",
    "re = ['Secretary', 'Governer', 'Congressman', 'Senator', 'Sir', 'Madame', 'Doctor', 'Dr.']\n",
    "#Need a list of last names and a list of first names\n",
    "titles"
   ]
  },
  {
   "cell_type": "code",
   "execution_count": 70,
   "metadata": {
    "collapsed": true
   },
   "outputs": [],
   "source": [
    "for tree in master_df['Tree']:\n",
    "    for chunk in tree:\n",
    "        i = tree.index(chunk)\n",
    "        if type(tree[i]) == nltk.tree.Tree:\n",
    "            #if we find a subtree, and it is a relevant entity, we need to look at the node preceding it\n",
    "            if tree[i].label() in link_dict.values():\n",
    "                #if the leaf in front of the subtree is another subtree, and it has the same label or it's labelled 'TITLE'\n",
    "                #we want to pull it in.\n",
    "                if type(tree[i-1]) == nltk.tree.Tree and (tree[i-1].label() == tree[i].label() or tree[i-1].label() == 'TITLE'):\n",
    "                    tree[i] = nltk.tree.Tree(tree[i].label(), list(tree[i-1])+list(tree[i]))\n",
    "                    tree.remove(tree[i-1])\n",
    "                if tree[i-1][0] in titles:\n",
    "                    if i != 0:\n",
    "                        tree[i].insert(0, tree[i-1])\n",
    "                        tree.remove(tree[i-1])"
   ]
  },
  {
   "cell_type": "code",
   "execution_count": 71,
   "metadata": {},
   "outputs": [
    {
     "data": {
      "image/png": "[encoded data removed]",
      "text/plain": [
       "Tree('BARTIROMO', [Tree('John Kasich', [('Governor', 'NNP'), ('John', 'NNP'), ('Kasich', 'NNP')]), (',', ','), ('we', 'PRP'), ('begin', 'VBP'), ('with', 'IN'), ('you', 'PRP'), ('.', '.')])"
      ]
     },
     "execution_count": 71,
     "metadata": {},
     "output_type": "execute_result"
    }
   ],
   "source": [
    "master_df.iloc[1509][-1]"
   ]
  },
  {
   "cell_type": "code",
   "execution_count": 72,
   "metadata": {},
   "outputs": [
    {
     "data": {
      "image/png": "[encoded data removed]",
      "text/plain": [
       "Tree('HOLT', [Tree('PERSON', [('Please', 'NNP')]), ('welcome', 'VBD'), Tree('Hillary Clinton', [('Secretary', 'NNP'), ('Hillary', 'NNP'), ('Clinton', 'NNP')]), (',', ','), Tree('Bernie Sanders', [('Senator', 'NNP'), ('Bernie', 'NNP'), ('Sanders', 'NNP')]), ('and', 'CC'), Tree(\"Martin O'Malley\", [('Governor', 'NNP'), ('Martin', 'NNP'), (\"O'Malley\", 'NNP')]), ('.', '.')])"
      ]
     },
     "execution_count": 72,
     "metadata": {},
     "output_type": "execute_result"
    }
   ],
   "source": [
    "master_df.iloc[1603][-1]"
   ]
  },
  {
   "cell_type": "code",
   "execution_count": 73,
   "metadata": {},
   "outputs": [
    {
     "data": {
      "image/png": "[encoded data removed]",
      "text/plain": [
       "Tree('SANDERS', [('You', 'PRP'), (\"'re\", 'VBP'), ('right', 'JJ'), ('.', '.')])"
      ]
     },
     "execution_count": 73,
     "metadata": {},
     "output_type": "execute_result"
    }
   ],
   "source": [
    "master_df.iloc[2203][-1]"
   ]
  },
  {
   "cell_type": "code",
   "execution_count": 74,
   "metadata": {},
   "outputs": [
    {
     "data": {
      "image/png": "[encoded data removed]",
      "text/plain": [
       "Tree('CAVUTO', [Tree('Donald Trump', [('Businessman', 'NNP'), ('Donald', 'NNP'), ('Trump', 'NNP')]), ('.', '.')])"
      ]
     },
     "execution_count": 74,
     "metadata": {},
     "output_type": "execute_result"
    }
   ],
   "source": [
    "master_df.iloc[8][-1]"
   ]
  },
  {
   "cell_type": "code",
   "execution_count": 75,
   "metadata": {},
   "outputs": [
    {
     "data": {
      "image/png": "[encoded data removed]",
      "text/plain": [
       "Tree('QUINTANILLA', [Tree('Ted Cruz', [('Senator', 'NNP'), ('Cruz', 'NNP')]), ('?', '.')])"
      ]
     },
     "execution_count": 75,
     "metadata": {},
     "output_type": "execute_result"
    }
   ],
   "source": [
    "master_df.loc[8421]['Tree']"
   ]
  },
  {
   "cell_type": "code",
   "execution_count": 76,
   "metadata": {},
   "outputs": [
    {
     "data": {
      "image/png": "[encoded data removed]",
      "text/plain": [
       "Tree('QUINTANILLA', [Tree('Chris Christie', [('Governor', 'NNP'), ('Christie', 'NNP')]), ('?', '.')])"
      ]
     },
     "execution_count": 76,
     "metadata": {},
     "output_type": "execute_result"
    }
   ],
   "source": [
    "master_df.loc[8430]['Tree']"
   ]
  },
  {
   "cell_type": "markdown",
   "metadata": {},
   "source": [
    "**Next, I'm going to make sure look for just titles or first names that were missed that stand alone and don't precede a last name using the same method as above.**"
   ]
  },
  {
   "cell_type": "code",
   "execution_count": 77,
   "metadata": {
    "collapsed": true
   },
   "outputs": [],
   "source": [
    "#This loop looks for REs that should have been tagged as stand alone REs, but were missed\n",
    "for tree in master_df['Tree']:\n",
    "    for t in tree:\n",
    "        if type(t) == tuple:\n",
    "            if t[0] in titles:\n",
    "                tree[tree.index(t)] = nltk.tree.Tree('PERSON', [t])"
   ]
  },
  {
   "cell_type": "markdown",
   "metadata": {},
   "source": [
    "**And again, I'm going to change the tag of PERSON to the appropriate entity.**"
   ]
  },
  {
   "cell_type": "code",
   "execution_count": 78,
   "metadata": {
    "collapsed": true
   },
   "outputs": [],
   "source": [
    "def name_linking(trees):\n",
    "    name = ''\n",
    "    for tree in trees:\n",
    "        for chunk in tree:\n",
    "            if hasattr(chunk, 'label'):\n",
    "                if chunk.label() == 'PERSON':\n",
    "                    for leaf in chunk.leaves():\n",
    "                        name+=' '+str(leaf[0])\n",
    "                        if name.strip() in link_dict.keys():\n",
    "                            name = name.strip()\n",
    "                            chunk.set_label(link_dict[name])\n",
    "                            name = ''\n",
    "                        else:\n",
    "                            name = ''\n",
    "    return tree"
   ]
  },
  {
   "cell_type": "markdown",
   "metadata": {},
   "source": [
    "**Finally, if something was tagged as a PERSON, I've decided I'm going to leave that tag the way it is instead of untagging it, even if it was mistakenly tagged as a person, because I or another researcher might want to go back in the future and look at those other entities. The process of correcting all of them would be very time consuming and not particularly relevant to this project. The entites of importance are tagged and a dictionary of important entities is saved as link_dict. I'm going to check one more to make sure these aren't relevant.**"
   ]
  },
  {
   "cell_type": "code",
   "execution_count": 79,
   "metadata": {
    "collapsed": true
   },
   "outputs": [],
   "source": [
    "##Saving master dataframe to a CSV\n",
    "master_df.to_csv('/Users/Paige/Documents/Data_Science/2016-Election-Project/data/Debates/csv/master.csv')"
   ]
  },
  {
   "cell_type": "code",
   "execution_count": 80,
   "metadata": {
    "collapsed": true
   },
   "outputs": [],
   "source": [
    "f = open('/Users/Paige/Documents/Data_Science/master_df.pkl', 'wb')\n",
    "pickle.dump(master_df, f, -1)\n",
    "f.close()"
   ]
  }
 ],
 "metadata": {
  "kernelspec": {
   "display_name": "Python 3",
   "language": "python",
   "name": "python3"
  },
  "language_info": {
   "codemirror_mode": {
    "name": "ipython",
    "version": 3
   },
   "file_extension": ".py",
   "mimetype": "text/x-python",
   "name": "python",
   "nbconvert_exporter": "python",
   "pygments_lexer": "ipython3",
   "version": "3.6.1"
  }
 },
 "nbformat": 4,
 "nbformat_minor": 2
}
